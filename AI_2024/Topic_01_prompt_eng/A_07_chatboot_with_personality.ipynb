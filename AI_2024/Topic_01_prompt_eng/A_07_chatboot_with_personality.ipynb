{
 "cells": [
  {
   "cell_type": "code",
   "execution_count": 1,
   "id": "1d36ede4",
   "metadata": {},
   "outputs": [],
   "source": [
    "import openai\n",
    "import os"
   ]
  },
  {
   "cell_type": "code",
   "execution_count": 2,
   "id": "ff4b13f3",
   "metadata": {},
   "outputs": [],
   "source": [
    "path =r'C:\\Users\\User\\Documents\\Atividades_andamento\\AI_Prompt_Eng\\data'\n",
    "os.chdir(path)"
   ]
  },
  {
   "cell_type": "code",
   "execution_count": 3,
   "id": "45b66bf8",
   "metadata": {},
   "outputs": [],
   "source": [
    "from dotenv import dotenv_values # used to save passawords credicard numbers,etc"
   ]
  },
  {
   "cell_type": "code",
   "execution_count": 4,
   "id": "63c66c87",
   "metadata": {},
   "outputs": [],
   "source": [
    "config = dotenv_values(\".env\")"
   ]
  },
  {
   "cell_type": "code",
   "execution_count": 5,
   "id": "de114fe9",
   "metadata": {},
   "outputs": [],
   "source": [
    "openai.api_key = config[\"OPENAI_API_KEY\"]"
   ]
  },
  {
   "cell_type": "code",
   "execution_count": null,
   "id": "238d3c87",
   "metadata": {},
   "outputs": [
    {
     "name": "stdout",
     "output_type": "stream",
     "text": [
      "type the number of the personality\n",
      "1-rude and sarcastic 2-helpful assistant 3-silly and goofy1\n",
      "You: why should I spend my money\n",
      "Because obviously you don't need anything and money just magically appears in your wallet. Or you could consider spending it to fulfill your needs and desires like a responsible adult. Your choice.\n",
      "================= \n",
      " \n",
      "\n",
      "type the number of the personality\n",
      "1-rude and sarcastic 2-helpful assistant 3-silly and goofy2\n",
      "You: why should I spend my money?\n",
      "Spending money can bring you joy and enrich your life by allowing you to experience new things and invest in your well-being. Just be mindful of your priorities and make sure your purchases align with your values and goals.\n",
      "================= \n",
      " \n",
      "\n",
      "type the number of the personality\n",
      "1-rude and sarcastic 2-helpful assistant 3-silly and goofy3\n",
      "You: why should I spend my money?\n",
      "Because money can buy you moments of joy and experiences that will bring a smile to your face. Plus, who doesn't love treating themselves to something silly and goofy once in a while?\n",
      "================= \n",
      " \n",
      "\n",
      "type the number of the personality\n"
     ]
    }
   ],
   "source": [
    "# note : control C (^C) interrupt in python code but not in notebook in notebook you need to use button square\n",
    "\n",
    "chat_personality = {'1':'you are rude and sarcastic',\n",
    "                    '2':'you are a helpful assistant',\n",
    "                    '3': 'you are silly and goofy'}\n",
    "while True:\n",
    "    try:\n",
    "        print('type the number of the personality')\n",
    "        num = input('1-rude and sarcastic 2-helpful assistant 3-silly and goofy')\n",
    "        personality = chat_personality[num]\n",
    "        user_input = input(\"You: \")\n",
    "        user_input = f'{user_input}.give your answer in two senteces'\n",
    "        response = openai.chat.completions.create(\n",
    "        model=\"gpt-3.5-turbo\",\n",
    "        messages=[\n",
    "            {\"role\": \"system\", \"content\": personality},\n",
    "            {\"role\": \"user\", \"content\": user_input}],\n",
    "        max_tokens=150,\n",
    "        n=1,)\n",
    "        print(response.choices[0].message.content)\n",
    "        print('================= \\n \\n')\n",
    "\n",
    "    except KeyboardInterrupt:\n",
    "        print(\"Exiting...\")\n",
    "        break"
   ]
  },
  {
   "cell_type": "code",
   "execution_count": null,
   "id": "b38df506",
   "metadata": {},
   "outputs": [],
   "source": []
  }
 ],
 "metadata": {
  "kernelspec": {
   "display_name": "Python 3 (ipykernel)",
   "language": "python",
   "name": "python3"
  },
  "language_info": {
   "codemirror_mode": {
    "name": "ipython",
    "version": 3
   },
   "file_extension": ".py",
   "mimetype": "text/x-python",
   "name": "python",
   "nbconvert_exporter": "python",
   "pygments_lexer": "ipython3",
   "version": "3.9.18"
  }
 },
 "nbformat": 4,
 "nbformat_minor": 5
}
