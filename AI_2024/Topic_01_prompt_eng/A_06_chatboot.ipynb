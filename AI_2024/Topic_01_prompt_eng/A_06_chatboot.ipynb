{
 "cells": [
  {
   "cell_type": "code",
   "execution_count": 1,
   "id": "1d36ede4",
   "metadata": {},
   "outputs": [],
   "source": [
    "import openai\n",
    "import os"
   ]
  },
  {
   "cell_type": "code",
   "execution_count": 2,
   "id": "ff4b13f3",
   "metadata": {},
   "outputs": [],
   "source": [
    "path =r'C:\\Users\\User\\Documents\\Atividades_andamento\\AI_Prompt_Eng\\data'\n",
    "os.chdir(path)"
   ]
  },
  {
   "cell_type": "code",
   "execution_count": 3,
   "id": "45b66bf8",
   "metadata": {},
   "outputs": [],
   "source": [
    "from dotenv import dotenv_values # used to save passawords credicard numbers,etc"
   ]
  },
  {
   "cell_type": "code",
   "execution_count": 4,
   "id": "63c66c87",
   "metadata": {},
   "outputs": [],
   "source": [
    "config = dotenv_values(\".env\")"
   ]
  },
  {
   "cell_type": "code",
   "execution_count": 5,
   "id": "de114fe9",
   "metadata": {},
   "outputs": [],
   "source": [
    "openai.api_key = config[\"OPENAI_API_KEY\"]"
   ]
  },
  {
   "cell_type": "code",
   "execution_count": 6,
   "id": "238d3c87",
   "metadata": {},
   "outputs": [
    {
     "name": "stdout",
     "output_type": "stream",
     "text": [
      "You: How much money is necessary to make to live in us. Give the answer in dollars using two senteces.\n",
      "The amount of money necessary to live comfortably in the United States varies depending on location, but a common estimate is around $50,000 to $70,000 per year. This would cover basic living expenses such as housing, food, transportation, and healthcare.\n",
      "================= \n",
      " \n",
      "\n",
      "You: How much money is necessary to make to live in Brazil. Give the answer in dollars using two senteces.\n",
      "It is estimated that a single person would need at least $500-700 per month to cover basic living expenses in Brazil. However, a more comfortable lifestyle would require a monthly income of around $1000-1500.\n",
      "================= \n",
      " \n",
      "\n",
      "You: What period brazilian stocks has the lowest profits. Give the answer in two setences.\n",
      "Brazilian stocks experienced the lowest profits during the period of economic recession from 2014 to 2016, as an unstable political climate and declining commodity prices negatively impacted the market. During this time, many companies in various sectors saw sharp declines in their profitability and stock prices.\n",
      "================= \n",
      " \n",
      "\n",
      "You: what was the brazilian president in economic recession from 2014 to 2016?\n",
      "The Brazilian president during the economic recession from 2014 to 2016 was Dilma Rousseff.\n",
      "================= \n",
      " \n",
      "\n",
      "Exiting...\n",
      "You: end\n"
     ]
    }
   ],
   "source": [
    "# note : control C (^C) interrupt in python code but not in notebook in notebook you need to use button square\n",
    "while True:\n",
    "    try:\n",
    "        user_input = input(\"You: \")\n",
    "        response = openai.chat.completions.create(\n",
    "        model=\"gpt-3.5-turbo\",\n",
    "        messages=[{\"role\": \"user\", \"content\": user_input}],\n",
    "        max_tokens=100,\n",
    "        n=1,)\n",
    "        print(response.choices[0].message.content)\n",
    "        print('================= \\n \\n')\n",
    "\n",
    "    except KeyboardInterrupt:\n",
    "        print(\"Exiting...\")\n",
    "        break"
   ]
  },
  {
   "cell_type": "code",
   "execution_count": null,
   "id": "b38df506",
   "metadata": {},
   "outputs": [],
   "source": []
  }
 ],
 "metadata": {
  "kernelspec": {
   "display_name": "Python 3 (ipykernel)",
   "language": "python",
   "name": "python3"
  },
  "language_info": {
   "codemirror_mode": {
    "name": "ipython",
    "version": 3
   },
   "file_extension": ".py",
   "mimetype": "text/x-python",
   "name": "python",
   "nbconvert_exporter": "python",
   "pygments_lexer": "ipython3",
   "version": "3.9.18"
  }
 },
 "nbformat": 4,
 "nbformat_minor": 5
}
