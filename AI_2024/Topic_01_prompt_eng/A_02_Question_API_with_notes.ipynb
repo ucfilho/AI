{
 "cells": [
  {
   "cell_type": "code",
   "execution_count": 1,
   "id": "1d36ede4",
   "metadata": {},
   "outputs": [],
   "source": [
    "import openai\n",
    "import os"
   ]
  },
  {
   "cell_type": "code",
   "execution_count": 2,
   "id": "b7416cc7",
   "metadata": {},
   "outputs": [],
   "source": [
    "# pip install python-dotenv"
   ]
  },
  {
   "cell_type": "code",
   "execution_count": 2,
   "id": "ff4b13f3",
   "metadata": {},
   "outputs": [],
   "source": [
    "path =r'C:\\Users\\User\\Documents\\Atividades_andamento\\AI_Prompt_Eng\\data'\n",
    "os.chdir(path)"
   ]
  },
  {
   "cell_type": "code",
   "execution_count": 4,
   "id": "45b66bf8",
   "metadata": {},
   "outputs": [],
   "source": [
    "from dotenv import dotenv_values # used to save passawords credicard numbers,etc"
   ]
  },
  {
   "cell_type": "code",
   "execution_count": 5,
   "id": "63c66c87",
   "metadata": {},
   "outputs": [],
   "source": [
    "config = dotenv_values(\".env\")"
   ]
  },
  {
   "cell_type": "code",
   "execution_count": 5,
   "id": "efe20e99",
   "metadata": {},
   "outputs": [],
   "source": [
    "# inside de file .env\n",
    "# we have just one line:\n",
    "# OPENAI_API_KEY = sk-ahqqzMlX1bUt9G...By3MRJO\n",
    "#   whitout quotes and the config store a dictionary \n",
    "\n",
    "# Note: OpenAI show the key only when it generate... if you not copy it \n",
    "#       it will be necessary generate another one"
   ]
  },
  {
   "cell_type": "code",
   "execution_count": 6,
   "id": "de114fe9",
   "metadata": {},
   "outputs": [],
   "source": [
    "openai.api_key = config[\"OPENAI_API_KEY\"]"
   ]
  },
  {
   "cell_type": "code",
   "execution_count": null,
   "id": "75d5e0fb",
   "metadata": {},
   "outputs": [],
   "source": [
    "# https://openai.com/pricing\n",
    "\n",
    "# model prices for GPT-4 Turbo- Up to Dec 2023\n",
    "# Model                         Input               Output\n",
    "# gpt-4-0125-preview            $0.01 / 1K tokens   $0.03 / 1K tokens\n",
    "# gpt-4-1106-preview            $0.01 / 1K tokens   $0.03 / 1K tokens\n",
    "# gpt-4-1106-vision-preview     $0.01 / 1K tokens   $0.03 / 1K tokens\n",
    "#  With 128k context, fresher knowledge and the broadest set of capabilities, \n",
    "#           GPT-4 Turbo is more powerful than GPT-4 and offered at a lower price.\n",
    "\n",
    "\n",
    "# model prices for GPT-4 - Up to Dec 2021\n",
    "# Model                         Input               Output\n",
    "# gpt-4                         $0.03 / 1K tokens   $0.06 / 1K tokens\n",
    "# gpt-4-32k                     $0.06 / 1K tokens   $0.12 / 1K tokens\n",
    "\n",
    "\n",
    "# model prices for GPT-3.5 - Up to Dec 2021\n",
    "#Model                    Input                  Output\n",
    "#gpt-3.5-turbo-0125       $0.0005 / 1K tokens    $0.0015 / 1K tokens\n",
    "#gpt-3.5-turbo-instruct   $0.0015 / 1K tokens    $0.0020 / 1K tokens\n",
    "#  GPT-3.5 Turbo models are capable and cost-effective."
   ]
  },
  {
   "cell_type": "code",
   "execution_count": 8,
   "id": "d6273f2a",
   "metadata": {},
   "outputs": [
    {
     "data": {
      "text/plain": [
       "ChatCompletion(id='chatcmpl-8vv01g5Z4g9GSML1ctM1I6qUZ4K6q', choices=[Choice(finish_reason='stop', index=0, logprobs=None, message=ChatCompletionMessage(content='As of September 2021, there are approximately 400 companies listed on the Brazilian stock exchanges, such as B3 (B3 S.A. - Brasil, Bolsa, Balcão).', role='assistant', function_call=None, tool_calls=None)), Choice(finish_reason='stop', index=1, logprobs=None, message=ChatCompletionMessage(content='As of 2021, there are hundreds of companies listed on the Brazilian stock exchanges, including B3 (formerly BM&F Bovespa) and other regional stock exchanges. The exact number of companies listed can fluctuate due to new listings, delistings, and mergers/acquisitions.', role='assistant', function_call=None, tool_calls=None)), Choice(finish_reason='stop', index=2, logprobs=None, message=ChatCompletionMessage(content='As of September 2021, there are approximately 360 companies listed on the Brazilian stock exchanges, including B3 (Brasil Bolsa Balcão), which is the main stock exchange in Brazil. These companies represent a wide range of industries and sectors in the Brazilian economy.', role='assistant', function_call=None, tool_calls=None))], created=1708814493, model='gpt-3.5-turbo-0125', object='chat.completion', system_fingerprint='fp_86156a94a0', usage=CompletionUsage(completion_tokens=156, prompt_tokens=18, total_tokens=174))"
      ]
     },
     "execution_count": 8,
     "metadata": {},
     "output_type": "execute_result"
    }
   ],
   "source": [
    "question = 'how many companies there are in Brazilian stock Exchanges?'\n",
    "openai.chat.completions.create(\n",
    "    model=\"gpt-3.5-turbo\",\n",
    "    messages=[{\"role\": \"user\", \"content\": question}],\n",
    "    max_tokens=100,\n",
    "    n=3,\n",
    ")"
   ]
  },
  {
   "cell_type": "code",
   "execution_count": 9,
   "id": "d11c0e24",
   "metadata": {},
   "outputs": [],
   "source": [
    "question = 'how many companies there are in Brazilian stock Exchanges?'\n",
    "response = openai.chat.completions.create(\n",
    "    model=\"gpt-3.5-turbo\",\n",
    "    messages=[{\"role\": \"user\", \"content\": question}],\n",
    "    max_tokens=100,\n",
    "    n=1,\n",
    ")"
   ]
  },
  {
   "cell_type": "code",
   "execution_count": 10,
   "id": "94c6bd76",
   "metadata": {},
   "outputs": [
    {
     "name": "stdout",
     "output_type": "stream",
     "text": [
      "As of September 2021, there are approximately 330 companies listed on the Brazilian stock exchanges, including B3 (B3 S.A. - Brasil, Bolsa, Balcão).\n"
     ]
    }
   ],
   "source": [
    "print(response.choices[0].message.content)"
   ]
  },
  {
   "cell_type": "code",
   "execution_count": 11,
   "id": "d1c747d5",
   "metadata": {},
   "outputs": [
    {
     "data": {
      "text/plain": [
       "ChatCompletion(id='chatcmpl-8w9rJBE05ykZD4rVFNRrL5nHc1FFk', choices=[Choice(finish_reason='stop', index=0, logprobs=None, message=ChatCompletionMessage(content='As of September 2021, there are approximately 330 companies listed on the Brazilian stock exchanges, including B3 (B3 S.A. - Brasil, Bolsa, Balcão).', role='assistant', function_call=None, tool_calls=None))], created=1708871613, model='gpt-3.5-turbo-0125', object='chat.completion', system_fingerprint='fp_86156a94a0', usage=CompletionUsage(completion_tokens=39, prompt_tokens=18, total_tokens=57))"
      ]
     },
     "execution_count": 11,
     "metadata": {},
     "output_type": "execute_result"
    }
   ],
   "source": [
    "response"
   ]
  },
  {
   "cell_type": "code",
   "execution_count": null,
   "id": "71f2ba58",
   "metadata": {},
   "outputs": [],
   "source": [
    "# note n=1 last parameter means just one answer if were n=3 like the last example you can observe 3 answers\n",
    "# n = 3 --> index=0,1,2\n",
    "# n = 1 -->index =0 (just one answer)"
   ]
  },
  {
   "cell_type": "code",
   "execution_count": 12,
   "id": "d44e0f0b",
   "metadata": {},
   "outputs": [
    {
     "ename": "TypeError",
     "evalue": "create() got an unexpected keyword argument 'echo'",
     "output_type": "error",
     "traceback": [
      "\u001b[1;31m---------------------------------------------------------------------------\u001b[0m",
      "\u001b[1;31mTypeError\u001b[0m                                 Traceback (most recent call last)",
      "Cell \u001b[1;32mIn[12], line 2\u001b[0m\n\u001b[0;32m      1\u001b[0m question \u001b[38;5;241m=\u001b[39m \u001b[38;5;124m'\u001b[39m\u001b[38;5;124mhow many companies there are in Brazilian stock Exchanges?\u001b[39m\u001b[38;5;124m'\u001b[39m\n\u001b[1;32m----> 2\u001b[0m response \u001b[38;5;241m=\u001b[39m \u001b[43mopenai\u001b[49m\u001b[38;5;241;43m.\u001b[39;49m\u001b[43mchat\u001b[49m\u001b[38;5;241;43m.\u001b[39;49m\u001b[43mcompletions\u001b[49m\u001b[38;5;241;43m.\u001b[39;49m\u001b[43mcreate\u001b[49m\u001b[43m(\u001b[49m\n\u001b[0;32m      3\u001b[0m \u001b[43m    \u001b[49m\u001b[43mmodel\u001b[49m\u001b[38;5;241;43m=\u001b[39;49m\u001b[38;5;124;43m\"\u001b[39;49m\u001b[38;5;124;43mgpt-3.5-turbo\u001b[39;49m\u001b[38;5;124;43m\"\u001b[39;49m\u001b[43m,\u001b[49m\n\u001b[0;32m      4\u001b[0m \u001b[43m    \u001b[49m\u001b[43mmessages\u001b[49m\u001b[38;5;241;43m=\u001b[39;49m\u001b[43m[\u001b[49m\u001b[43m{\u001b[49m\u001b[38;5;124;43m\"\u001b[39;49m\u001b[38;5;124;43mrole\u001b[39;49m\u001b[38;5;124;43m\"\u001b[39;49m\u001b[43m:\u001b[49m\u001b[43m \u001b[49m\u001b[38;5;124;43m\"\u001b[39;49m\u001b[38;5;124;43muser\u001b[39;49m\u001b[38;5;124;43m\"\u001b[39;49m\u001b[43m,\u001b[49m\u001b[43m \u001b[49m\u001b[38;5;124;43m\"\u001b[39;49m\u001b[38;5;124;43mcontent\u001b[39;49m\u001b[38;5;124;43m\"\u001b[39;49m\u001b[43m:\u001b[49m\u001b[43m \u001b[49m\u001b[43mquestion\u001b[49m\u001b[43m}\u001b[49m\u001b[43m]\u001b[49m\u001b[43m,\u001b[49m\n\u001b[0;32m      5\u001b[0m \u001b[43m    \u001b[49m\u001b[43mmax_tokens\u001b[49m\u001b[38;5;241;43m=\u001b[39;49m\u001b[38;5;241;43m100\u001b[39;49m\u001b[43m,\u001b[49m\n\u001b[0;32m      6\u001b[0m \u001b[43m    \u001b[49m\u001b[43mn\u001b[49m\u001b[38;5;241;43m=\u001b[39;49m\u001b[38;5;241;43m1\u001b[39;49m\u001b[43m,\u001b[49m\u001b[43mecho\u001b[49m\u001b[38;5;241;43m=\u001b[39;49m\u001b[38;5;28;43;01mTrue\u001b[39;49;00m\n\u001b[0;32m      7\u001b[0m \u001b[43m)\u001b[49m\n\u001b[0;32m      8\u001b[0m \u001b[38;5;28mprint\u001b[39m(response\u001b[38;5;241m.\u001b[39mchoices[\u001b[38;5;241m0\u001b[39m]\u001b[38;5;241m.\u001b[39mmessage\u001b[38;5;241m.\u001b[39mcontent)\n",
      "File \u001b[1;32m~\\Anaconda3\\lib\\site-packages\\openai\\_utils\\_utils.py:275\u001b[0m, in \u001b[0;36mrequired_args.<locals>.inner.<locals>.wrapper\u001b[1;34m(*args, **kwargs)\u001b[0m\n\u001b[0;32m    273\u001b[0m             msg \u001b[38;5;241m=\u001b[39m \u001b[38;5;124mf\u001b[39m\u001b[38;5;124m\"\u001b[39m\u001b[38;5;124mMissing required argument: \u001b[39m\u001b[38;5;132;01m{\u001b[39;00mquote(missing[\u001b[38;5;241m0\u001b[39m])\u001b[38;5;132;01m}\u001b[39;00m\u001b[38;5;124m\"\u001b[39m\n\u001b[0;32m    274\u001b[0m     \u001b[38;5;28;01mraise\u001b[39;00m \u001b[38;5;167;01mTypeError\u001b[39;00m(msg)\n\u001b[1;32m--> 275\u001b[0m \u001b[38;5;28;01mreturn\u001b[39;00m func(\u001b[38;5;241m*\u001b[39margs, \u001b[38;5;241m*\u001b[39m\u001b[38;5;241m*\u001b[39mkwargs)\n",
      "\u001b[1;31mTypeError\u001b[0m: create() got an unexpected keyword argument 'echo'"
     ]
    }
   ],
   "source": [
    "'''\n",
    "question = 'how many companies there are in Brazilian stock Exchanges?'\n",
    "response = openai.chat.completions.create(\n",
    "    model=\"gpt-3.5-turbo\",\n",
    "    messages=[{\"role\": \"user\", \"content\": question}],\n",
    "    max_tokens=100,\n",
    "    n=1, echo=True\n",
    ")\n",
    "print(response.choices[0].message.content)\n",
    "\n",
    "'''"
   ]
  },
  {
   "cell_type": "code",
   "execution_count": null,
   "id": "981a8f94",
   "metadata": {},
   "outputs": [],
   "source": [
    "# echo=True--> include the question in the answer but it is deprecated"
   ]
  },
  {
   "cell_type": "code",
   "execution_count": 9,
   "id": "9f86ef8c",
   "metadata": {},
   "outputs": [
    {
     "data": {
      "text/plain": [
       "ChatCompletion(id='chatcmpl-8vvCXvr1ORiiHrzHEIywk4bm5dQEf', choices=[Choice(finish_reason='stop', index=0, logprobs=None, message=ChatCompletionMessage(content='The number of companies listed on the Brazilian Stock Exchange, or B3 (Brasil Bolsa Balcão), can vary over time due to factors such as mergers, acquisitions, bankruptcies and new listings. As of 2021, approximately 400 companies are listed on the B3. Please verify from an updated source for the most current number.', role='assistant', function_call=None, tool_calls=None)), Choice(finish_reason='stop', index=1, logprobs=None, message=ChatCompletionMessage(content='As of my knowledge up to date till October 2021, there are approximately 400 companies listed on the Brazilian stock exchange, also known as B3 (Brasil Bolsa Balcão).  But the exact number can vary as companies can enter and leave the stock exchange. For the most current and accurate count, I recommend checking the official B3 website or relevant financial databases.', role='assistant', function_call=None, tool_calls=None)), Choice(finish_reason='stop', index=2, logprobs=None, message=ChatCompletionMessage(content='As of 2021, there are approximately 400 publicly traded companies listed on the Brazilian Stock Exchange (B3). However, this number can fluctuate as companies are added or removed from the exchange.', role='assistant', function_call=None, tool_calls=None))], created=1708815269, model='gpt-4-0613', object='chat.completion', system_fingerprint=None, usage=CompletionUsage(completion_tokens=191, prompt_tokens=18, total_tokens=209))"
      ]
     },
     "execution_count": 9,
     "metadata": {},
     "output_type": "execute_result"
    }
   ],
   "source": [
    "question = 'how many companies there are in Brazilian stock Exchanges?'\n",
    "openai.chat.completions.create(\n",
    "    model=\"gpt-4\",\n",
    "    messages=[{\"role\": \"user\", \"content\": question}],\n",
    "    max_tokens=100,\n",
    "    n=3,\n",
    ")"
   ]
  },
  {
   "cell_type": "code",
   "execution_count": 10,
   "id": "7fee9aa7",
   "metadata": {},
   "outputs": [],
   "source": [
    "# using stop sentece in order the list as a maximum number of items\n",
    "question = \"Generate a list of the best movies of all time \"\n",
    "response = openai.chat.completions.create(\n",
    "    messages=[\n",
    "        {\"role\": \"user\", \"content\":question }\n",
    "    ],\n",
    "    model=\"gpt-3.5-turbo\",\n",
    "    max_tokens=100,\n",
    "    stop=\"5.\",\n",
    ")"
   ]
  },
  {
   "cell_type": "code",
   "execution_count": 19,
   "id": "0cc40bcf",
   "metadata": {},
   "outputs": [],
   "source": [
    "# openai<1\n",
    "# print(response[\"choices\"][0][\"text\"])\n",
    "# openai>=1\n",
    "# print(response.choices[0].content)"
   ]
  },
  {
   "cell_type": "code",
   "execution_count": 13,
   "id": "9f4edaba",
   "metadata": {},
   "outputs": [
    {
     "data": {
      "text/plain": [
       "ChatCompletion(id='chatcmpl-8vvrnvzEw4zfPtCoX4masutwBoQEd', choices=[Choice(finish_reason='stop', index=0, logprobs=None, message=ChatCompletionMessage(content=\"1. The Godfather (1972)\\n2. The Shawshank Redemption (1994)\\n3. The Dark Knight (2008)\\n4. Schindler's List (1993)\\n\", role='assistant', function_call=None, tool_calls=None))], created=1708817827, model='gpt-3.5-turbo-0125', object='chat.completion', system_fingerprint='fp_86156a94a0', usage=CompletionUsage(completion_tokens=40, prompt_tokens=18, total_tokens=58))"
      ]
     },
     "execution_count": 13,
     "metadata": {},
     "output_type": "execute_result"
    }
   ],
   "source": [
    "response"
   ]
  },
  {
   "cell_type": "code",
   "execution_count": 17,
   "id": "aaf71708",
   "metadata": {},
   "outputs": [
    {
     "name": "stdout",
     "output_type": "stream",
     "text": [
      "1. The Godfather (1972)\n",
      "2. The Shawshank Redemption (1994)\n",
      "3. The Dark Knight (2008)\n",
      "4. Schindler's List (1993)\n",
      "\n"
     ]
    }
   ],
   "source": [
    "# how to print \n",
    "#  depending on the version is different ... the suggested one I found in a video didn't work\n",
    "print(response.choices[0].message.content)"
   ]
  },
  {
   "cell_type": "code",
   "execution_count": 18,
   "id": "b60f4aa6",
   "metadata": {},
   "outputs": [
    {
     "name": "stdout",
     "output_type": "stream",
     "text": [
      "Choice(finish_reason='stop', index=0, logprobs=None, message=ChatCompletionMessage(content=\"1. The Godfather (1972)\\n2. The Shawshank Redemption (1994)\\n3. The Dark Knight (2008)\\n4. Schindler's List (1993)\\n\", role='assistant', function_call=None, tool_calls=None))\n"
     ]
    }
   ],
   "source": [
    "print(response.choices[0])"
   ]
  },
  {
   "cell_type": "code",
   "execution_count": 13,
   "id": "d74945b1",
   "metadata": {},
   "outputs": [
    {
     "name": "stdout",
     "output_type": "stream",
     "text": [
      "{\n",
      "  \"China\": 1439323776,\n",
      "  \"India\": 1380004385,\n",
      "  \"United States\": 331002651,\n",
      "  \"Indonesia\": 273523615,\n",
      "  \"Pakistan\": 220892331\n",
      "}\n"
     ]
    }
   ],
   "source": [
    "part1 = 'generate the list of the five most populated countries in the world'\n",
    "part2 =' desired format json with countries as key eand population as values'\n",
    "question = part1+part2\n",
    "countries = openai.chat.completions.create(\n",
    "    model=\"gpt-3.5-turbo\",\n",
    "    messages=[{\"role\": \"user\", \"content\": question}],\n",
    "    max_tokens=100,\n",
    "    n=1,\n",
    ")\n",
    "print(countries.choices[0].message.content)"
   ]
  },
  {
   "cell_type": "code",
   "execution_count": null,
   "id": "09a859e0",
   "metadata": {},
   "outputs": [],
   "source": [
    "# note changing the format of output to make easy use the result in a python code for example\n",
    "#   PS: using gpt-4-0125-preview the population will be different data will be more updated"
   ]
  },
  {
   "cell_type": "code",
   "execution_count": 14,
   "id": "d3701581",
   "metadata": {},
   "outputs": [
    {
     "name": "stdout",
     "output_type": "stream",
     "text": [
      "```json\n",
      "{\n",
      "  \"China\": 1412600000,\n",
      "  \"India\": 1380000000,\n",
      "  \"United States\": 331449281,\n",
      "  \"Indonesia\": 273523615,\n",
      "  \"Pakistan\": 220892340\n",
      "}\n",
      "```\n"
     ]
    }
   ],
   "source": [
    "part1 = 'generate the list of the five most populated countries in the world'\n",
    "part2 =' desired format json with countries as key eand population as values'\n",
    "question = part1+part2\n",
    "countries = openai.chat.completions.create(\n",
    "    model=\"gpt-4-0125-preview\",\n",
    "    messages=[{\"role\": \"user\", \"content\": question}],\n",
    "    max_tokens=100,\n",
    "    n=1,\n",
    ")\n",
    "print(countries.choices[0].message.content)"
   ]
  },
  {
   "cell_type": "code",
   "execution_count": null,
   "id": "c6d5e52c",
   "metadata": {},
   "outputs": [],
   "source": []
  }
 ],
 "metadata": {
  "kernelspec": {
   "display_name": "Python 3 (ipykernel)",
   "language": "python",
   "name": "python3"
  },
  "language_info": {
   "codemirror_mode": {
    "name": "ipython",
    "version": 3
   },
   "file_extension": ".py",
   "mimetype": "text/x-python",
   "name": "python",
   "nbconvert_exporter": "python",
   "pygments_lexer": "ipython3",
   "version": "3.9.18"
  }
 },
 "nbformat": 4,
 "nbformat_minor": 5
}
