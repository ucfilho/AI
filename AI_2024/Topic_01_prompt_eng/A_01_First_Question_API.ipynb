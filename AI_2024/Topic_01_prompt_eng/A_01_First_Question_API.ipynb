{
 "cells": [
  {
   "cell_type": "code",
   "execution_count": 1,
   "id": "1d36ede4",
   "metadata": {},
   "outputs": [],
   "source": [
    "import openai\n",
    "import os"
   ]
  },
  {
   "cell_type": "code",
   "execution_count": 2,
   "id": "b7416cc7",
   "metadata": {},
   "outputs": [],
   "source": [
    "# pip install python-dotenv"
   ]
  },
  {
   "cell_type": "code",
   "execution_count": 3,
   "id": "ff4b13f3",
   "metadata": {},
   "outputs": [],
   "source": [
    "path =r'C:\\Users\\User\\Documents\\Atividades_andamento\\AI_Prompt_Eng\\data'\n",
    "os.chdir(path)"
   ]
  },
  {
   "cell_type": "code",
   "execution_count": 4,
   "id": "45b66bf8",
   "metadata": {},
   "outputs": [],
   "source": [
    "from dotenv import dotenv_values # used to save passawords credicard numbers,etc"
   ]
  },
  {
   "cell_type": "code",
   "execution_count": 5,
   "id": "efe20e99",
   "metadata": {},
   "outputs": [],
   "source": [
    "# config = dotenv_values(\".test_env\") # load file .env *file start with the system not show it\n",
    "# print(config['color'])"
   ]
  },
  {
   "cell_type": "code",
   "execution_count": 6,
   "id": "63c66c87",
   "metadata": {},
   "outputs": [],
   "source": [
    "config = dotenv_values(\".env\")\n",
    "# print(config[\"OPENAI_API_KEY\"])"
   ]
  },
  {
   "cell_type": "code",
   "execution_count": 7,
   "id": "de114fe9",
   "metadata": {},
   "outputs": [],
   "source": [
    "openai.api_key = config[\"OPENAI_API_KEY\"]"
   ]
  },
  {
   "cell_type": "code",
   "execution_count": 8,
   "id": "d6273f2a",
   "metadata": {},
   "outputs": [
    {
     "data": {
      "text/plain": [
       "ChatCompletion(id='chatcmpl-8vv01g5Z4g9GSML1ctM1I6qUZ4K6q', choices=[Choice(finish_reason='stop', index=0, logprobs=None, message=ChatCompletionMessage(content='As of September 2021, there are approximately 400 companies listed on the Brazilian stock exchanges, such as B3 (B3 S.A. - Brasil, Bolsa, Balcão).', role='assistant', function_call=None, tool_calls=None)), Choice(finish_reason='stop', index=1, logprobs=None, message=ChatCompletionMessage(content='As of 2021, there are hundreds of companies listed on the Brazilian stock exchanges, including B3 (formerly BM&F Bovespa) and other regional stock exchanges. The exact number of companies listed can fluctuate due to new listings, delistings, and mergers/acquisitions.', role='assistant', function_call=None, tool_calls=None)), Choice(finish_reason='stop', index=2, logprobs=None, message=ChatCompletionMessage(content='As of September 2021, there are approximately 360 companies listed on the Brazilian stock exchanges, including B3 (Brasil Bolsa Balcão), which is the main stock exchange in Brazil. These companies represent a wide range of industries and sectors in the Brazilian economy.', role='assistant', function_call=None, tool_calls=None))], created=1708814493, model='gpt-3.5-turbo-0125', object='chat.completion', system_fingerprint='fp_86156a94a0', usage=CompletionUsage(completion_tokens=156, prompt_tokens=18, total_tokens=174))"
      ]
     },
     "execution_count": 8,
     "metadata": {},
     "output_type": "execute_result"
    }
   ],
   "source": [
    "# openai.Completion.create(\n",
    "#     model=\"text-davinci-003\", prompt=\"write me a poem\", max_tokens=100, n=3\n",
    "# )\n",
    "question = 'how many companies there are in Brazilian stock Exchanges?'\n",
    "openai.chat.completions.create(\n",
    "    model=\"gpt-3.5-turbo\",\n",
    "    messages=[{\"role\": \"user\", \"content\": question}],\n",
    "    max_tokens=100,\n",
    "    n=3,\n",
    ")"
   ]
  },
  {
   "cell_type": "code",
   "execution_count": 9,
   "id": "9f86ef8c",
   "metadata": {},
   "outputs": [
    {
     "data": {
      "text/plain": [
       "ChatCompletion(id='chatcmpl-8vvCXvr1ORiiHrzHEIywk4bm5dQEf', choices=[Choice(finish_reason='stop', index=0, logprobs=None, message=ChatCompletionMessage(content='The number of companies listed on the Brazilian Stock Exchange, or B3 (Brasil Bolsa Balcão), can vary over time due to factors such as mergers, acquisitions, bankruptcies and new listings. As of 2021, approximately 400 companies are listed on the B3. Please verify from an updated source for the most current number.', role='assistant', function_call=None, tool_calls=None)), Choice(finish_reason='stop', index=1, logprobs=None, message=ChatCompletionMessage(content='As of my knowledge up to date till October 2021, there are approximately 400 companies listed on the Brazilian stock exchange, also known as B3 (Brasil Bolsa Balcão).  But the exact number can vary as companies can enter and leave the stock exchange. For the most current and accurate count, I recommend checking the official B3 website or relevant financial databases.', role='assistant', function_call=None, tool_calls=None)), Choice(finish_reason='stop', index=2, logprobs=None, message=ChatCompletionMessage(content='As of 2021, there are approximately 400 publicly traded companies listed on the Brazilian Stock Exchange (B3). However, this number can fluctuate as companies are added or removed from the exchange.', role='assistant', function_call=None, tool_calls=None))], created=1708815269, model='gpt-4-0613', object='chat.completion', system_fingerprint=None, usage=CompletionUsage(completion_tokens=191, prompt_tokens=18, total_tokens=209))"
      ]
     },
     "execution_count": 9,
     "metadata": {},
     "output_type": "execute_result"
    }
   ],
   "source": [
    "question = 'how many companies there are in Brazilian stock Exchanges?'\n",
    "openai.chat.completions.create(\n",
    "    model=\"gpt-4\",\n",
    "    messages=[{\"role\": \"user\", \"content\": question}],\n",
    "    max_tokens=100,\n",
    "    n=3,\n",
    ")"
   ]
  },
  {
   "cell_type": "code",
   "execution_count": 10,
   "id": "7fee9aa7",
   "metadata": {},
   "outputs": [],
   "source": [
    "# using stop sentece in order the list as a maximum number of items\n",
    "question = \"Generate a list of the best movies of all time \"\n",
    "response = openai.chat.completions.create(\n",
    "    messages=[\n",
    "        {\"role\": \"user\", \"content\":question }\n",
    "    ],\n",
    "    model=\"gpt-3.5-turbo\",\n",
    "    max_tokens=100,\n",
    "    stop=\"5.\",\n",
    ")"
   ]
  },
  {
   "cell_type": "code",
   "execution_count": 19,
   "id": "0cc40bcf",
   "metadata": {},
   "outputs": [],
   "source": [
    "# openai<1\n",
    "# print(response[\"choices\"][0][\"text\"])\n",
    "# openai>=1\n",
    "# print(response.choices[0].content)"
   ]
  },
  {
   "cell_type": "code",
   "execution_count": 13,
   "id": "9f4edaba",
   "metadata": {},
   "outputs": [
    {
     "data": {
      "text/plain": [
       "ChatCompletion(id='chatcmpl-8vvrnvzEw4zfPtCoX4masutwBoQEd', choices=[Choice(finish_reason='stop', index=0, logprobs=None, message=ChatCompletionMessage(content=\"1. The Godfather (1972)\\n2. The Shawshank Redemption (1994)\\n3. The Dark Knight (2008)\\n4. Schindler's List (1993)\\n\", role='assistant', function_call=None, tool_calls=None))], created=1708817827, model='gpt-3.5-turbo-0125', object='chat.completion', system_fingerprint='fp_86156a94a0', usage=CompletionUsage(completion_tokens=40, prompt_tokens=18, total_tokens=58))"
      ]
     },
     "execution_count": 13,
     "metadata": {},
     "output_type": "execute_result"
    }
   ],
   "source": [
    "response"
   ]
  },
  {
   "cell_type": "code",
   "execution_count": 17,
   "id": "aaf71708",
   "metadata": {},
   "outputs": [
    {
     "name": "stdout",
     "output_type": "stream",
     "text": [
      "1. The Godfather (1972)\n",
      "2. The Shawshank Redemption (1994)\n",
      "3. The Dark Knight (2008)\n",
      "4. Schindler's List (1993)\n",
      "\n"
     ]
    }
   ],
   "source": [
    "# how to print \n",
    "#  depending on the version is different ... the suggested one I found in a video didn't work\n",
    "print(response.choices[0].message.content)"
   ]
  },
  {
   "cell_type": "code",
   "execution_count": 18,
   "id": "b60f4aa6",
   "metadata": {},
   "outputs": [
    {
     "name": "stdout",
     "output_type": "stream",
     "text": [
      "Choice(finish_reason='stop', index=0, logprobs=None, message=ChatCompletionMessage(content=\"1. The Godfather (1972)\\n2. The Shawshank Redemption (1994)\\n3. The Dark Knight (2008)\\n4. Schindler's List (1993)\\n\", role='assistant', function_call=None, tool_calls=None))\n"
     ]
    }
   ],
   "source": [
    "print(response.choices[0])"
   ]
  },
  {
   "cell_type": "code",
   "execution_count": null,
   "id": "75d5e0fb",
   "metadata": {},
   "outputs": [],
   "source": []
  }
 ],
 "metadata": {
  "kernelspec": {
   "display_name": "Python 3 (ipykernel)",
   "language": "python",
   "name": "python3"
  },
  "language_info": {
   "codemirror_mode": {
    "name": "ipython",
    "version": 3
   },
   "file_extension": ".py",
   "mimetype": "text/x-python",
   "name": "python",
   "nbconvert_exporter": "python",
   "pygments_lexer": "ipython3",
   "version": "3.9.18"
  }
 },
 "nbformat": 4,
 "nbformat_minor": 5
}
