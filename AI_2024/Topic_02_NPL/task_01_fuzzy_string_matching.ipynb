{
 "cells": [
  {
   "cell_type": "code",
   "execution_count": 1,
   "id": "e267aed8",
   "metadata": {},
   "outputs": [
    {
     "name": "stderr",
     "output_type": "stream",
     "text": [
      "C:\\Users\\User\\Anaconda3\\lib\\site-packages\\fuzzywuzzy\\fuzz.py:11: UserWarning: Using slow pure-python SequenceMatcher. Install python-Levenshtein to remove this warning\n",
      "  warnings.warn('Using slow pure-python SequenceMatcher. Install python-Levenshtein to remove this warning')\n"
     ]
    }
   ],
   "source": [
    "from fuzzywuzzy import process\n",
    "from fuzzywuzzy import fuzz"
   ]
  },
  {
   "cell_type": "code",
   "execution_count": 2,
   "id": "1474eccd",
   "metadata": {},
   "outputs": [],
   "source": [
    "# FuzzyWuzzy is a library of Python which is used for string matching"
   ]
  },
  {
   "cell_type": "code",
   "execution_count": 3,
   "id": "246439af",
   "metadata": {},
   "outputs": [],
   "source": [
    "# There are many methods of comparing string in python. Some of the main methods are:\n",
    "#  Using regex\n",
    "#  Simple compare\n",
    "#  Using difflib"
   ]
  },
  {
   "cell_type": "code",
   "execution_count": 4,
   "id": "3e700289",
   "metadata": {},
   "outputs": [],
   "source": [
    "# FuzzyWuzzy algorithm is a powerful tool for finding similar strings even when they are \n",
    "#    not exactly the same. It helps us clean up messy data, link similar records, and improve \n",
    "#    tasks like spell-checking and word suggestions. By using FuzzyWuzzy, we can become better \n",
    "#    at comparing and matching strings in our programming projects. It’s a useful tool loved by \n",
    "#    programmers, data scientists, and researchers because it makes working with real-world data easier.\n",
    "#   https://medium.com/@harikrishnanhari.india/understanding-fuzziness-exploring-the-fuzzywuzzy-algorithm-7e0b4b05f3d7\n"
   ]
  },
  {
   "cell_type": "code",
   "execution_count": 5,
   "id": "296384f9",
   "metadata": {},
   "outputs": [
    {
     "name": "stdout",
     "output_type": "stream",
     "text": [
      "100\n"
     ]
    }
   ],
   "source": [
    "# The partial ratio algorithm considers partial matches and looks for the best \n",
    "#             matching substring within the longer string.\n",
    "string1 = \"apple\"\n",
    "string2 = \"apples and bananas\"\n",
    "partial_ratio = fuzz.partial_ratio(string1, string2)\n",
    "print(partial_ratio)  # Output: 100"
   ]
  },
  {
   "cell_type": "code",
   "execution_count": 6,
   "id": "9fd76867",
   "metadata": {},
   "outputs": [
    {
     "name": "stdout",
     "output_type": "stream",
     "text": [
      "[('a', 90), ('p', 90)]\n"
     ]
    }
   ],
   "source": [
    "string1 = \"apple\"\n",
    "string2 = \"apples and bananas\"\n",
    "best_matches = process.extract(string1, string2, limit=2)\n",
    "print(best_matches)  "
   ]
  },
  {
   "cell_type": "code",
   "execution_count": 7,
   "id": "6cc51054",
   "metadata": {},
   "outputs": [
    {
     "name": "stdout",
     "output_type": "stream",
     "text": [
      "[('pineapple', 90), ('apple', 89), ('banana', 22)]\n"
     ]
    }
   ],
   "source": [
    "# process.extract() function that can be used to extract the best matches from a list of \n",
    "#       choices based on a target string. Here’s an example:\n",
    "\n",
    "choices = [\"apple\", \"banana\", \"orange\", \"pineapple\"]\n",
    "target = \"appl\"\n",
    "\n",
    "best_matches = process.extract(target, choices, limit=3)\n",
    "print(best_matches)  "
   ]
  },
  {
   "cell_type": "code",
   "execution_count": 8,
   "id": "cae20aa7",
   "metadata": {},
   "outputs": [
    {
     "name": "stdout",
     "output_type": "stream",
     "text": [
      "Partial ratio similarity score: 100\n",
      "Simple ratio similarity score: 86\n",
      "Similarity score: 67\n"
     ]
    }
   ],
   "source": [
    "# Order matters with partial ratio\n",
    "# Check the similarity score\n",
    "name = \"Kurtis Pykes\"\n",
    "full_name = \"Kurtis Pykes K D\"\n",
    "\n",
    "print(f\"Partial ratio similarity score: {fuzz.partial_ratio(name, full_name)}\")\n",
    "\n",
    "# But order will not effect simple ratio if strings do not match\n",
    "print(f\"Simple ratio similarity score: {fuzz.ratio(name, full_name)}\")\n",
    "\n",
    "# Check the similarity score\n",
    "name = \"Kurtis Pykes\"\n",
    "full_name = \"Kurtis K D Pykes\"\n",
    "\n",
    "print(f\"Similarity score: {fuzz.partial_ratio(name, full_name)}\")\n"
   ]
  },
  {
   "cell_type": "code",
   "execution_count": 9,
   "id": "358abd63",
   "metadata": {},
   "outputs": [
    {
     "name": "stdout",
     "output_type": "stream",
     "text": [
      "            country  population_in_millions\n",
      "0           England                   55.98\n",
      "1          Scotland                    5.45\n",
      "2             Wales                    3.14\n",
      "3    United Kingdom                   67.33\n",
      "4  Northern Ireland                    1.89\n",
      "\n",
      "          country  GDP_per_capita\n",
      "0  Northern Iland        24900.00\n",
      "1            Wles        23882.00\n",
      "2         Scotlnd        37460.00\n",
      "3          Englnd        45101.00\n",
      "4       United K.        46510.28\n"
     ]
    }
   ],
   "source": [
    "import pandas as pd\n",
    "# https://www.datacamp.com/tutorial/fuzzy-string-python\n",
    "# Creating a dataframe\n",
    "dict_one = {\n",
    "  \"country\": [\"England\", \"Scotland\", \"Wales\", \"United Kingdom\", \"Northern Ireland\"],\n",
    "  \"population_in_millions\": [55.98, 5.45, 3.14, 67.33, 1.89]\n",
    "}\n",
    "\n",
    "dict_two = {\n",
    "  \"country\": [\"Northern Iland\", \"Wles\", \"Scotlnd\", \"Englnd\", \"United K.\"],\n",
    "  \"GDP_per_capita\": [24900, 23882, 37460, 45101, 46510.28]\n",
    "}\n",
    "\n",
    "existing_data = pd.DataFrame(dict_one)\n",
    "exported_data = pd.DataFrame(dict_two)\n",
    "\n",
    "print(existing_data, exported_data, sep=\"\\n\\n\")\n"
   ]
  },
  {
   "cell_type": "code",
   "execution_count": 10,
   "id": "b868711c",
   "metadata": {},
   "outputs": [
    {
     "name": "stdout",
     "output_type": "stream",
     "text": [
      "            country  population_in_millions  GDP_per_capita\n",
      "0           England                   55.98             NaN\n",
      "1          Scotland                    5.45             NaN\n",
      "2             Wales                    3.14             NaN\n",
      "3    United Kingdom                   67.33             NaN\n",
      "4  Northern Ireland                    1.89             NaN\n"
     ]
    }
   ],
   "source": [
    "# Attempt to join the two dataframe\n",
    "data = pd.merge(existing_data, exported_data, on=\"country\", how=\"left\")\n",
    "print(data.head())"
   ]
  },
  {
   "cell_type": "code",
   "execution_count": 11,
   "id": "95e5ca29",
   "metadata": {},
   "outputs": [
    {
     "name": "stdout",
     "output_type": "stream",
     "text": [
      "            country  population_in_millions  GDP_per_capita\n",
      "0           England                   55.98        45101.00\n",
      "1          Scotland                    5.45        37460.00\n",
      "2             Wales                    3.14        23882.00\n",
      "3    United Kingdom                   67.33        46510.28\n",
      "4  Northern Ireland                    1.89        24900.00\n"
     ]
    }
   ],
   "source": [
    "# Rename the misspelled columns\n",
    "exported_data[\"country\"] = exported_data[\"country\"].apply(\n",
    "  lambda x: process.extractOne(x, existing_data[\"country\"], scorer=fuzz.partial_ratio)[0]\n",
    ")\n",
    "\n",
    "# Attempt to join the two dataframe\n",
    "data = pd.merge(existing_data, exported_data, on=\"country\", how=\"left\")\n",
    "print(data.head())"
   ]
  }
 ],
 "metadata": {
  "kernelspec": {
   "display_name": "Python 3 (ipykernel)",
   "language": "python",
   "name": "python3"
  },
  "language_info": {
   "codemirror_mode": {
    "name": "ipython",
    "version": 3
   },
   "file_extension": ".py",
   "mimetype": "text/x-python",
   "name": "python",
   "nbconvert_exporter": "python",
   "pygments_lexer": "ipython3",
   "version": "3.9.18"
  }
 },
 "nbformat": 4,
 "nbformat_minor": 5
}
