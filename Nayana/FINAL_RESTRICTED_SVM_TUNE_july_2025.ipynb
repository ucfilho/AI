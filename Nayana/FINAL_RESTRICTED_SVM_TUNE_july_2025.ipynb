{
 "cells": [
  {
   "cell_type": "markdown",
   "metadata": {},
   "source": [
    "## SVM- restricted"
   ]
  },
  {
   "cell_type": "code",
   "execution_count": 1,
   "metadata": {
    "id": "Pex7tA7T1Ou_"
   },
   "outputs": [],
   "source": [
    "import pandas as pd\n",
    "import numpy as np\n",
    "from sklearn import cluster, covariance, manifold\n",
    "import numpy as np\n",
    "from sklearn.metrics import r2_score\n",
    "import math\n",
    "import matplotlib.pyplot as plt\n",
    "import time\n",
    "import os"
   ]
  },
  {
   "cell_type": "code",
   "execution_count": 2,
   "metadata": {
    "id": "JkK8UlBBP9gq"
   },
   "outputs": [],
   "source": [
    "from sklearn.svm import SVR\n",
    "from scipy.optimize import minimize\n",
    "from sklearn.preprocessing import MinMaxScaler, StandardScaler\n",
    "from scipy.optimize import minimize\n",
    "from sklearn.feature_selection import RFECV"
   ]
  },
  {
   "cell_type": "code",
   "execution_count": 3,
   "metadata": {},
   "outputs": [],
   "source": [
    "import optuna"
   ]
  },
  {
   "cell_type": "code",
   "execution_count": 4,
   "metadata": {
    "id": "_-9TN1CUWkDx"
   },
   "outputs": [],
   "source": [
    "# import warnings\n",
    "import warnings\n",
    "warnings.filterwarnings(\"ignore\")"
   ]
  },
  {
   "cell_type": "code",
   "execution_count": 5,
   "metadata": {},
   "outputs": [],
   "source": [
    "from sklearn.metrics import mean_absolute_error\n",
    "from sklearn.metrics import root_mean_squared_error"
   ]
  },
  {
   "cell_type": "code",
   "execution_count": 6,
   "metadata": {},
   "outputs": [],
   "source": [
    "path = r'C:\\Users\\User\\Documents\\Atividades_andamento\\Nayana\\corrige_codigos'\n",
    "os.chdir(path)"
   ]
  },
  {
   "cell_type": "code",
   "execution_count": 7,
   "metadata": {
    "id": "XbYHyMAZ1RQN"
   },
   "outputs": [],
   "source": [
    "#df =pd.read_excel('custos_versao_jun_17_2023.xlsx')\n",
    "df =pd.read_excel(\"custos_versao_mar_14B_2024.xlsx\")\n",
    "df = df.drop(['Local','Barragens'],axis=1)\n",
    "names = df.columns"
   ]
  },
  {
   "cell_type": "code",
   "execution_count": 8,
   "metadata": {
    "colab": {
     "base_uri": "https://localhost:8080/"
    },
    "id": "FxZN4JzqTtMP",
    "outputId": "47900881-0bc1-4b64-c0e2-8b8ca358a36e"
   },
   "outputs": [
    {
     "data": {
      "text/plain": [
       "(33, 78)"
      ]
     },
     "execution_count": 8,
     "metadata": {},
     "output_type": "execute_result"
    }
   ],
   "source": [
    "df.shape"
   ]
  },
  {
   "cell_type": "code",
   "execution_count": 9,
   "metadata": {
    "id": "rOs3zWa7Q7Ci"
   },
   "outputs": [],
   "source": [
    "word ='Custo_barragem' \n",
    "word = 'Dams'\n",
    "X = df.drop([word],axis=1)\n",
    "y = df[word]\n",
    "y = np.log10(y)\n",
    "\n",
    "escalor =  StandardScaler() # escalor = MinMaxScaler()\n",
    "y_norm = escalor.fit_transform(y.values.reshape(-1,1))"
   ]
  },
  {
   "cell_type": "markdown",
   "metadata": {
    "id": "hEXjmMJ-15pj"
   },
   "source": [
    "## SVM\n",
    "\n"
   ]
  },
  {
   "cell_type": "code",
   "execution_count": 10,
   "metadata": {},
   "outputs": [],
   "source": [
    "restricted =['Height', 'FencInst', 'RemovStruc', 'GeochAvai', \n",
    "             'GroundwaQMon', 'ResDep',  'SedDredg', 'ContMat']\n",
    "#restricted = ['Volume', 'Height', 'Area', 'Ano de encerramento da operação da estrutura?']"
   ]
  },
  {
   "cell_type": "code",
   "execution_count": 11,
   "metadata": {
    "scrolled": true
   },
   "outputs": [],
   "source": [
    "X_restricted = df[restricted]\n",
    "\n",
    "x_scaler = StandardScaler() # x_scaler = MinMaxScaler()\n",
    "y_scaler = StandardScaler()# y_scaler = MinMaxScaler()\n",
    "\n",
    "X_norm = x_scaler.fit_transform(X_restricted)\n",
    "y_norm = y_scaler.fit_transform(y.values.reshape(-1,1))"
   ]
  },
  {
   "cell_type": "code",
   "execution_count": 12,
   "metadata": {},
   "outputs": [],
   "source": [
    "X,y = X_norm,y_norm"
   ]
  },
  {
   "cell_type": "code",
   "execution_count": 13,
   "metadata": {
    "id": "LgpNr7FwtTTT"
   },
   "outputs": [],
   "source": [
    "def mine_test(set_parameters, X=X, y=y): # testa o ajuste\n",
    "  rows=X.shape[0]\n",
    "  cols =X.shape[1]\n",
    "\n",
    "  y_pred   = []\n",
    "\n",
    "  for i in range(rows):\n",
    "    X_train = np.delete(X,i,axis=0)\n",
    "    y_train = np.delete(y,i,axis=0)\n",
    "    X_test  = X[i,:].reshape(1,cols)\n",
    "    y_test  = y[i]\n",
    "    # model =  XGBRegressor(**set_parameters)\n",
    "    model =  SVR(**set_parameters)\n",
    "    model = model.fit(X_train, y_train.reshape(-1,1))\n",
    "    yi = model.predict(X_test)\n",
    "    y_pred.append(yi)\n",
    "\n",
    "  y_pred = np.array(y_pred)\n",
    "\n",
    "  resp = mean_absolute_error(y, y_pred)\n",
    "  \n",
    "\n",
    "  return -resp\n"
   ]
  },
  {
   "cell_type": "code",
   "execution_count": 14,
   "metadata": {},
   "outputs": [],
   "source": [
    "# Define the objective function and suggest hyperparameters values\n",
    "def objective(trial):\n",
    "    C_parameter = [100,10,1.0,0.10,0.01,0.001,0.0001,0.00001]\n",
    "    eps_parameter = [0.01,0.1,1.0,2,10]\n",
    "    #C = trial.suggest_float('C', 1e-10, 1e10, log=True)\n",
    "    #gamma = trial.suggest_float('gamma', 1e-10, 1e10, log=True)\n",
    "    #epsilon= trial.suggest_float('epsilon', 0.01, 1)\n",
    "    epsilon = trial.suggest_categorical('epsilon', eps_parameter)\n",
    "    C_fast = trial.suggest_categorical('C', C_parameter)\n",
    "    # gamma nao tem sentido no kernel linear\n",
    "    set_parameters = {'kernel':\"linear\",\n",
    "                      'C': C_fast,\n",
    "                      'epsilon':epsilon}\n",
    "    adjust = mine_test( set_parameters)\n",
    "    \n",
    "    \n",
    "    return adjust"
   ]
  },
  {
   "cell_type": "code",
   "execution_count": 15,
   "metadata": {},
   "outputs": [
    {
     "name": "stderr",
     "output_type": "stream",
     "text": [
      "[I 2024-08-27 10:46:24,297] A new study created in memory with name: no-name-b9a695db-0fed-4f55-ab2a-293909c98312\n",
      "[I 2024-08-27 10:46:24,317] Trial 0 finished with value: -0.9188960359336699 and parameters: {'epsilon': 2, 'C': 0.01}. Best is trial 0 with value: -0.9188960359336699.\n",
      "[I 2024-08-27 10:46:24,345] Trial 1 finished with value: -0.40133314292721084 and parameters: {'epsilon': 0.1, 'C': 0.1}. Best is trial 1 with value: -0.40133314292721084.\n",
      "[I 2024-08-27 10:46:24,368] Trial 2 finished with value: -0.9188960359336699 and parameters: {'epsilon': 2, 'C': 0.1}. Best is trial 1 with value: -0.40133314292721084.\n",
      "[I 2024-08-27 10:46:24,385] Trial 3 finished with value: -0.6226858013975085 and parameters: {'epsilon': 1.0, 'C': 100}. Best is trial 1 with value: -0.40133314292721084.\n",
      "[I 2024-08-27 10:46:24,409] Trial 4 finished with value: -0.9234397903030418 and parameters: {'epsilon': 10, 'C': 0.1}. Best is trial 1 with value: -0.40133314292721084.\n",
      "[I 2024-08-27 10:46:24,429] Trial 5 finished with value: -0.9188960359336699 and parameters: {'epsilon': 2, 'C': 10}. Best is trial 1 with value: -0.40133314292721084.\n",
      "[I 2024-08-27 10:46:24,450] Trial 6 finished with value: -0.6226858013975085 and parameters: {'epsilon': 1.0, 'C': 1.0}. Best is trial 1 with value: -0.40133314292721084.\n",
      "[I 2024-08-27 10:46:24,476] Trial 7 finished with value: -0.4654468639817672 and parameters: {'epsilon': 0.01, 'C': 1.0}. Best is trial 1 with value: -0.40133314292721084.\n",
      "[I 2024-08-27 10:46:24,499] Trial 8 finished with value: -0.40133314292721084 and parameters: {'epsilon': 0.1, 'C': 0.1}. Best is trial 1 with value: -0.40133314292721084.\n",
      "[I 2024-08-27 10:46:24,516] Trial 9 finished with value: -0.9188960359336699 and parameters: {'epsilon': 2, 'C': 1.0}. Best is trial 1 with value: -0.40133314292721084.\n",
      "[I 2024-08-27 10:46:24,544] Trial 10 finished with value: -0.8109417161034558 and parameters: {'epsilon': 0.1, 'C': 0.001}. Best is trial 1 with value: -0.40133314292721084.\n",
      "[I 2024-08-27 10:46:24,565] Trial 11 finished with value: -0.40133314292721084 and parameters: {'epsilon': 0.1, 'C': 0.1}. Best is trial 1 with value: -0.40133314292721084.\n",
      "[I 2024-08-27 10:46:24,593] Trial 12 finished with value: -0.8459797813638457 and parameters: {'epsilon': 0.1, 'C': 1e-05}. Best is trial 1 with value: -0.40133314292721084.\n",
      "[I 2024-08-27 10:46:24,617] Trial 13 finished with value: -0.8416346242984668 and parameters: {'epsilon': 0.1, 'C': 0.0001}. Best is trial 1 with value: -0.40133314292721084.\n",
      "[I 2024-08-27 10:46:24,643] Trial 14 finished with value: -0.40133314292721084 and parameters: {'epsilon': 0.1, 'C': 0.1}. Best is trial 1 with value: -0.40133314292721084.\n",
      "[I 2024-08-27 10:46:24,667] Trial 15 finished with value: -0.41196170436851864 and parameters: {'epsilon': 0.01, 'C': 0.1}. Best is trial 1 with value: -0.40133314292721084.\n",
      "[I 2024-08-27 10:46:24,693] Trial 16 finished with value: -0.9234397903030418 and parameters: {'epsilon': 10, 'C': 0.001}. Best is trial 1 with value: -0.40133314292721084.\n",
      "[I 2024-08-27 10:46:24,717] Trial 17 finished with value: -0.8416346242984668 and parameters: {'epsilon': 0.1, 'C': 0.0001}. Best is trial 1 with value: -0.40133314292721084.\n",
      "[I 2024-08-27 10:46:24,853] Trial 18 finished with value: -0.47702625915869956 and parameters: {'epsilon': 0.1, 'C': 10}. Best is trial 1 with value: -0.40133314292721084.\n",
      "[I 2024-08-27 10:46:24,877] Trial 19 finished with value: -0.8459797813638457 and parameters: {'epsilon': 0.1, 'C': 1e-05}. Best is trial 1 with value: -0.40133314292721084.\n",
      "[I 2024-08-27 10:46:24,899] Trial 20 finished with value: -0.7629920443929746 and parameters: {'epsilon': 1.0, 'C': 0.01}. Best is trial 1 with value: -0.40133314292721084.\n",
      "[I 2024-08-27 10:46:24,927] Trial 21 finished with value: -0.40133314292721084 and parameters: {'epsilon': 0.1, 'C': 0.1}. Best is trial 1 with value: -0.40133314292721084.\n",
      "[I 2024-08-27 10:46:24,948] Trial 22 finished with value: -0.40133314292721084 and parameters: {'epsilon': 0.1, 'C': 0.1}. Best is trial 1 with value: -0.40133314292721084.\n",
      "[I 2024-08-27 10:46:24,977] Trial 23 finished with value: -0.40133314292721084 and parameters: {'epsilon': 0.1, 'C': 0.1}. Best is trial 1 with value: -0.40133314292721084.\n",
      "[I 2024-08-27 10:46:25,000] Trial 24 finished with value: -0.40133314292721084 and parameters: {'epsilon': 0.1, 'C': 0.1}. Best is trial 1 with value: -0.40133314292721084.\n",
      "[I 2024-08-27 10:46:25,250] Trial 25 finished with value: -0.46806893434597097 and parameters: {'epsilon': 0.01, 'C': 100}. Best is trial 1 with value: -0.40133314292721084.\n",
      "[I 2024-08-27 10:46:25,280] Trial 26 finished with value: -0.9234397903030418 and parameters: {'epsilon': 10, 'C': 0.1}. Best is trial 1 with value: -0.40133314292721084.\n",
      "[I 2024-08-27 10:46:25,297] Trial 27 finished with value: -0.40133314292721084 and parameters: {'epsilon': 0.1, 'C': 0.1}. Best is trial 1 with value: -0.40133314292721084.\n",
      "[I 2024-08-27 10:46:25,328] Trial 28 finished with value: -0.40133314292721084 and parameters: {'epsilon': 0.1, 'C': 0.1}. Best is trial 1 with value: -0.40133314292721084.\n",
      "[I 2024-08-27 10:46:25,351] Trial 29 finished with value: -0.6421390660484085 and parameters: {'epsilon': 0.1, 'C': 0.01}. Best is trial 1 with value: -0.40133314292721084.\n",
      "[I 2024-08-27 10:46:25,376] Trial 30 finished with value: -0.875743328538011 and parameters: {'epsilon': 1.0, 'C': 1e-05}. Best is trial 1 with value: -0.40133314292721084.\n",
      "[I 2024-08-27 10:46:25,399] Trial 31 finished with value: -0.40133314292721084 and parameters: {'epsilon': 0.1, 'C': 0.1}. Best is trial 1 with value: -0.40133314292721084.\n",
      "[I 2024-08-27 10:46:25,416] Trial 32 finished with value: -0.40133314292721084 and parameters: {'epsilon': 0.1, 'C': 0.1}. Best is trial 1 with value: -0.40133314292721084.\n",
      "[I 2024-08-27 10:46:25,446] Trial 33 finished with value: -0.9188960359336699 and parameters: {'epsilon': 2, 'C': 0.1}. Best is trial 1 with value: -0.40133314292721084.\n",
      "[I 2024-08-27 10:46:25,468] Trial 34 finished with value: -0.40133314292721084 and parameters: {'epsilon': 0.1, 'C': 0.1}. Best is trial 1 with value: -0.40133314292721084.\n",
      "[I 2024-08-27 10:46:25,491] Trial 35 finished with value: -0.9234397903030418 and parameters: {'epsilon': 10, 'C': 100}. Best is trial 1 with value: -0.40133314292721084.\n",
      "[I 2024-08-27 10:46:25,516] Trial 36 finished with value: -0.40133314292721084 and parameters: {'epsilon': 0.1, 'C': 0.1}. Best is trial 1 with value: -0.40133314292721084.\n",
      "[I 2024-08-27 10:46:25,534] Trial 37 finished with value: -0.9211394332929295 and parameters: {'epsilon': 2, 'C': 0.001}. Best is trial 1 with value: -0.40133314292721084.\n",
      "[I 2024-08-27 10:46:25,588] Trial 38 finished with value: -0.4682130476485385 and parameters: {'epsilon': 0.01, 'C': 10}. Best is trial 1 with value: -0.40133314292721084.\n",
      "[I 2024-08-27 10:46:25,608] Trial 39 finished with value: -0.87389224826392 and parameters: {'epsilon': 1.0, 'C': 0.0001}. Best is trial 1 with value: -0.40133314292721084.\n",
      "[I 2024-08-27 10:46:25,643] Trial 40 finished with value: -0.4634950718227744 and parameters: {'epsilon': 0.1, 'C': 1.0}. Best is trial 1 with value: -0.40133314292721084.\n",
      "[I 2024-08-27 10:46:25,665] Trial 41 finished with value: -0.40133314292721084 and parameters: {'epsilon': 0.1, 'C': 0.1}. Best is trial 1 with value: -0.40133314292721084.\n",
      "[I 2024-08-27 10:46:25,694] Trial 42 finished with value: -0.40133314292721084 and parameters: {'epsilon': 0.1, 'C': 0.1}. Best is trial 1 with value: -0.40133314292721084.\n",
      "[I 2024-08-27 10:46:25,721] Trial 43 finished with value: -0.40133314292721084 and parameters: {'epsilon': 0.1, 'C': 0.1}. Best is trial 1 with value: -0.40133314292721084.\n",
      "[I 2024-08-27 10:46:25,745] Trial 44 finished with value: -0.40133314292721084 and parameters: {'epsilon': 0.1, 'C': 0.1}. Best is trial 1 with value: -0.40133314292721084.\n",
      "[I 2024-08-27 10:46:25,765] Trial 45 finished with value: -0.9188960359336699 and parameters: {'epsilon': 2, 'C': 0.01}. Best is trial 1 with value: -0.40133314292721084.\n",
      "[I 2024-08-27 10:46:26,676] Trial 46 finished with value: -0.477584771399591 and parameters: {'epsilon': 0.1, 'C': 100}. Best is trial 1 with value: -0.40133314292721084.\n"
     ]
    },
    {
     "name": "stderr",
     "output_type": "stream",
     "text": [
      "[I 2024-08-27 10:46:26,694] Trial 47 finished with value: -0.9234397903030418 and parameters: {'epsilon': 10, 'C': 10}. Best is trial 1 with value: -0.40133314292721084.\n",
      "[I 2024-08-27 10:46:26,736] Trial 48 finished with value: -0.4654468639817672 and parameters: {'epsilon': 0.01, 'C': 1.0}. Best is trial 1 with value: -0.40133314292721084.\n",
      "[I 2024-08-27 10:46:26,759] Trial 49 finished with value: -0.8109417161034558 and parameters: {'epsilon': 0.1, 'C': 0.001}. Best is trial 1 with value: -0.40133314292721084.\n",
      "[I 2024-08-27 10:46:26,785] Trial 50 finished with value: -0.40133314292721084 and parameters: {'epsilon': 0.1, 'C': 0.1}. Best is trial 1 with value: -0.40133314292721084.\n",
      "[I 2024-08-27 10:46:26,810] Trial 51 finished with value: -0.40133314292721084 and parameters: {'epsilon': 0.1, 'C': 0.1}. Best is trial 1 with value: -0.40133314292721084.\n",
      "[I 2024-08-27 10:46:26,836] Trial 52 finished with value: -0.40133314292721084 and parameters: {'epsilon': 0.1, 'C': 0.1}. Best is trial 1 with value: -0.40133314292721084.\n",
      "[I 2024-08-27 10:46:26,861] Trial 53 finished with value: -0.40133314292721084 and parameters: {'epsilon': 0.1, 'C': 0.1}. Best is trial 1 with value: -0.40133314292721084.\n",
      "[I 2024-08-27 10:46:26,888] Trial 54 finished with value: -0.8416346242984668 and parameters: {'epsilon': 0.1, 'C': 0.0001}. Best is trial 1 with value: -0.40133314292721084.\n",
      "[I 2024-08-27 10:46:26,912] Trial 55 finished with value: -0.875743328538011 and parameters: {'epsilon': 1.0, 'C': 1e-05}. Best is trial 1 with value: -0.40133314292721084.\n",
      "[I 2024-08-27 10:46:26,931] Trial 56 finished with value: -0.40133314292721084 and parameters: {'epsilon': 0.1, 'C': 0.1}. Best is trial 1 with value: -0.40133314292721084.\n",
      "[I 2024-08-27 10:46:26,962] Trial 57 finished with value: -0.40133314292721084 and parameters: {'epsilon': 0.1, 'C': 0.1}. Best is trial 1 with value: -0.40133314292721084.\n",
      "[I 2024-08-27 10:46:26,986] Trial 58 finished with value: -0.40133314292721084 and parameters: {'epsilon': 0.1, 'C': 0.1}. Best is trial 1 with value: -0.40133314292721084.\n",
      "[I 2024-08-27 10:46:26,994] Trial 59 finished with value: -0.9234397903030418 and parameters: {'epsilon': 10, 'C': 0.1}. Best is trial 1 with value: -0.40133314292721084.\n",
      "[I 2024-08-27 10:46:27,031] Trial 60 finished with value: -0.6506705677338357 and parameters: {'epsilon': 0.01, 'C': 0.01}. Best is trial 1 with value: -0.40133314292721084.\n",
      "[I 2024-08-27 10:46:27,056] Trial 61 finished with value: -0.40133314292721084 and parameters: {'epsilon': 0.1, 'C': 0.1}. Best is trial 1 with value: -0.40133314292721084.\n",
      "[I 2024-08-27 10:46:27,079] Trial 62 finished with value: -0.40133314292721084 and parameters: {'epsilon': 0.1, 'C': 0.1}. Best is trial 1 with value: -0.40133314292721084.\n",
      "[I 2024-08-27 10:46:27,100] Trial 63 finished with value: -0.40133314292721084 and parameters: {'epsilon': 0.1, 'C': 0.1}. Best is trial 1 with value: -0.40133314292721084.\n",
      "[I 2024-08-27 10:46:27,130] Trial 64 finished with value: -0.40133314292721084 and parameters: {'epsilon': 0.1, 'C': 0.1}. Best is trial 1 with value: -0.40133314292721084.\n",
      "[I 2024-08-27 10:46:27,154] Trial 65 finished with value: -0.40133314292721084 and parameters: {'epsilon': 0.1, 'C': 0.1}. Best is trial 1 with value: -0.40133314292721084.\n",
      "[I 2024-08-27 10:46:28,060] Trial 66 finished with value: -0.477584771399591 and parameters: {'epsilon': 0.1, 'C': 100}. Best is trial 1 with value: -0.40133314292721084.\n",
      "[I 2024-08-27 10:46:28,079] Trial 67 finished with value: -0.9234167867329408 and parameters: {'epsilon': 2, 'C': 1e-05}. Best is trial 1 with value: -0.40133314292721084.\n",
      "[I 2024-08-27 10:46:28,113] Trial 68 finished with value: -0.6226858013975085 and parameters: {'epsilon': 1.0, 'C': 10}. Best is trial 1 with value: -0.40133314292721084.\n",
      "[I 2024-08-27 10:46:28,139] Trial 69 finished with value: -0.8109417161034558 and parameters: {'epsilon': 0.1, 'C': 0.001}. Best is trial 1 with value: -0.40133314292721084.\n",
      "[I 2024-08-27 10:46:28,173] Trial 70 finished with value: -0.4634950718227744 and parameters: {'epsilon': 0.1, 'C': 1.0}. Best is trial 1 with value: -0.40133314292721084.\n",
      "[I 2024-08-27 10:46:28,199] Trial 71 finished with value: -0.40133314292721084 and parameters: {'epsilon': 0.1, 'C': 0.1}. Best is trial 1 with value: -0.40133314292721084.\n",
      "[I 2024-08-27 10:46:28,218] Trial 72 finished with value: -0.40133314292721084 and parameters: {'epsilon': 0.1, 'C': 0.1}. Best is trial 1 with value: -0.40133314292721084.\n",
      "[I 2024-08-27 10:46:28,250] Trial 73 finished with value: -0.40133314292721084 and parameters: {'epsilon': 0.1, 'C': 0.1}. Best is trial 1 with value: -0.40133314292721084.\n",
      "[I 2024-08-27 10:46:28,275] Trial 74 finished with value: -0.40133314292721084 and parameters: {'epsilon': 0.1, 'C': 0.1}. Best is trial 1 with value: -0.40133314292721084.\n",
      "[I 2024-08-27 10:46:28,299] Trial 75 finished with value: -0.8416346242984668 and parameters: {'epsilon': 0.1, 'C': 0.0001}. Best is trial 1 with value: -0.40133314292721084.\n",
      "[I 2024-08-27 10:46:28,316] Trial 76 finished with value: -0.9234397903030418 and parameters: {'epsilon': 10, 'C': 0.1}. Best is trial 1 with value: -0.40133314292721084.\n",
      "[I 2024-08-27 10:46:28,348] Trial 77 finished with value: -0.40133314292721084 and parameters: {'epsilon': 0.1, 'C': 0.1}. Best is trial 1 with value: -0.40133314292721084.\n",
      "[I 2024-08-27 10:46:28,373] Trial 78 finished with value: -0.41196170436851864 and parameters: {'epsilon': 0.01, 'C': 0.1}. Best is trial 1 with value: -0.40133314292721084.\n",
      "[I 2024-08-27 10:46:28,396] Trial 79 finished with value: -0.9188960359336699 and parameters: {'epsilon': 2, 'C': 0.1}. Best is trial 1 with value: -0.40133314292721084.\n",
      "[I 2024-08-27 10:46:28,417] Trial 80 finished with value: -0.6421390660484085 and parameters: {'epsilon': 0.1, 'C': 0.01}. Best is trial 1 with value: -0.40133314292721084.\n",
      "[I 2024-08-27 10:46:28,447] Trial 81 finished with value: -0.40133314292721084 and parameters: {'epsilon': 0.1, 'C': 0.1}. Best is trial 1 with value: -0.40133314292721084.\n",
      "[I 2024-08-27 10:46:28,472] Trial 82 finished with value: -0.40133314292721084 and parameters: {'epsilon': 0.1, 'C': 0.1}. Best is trial 1 with value: -0.40133314292721084.\n",
      "[I 2024-08-27 10:46:28,496] Trial 83 finished with value: -0.40133314292721084 and parameters: {'epsilon': 0.1, 'C': 0.1}. Best is trial 1 with value: -0.40133314292721084.\n",
      "[I 2024-08-27 10:46:28,515] Trial 84 finished with value: -0.40133314292721084 and parameters: {'epsilon': 0.1, 'C': 0.1}. Best is trial 1 with value: -0.40133314292721084.\n",
      "[I 2024-08-27 10:46:29,425] Trial 85 finished with value: -0.477584771399591 and parameters: {'epsilon': 0.1, 'C': 100}. Best is trial 1 with value: -0.40133314292721084.\n",
      "[I 2024-08-27 10:46:29,466] Trial 86 finished with value: -0.6201663252541044 and parameters: {'epsilon': 1.0, 'C': 0.1}. Best is trial 1 with value: -0.40133314292721084.\n",
      "[I 2024-08-27 10:46:29,588] Trial 87 finished with value: -0.47702625915869956 and parameters: {'epsilon': 0.1, 'C': 10}. Best is trial 1 with value: -0.40133314292721084.\n",
      "[I 2024-08-27 10:46:29,623] Trial 88 finished with value: -0.8109417161034558 and parameters: {'epsilon': 0.1, 'C': 0.001}. Best is trial 1 with value: -0.40133314292721084.\n",
      "[I 2024-08-27 10:46:29,648] Trial 89 finished with value: -0.40133314292721084 and parameters: {'epsilon': 0.1, 'C': 0.1}. Best is trial 1 with value: -0.40133314292721084.\n",
      "[I 2024-08-27 10:46:29,686] Trial 90 finished with value: -0.4634950718227744 and parameters: {'epsilon': 0.1, 'C': 1.0}. Best is trial 1 with value: -0.40133314292721084.\n",
      "[I 2024-08-27 10:46:29,713] Trial 91 finished with value: -0.40133314292721084 and parameters: {'epsilon': 0.1, 'C': 0.1}. Best is trial 1 with value: -0.40133314292721084.\n",
      "[I 2024-08-27 10:46:29,739] Trial 92 finished with value: -0.40133314292721084 and parameters: {'epsilon': 0.1, 'C': 0.1}. Best is trial 1 with value: -0.40133314292721084.\n",
      "[I 2024-08-27 10:46:29,763] Trial 93 finished with value: -0.40133314292721084 and parameters: {'epsilon': 0.1, 'C': 0.1}. Best is trial 1 with value: -0.40133314292721084.\n",
      "[I 2024-08-27 10:46:29,783] Trial 94 finished with value: -0.8459797813638457 and parameters: {'epsilon': 0.1, 'C': 1e-05}. Best is trial 1 with value: -0.40133314292721084.\n"
     ]
    },
    {
     "name": "stderr",
     "output_type": "stream",
     "text": [
      "[I 2024-08-27 10:46:29,815] Trial 95 finished with value: -0.40133314292721084 and parameters: {'epsilon': 0.1, 'C': 0.1}. Best is trial 1 with value: -0.40133314292721084.\n",
      "[I 2024-08-27 10:46:29,827] Trial 96 finished with value: -0.9234397903030418 and parameters: {'epsilon': 10, 'C': 0.0001}. Best is trial 1 with value: -0.40133314292721084.\n",
      "[I 2024-08-27 10:46:29,866] Trial 97 finished with value: -0.41196170436851864 and parameters: {'epsilon': 0.01, 'C': 0.1}. Best is trial 1 with value: -0.40133314292721084.\n",
      "[I 2024-08-27 10:46:29,876] Trial 98 finished with value: -0.9188960359336699 and parameters: {'epsilon': 2, 'C': 0.1}. Best is trial 1 with value: -0.40133314292721084.\n",
      "[I 2024-08-27 10:46:29,917] Trial 99 finished with value: -0.40133314292721084 and parameters: {'epsilon': 0.1, 'C': 0.1}. Best is trial 1 with value: -0.40133314292721084.\n",
      "[I 2024-08-27 10:46:29,943] Trial 100 finished with value: -0.40133314292721084 and parameters: {'epsilon': 0.1, 'C': 0.1}. Best is trial 1 with value: -0.40133314292721084.\n",
      "[I 2024-08-27 10:46:29,964] Trial 101 finished with value: -0.40133314292721084 and parameters: {'epsilon': 0.1, 'C': 0.1}. Best is trial 1 with value: -0.40133314292721084.\n",
      "[I 2024-08-27 10:46:29,996] Trial 102 finished with value: -0.40133314292721084 and parameters: {'epsilon': 0.1, 'C': 0.1}. Best is trial 1 with value: -0.40133314292721084.\n",
      "[I 2024-08-27 10:46:30,021] Trial 103 finished with value: -0.40133314292721084 and parameters: {'epsilon': 0.1, 'C': 0.1}. Best is trial 1 with value: -0.40133314292721084.\n",
      "[I 2024-08-27 10:46:30,048] Trial 104 finished with value: -0.40133314292721084 and parameters: {'epsilon': 0.1, 'C': 0.1}. Best is trial 1 with value: -0.40133314292721084.\n",
      "[I 2024-08-27 10:46:30,071] Trial 105 finished with value: -0.6421390660484085 and parameters: {'epsilon': 0.1, 'C': 0.01}. Best is trial 1 with value: -0.40133314292721084.\n",
      "[I 2024-08-27 10:46:30,097] Trial 106 finished with value: -0.6201663252541044 and parameters: {'epsilon': 1.0, 'C': 0.1}. Best is trial 1 with value: -0.40133314292721084.\n",
      "[I 2024-08-27 10:46:30,123] Trial 107 finished with value: -0.40133314292721084 and parameters: {'epsilon': 0.1, 'C': 0.1}. Best is trial 1 with value: -0.40133314292721084.\n",
      "[I 2024-08-27 10:46:31,027] Trial 108 finished with value: -0.477584771399591 and parameters: {'epsilon': 0.1, 'C': 100}. Best is trial 1 with value: -0.40133314292721084.\n",
      "[I 2024-08-27 10:46:31,065] Trial 109 finished with value: -0.40133314292721084 and parameters: {'epsilon': 0.1, 'C': 0.1}. Best is trial 1 with value: -0.40133314292721084.\n",
      "[I 2024-08-27 10:46:31,186] Trial 110 finished with value: -0.47702625915869956 and parameters: {'epsilon': 0.1, 'C': 10}. Best is trial 1 with value: -0.40133314292721084.\n",
      "[I 2024-08-27 10:46:31,227] Trial 111 finished with value: -0.40133314292721084 and parameters: {'epsilon': 0.1, 'C': 0.1}. Best is trial 1 with value: -0.40133314292721084.\n",
      "[I 2024-08-27 10:46:31,248] Trial 112 finished with value: -0.40133314292721084 and parameters: {'epsilon': 0.1, 'C': 0.1}. Best is trial 1 with value: -0.40133314292721084.\n",
      "[I 2024-08-27 10:46:31,278] Trial 113 finished with value: -0.40133314292721084 and parameters: {'epsilon': 0.1, 'C': 0.1}. Best is trial 1 with value: -0.40133314292721084.\n",
      "[I 2024-08-27 10:46:31,307] Trial 114 finished with value: -0.40133314292721084 and parameters: {'epsilon': 0.1, 'C': 0.1}. Best is trial 1 with value: -0.40133314292721084.\n",
      "[I 2024-08-27 10:46:31,330] Trial 115 finished with value: -0.9234397903030418 and parameters: {'epsilon': 10, 'C': 0.001}. Best is trial 1 with value: -0.40133314292721084.\n",
      "[I 2024-08-27 10:46:31,367] Trial 116 finished with value: -0.4634950718227744 and parameters: {'epsilon': 0.1, 'C': 1.0}. Best is trial 1 with value: -0.40133314292721084.\n",
      "[I 2024-08-27 10:46:31,392] Trial 117 finished with value: -0.8873012348247387 and parameters: {'epsilon': 0.01, 'C': 1e-05}. Best is trial 1 with value: -0.40133314292721084.\n",
      "[I 2024-08-27 10:46:31,418] Trial 118 finished with value: -0.40133314292721084 and parameters: {'epsilon': 0.1, 'C': 0.1}. Best is trial 1 with value: -0.40133314292721084.\n",
      "[I 2024-08-27 10:46:31,444] Trial 119 finished with value: -0.9188960359336699 and parameters: {'epsilon': 2, 'C': 0.1}. Best is trial 1 with value: -0.40133314292721084.\n",
      "[I 2024-08-27 10:46:31,470] Trial 120 finished with value: -0.8416346242984668 and parameters: {'epsilon': 0.1, 'C': 0.0001}. Best is trial 1 with value: -0.40133314292721084.\n",
      "[I 2024-08-27 10:46:31,498] Trial 121 finished with value: -0.40133314292721084 and parameters: {'epsilon': 0.1, 'C': 0.1}. Best is trial 1 with value: -0.40133314292721084.\n",
      "[I 2024-08-27 10:46:31,526] Trial 122 finished with value: -0.40133314292721084 and parameters: {'epsilon': 0.1, 'C': 0.1}. Best is trial 1 with value: -0.40133314292721084.\n",
      "[I 2024-08-27 10:46:31,553] Trial 123 finished with value: -0.40133314292721084 and parameters: {'epsilon': 0.1, 'C': 0.1}. Best is trial 1 with value: -0.40133314292721084.\n",
      "[I 2024-08-27 10:46:31,579] Trial 124 finished with value: -0.40133314292721084 and parameters: {'epsilon': 0.1, 'C': 0.1}. Best is trial 1 with value: -0.40133314292721084.\n",
      "[I 2024-08-27 10:46:31,608] Trial 125 finished with value: -0.40133314292721084 and parameters: {'epsilon': 0.1, 'C': 0.1}. Best is trial 1 with value: -0.40133314292721084.\n",
      "[I 2024-08-27 10:46:31,635] Trial 126 finished with value: -0.40133314292721084 and parameters: {'epsilon': 0.1, 'C': 0.1}. Best is trial 1 with value: -0.40133314292721084.\n",
      "[I 2024-08-27 10:46:31,663] Trial 127 finished with value: -0.40133314292721084 and parameters: {'epsilon': 0.1, 'C': 0.1}. Best is trial 1 with value: -0.40133314292721084.\n",
      "[I 2024-08-27 10:46:31,686] Trial 128 finished with value: -0.6201663252541044 and parameters: {'epsilon': 1.0, 'C': 0.1}. Best is trial 1 with value: -0.40133314292721084.\n",
      "[I 2024-08-27 10:46:31,716] Trial 129 finished with value: -0.40133314292721084 and parameters: {'epsilon': 0.1, 'C': 0.1}. Best is trial 1 with value: -0.40133314292721084.\n",
      "[I 2024-08-27 10:46:31,744] Trial 130 finished with value: -0.6421390660484085 and parameters: {'epsilon': 0.1, 'C': 0.01}. Best is trial 1 with value: -0.40133314292721084.\n",
      "[I 2024-08-27 10:46:31,769] Trial 131 finished with value: -0.40133314292721084 and parameters: {'epsilon': 0.1, 'C': 0.1}. Best is trial 1 with value: -0.40133314292721084.\n",
      "[I 2024-08-27 10:46:31,798] Trial 132 finished with value: -0.40133314292721084 and parameters: {'epsilon': 0.1, 'C': 0.1}. Best is trial 1 with value: -0.40133314292721084.\n",
      "[I 2024-08-27 10:46:31,825] Trial 133 finished with value: -0.40133314292721084 and parameters: {'epsilon': 0.1, 'C': 0.1}. Best is trial 1 with value: -0.40133314292721084.\n",
      "[I 2024-08-27 10:46:31,852] Trial 134 finished with value: -0.40133314292721084 and parameters: {'epsilon': 0.1, 'C': 0.1}. Best is trial 1 with value: -0.40133314292721084.\n",
      "[I 2024-08-27 10:46:31,878] Trial 135 finished with value: -0.40133314292721084 and parameters: {'epsilon': 0.1, 'C': 0.1}. Best is trial 1 with value: -0.40133314292721084.\n",
      "[I 2024-08-27 10:46:32,800] Trial 136 finished with value: -0.477584771399591 and parameters: {'epsilon': 0.1, 'C': 100}. Best is trial 1 with value: -0.40133314292721084.\n",
      "[I 2024-08-27 10:46:32,830] Trial 137 finished with value: -0.40133314292721084 and parameters: {'epsilon': 0.1, 'C': 0.1}. Best is trial 1 with value: -0.40133314292721084.\n",
      "[I 2024-08-27 10:46:32,858] Trial 138 finished with value: -0.9234397903030418 and parameters: {'epsilon': 10, 'C': 10}. Best is trial 1 with value: -0.40133314292721084.\n",
      "[I 2024-08-27 10:46:32,888] Trial 139 finished with value: -0.40133314292721084 and parameters: {'epsilon': 0.1, 'C': 0.1}. Best is trial 1 with value: -0.40133314292721084.\n",
      "[I 2024-08-27 10:46:32,918] Trial 140 finished with value: -0.8470799418046897 and parameters: {'epsilon': 0.01, 'C': 0.001}. Best is trial 1 with value: -0.40133314292721084.\n",
      "[I 2024-08-27 10:46:32,949] Trial 141 finished with value: -0.40133314292721084 and parameters: {'epsilon': 0.1, 'C': 0.1}. Best is trial 1 with value: -0.40133314292721084.\n",
      "[I 2024-08-27 10:46:32,979] Trial 142 finished with value: -0.40133314292721084 and parameters: {'epsilon': 0.1, 'C': 0.1}. Best is trial 1 with value: -0.40133314292721084.\n"
     ]
    },
    {
     "name": "stderr",
     "output_type": "stream",
     "text": [
      "[I 2024-08-27 10:46:33,009] Trial 143 finished with value: -0.40133314292721084 and parameters: {'epsilon': 0.1, 'C': 0.1}. Best is trial 1 with value: -0.40133314292721084.\n",
      "[I 2024-08-27 10:46:33,040] Trial 144 finished with value: -0.40133314292721084 and parameters: {'epsilon': 0.1, 'C': 0.1}. Best is trial 1 with value: -0.40133314292721084.\n",
      "[I 2024-08-27 10:46:33,083] Trial 145 finished with value: -0.4634950718227744 and parameters: {'epsilon': 0.1, 'C': 1.0}. Best is trial 1 with value: -0.40133314292721084.\n",
      "[I 2024-08-27 10:46:33,112] Trial 146 finished with value: -0.9188960359336699 and parameters: {'epsilon': 2, 'C': 0.1}. Best is trial 1 with value: -0.40133314292721084.\n",
      "[I 2024-08-27 10:46:33,141] Trial 147 finished with value: -0.8459797813638457 and parameters: {'epsilon': 0.1, 'C': 1e-05}. Best is trial 1 with value: -0.40133314292721084.\n",
      "[I 2024-08-27 10:46:33,169] Trial 148 finished with value: -0.40133314292721084 and parameters: {'epsilon': 0.1, 'C': 0.1}. Best is trial 1 with value: -0.40133314292721084.\n",
      "[I 2024-08-27 10:46:33,205] Trial 149 finished with value: -0.40133314292721084 and parameters: {'epsilon': 0.1, 'C': 0.1}. Best is trial 1 with value: -0.40133314292721084.\n",
      "[I 2024-08-27 10:46:33,234] Trial 150 finished with value: -0.8416346242984668 and parameters: {'epsilon': 0.1, 'C': 0.0001}. Best is trial 1 with value: -0.40133314292721084.\n",
      "[I 2024-08-27 10:46:33,263] Trial 151 finished with value: -0.40133314292721084 and parameters: {'epsilon': 0.1, 'C': 0.1}. Best is trial 1 with value: -0.40133314292721084.\n",
      "[I 2024-08-27 10:46:33,294] Trial 152 finished with value: -0.40133314292721084 and parameters: {'epsilon': 0.1, 'C': 0.1}. Best is trial 1 with value: -0.40133314292721084.\n",
      "[I 2024-08-27 10:46:33,321] Trial 153 finished with value: -0.40133314292721084 and parameters: {'epsilon': 0.1, 'C': 0.1}. Best is trial 1 with value: -0.40133314292721084.\n",
      "[I 2024-08-27 10:46:33,351] Trial 154 finished with value: -0.40133314292721084 and parameters: {'epsilon': 0.1, 'C': 0.1}. Best is trial 1 with value: -0.40133314292721084.\n",
      "[I 2024-08-27 10:46:33,381] Trial 155 finished with value: -0.40133314292721084 and parameters: {'epsilon': 0.1, 'C': 0.1}. Best is trial 1 with value: -0.40133314292721084.\n",
      "[I 2024-08-27 10:46:33,411] Trial 156 finished with value: -0.6201663252541044 and parameters: {'epsilon': 1.0, 'C': 0.1}. Best is trial 1 with value: -0.40133314292721084.\n",
      "[I 2024-08-27 10:46:33,433] Trial 157 finished with value: -0.40133314292721084 and parameters: {'epsilon': 0.1, 'C': 0.1}. Best is trial 1 with value: -0.40133314292721084.\n",
      "[I 2024-08-27 10:46:33,472] Trial 158 finished with value: -0.40133314292721084 and parameters: {'epsilon': 0.1, 'C': 0.1}. Best is trial 1 with value: -0.40133314292721084.\n",
      "[I 2024-08-27 10:46:33,501] Trial 159 finished with value: -0.40133314292721084 and parameters: {'epsilon': 0.1, 'C': 0.1}. Best is trial 1 with value: -0.40133314292721084.\n",
      "[I 2024-08-27 10:46:33,534] Trial 160 finished with value: -0.6421390660484085 and parameters: {'epsilon': 0.1, 'C': 0.01}. Best is trial 1 with value: -0.40133314292721084.\n",
      "[I 2024-08-27 10:46:33,563] Trial 161 finished with value: -0.40133314292721084 and parameters: {'epsilon': 0.1, 'C': 0.1}. Best is trial 1 with value: -0.40133314292721084.\n",
      "[I 2024-08-27 10:46:33,596] Trial 162 finished with value: -0.40133314292721084 and parameters: {'epsilon': 0.1, 'C': 0.1}. Best is trial 1 with value: -0.40133314292721084.\n",
      "[I 2024-08-27 10:46:33,623] Trial 163 finished with value: -0.40133314292721084 and parameters: {'epsilon': 0.1, 'C': 0.1}. Best is trial 1 with value: -0.40133314292721084.\n",
      "[I 2024-08-27 10:46:33,655] Trial 164 finished with value: -0.40133314292721084 and parameters: {'epsilon': 0.1, 'C': 0.1}. Best is trial 1 with value: -0.40133314292721084.\n",
      "[I 2024-08-27 10:46:33,680] Trial 165 finished with value: -0.40133314292721084 and parameters: {'epsilon': 0.1, 'C': 0.1}. Best is trial 1 with value: -0.40133314292721084.\n",
      "[I 2024-08-27 10:46:33,718] Trial 166 finished with value: -0.40133314292721084 and parameters: {'epsilon': 0.1, 'C': 0.1}. Best is trial 1 with value: -0.40133314292721084.\n",
      "[I 2024-08-27 10:46:33,746] Trial 167 finished with value: -0.9234397903030418 and parameters: {'epsilon': 10, 'C': 0.1}. Best is trial 1 with value: -0.40133314292721084.\n",
      "[I 2024-08-27 10:46:34,656] Trial 168 finished with value: -0.477584771399591 and parameters: {'epsilon': 0.1, 'C': 100}. Best is trial 1 with value: -0.40133314292721084.\n",
      "[I 2024-08-27 10:46:34,690] Trial 169 finished with value: -0.40133314292721084 and parameters: {'epsilon': 0.1, 'C': 0.1}. Best is trial 1 with value: -0.40133314292721084.\n",
      "[I 2024-08-27 10:46:34,716] Trial 170 finished with value: -0.41196170436851864 and parameters: {'epsilon': 0.01, 'C': 0.1}. Best is trial 1 with value: -0.40133314292721084.\n",
      "[I 2024-08-27 10:46:34,752] Trial 171 finished with value: -0.40133314292721084 and parameters: {'epsilon': 0.1, 'C': 0.1}. Best is trial 1 with value: -0.40133314292721084.\n",
      "[I 2024-08-27 10:46:34,779] Trial 172 finished with value: -0.40133314292721084 and parameters: {'epsilon': 0.1, 'C': 0.1}. Best is trial 1 with value: -0.40133314292721084.\n",
      "[I 2024-08-27 10:46:34,811] Trial 173 finished with value: -0.40133314292721084 and parameters: {'epsilon': 0.1, 'C': 0.1}. Best is trial 1 with value: -0.40133314292721084.\n",
      "[I 2024-08-27 10:46:34,938] Trial 174 finished with value: -0.47702625915869956 and parameters: {'epsilon': 0.1, 'C': 10}. Best is trial 1 with value: -0.40133314292721084.\n",
      "[I 2024-08-27 10:46:34,979] Trial 175 finished with value: -0.8109417161034558 and parameters: {'epsilon': 0.1, 'C': 0.001}. Best is trial 1 with value: -0.40133314292721084.\n",
      "[I 2024-08-27 10:46:35,002] Trial 176 finished with value: -0.9188960359336699 and parameters: {'epsilon': 2, 'C': 0.1}. Best is trial 1 with value: -0.40133314292721084.\n",
      "[I 2024-08-27 10:46:35,047] Trial 177 finished with value: -0.4634950718227744 and parameters: {'epsilon': 0.1, 'C': 1.0}. Best is trial 1 with value: -0.40133314292721084.\n",
      "[I 2024-08-27 10:46:35,068] Trial 178 finished with value: -0.40133314292721084 and parameters: {'epsilon': 0.1, 'C': 0.1}. Best is trial 1 with value: -0.40133314292721084.\n",
      "[I 2024-08-27 10:46:35,101] Trial 179 finished with value: -0.8459797813638457 and parameters: {'epsilon': 0.1, 'C': 1e-05}. Best is trial 1 with value: -0.40133314292721084.\n",
      "[I 2024-08-27 10:46:35,130] Trial 180 finished with value: -0.40133314292721084 and parameters: {'epsilon': 0.1, 'C': 0.1}. Best is trial 1 with value: -0.40133314292721084.\n",
      "[I 2024-08-27 10:46:35,159] Trial 181 finished with value: -0.40133314292721084 and parameters: {'epsilon': 0.1, 'C': 0.1}. Best is trial 1 with value: -0.40133314292721084.\n",
      "[I 2024-08-27 10:46:35,182] Trial 182 finished with value: -0.40133314292721084 and parameters: {'epsilon': 0.1, 'C': 0.1}. Best is trial 1 with value: -0.40133314292721084.\n",
      "[I 2024-08-27 10:46:35,214] Trial 183 finished with value: -0.40133314292721084 and parameters: {'epsilon': 0.1, 'C': 0.1}. Best is trial 1 with value: -0.40133314292721084.\n",
      "[I 2024-08-27 10:46:35,245] Trial 184 finished with value: -0.40133314292721084 and parameters: {'epsilon': 0.1, 'C': 0.1}. Best is trial 1 with value: -0.40133314292721084.\n",
      "[I 2024-08-27 10:46:35,275] Trial 185 finished with value: -0.40133314292721084 and parameters: {'epsilon': 0.1, 'C': 0.1}. Best is trial 1 with value: -0.40133314292721084.\n",
      "[I 2024-08-27 10:46:35,306] Trial 186 finished with value: -0.8416346242984668 and parameters: {'epsilon': 0.1, 'C': 0.0001}. Best is trial 1 with value: -0.40133314292721084.\n",
      "[I 2024-08-27 10:46:35,331] Trial 187 finished with value: -0.6201663252541044 and parameters: {'epsilon': 1.0, 'C': 0.1}. Best is trial 1 with value: -0.40133314292721084.\n",
      "[I 2024-08-27 10:46:35,360] Trial 188 finished with value: -0.40133314292721084 and parameters: {'epsilon': 0.1, 'C': 0.1}. Best is trial 1 with value: -0.40133314292721084.\n",
      "[I 2024-08-27 10:46:35,388] Trial 189 finished with value: -0.40133314292721084 and parameters: {'epsilon': 0.1, 'C': 0.1}. Best is trial 1 with value: -0.40133314292721084.\n",
      "[I 2024-08-27 10:46:35,420] Trial 190 finished with value: -0.40133314292721084 and parameters: {'epsilon': 0.1, 'C': 0.1}. Best is trial 1 with value: -0.40133314292721084.\n"
     ]
    },
    {
     "name": "stderr",
     "output_type": "stream",
     "text": [
      "[I 2024-08-27 10:46:35,447] Trial 191 finished with value: -0.40133314292721084 and parameters: {'epsilon': 0.1, 'C': 0.1}. Best is trial 1 with value: -0.40133314292721084.\n",
      "[I 2024-08-27 10:46:35,477] Trial 192 finished with value: -0.40133314292721084 and parameters: {'epsilon': 0.1, 'C': 0.1}. Best is trial 1 with value: -0.40133314292721084.\n",
      "[I 2024-08-27 10:46:35,498] Trial 193 finished with value: -0.40133314292721084 and parameters: {'epsilon': 0.1, 'C': 0.1}. Best is trial 1 with value: -0.40133314292721084.\n",
      "[I 2024-08-27 10:46:35,533] Trial 194 finished with value: -0.40133314292721084 and parameters: {'epsilon': 0.1, 'C': 0.1}. Best is trial 1 with value: -0.40133314292721084.\n",
      "[I 2024-08-27 10:46:35,562] Trial 195 finished with value: -0.40133314292721084 and parameters: {'epsilon': 0.1, 'C': 0.1}. Best is trial 1 with value: -0.40133314292721084.\n",
      "[I 2024-08-27 10:46:35,589] Trial 196 finished with value: -0.40133314292721084 and parameters: {'epsilon': 0.1, 'C': 0.1}. Best is trial 1 with value: -0.40133314292721084.\n",
      "[I 2024-08-27 10:46:35,614] Trial 197 finished with value: -0.6421390660484085 and parameters: {'epsilon': 0.1, 'C': 0.01}. Best is trial 1 with value: -0.40133314292721084.\n",
      "[I 2024-08-27 10:46:35,646] Trial 198 finished with value: -0.40133314292721084 and parameters: {'epsilon': 0.1, 'C': 0.1}. Best is trial 1 with value: -0.40133314292721084.\n",
      "[I 2024-08-27 10:46:35,674] Trial 199 finished with value: -0.40133314292721084 and parameters: {'epsilon': 0.1, 'C': 0.1}. Best is trial 1 with value: -0.40133314292721084.\n"
     ]
    }
   ],
   "source": [
    "# Create a study object and optimize the objective function\n",
    "study = optuna.create_study(direction='maximize')\n",
    "study.optimize(objective, n_trials=200)"
   ]
  },
  {
   "cell_type": "code",
   "execution_count": 16,
   "metadata": {},
   "outputs": [
    {
     "name": "stdout",
     "output_type": "stream",
     "text": [
      "Best hyperparameters:  {'epsilon': 0.1, 'C': 0.1}\n",
      "Best performance:  -0.40133314292721084\n"
     ]
    }
   ],
   "source": [
    "# Print the best set of hyperparameters\n",
    "print('Best hyperparameters: ', study.best_params)\n",
    "# Print the corresponding performance\n",
    "print('Best performance: ', study.best_value)"
   ]
  },
  {
   "cell_type": "code",
   "execution_count": 17,
   "metadata": {},
   "outputs": [],
   "source": [
    "best = study.best_params\n",
    "\n",
    "set_parameters = {'kernel':\"linear\",\n",
    "                  'C': best['C'],\n",
    "                  'epsilon':best['epsilon']}"
   ]
  },
  {
   "cell_type": "code",
   "execution_count": 18,
   "metadata": {},
   "outputs": [],
   "source": [
    "def mine_test(X,y, set_parameters= set_parameters): # testa o ajuste\n",
    "  rows=X.shape[0]\n",
    "  cols =X.shape[1]\n",
    "\n",
    "  y_pred   = []\n",
    "\n",
    "  for i in range(rows):\n",
    "    X_train = np.delete(X,i,axis=0)\n",
    "    y_train = np.delete(y,i,axis=0)\n",
    "    X_test  = X[i,:].reshape(1,cols)\n",
    "    y_test  = y[i]\n",
    "    model =  SVR(**set_parameters)\n",
    "    model = model.fit(X_train, y_train.reshape(-1,1))\n",
    "    yi = model.predict(X_test)\n",
    "    y_pred.append(yi)\n",
    "\n",
    "  y_pred = np.array(y_pred)\n",
    "\n",
    "  return y_pred"
   ]
  },
  {
   "cell_type": "code",
   "execution_count": 19,
   "metadata": {},
   "outputs": [],
   "source": [
    "y_pred = mine_test(X , y)\n",
    "y_true = y"
   ]
  },
  {
   "cell_type": "code",
   "execution_count": 20,
   "metadata": {},
   "outputs": [
    {
     "name": "stdout",
     "output_type": "stream",
     "text": [
      "mae : 0.40133314292721084\n",
      "rmse : 0.5280300554529093\n",
      "r-score : 0.7211842605383976\n"
     ]
    }
   ],
   "source": [
    "print('mae :', mean_absolute_error(y_true, y_pred))\n",
    "print('rmse :', root_mean_squared_error(y_true, y_pred))\n",
    "print('r-score :',r2_score(y_true, y_pred))"
   ]
  },
  {
   "cell_type": "code",
   "execution_count": 21,
   "metadata": {},
   "outputs": [
    {
     "name": "stdout",
     "output_type": "stream",
     "text": [
      "kernel linear\n",
      "C 0.1\n",
      "epsilon 0.1\n"
     ]
    }
   ],
   "source": [
    "for value in set_parameters:\n",
    "    print(value,set_parameters[value])"
   ]
  },
  {
   "cell_type": "code",
   "execution_count": null,
   "metadata": {},
   "outputs": [],
   "source": []
  }
 ],
 "metadata": {
  "colab": {
   "provenance": []
  },
  "kernelspec": {
   "display_name": "Python 3 (ipykernel)",
   "language": "python",
   "name": "python3"
  },
  "language_info": {
   "codemirror_mode": {
    "name": "ipython",
    "version": 3
   },
   "file_extension": ".py",
   "mimetype": "text/x-python",
   "name": "python",
   "nbconvert_exporter": "python",
   "pygments_lexer": "ipython3",
   "version": "3.12.7"
  }
 },
 "nbformat": 4,
 "nbformat_minor": 4
}
