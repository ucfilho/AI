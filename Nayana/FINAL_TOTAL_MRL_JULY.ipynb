{
 "cells": [
  {
   "cell_type": "code",
   "execution_count": 1,
   "metadata": {
    "id": "Pex7tA7T1Ou_"
   },
   "outputs": [],
   "source": [
    "import pandas as pd\n",
    "import numpy as np\n",
    "from sklearn import cluster, covariance, manifold\n",
    "import numpy as np\n",
    "from sklearn.metrics import r2_score\n",
    "import math\n",
    "import matplotlib.pyplot as plt\n",
    "import time\n",
    "import os"
   ]
  },
  {
   "cell_type": "code",
   "execution_count": 2,
   "metadata": {
    "id": "JkK8UlBBP9gq"
   },
   "outputs": [],
   "source": [
    "from sklearn.linear_model import LinearRegression\n",
    "from sklearn.preprocessing import MinMaxScaler\n",
    "from sklearn.svm import SVR\n",
    "from sklearn.feature_selection import RFECV"
   ]
  },
  {
   "cell_type": "code",
   "execution_count": 3,
   "metadata": {
    "id": "_-9TN1CUWkDx"
   },
   "outputs": [],
   "source": [
    "# import warnings\n",
    "import warnings\n",
    "warnings.filterwarnings(\"ignore\")"
   ]
  },
  {
   "cell_type": "code",
   "execution_count": 4,
   "metadata": {},
   "outputs": [],
   "source": [
    "from sklearn.metrics import mean_absolute_error\n",
    "from sklearn.metrics import root_mean_squared_error"
   ]
  },
  {
   "cell_type": "code",
   "execution_count": 5,
   "metadata": {},
   "outputs": [],
   "source": [
    "#!gdown 1ntRwkzL7SBkPIkf6nCpZG-xLmj8G_7su\n",
    "path = r'C:\\Users\\User\\Documents\\Atividades_andamento\\Nayana\\corrige_codigos'\n",
    "os.chdir(path)"
   ]
  },
  {
   "cell_type": "code",
   "execution_count": 8,
   "metadata": {
    "id": "XbYHyMAZ1RQN"
   },
   "outputs": [],
   "source": [
    "#df =pd.read_excel('custos_versao_jun_17_2023.xlsx')\n",
    "df =pd.read_excel(\"custos_versao_mar_14B_2024.xlsx\")\n",
    "df = df.drop(['Local','Barragens'],axis=1)\n",
    "names = df.columns"
   ]
  },
  {
   "cell_type": "code",
   "execution_count": 9,
   "metadata": {
    "colab": {
     "base_uri": "https://localhost:8080/"
    },
    "id": "FxZN4JzqTtMP",
    "outputId": "47900881-0bc1-4b64-c0e2-8b8ca358a36e"
   },
   "outputs": [],
   "source": [
    "clear = ['AdmSupInfra','SuppStudSur','PreCloseRevDet','WastePiles','OpenPitMine',\n",
    "         'IndustAreas','StorageAreas','PondsTanks','OverallCosts',\n",
    "         'PostCloseMonitor','PostCloseMain']\n",
    "df = df.drop(clear,axis=1) #apaga quantitativas de custo"
   ]
  },
  {
   "cell_type": "code",
   "execution_count": 10,
   "metadata": {
    "id": "FOSG76XJDqV5"
   },
   "outputs": [],
   "source": [
    "# df.drop(['Ano de fechamento da estrutura'],inplace=True,axis=1)"
   ]
  },
  {
   "cell_type": "code",
   "execution_count": 11,
   "metadata": {
    "colab": {
     "base_uri": "https://localhost:8080/"
    },
    "id": "xNLhbw5UQ1xS",
    "outputId": "971c39b6-823b-4479-8a9b-b0187937b980"
   },
   "outputs": [
    {
     "name": "stdout",
     "output_type": "stream",
     "text": [
      "FoSAccep\n",
      "FWorTeOP\n",
      "EroEO\n",
      "GeochAvai\n",
      "ContSoil\n",
      "ContGrouWat\n",
      "ContMat\n",
      "HealthRisk\n",
      "EcoRisck\n",
      "Plann\n",
      "RemovStruc\n",
      "RemoContSoil\n",
      "DevWater\n",
      "MatHand\n",
      "['FoSAccep', 'FWorTeOP', 'EroEO', 'GeochAvai', 'ContSoil', 'ContGrouWat', 'ContMat', 'HealthRisk', 'EcoRisck', 'Plann', 'RemovStruc', 'RemoContSoil', 'DevWater', 'MatHand']\n"
     ]
    }
   ],
   "source": [
    "k, list_ = 0, []\n",
    "for test in df.std()== 0:\n",
    "  if test == True:\n",
    "    list_.append(names[k])\n",
    "    print(names[k])\n",
    "  k = k + 1\n",
    "print(list_)"
   ]
  },
  {
   "cell_type": "code",
   "execution_count": 12,
   "metadata": {
    "colab": {
     "base_uri": "https://localhost:8080/"
    },
    "id": "lqiSd--GTduZ",
    "outputId": "2e97bb09-eda3-4b8d-e270-60d8d175642d"
   },
   "outputs": [
    {
     "data": {
      "text/plain": [
       "(33, 53)"
      ]
     },
     "execution_count": 12,
     "metadata": {},
     "output_type": "execute_result"
    }
   ],
   "source": [
    "df = df.drop(list_, axis=1)\n",
    "df.shape"
   ]
  },
  {
   "cell_type": "code",
   "execution_count": 13,
   "metadata": {
    "colab": {
     "base_uri": "https://localhost:8080/",
     "height": 384
    },
    "id": "03tQwvnkN8qc",
    "outputId": "d6309752-a6f3-40c5-e04c-5401a931cc36"
   },
   "outputs": [
    {
     "data": {
      "text/html": [
       "<div>\n",
       "<style scoped>\n",
       "    .dataframe tbody tr th:only-of-type {\n",
       "        vertical-align: middle;\n",
       "    }\n",
       "\n",
       "    .dataframe tbody tr th {\n",
       "        vertical-align: top;\n",
       "    }\n",
       "\n",
       "    .dataframe thead th {\n",
       "        text-align: right;\n",
       "    }\n",
       "</style>\n",
       "<table border=\"1\" class=\"dataframe\">\n",
       "  <thead>\n",
       "    <tr style=\"text-align: right;\">\n",
       "      <th></th>\n",
       "      <th>Dams</th>\n",
       "      <th>Area</th>\n",
       "      <th>Height</th>\n",
       "      <th>Volume</th>\n",
       "      <th>StruOper</th>\n",
       "      <th>Ano de encerramento da operação da estrutura?</th>\n",
       "      <th>AreaRec</th>\n",
       "      <th>GeoteAvai</th>\n",
       "      <th>TopAvai</th>\n",
       "      <th>SSEO</th>\n",
       "      <th>...</th>\n",
       "      <th>GeotecMon</th>\n",
       "      <th>DrainSysMon</th>\n",
       "      <th>ErosProcMon</th>\n",
       "      <th>GroundwaQMon</th>\n",
       "      <th>SurfWatQuaMon</th>\n",
       "      <th>VegetPerfMon</th>\n",
       "      <th>FaunaMon</th>\n",
       "      <th>DrainSysMain</th>\n",
       "      <th>ErosProcMain</th>\n",
       "      <th>RevegMain</th>\n",
       "    </tr>\n",
       "  </thead>\n",
       "  <tbody>\n",
       "    <tr>\n",
       "      <th>count</th>\n",
       "      <td>3.300000e+01</td>\n",
       "      <td>33.000000</td>\n",
       "      <td>33.000000</td>\n",
       "      <td>3.300000e+01</td>\n",
       "      <td>33.000000</td>\n",
       "      <td>33.000000</td>\n",
       "      <td>33.000000</td>\n",
       "      <td>33.000000</td>\n",
       "      <td>33.000000</td>\n",
       "      <td>33.000000</td>\n",
       "      <td>...</td>\n",
       "      <td>33.000000</td>\n",
       "      <td>33.000000</td>\n",
       "      <td>33.000000</td>\n",
       "      <td>33.000000</td>\n",
       "      <td>33.000000</td>\n",
       "      <td>33.000000</td>\n",
       "      <td>33.000000</td>\n",
       "      <td>33.000000</td>\n",
       "      <td>33.000000</td>\n",
       "      <td>33.000000</td>\n",
       "    </tr>\n",
       "    <tr>\n",
       "      <th>mean</th>\n",
       "      <td>3.956269e+06</td>\n",
       "      <td>127.121755</td>\n",
       "      <td>32.113939</td>\n",
       "      <td>2.987060e+07</td>\n",
       "      <td>0.666667</td>\n",
       "      <td>1981.121212</td>\n",
       "      <td>0.030303</td>\n",
       "      <td>0.757576</td>\n",
       "      <td>0.787879</td>\n",
       "      <td>0.939394</td>\n",
       "      <td>...</td>\n",
       "      <td>0.606061</td>\n",
       "      <td>0.909091</td>\n",
       "      <td>0.242424</td>\n",
       "      <td>0.878788</td>\n",
       "      <td>0.909091</td>\n",
       "      <td>0.909091</td>\n",
       "      <td>0.636364</td>\n",
       "      <td>0.818182</td>\n",
       "      <td>0.212121</td>\n",
       "      <td>0.878788</td>\n",
       "    </tr>\n",
       "    <tr>\n",
       "      <th>std</th>\n",
       "      <td>7.083735e+06</td>\n",
       "      <td>217.723367</td>\n",
       "      <td>28.556329</td>\n",
       "      <td>7.845397e+07</td>\n",
       "      <td>0.478714</td>\n",
       "      <td>356.498313</td>\n",
       "      <td>0.174078</td>\n",
       "      <td>0.435194</td>\n",
       "      <td>0.415149</td>\n",
       "      <td>0.242306</td>\n",
       "      <td>...</td>\n",
       "      <td>0.496198</td>\n",
       "      <td>0.291937</td>\n",
       "      <td>0.435194</td>\n",
       "      <td>0.331434</td>\n",
       "      <td>0.291937</td>\n",
       "      <td>0.291937</td>\n",
       "      <td>0.488504</td>\n",
       "      <td>0.391675</td>\n",
       "      <td>0.415149</td>\n",
       "      <td>0.331434</td>\n",
       "    </tr>\n",
       "    <tr>\n",
       "      <th>min</th>\n",
       "      <td>3.199770e+03</td>\n",
       "      <td>0.125400</td>\n",
       "      <td>1.000000</td>\n",
       "      <td>0.000000e+00</td>\n",
       "      <td>0.000000</td>\n",
       "      <td>0.000000</td>\n",
       "      <td>0.000000</td>\n",
       "      <td>0.000000</td>\n",
       "      <td>0.000000</td>\n",
       "      <td>0.000000</td>\n",
       "      <td>...</td>\n",
       "      <td>0.000000</td>\n",
       "      <td>0.000000</td>\n",
       "      <td>0.000000</td>\n",
       "      <td>0.000000</td>\n",
       "      <td>0.000000</td>\n",
       "      <td>0.000000</td>\n",
       "      <td>0.000000</td>\n",
       "      <td>0.000000</td>\n",
       "      <td>0.000000</td>\n",
       "      <td>0.000000</td>\n",
       "    </tr>\n",
       "    <tr>\n",
       "      <th>25%</th>\n",
       "      <td>1.155955e+05</td>\n",
       "      <td>3.500000</td>\n",
       "      <td>13.000000</td>\n",
       "      <td>3.361500e+04</td>\n",
       "      <td>0.000000</td>\n",
       "      <td>2026.000000</td>\n",
       "      <td>0.000000</td>\n",
       "      <td>1.000000</td>\n",
       "      <td>1.000000</td>\n",
       "      <td>1.000000</td>\n",
       "      <td>...</td>\n",
       "      <td>0.000000</td>\n",
       "      <td>1.000000</td>\n",
       "      <td>0.000000</td>\n",
       "      <td>1.000000</td>\n",
       "      <td>1.000000</td>\n",
       "      <td>1.000000</td>\n",
       "      <td>0.000000</td>\n",
       "      <td>1.000000</td>\n",
       "      <td>0.000000</td>\n",
       "      <td>1.000000</td>\n",
       "    </tr>\n",
       "    <tr>\n",
       "      <th>50%</th>\n",
       "      <td>1.294021e+06</td>\n",
       "      <td>30.000000</td>\n",
       "      <td>23.000000</td>\n",
       "      <td>1.300000e+06</td>\n",
       "      <td>1.000000</td>\n",
       "      <td>2035.000000</td>\n",
       "      <td>0.000000</td>\n",
       "      <td>1.000000</td>\n",
       "      <td>1.000000</td>\n",
       "      <td>1.000000</td>\n",
       "      <td>...</td>\n",
       "      <td>1.000000</td>\n",
       "      <td>1.000000</td>\n",
       "      <td>0.000000</td>\n",
       "      <td>1.000000</td>\n",
       "      <td>1.000000</td>\n",
       "      <td>1.000000</td>\n",
       "      <td>1.000000</td>\n",
       "      <td>1.000000</td>\n",
       "      <td>0.000000</td>\n",
       "      <td>1.000000</td>\n",
       "    </tr>\n",
       "    <tr>\n",
       "      <th>75%</th>\n",
       "      <td>3.857935e+06</td>\n",
       "      <td>108.700000</td>\n",
       "      <td>53.560000</td>\n",
       "      <td>1.200000e+07</td>\n",
       "      <td>1.000000</td>\n",
       "      <td>2060.000000</td>\n",
       "      <td>0.000000</td>\n",
       "      <td>1.000000</td>\n",
       "      <td>1.000000</td>\n",
       "      <td>1.000000</td>\n",
       "      <td>...</td>\n",
       "      <td>1.000000</td>\n",
       "      <td>1.000000</td>\n",
       "      <td>0.000000</td>\n",
       "      <td>1.000000</td>\n",
       "      <td>1.000000</td>\n",
       "      <td>1.000000</td>\n",
       "      <td>1.000000</td>\n",
       "      <td>1.000000</td>\n",
       "      <td>0.000000</td>\n",
       "      <td>1.000000</td>\n",
       "    </tr>\n",
       "    <tr>\n",
       "      <th>max</th>\n",
       "      <td>3.093551e+07</td>\n",
       "      <td>856.000000</td>\n",
       "      <td>110.000000</td>\n",
       "      <td>3.440000e+08</td>\n",
       "      <td>1.000000</td>\n",
       "      <td>2098.000000</td>\n",
       "      <td>1.000000</td>\n",
       "      <td>1.000000</td>\n",
       "      <td>1.000000</td>\n",
       "      <td>1.000000</td>\n",
       "      <td>...</td>\n",
       "      <td>1.000000</td>\n",
       "      <td>1.000000</td>\n",
       "      <td>1.000000</td>\n",
       "      <td>1.000000</td>\n",
       "      <td>1.000000</td>\n",
       "      <td>1.000000</td>\n",
       "      <td>1.000000</td>\n",
       "      <td>1.000000</td>\n",
       "      <td>1.000000</td>\n",
       "      <td>1.000000</td>\n",
       "    </tr>\n",
       "  </tbody>\n",
       "</table>\n",
       "<p>8 rows × 53 columns</p>\n",
       "</div>"
      ],
      "text/plain": [
       "               Dams        Area      Height        Volume   StruOper  \\\n",
       "count  3.300000e+01   33.000000   33.000000  3.300000e+01  33.000000   \n",
       "mean   3.956269e+06  127.121755   32.113939  2.987060e+07   0.666667   \n",
       "std    7.083735e+06  217.723367   28.556329  7.845397e+07   0.478714   \n",
       "min    3.199770e+03    0.125400    1.000000  0.000000e+00   0.000000   \n",
       "25%    1.155955e+05    3.500000   13.000000  3.361500e+04   0.000000   \n",
       "50%    1.294021e+06   30.000000   23.000000  1.300000e+06   1.000000   \n",
       "75%    3.857935e+06  108.700000   53.560000  1.200000e+07   1.000000   \n",
       "max    3.093551e+07  856.000000  110.000000  3.440000e+08   1.000000   \n",
       "\n",
       "       Ano de encerramento da operação da estrutura?    AreaRec  GeoteAvai  \\\n",
       "count                                      33.000000  33.000000  33.000000   \n",
       "mean                                     1981.121212   0.030303   0.757576   \n",
       "std                                       356.498313   0.174078   0.435194   \n",
       "min                                         0.000000   0.000000   0.000000   \n",
       "25%                                      2026.000000   0.000000   1.000000   \n",
       "50%                                      2035.000000   0.000000   1.000000   \n",
       "75%                                      2060.000000   0.000000   1.000000   \n",
       "max                                      2098.000000   1.000000   1.000000   \n",
       "\n",
       "         TopAvai       SSEO  ...  GeotecMon  DrainSysMon  ErosProcMon  \\\n",
       "count  33.000000  33.000000  ...  33.000000    33.000000    33.000000   \n",
       "mean    0.787879   0.939394  ...   0.606061     0.909091     0.242424   \n",
       "std     0.415149   0.242306  ...   0.496198     0.291937     0.435194   \n",
       "min     0.000000   0.000000  ...   0.000000     0.000000     0.000000   \n",
       "25%     1.000000   1.000000  ...   0.000000     1.000000     0.000000   \n",
       "50%     1.000000   1.000000  ...   1.000000     1.000000     0.000000   \n",
       "75%     1.000000   1.000000  ...   1.000000     1.000000     0.000000   \n",
       "max     1.000000   1.000000  ...   1.000000     1.000000     1.000000   \n",
       "\n",
       "       GroundwaQMon  SurfWatQuaMon  VegetPerfMon   FaunaMon  DrainSysMain  \\\n",
       "count     33.000000      33.000000     33.000000  33.000000     33.000000   \n",
       "mean       0.878788       0.909091      0.909091   0.636364      0.818182   \n",
       "std        0.331434       0.291937      0.291937   0.488504      0.391675   \n",
       "min        0.000000       0.000000      0.000000   0.000000      0.000000   \n",
       "25%        1.000000       1.000000      1.000000   0.000000      1.000000   \n",
       "50%        1.000000       1.000000      1.000000   1.000000      1.000000   \n",
       "75%        1.000000       1.000000      1.000000   1.000000      1.000000   \n",
       "max        1.000000       1.000000      1.000000   1.000000      1.000000   \n",
       "\n",
       "       ErosProcMain  RevegMain  \n",
       "count     33.000000  33.000000  \n",
       "mean       0.212121   0.878788  \n",
       "std        0.415149   0.331434  \n",
       "min        0.000000   0.000000  \n",
       "25%        0.000000   1.000000  \n",
       "50%        0.000000   1.000000  \n",
       "75%        0.000000   1.000000  \n",
       "max        1.000000   1.000000  \n",
       "\n",
       "[8 rows x 53 columns]"
      ]
     },
     "execution_count": 13,
     "metadata": {},
     "output_type": "execute_result"
    }
   ],
   "source": [
    "df.describe()"
   ]
  },
  {
   "cell_type": "code",
   "execution_count": 14,
   "metadata": {
    "id": "rOs3zWa7Q7Ci"
   },
   "outputs": [],
   "source": [
    "word ='Custo_barragem' \n",
    "word = 'Dams'\n",
    "X = df.drop([word],axis=1)\n",
    "#y = df[word]\n",
    "y = np.log10(df[word])"
   ]
  },
  {
   "cell_type": "markdown",
   "metadata": {
    "id": "hEXjmMJ-15pj"
   },
   "source": [
    "## MLR\n",
    "\n"
   ]
  },
  {
   "cell_type": "code",
   "execution_count": 15,
   "metadata": {
    "id": "S23l6zOU8hOC"
   },
   "outputs": [],
   "source": [
    "from sklearn.preprocessing import MinMaxScaler\n",
    "\n",
    "X_norm = MinMaxScaler().fit_transform(X)\n",
    "escalor = MinMaxScaler()\n",
    "y_norm = escalor.fit_transform(y.values.reshape(-1,1))"
   ]
  },
  {
   "cell_type": "code",
   "execution_count": 16,
   "metadata": {
    "colab": {
     "base_uri": "https://localhost:8080/"
    },
    "id": "mYVxJYM1SFyo",
    "outputId": "d53ad430-2092-435e-d4dc-7087312e374b"
   },
   "outputs": [],
   "source": [
    "estimator= LinearRegression()\n",
    "selector = RFECV(estimator, cv=5,step=5, scoring='r2', min_features_to_select = 8)\n",
    "selector = selector.fit(X_norm, y_norm)"
   ]
  },
  {
   "cell_type": "code",
   "execution_count": 17,
   "metadata": {
    "colab": {
     "base_uri": "https://localhost:8080/"
    },
    "id": "VRiLYQ8SzETJ",
    "outputId": "5173f797-055a-4a66-f1bc-c9368f19d318"
   },
   "outputs": [],
   "source": [
    "#print(selector.support_)\n",
    "#print(selector.ranking_)"
   ]
  },
  {
   "cell_type": "code",
   "execution_count": 18,
   "metadata": {
    "colab": {
     "base_uri": "https://localhost:8080/"
    },
    "id": "BZqZMX9azGYo",
    "outputId": "9d7a3377-26f9-490a-9192-509b4f579fce"
   },
   "outputs": [
    {
     "name": "stdout",
     "output_type": "stream",
     "text": [
      "True --- AreaRec\n",
      "True --- SSEO\n",
      "True --- SedDredg\n",
      "True --- TulipPlu\n",
      "True --- OthClosAct\n",
      "True --- GeotecMon\n",
      "True --- GroundwaQMon\n",
      "True --- FaunaMon\n"
     ]
    }
   ],
   "source": [
    "svm_var =[]\n",
    "for test, w in zip(selector.support_,X.columns):\n",
    "  if test == True:\n",
    "    print(test,'---',w)\n",
    "    svm_var.append(w)"
   ]
  },
  {
   "cell_type": "code",
   "execution_count": 19,
   "metadata": {},
   "outputs": [
    {
     "data": {
      "text/plain": [
       "array([[-6.03919634e+00,  3.85076331e+00, -2.48076031e+01,\n",
       "        -1.04067981e-01, -3.07836403e+01, -2.95203303e+01,\n",
       "         2.28090595e+01, -1.08850195e+01, -6.41164917e+00,\n",
       "         1.69818820e+01,  1.35606354e+01, -1.50344022e+00,\n",
       "        -1.37419520e-11,  2.23860263e+00,  1.89489535e-11,\n",
       "         3.14215320e-12, -2.55795385e-12,  3.36086714e-12,\n",
       "         1.14984889e+00, -8.17124146e-14, -1.63092544e+01,\n",
       "        -7.99360578e-15, -3.07182010e+00, -1.01791151e+01,\n",
       "         3.28744295e+01, -2.62514906e+01,  6.41164917e+00,\n",
       "         7.56149807e+00,  1.77635684e-14, -2.13162821e-14,\n",
       "        -2.08295610e+01, -3.31891491e+01,  2.53171772e+00,\n",
       "        -1.24112487e+01, -5.78710477e+00,  0.00000000e+00,\n",
       "        -9.29941100e-01,  1.35814162e-01, -1.77392417e+01,\n",
       "         1.33511280e+01, -1.18826264e+01,  2.31167949e+01,\n",
       "         2.51687278e+01,  5.79757945e+00, -7.36005555e+00,\n",
       "         1.92984278e+01, -3.00496973e+01, -6.18783223e+00,\n",
       "         6.88487971e+00, -3.90252785e-01, -1.03179921e+01,\n",
       "         2.38833529e+01]])"
      ]
     },
     "execution_count": 19,
     "metadata": {},
     "output_type": "execute_result"
    }
   ],
   "source": [
    "estimator.fit(X_norm, y_norm)\n",
    "#estimator.coef_"
   ]
  },
  {
   "cell_type": "code",
   "execution_count": 20,
   "metadata": {},
   "outputs": [],
   "source": [
    "coef = estimator.coef_.ravel()\n",
    "var = []\n",
    "k = 0\n",
    "for test, w in zip(selector.support_,X.columns):\n",
    "  if test == True:\n",
    "    values = [w,np.abs(coef[k])]\n",
    "    var.append(values)\n",
    "    k += 1"
   ]
  },
  {
   "cell_type": "code",
   "execution_count": 21,
   "metadata": {},
   "outputs": [
    {
     "data": {
      "text/plain": [
       "array(['SSEO', 'AreaRec', 'FaunaMon', 'GroundwaQMon', 'SedDredg',\n",
       "       'GeotecMon', 'OthClosAct'], dtype=object)"
      ]
     },
     "execution_count": 21,
     "metadata": {},
     "output_type": "execute_result"
    }
   ],
   "source": [
    "var = pd.DataFrame(var)\n",
    "var.columns = ['variable','coef_abs']\n",
    "var.sort_values(by='coef_abs',inplace=True)\n",
    "var.reset_index(drop=True, inplace= True)\n",
    "names = var.tail(7).variable.values\n",
    "names"
   ]
  },
  {
   "cell_type": "code",
   "execution_count": 22,
   "metadata": {},
   "outputs": [
    {
     "data": {
      "text/html": [
       "<div>\n",
       "<style scoped>\n",
       "    .dataframe tbody tr th:only-of-type {\n",
       "        vertical-align: middle;\n",
       "    }\n",
       "\n",
       "    .dataframe tbody tr th {\n",
       "        vertical-align: top;\n",
       "    }\n",
       "\n",
       "    .dataframe thead th {\n",
       "        text-align: right;\n",
       "    }\n",
       "</style>\n",
       "<table border=\"1\" class=\"dataframe\">\n",
       "  <thead>\n",
       "    <tr style=\"text-align: right;\">\n",
       "      <th></th>\n",
       "      <th>variable</th>\n",
       "      <th>coef_abs</th>\n",
       "    </tr>\n",
       "  </thead>\n",
       "  <tbody>\n",
       "    <tr>\n",
       "      <th>0</th>\n",
       "      <td>TulipPlu</td>\n",
       "      <td>0.104068</td>\n",
       "    </tr>\n",
       "    <tr>\n",
       "      <th>1</th>\n",
       "      <td>SSEO</td>\n",
       "      <td>3.850763</td>\n",
       "    </tr>\n",
       "    <tr>\n",
       "      <th>2</th>\n",
       "      <td>AreaRec</td>\n",
       "      <td>6.039196</td>\n",
       "    </tr>\n",
       "    <tr>\n",
       "      <th>3</th>\n",
       "      <td>FaunaMon</td>\n",
       "      <td>10.885019</td>\n",
       "    </tr>\n",
       "    <tr>\n",
       "      <th>4</th>\n",
       "      <td>GroundwaQMon</td>\n",
       "      <td>22.809060</td>\n",
       "    </tr>\n",
       "    <tr>\n",
       "      <th>5</th>\n",
       "      <td>SedDredg</td>\n",
       "      <td>24.807603</td>\n",
       "    </tr>\n",
       "    <tr>\n",
       "      <th>6</th>\n",
       "      <td>GeotecMon</td>\n",
       "      <td>29.520330</td>\n",
       "    </tr>\n",
       "    <tr>\n",
       "      <th>7</th>\n",
       "      <td>OthClosAct</td>\n",
       "      <td>30.783640</td>\n",
       "    </tr>\n",
       "  </tbody>\n",
       "</table>\n",
       "</div>"
      ],
      "text/plain": [
       "       variable   coef_abs\n",
       "0      TulipPlu   0.104068\n",
       "1          SSEO   3.850763\n",
       "2       AreaRec   6.039196\n",
       "3      FaunaMon  10.885019\n",
       "4  GroundwaQMon  22.809060\n",
       "5      SedDredg  24.807603\n",
       "6     GeotecMon  29.520330\n",
       "7    OthClosAct  30.783640"
      ]
     },
     "execution_count": 22,
     "metadata": {},
     "output_type": "execute_result"
    }
   ],
   "source": [
    "var"
   ]
  },
  {
   "cell_type": "code",
   "execution_count": 23,
   "metadata": {
    "id": "S8OMGkXiB8Wl"
   },
   "outputs": [],
   "source": [
    "X_svm = X[svm_var]"
   ]
  },
  {
   "cell_type": "code",
   "execution_count": 24,
   "metadata": {
    "id": "sWEWVWEaCWfA"
   },
   "outputs": [],
   "source": [
    "X_norm_svm = MinMaxScaler().fit_transform(X_svm)"
   ]
  },
  {
   "cell_type": "code",
   "execution_count": 25,
   "metadata": {
    "id": "BkNteNkyChFa"
   },
   "outputs": [],
   "source": [
    "#X_norm_svm"
   ]
  },
  {
   "cell_type": "code",
   "execution_count": 26,
   "metadata": {
    "id": "LgpNr7FwtTTT"
   },
   "outputs": [],
   "source": [
    "def mine_test(X,y): # testa o ajuste\n",
    "  rows=X.shape[0]\n",
    "  cols =X.shape[1]\n",
    "\n",
    "  y_pred   = []\n",
    "\n",
    "  for i in range(rows):\n",
    "    X_train = np.delete(X,i,axis=0)\n",
    "    y_train = np.delete(y,i,axis=0)\n",
    "    X_test  = X[i,:].reshape(1,cols)\n",
    "    y_test  = y[i]\n",
    "    model = LinearRegression()\n",
    "    model = model.fit(X_train, y_train.reshape(-1,1))\n",
    "    yi = model.predict(X_test)\n",
    "    y_pred.append(yi)\n",
    "\n",
    "  y_pred = np.array(y_pred)\n",
    "\n",
    "  return y_pred\n"
   ]
  },
  {
   "cell_type": "code",
   "execution_count": 27,
   "metadata": {
    "colab": {
     "base_uri": "https://localhost:8080/"
    },
    "id": "Salp_KzzvXrh",
    "outputId": "3cb0fd17-ab91-49a0-ac4d-f6f945722307"
   },
   "outputs": [],
   "source": [
    "y_calc = mine_test(X_norm_svm, y_norm)"
   ]
  },
  {
   "cell_type": "code",
   "execution_count": 28,
   "metadata": {
    "colab": {
     "base_uri": "https://localhost:8080/"
    },
    "id": "50ig0838Btcl",
    "outputId": "480b75a8-2eff-4e9e-839c-c931fc7db9ea"
   },
   "outputs": [
    {
     "name": "stdout",
     "output_type": "stream",
     "text": [
      "0.4510707618879414\n"
     ]
    }
   ],
   "source": [
    "r_scored = r2_score(y_calc.ravel(),y_norm.ravel())\n",
    "print(r_scored)"
   ]
  },
  {
   "cell_type": "code",
   "execution_count": 29,
   "metadata": {},
   "outputs": [],
   "source": [
    "y_pred = escalor.inverse_transform(y_calc.ravel().reshape(-1,1))\n",
    "y_true = np.array(y)"
   ]
  },
  {
   "cell_type": "code",
   "execution_count": 30,
   "metadata": {},
   "outputs": [],
   "source": [
    "#y_pred,y_true"
   ]
  },
  {
   "cell_type": "code",
   "execution_count": 31,
   "metadata": {},
   "outputs": [
    {
     "name": "stdout",
     "output_type": "stream",
     "text": [
      "mae : 0.5249964561443451\n",
      "rmse : 0.6559697068453653\n"
     ]
    }
   ],
   "source": [
    "print('mae :', mean_absolute_error(y_true, y_pred))\n",
    "print('rmse :', root_mean_squared_error(y_true, y_pred))"
   ]
  },
  {
   "cell_type": "code",
   "execution_count": 32,
   "metadata": {},
   "outputs": [],
   "source": [
    "restricted = ['Area',\n",
    " 'altura',\n",
    " 'volume',\n",
    " 'mina',\n",
    " 'Ano de encerramento da operação da estrutura',\n",
    " 'Estrutura estável ao final da operação?',\n",
    " 'Água subterrânea contaminada?',\n",
    " 'Retaludamento',\n",
    " 'Construção de vertedouro',\n",
    " 'Focos erosivos.1']\n",
    "\n",
    "restricted = list(names)"
   ]
  },
  {
   "cell_type": "code",
   "execution_count": 33,
   "metadata": {},
   "outputs": [],
   "source": [
    "X_restricted = X[restricted]\n",
    "X_norm = MinMaxScaler().fit_transform(X_restricted)\n",
    "y_norm = MinMaxScaler().fit_transform(y.values.reshape(-1,1))"
   ]
  },
  {
   "cell_type": "code",
   "execution_count": 34,
   "metadata": {},
   "outputs": [],
   "source": [
    "X_norm_svm = MinMaxScaler().fit_transform(X_restricted)"
   ]
  },
  {
   "cell_type": "code",
   "execution_count": 35,
   "metadata": {},
   "outputs": [],
   "source": [
    "y_calc = mine_test(X_norm_svm, y_norm)"
   ]
  },
  {
   "cell_type": "code",
   "execution_count": 36,
   "metadata": {},
   "outputs": [
    {
     "name": "stdout",
     "output_type": "stream",
     "text": [
      "0.41886062149803427\n"
     ]
    }
   ],
   "source": [
    "r_scored = r2_score(y_calc.ravel(),y_norm.ravel())\n",
    "print(r_scored)"
   ]
  },
  {
   "cell_type": "code",
   "execution_count": 37,
   "metadata": {},
   "outputs": [],
   "source": [
    "y_pred = escalor.inverse_transform(y_calc.ravel().reshape(-1,1))\n",
    "y_true = np.array(y)"
   ]
  },
  {
   "cell_type": "code",
   "execution_count": 38,
   "metadata": {},
   "outputs": [
    {
     "name": "stdout",
     "output_type": "stream",
     "text": [
      "mae : 0.5307544210868917\n",
      "rmse : 0.653945549096946\n"
     ]
    }
   ],
   "source": [
    "print('mae :', mean_absolute_error(y_true, y_pred))\n",
    "print('rmse :', root_mean_squared_error(y_true, y_pred))"
   ]
  },
  {
   "cell_type": "code",
   "execution_count": 39,
   "metadata": {},
   "outputs": [
    {
     "data": {
      "text/html": [
       "<div>\n",
       "<style scoped>\n",
       "    .dataframe tbody tr th:only-of-type {\n",
       "        vertical-align: middle;\n",
       "    }\n",
       "\n",
       "    .dataframe tbody tr th {\n",
       "        vertical-align: top;\n",
       "    }\n",
       "\n",
       "    .dataframe thead th {\n",
       "        text-align: right;\n",
       "    }\n",
       "</style>\n",
       "<table border=\"1\" class=\"dataframe\">\n",
       "  <thead>\n",
       "    <tr style=\"text-align: right;\">\n",
       "      <th></th>\n",
       "      <th>SSEO</th>\n",
       "      <th>AreaRec</th>\n",
       "      <th>FaunaMon</th>\n",
       "      <th>GroundwaQMon</th>\n",
       "      <th>SedDredg</th>\n",
       "      <th>GeotecMon</th>\n",
       "      <th>OthClosAct</th>\n",
       "    </tr>\n",
       "  </thead>\n",
       "  <tbody>\n",
       "    <tr>\n",
       "      <th>0</th>\n",
       "      <td>0</td>\n",
       "      <td>0</td>\n",
       "      <td>0</td>\n",
       "      <td>1</td>\n",
       "      <td>0</td>\n",
       "      <td>1</td>\n",
       "      <td>1</td>\n",
       "    </tr>\n",
       "    <tr>\n",
       "      <th>1</th>\n",
       "      <td>0</td>\n",
       "      <td>0</td>\n",
       "      <td>0</td>\n",
       "      <td>1</td>\n",
       "      <td>0</td>\n",
       "      <td>1</td>\n",
       "      <td>1</td>\n",
       "    </tr>\n",
       "    <tr>\n",
       "      <th>2</th>\n",
       "      <td>1</td>\n",
       "      <td>0</td>\n",
       "      <td>0</td>\n",
       "      <td>1</td>\n",
       "      <td>0</td>\n",
       "      <td>1</td>\n",
       "      <td>1</td>\n",
       "    </tr>\n",
       "    <tr>\n",
       "      <th>3</th>\n",
       "      <td>1</td>\n",
       "      <td>0</td>\n",
       "      <td>0</td>\n",
       "      <td>1</td>\n",
       "      <td>0</td>\n",
       "      <td>1</td>\n",
       "      <td>0</td>\n",
       "    </tr>\n",
       "    <tr>\n",
       "      <th>4</th>\n",
       "      <td>1</td>\n",
       "      <td>0</td>\n",
       "      <td>0</td>\n",
       "      <td>0</td>\n",
       "      <td>0</td>\n",
       "      <td>1</td>\n",
       "      <td>1</td>\n",
       "    </tr>\n",
       "    <tr>\n",
       "      <th>5</th>\n",
       "      <td>1</td>\n",
       "      <td>0</td>\n",
       "      <td>0</td>\n",
       "      <td>0</td>\n",
       "      <td>0</td>\n",
       "      <td>1</td>\n",
       "      <td>1</td>\n",
       "    </tr>\n",
       "    <tr>\n",
       "      <th>6</th>\n",
       "      <td>1</td>\n",
       "      <td>0</td>\n",
       "      <td>0</td>\n",
       "      <td>0</td>\n",
       "      <td>0</td>\n",
       "      <td>1</td>\n",
       "      <td>1</td>\n",
       "    </tr>\n",
       "    <tr>\n",
       "      <th>7</th>\n",
       "      <td>1</td>\n",
       "      <td>0</td>\n",
       "      <td>1</td>\n",
       "      <td>0</td>\n",
       "      <td>0</td>\n",
       "      <td>0</td>\n",
       "      <td>0</td>\n",
       "    </tr>\n",
       "    <tr>\n",
       "      <th>8</th>\n",
       "      <td>1</td>\n",
       "      <td>0</td>\n",
       "      <td>1</td>\n",
       "      <td>1</td>\n",
       "      <td>0</td>\n",
       "      <td>1</td>\n",
       "      <td>0</td>\n",
       "    </tr>\n",
       "    <tr>\n",
       "      <th>9</th>\n",
       "      <td>1</td>\n",
       "      <td>0</td>\n",
       "      <td>1</td>\n",
       "      <td>1</td>\n",
       "      <td>0</td>\n",
       "      <td>1</td>\n",
       "      <td>0</td>\n",
       "    </tr>\n",
       "    <tr>\n",
       "      <th>10</th>\n",
       "      <td>1</td>\n",
       "      <td>0</td>\n",
       "      <td>1</td>\n",
       "      <td>1</td>\n",
       "      <td>0</td>\n",
       "      <td>0</td>\n",
       "      <td>0</td>\n",
       "    </tr>\n",
       "    <tr>\n",
       "      <th>11</th>\n",
       "      <td>1</td>\n",
       "      <td>0</td>\n",
       "      <td>1</td>\n",
       "      <td>1</td>\n",
       "      <td>0</td>\n",
       "      <td>0</td>\n",
       "      <td>0</td>\n",
       "    </tr>\n",
       "    <tr>\n",
       "      <th>12</th>\n",
       "      <td>1</td>\n",
       "      <td>0</td>\n",
       "      <td>1</td>\n",
       "      <td>1</td>\n",
       "      <td>0</td>\n",
       "      <td>0</td>\n",
       "      <td>0</td>\n",
       "    </tr>\n",
       "    <tr>\n",
       "      <th>13</th>\n",
       "      <td>1</td>\n",
       "      <td>0</td>\n",
       "      <td>1</td>\n",
       "      <td>1</td>\n",
       "      <td>0</td>\n",
       "      <td>1</td>\n",
       "      <td>0</td>\n",
       "    </tr>\n",
       "    <tr>\n",
       "      <th>14</th>\n",
       "      <td>1</td>\n",
       "      <td>0</td>\n",
       "      <td>1</td>\n",
       "      <td>1</td>\n",
       "      <td>0</td>\n",
       "      <td>1</td>\n",
       "      <td>0</td>\n",
       "    </tr>\n",
       "    <tr>\n",
       "      <th>15</th>\n",
       "      <td>1</td>\n",
       "      <td>0</td>\n",
       "      <td>1</td>\n",
       "      <td>1</td>\n",
       "      <td>1</td>\n",
       "      <td>0</td>\n",
       "      <td>0</td>\n",
       "    </tr>\n",
       "    <tr>\n",
       "      <th>16</th>\n",
       "      <td>1</td>\n",
       "      <td>0</td>\n",
       "      <td>1</td>\n",
       "      <td>1</td>\n",
       "      <td>1</td>\n",
       "      <td>0</td>\n",
       "      <td>0</td>\n",
       "    </tr>\n",
       "    <tr>\n",
       "      <th>17</th>\n",
       "      <td>1</td>\n",
       "      <td>0</td>\n",
       "      <td>1</td>\n",
       "      <td>1</td>\n",
       "      <td>1</td>\n",
       "      <td>0</td>\n",
       "      <td>0</td>\n",
       "    </tr>\n",
       "    <tr>\n",
       "      <th>18</th>\n",
       "      <td>1</td>\n",
       "      <td>0</td>\n",
       "      <td>1</td>\n",
       "      <td>1</td>\n",
       "      <td>1</td>\n",
       "      <td>0</td>\n",
       "      <td>0</td>\n",
       "    </tr>\n",
       "    <tr>\n",
       "      <th>19</th>\n",
       "      <td>1</td>\n",
       "      <td>0</td>\n",
       "      <td>1</td>\n",
       "      <td>1</td>\n",
       "      <td>1</td>\n",
       "      <td>0</td>\n",
       "      <td>0</td>\n",
       "    </tr>\n",
       "    <tr>\n",
       "      <th>20</th>\n",
       "      <td>1</td>\n",
       "      <td>0</td>\n",
       "      <td>0</td>\n",
       "      <td>1</td>\n",
       "      <td>0</td>\n",
       "      <td>1</td>\n",
       "      <td>0</td>\n",
       "    </tr>\n",
       "    <tr>\n",
       "      <th>21</th>\n",
       "      <td>1</td>\n",
       "      <td>0</td>\n",
       "      <td>0</td>\n",
       "      <td>1</td>\n",
       "      <td>0</td>\n",
       "      <td>1</td>\n",
       "      <td>0</td>\n",
       "    </tr>\n",
       "    <tr>\n",
       "      <th>22</th>\n",
       "      <td>1</td>\n",
       "      <td>0</td>\n",
       "      <td>0</td>\n",
       "      <td>1</td>\n",
       "      <td>0</td>\n",
       "      <td>0</td>\n",
       "      <td>0</td>\n",
       "    </tr>\n",
       "    <tr>\n",
       "      <th>23</th>\n",
       "      <td>1</td>\n",
       "      <td>0</td>\n",
       "      <td>0</td>\n",
       "      <td>1</td>\n",
       "      <td>0</td>\n",
       "      <td>0</td>\n",
       "      <td>0</td>\n",
       "    </tr>\n",
       "    <tr>\n",
       "      <th>24</th>\n",
       "      <td>1</td>\n",
       "      <td>0</td>\n",
       "      <td>1</td>\n",
       "      <td>1</td>\n",
       "      <td>0</td>\n",
       "      <td>1</td>\n",
       "      <td>0</td>\n",
       "    </tr>\n",
       "    <tr>\n",
       "      <th>25</th>\n",
       "      <td>1</td>\n",
       "      <td>0</td>\n",
       "      <td>1</td>\n",
       "      <td>1</td>\n",
       "      <td>0</td>\n",
       "      <td>1</td>\n",
       "      <td>0</td>\n",
       "    </tr>\n",
       "    <tr>\n",
       "      <th>26</th>\n",
       "      <td>1</td>\n",
       "      <td>1</td>\n",
       "      <td>1</td>\n",
       "      <td>1</td>\n",
       "      <td>0</td>\n",
       "      <td>1</td>\n",
       "      <td>0</td>\n",
       "    </tr>\n",
       "    <tr>\n",
       "      <th>27</th>\n",
       "      <td>1</td>\n",
       "      <td>0</td>\n",
       "      <td>1</td>\n",
       "      <td>1</td>\n",
       "      <td>0</td>\n",
       "      <td>1</td>\n",
       "      <td>0</td>\n",
       "    </tr>\n",
       "    <tr>\n",
       "      <th>28</th>\n",
       "      <td>1</td>\n",
       "      <td>0</td>\n",
       "      <td>1</td>\n",
       "      <td>1</td>\n",
       "      <td>0</td>\n",
       "      <td>0</td>\n",
       "      <td>0</td>\n",
       "    </tr>\n",
       "    <tr>\n",
       "      <th>29</th>\n",
       "      <td>1</td>\n",
       "      <td>0</td>\n",
       "      <td>1</td>\n",
       "      <td>1</td>\n",
       "      <td>0</td>\n",
       "      <td>0</td>\n",
       "      <td>0</td>\n",
       "    </tr>\n",
       "    <tr>\n",
       "      <th>30</th>\n",
       "      <td>1</td>\n",
       "      <td>0</td>\n",
       "      <td>1</td>\n",
       "      <td>1</td>\n",
       "      <td>0</td>\n",
       "      <td>1</td>\n",
       "      <td>0</td>\n",
       "    </tr>\n",
       "    <tr>\n",
       "      <th>31</th>\n",
       "      <td>1</td>\n",
       "      <td>0</td>\n",
       "      <td>0</td>\n",
       "      <td>1</td>\n",
       "      <td>0</td>\n",
       "      <td>1</td>\n",
       "      <td>0</td>\n",
       "    </tr>\n",
       "    <tr>\n",
       "      <th>32</th>\n",
       "      <td>1</td>\n",
       "      <td>0</td>\n",
       "      <td>1</td>\n",
       "      <td>1</td>\n",
       "      <td>0</td>\n",
       "      <td>1</td>\n",
       "      <td>0</td>\n",
       "    </tr>\n",
       "  </tbody>\n",
       "</table>\n",
       "</div>"
      ],
      "text/plain": [
       "    SSEO  AreaRec  FaunaMon  GroundwaQMon  SedDredg  GeotecMon  OthClosAct\n",
       "0      0        0         0             1         0          1           1\n",
       "1      0        0         0             1         0          1           1\n",
       "2      1        0         0             1         0          1           1\n",
       "3      1        0         0             1         0          1           0\n",
       "4      1        0         0             0         0          1           1\n",
       "5      1        0         0             0         0          1           1\n",
       "6      1        0         0             0         0          1           1\n",
       "7      1        0         1             0         0          0           0\n",
       "8      1        0         1             1         0          1           0\n",
       "9      1        0         1             1         0          1           0\n",
       "10     1        0         1             1         0          0           0\n",
       "11     1        0         1             1         0          0           0\n",
       "12     1        0         1             1         0          0           0\n",
       "13     1        0         1             1         0          1           0\n",
       "14     1        0         1             1         0          1           0\n",
       "15     1        0         1             1         1          0           0\n",
       "16     1        0         1             1         1          0           0\n",
       "17     1        0         1             1         1          0           0\n",
       "18     1        0         1             1         1          0           0\n",
       "19     1        0         1             1         1          0           0\n",
       "20     1        0         0             1         0          1           0\n",
       "21     1        0         0             1         0          1           0\n",
       "22     1        0         0             1         0          0           0\n",
       "23     1        0         0             1         0          0           0\n",
       "24     1        0         1             1         0          1           0\n",
       "25     1        0         1             1         0          1           0\n",
       "26     1        1         1             1         0          1           0\n",
       "27     1        0         1             1         0          1           0\n",
       "28     1        0         1             1         0          0           0\n",
       "29     1        0         1             1         0          0           0\n",
       "30     1        0         1             1         0          1           0\n",
       "31     1        0         0             1         0          1           0\n",
       "32     1        0         1             1         0          1           0"
      ]
     },
     "execution_count": 39,
     "metadata": {},
     "output_type": "execute_result"
    }
   ],
   "source": [
    "X_restricted"
   ]
  },
  {
   "cell_type": "code",
   "execution_count": null,
   "metadata": {},
   "outputs": [],
   "source": []
  }
 ],
 "metadata": {
  "colab": {
   "provenance": []
  },
  "kernelspec": {
   "display_name": "Python 3 (ipykernel)",
   "language": "python",
   "name": "python3"
  },
  "language_info": {
   "codemirror_mode": {
    "name": "ipython",
    "version": 3
   },
   "file_extension": ".py",
   "mimetype": "text/x-python",
   "name": "python",
   "nbconvert_exporter": "python",
   "pygments_lexer": "ipython3",
   "version": "3.12.7"
  }
 },
 "nbformat": 4,
 "nbformat_minor": 4
}
