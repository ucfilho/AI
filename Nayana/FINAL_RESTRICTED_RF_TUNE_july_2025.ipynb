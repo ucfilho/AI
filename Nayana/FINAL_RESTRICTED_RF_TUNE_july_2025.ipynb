{
 "cells": [
  {
   "cell_type": "markdown",
   "metadata": {},
   "source": [
    "## SVM- restricted"
   ]
  },
  {
   "cell_type": "code",
   "execution_count": 1,
   "metadata": {
    "id": "Pex7tA7T1Ou_"
   },
   "outputs": [],
   "source": [
    "import pandas as pd\n",
    "import numpy as np\n",
    "from sklearn import cluster, covariance, manifold\n",
    "import numpy as np\n",
    "from sklearn.metrics import r2_score\n",
    "import math\n",
    "import matplotlib.pyplot as plt\n",
    "import time\n",
    "import os"
   ]
  },
  {
   "cell_type": "code",
   "execution_count": 2,
   "metadata": {
    "id": "JkK8UlBBP9gq"
   },
   "outputs": [],
   "source": [
    "from sklearn.ensemble import RandomForestRegressor\n",
    "from scipy.optimize import minimize\n",
    "from sklearn.preprocessing import MinMaxScaler, StandardScaler\n",
    "from scipy.optimize import minimize\n",
    "from sklearn.feature_selection import RFECV"
   ]
  },
  {
   "cell_type": "code",
   "execution_count": 3,
   "metadata": {},
   "outputs": [],
   "source": [
    "import optuna"
   ]
  },
  {
   "cell_type": "code",
   "execution_count": 4,
   "metadata": {
    "id": "_-9TN1CUWkDx"
   },
   "outputs": [],
   "source": [
    "# import warnings\n",
    "import warnings\n",
    "warnings.filterwarnings(\"ignore\")"
   ]
  },
  {
   "cell_type": "code",
   "execution_count": 5,
   "metadata": {},
   "outputs": [],
   "source": [
    "from sklearn.metrics import mean_absolute_error\n",
    "from sklearn.metrics import root_mean_squared_error"
   ]
  },
  {
   "cell_type": "code",
   "execution_count": 6,
   "metadata": {},
   "outputs": [],
   "source": [
    "path = r'C:\\Users\\User\\Documents\\Atividades_andamento\\Nayana\\corrige_codigos'\n",
    "os.chdir(path)"
   ]
  },
  {
   "cell_type": "code",
   "execution_count": 7,
   "metadata": {
    "id": "XbYHyMAZ1RQN"
   },
   "outputs": [],
   "source": [
    "#df =pd.read_excel('custos_versao_jun_17_2023.xlsx')\n",
    "df =pd.read_excel(\"custos_versao_mar_14B_2024.xlsx\")\n",
    "df = df.drop(['Local','Barragens'],axis=1)\n",
    "names = df.columns"
   ]
  },
  {
   "cell_type": "code",
   "execution_count": 8,
   "metadata": {
    "colab": {
     "base_uri": "https://localhost:8080/"
    },
    "id": "FxZN4JzqTtMP",
    "outputId": "47900881-0bc1-4b64-c0e2-8b8ca358a36e"
   },
   "outputs": [
    {
     "data": {
      "text/plain": [
       "(33, 78)"
      ]
     },
     "execution_count": 8,
     "metadata": {},
     "output_type": "execute_result"
    }
   ],
   "source": [
    "df.shape"
   ]
  },
  {
   "cell_type": "code",
   "execution_count": 9,
   "metadata": {
    "id": "rOs3zWa7Q7Ci"
   },
   "outputs": [],
   "source": [
    "word ='Custo_barragem' \n",
    "word = 'Dams'\n",
    "X = df.drop([word],axis=1)\n",
    "y = df[word]\n",
    "y = np.log10(y)\n",
    "\n",
    "escalor =  StandardScaler() # escalor = MinMaxScaler()\n",
    "y_norm = escalor.fit_transform(y.values.reshape(-1,1))"
   ]
  },
  {
   "cell_type": "markdown",
   "metadata": {
    "id": "hEXjmMJ-15pj"
   },
   "source": [
    "## RF\n",
    "\n"
   ]
  },
  {
   "cell_type": "code",
   "execution_count": 10,
   "metadata": {},
   "outputs": [],
   "source": [
    "restricted =['ReinfEmbank','GroundwaQMon', \n",
    "             'ErosProcMain', 'Volume', \n",
    "             'Area', 'Height']"
   ]
  },
  {
   "cell_type": "code",
   "execution_count": 11,
   "metadata": {
    "scrolled": true
   },
   "outputs": [],
   "source": [
    "X_restricted = df[restricted]\n",
    "\n",
    "x_scaler = StandardScaler() # x_scaler = MinMaxScaler()\n",
    "y_scaler = StandardScaler()# y_scaler = MinMaxScaler()\n",
    "\n",
    "X_norm = x_scaler.fit_transform(X_restricted)\n",
    "y_norm = y_scaler.fit_transform(y.values.reshape(-1,1))"
   ]
  },
  {
   "cell_type": "code",
   "execution_count": 12,
   "metadata": {},
   "outputs": [],
   "source": [
    "X,y = X_norm,y_norm"
   ]
  },
  {
   "cell_type": "code",
   "execution_count": 13,
   "metadata": {
    "id": "LgpNr7FwtTTT"
   },
   "outputs": [],
   "source": [
    "def mine_test(set_parameters, X=X, y=y): # testa o ajuste\n",
    "  rows=X.shape[0]\n",
    "  cols =X.shape[1]\n",
    "\n",
    "  y_pred   = []\n",
    "\n",
    "  for i in range(rows):\n",
    "    X_train = np.delete(X,i,axis=0)\n",
    "    y_train = np.delete(y,i,axis=0)\n",
    "    X_test  = X[i,:].reshape(1,cols)\n",
    "    y_test  = y[i]\n",
    "    model =  RandomForestRegressor(**set_parameters)\n",
    "    #model =  SVR(**set_parameters)\n",
    "    model = model.fit(X_train, y_train.reshape(-1,1))\n",
    "    yi = model.predict(X_test)\n",
    "    y_pred.append(yi)\n",
    "\n",
    "  y_pred = np.array(y_pred)\n",
    "\n",
    "  resp = mean_absolute_error(y, y_pred)\n",
    "  \n",
    "\n",
    "  return -resp\n"
   ]
  },
  {
   "cell_type": "code",
   "execution_count": 14,
   "metadata": {},
   "outputs": [],
   "source": [
    "# Define the objective function and suggest hyperparameters values\n",
    "def objective(trial):\n",
    "    rf_n_estimators= [100, 200, 300]\n",
    "    rf_criterion= ['squared_error', 'absolute_error', 'friedman_mse', 'poisson']\n",
    "    rf_criterion= ['squared_error', 'absolute_error', 'friedman_mse']\n",
    "    rf_max_depth = [None, 10, 20, 30]\n",
    "    rf_min_samples_split= [2, 5, 10]\n",
    "    rf_min_samples_leaf= [1, 2, 4]\n",
    "    rf_max_features= [1,5,8,10, 'sqrt', 'log2']\n",
    "    \n",
    "    n_estimators = trial.suggest_categorical('n_estimators', rf_n_estimators)\n",
    "    criterion = trial.suggest_categorical('criterion', rf_criterion)\n",
    "    max_depth = trial.suggest_categorical('max_depth', rf_max_depth)\n",
    "    min_samples_split = trial.suggest_categorical('min_samples_split', rf_min_samples_split)\n",
    "    max_features = trial.suggest_categorical('max_features', rf_max_features)\n",
    "   \n",
    "    set_parameters = {'n_estimators':n_estimators,\n",
    "                      'criterion': criterion,\n",
    "                      'max_depth': max_depth, \n",
    "                      'min_samples_split':min_samples_split,\n",
    "                      'max_features':max_features}\n",
    "\n",
    "    adjust = mine_test( set_parameters)\n",
    "    \n",
    "    \n",
    "    return adjust"
   ]
  },
  {
   "cell_type": "code",
   "execution_count": 15,
   "metadata": {},
   "outputs": [
    {
     "name": "stderr",
     "output_type": "stream",
     "text": [
      "[I 2024-08-22 13:05:04,456] A new study created in memory with name: no-name-cce4787d-b755-4f55-9509-ae2f97afd4ab\n",
      "[I 2024-08-22 13:05:11,762] Trial 0 finished with value: -0.34188573808923733 and parameters: {'n_estimators': 100, 'criterion': 'friedman_mse', 'max_depth': 20, 'min_samples_split': 2, 'max_features': 'sqrt'}. Best is trial 0 with value: -0.34188573808923733.\n",
      "[I 2024-08-22 13:05:33,376] Trial 1 finished with value: -0.4167926865431085 and parameters: {'n_estimators': 300, 'criterion': 'squared_error', 'max_depth': None, 'min_samples_split': 10, 'max_features': 'sqrt'}. Best is trial 0 with value: -0.34188573808923733.\n",
      "[I 2024-08-22 13:05:56,001] Trial 2 finished with value: -0.4330679711841144 and parameters: {'n_estimators': 300, 'criterion': 'squared_error', 'max_depth': 10, 'min_samples_split': 10, 'max_features': 5}. Best is trial 0 with value: -0.34188573808923733.\n",
      "[I 2024-08-22 13:06:10,658] Trial 3 finished with value: -0.43987803470083636 and parameters: {'n_estimators': 200, 'criterion': 'absolute_error', 'max_depth': 10, 'min_samples_split': 10, 'max_features': 8}. Best is trial 0 with value: -0.34188573808923733.\n",
      "[I 2024-08-22 13:06:33,573] Trial 4 finished with value: -0.368195228905698 and parameters: {'n_estimators': 300, 'criterion': 'absolute_error', 'max_depth': None, 'min_samples_split': 5, 'max_features': 5}. Best is trial 0 with value: -0.34188573808923733.\n",
      "[I 2024-08-22 13:06:47,835] Trial 5 finished with value: -0.35127848129401484 and parameters: {'n_estimators': 200, 'criterion': 'friedman_mse', 'max_depth': None, 'min_samples_split': 5, 'max_features': 8}. Best is trial 0 with value: -0.34188573808923733.\n",
      "[I 2024-08-22 13:07:07,961] Trial 6 finished with value: -0.4247290566780972 and parameters: {'n_estimators': 300, 'criterion': 'friedman_mse', 'max_depth': None, 'min_samples_split': 10, 'max_features': 8}. Best is trial 0 with value: -0.34188573808923733.\n",
      "[I 2024-08-22 13:07:15,306] Trial 7 finished with value: -0.36022726128316307 and parameters: {'n_estimators': 100, 'criterion': 'absolute_error', 'max_depth': None, 'min_samples_split': 2, 'max_features': 10}. Best is trial 0 with value: -0.34188573808923733.\n",
      "[I 2024-08-22 13:07:29,933] Trial 8 finished with value: -0.34404914388781765 and parameters: {'n_estimators': 200, 'criterion': 'absolute_error', 'max_depth': None, 'min_samples_split': 2, 'max_features': 'log2'}. Best is trial 0 with value: -0.34188573808923733.\n",
      "[I 2024-08-22 13:07:43,684] Trial 9 finished with value: -0.43427999667624484 and parameters: {'n_estimators': 200, 'criterion': 'absolute_error', 'max_depth': 20, 'min_samples_split': 10, 'max_features': 'sqrt'}. Best is trial 0 with value: -0.34188573808923733.\n",
      "[I 2024-08-22 13:07:50,426] Trial 10 finished with value: -0.33112726347888877 and parameters: {'n_estimators': 100, 'criterion': 'friedman_mse', 'max_depth': 20, 'min_samples_split': 2, 'max_features': 1}. Best is trial 10 with value: -0.33112726347888877.\n",
      "[I 2024-08-22 13:07:57,641] Trial 11 finished with value: -0.331222075577123 and parameters: {'n_estimators': 100, 'criterion': 'friedman_mse', 'max_depth': 20, 'min_samples_split': 2, 'max_features': 1}. Best is trial 10 with value: -0.33112726347888877.\n",
      "[I 2024-08-22 13:08:03,862] Trial 12 finished with value: -0.3444378509262468 and parameters: {'n_estimators': 100, 'criterion': 'friedman_mse', 'max_depth': 30, 'min_samples_split': 2, 'max_features': 1}. Best is trial 10 with value: -0.33112726347888877.\n",
      "[I 2024-08-22 13:08:10,926] Trial 13 finished with value: -0.33347323782866234 and parameters: {'n_estimators': 100, 'criterion': 'friedman_mse', 'max_depth': 20, 'min_samples_split': 2, 'max_features': 1}. Best is trial 10 with value: -0.33112726347888877.\n",
      "[I 2024-08-22 13:08:17,128] Trial 14 finished with value: -0.3187524189794635 and parameters: {'n_estimators': 100, 'criterion': 'friedman_mse', 'max_depth': 20, 'min_samples_split': 2, 'max_features': 1}. Best is trial 14 with value: -0.3187524189794635.\n",
      "[I 2024-08-22 13:08:24,384] Trial 15 finished with value: -0.32879261042599356 and parameters: {'n_estimators': 100, 'criterion': 'friedman_mse', 'max_depth': 20, 'min_samples_split': 2, 'max_features': 1}. Best is trial 14 with value: -0.3187524189794635.\n",
      "[I 2024-08-22 13:08:30,434] Trial 16 finished with value: -0.33735057191990026 and parameters: {'n_estimators': 100, 'criterion': 'friedman_mse', 'max_depth': 30, 'min_samples_split': 5, 'max_features': 1}. Best is trial 14 with value: -0.3187524189794635.\n",
      "[I 2024-08-22 13:08:36,884] Trial 17 finished with value: -0.34896312985684536 and parameters: {'n_estimators': 100, 'criterion': 'squared_error', 'max_depth': 20, 'min_samples_split': 2, 'max_features': 10}. Best is trial 14 with value: -0.3187524189794635.\n",
      "[I 2024-08-22 13:08:44,049] Trial 18 finished with value: -0.3409578706273848 and parameters: {'n_estimators': 100, 'criterion': 'friedman_mse', 'max_depth': 20, 'min_samples_split': 2, 'max_features': 'log2'}. Best is trial 14 with value: -0.3187524189794635.\n",
      "[I 2024-08-22 13:08:50,484] Trial 19 finished with value: -0.3344617047235987 and parameters: {'n_estimators': 100, 'criterion': 'friedman_mse', 'max_depth': 20, 'min_samples_split': 2, 'max_features': 1}. Best is trial 14 with value: -0.3187524189794635.\n"
     ]
    }
   ],
   "source": [
    "# Create a study object and optimize the objective function\n",
    "study = optuna.create_study(direction='maximize')\n",
    "study.optimize(objective, n_trials=20)"
   ]
  },
  {
   "cell_type": "code",
   "execution_count": 16,
   "metadata": {},
   "outputs": [
    {
     "name": "stdout",
     "output_type": "stream",
     "text": [
      "Best hyperparameters:  {'n_estimators': 100, 'criterion': 'friedman_mse', 'max_depth': 20, 'min_samples_split': 2, 'max_features': 1}\n",
      "Best performance:  -0.3187524189794635\n"
     ]
    }
   ],
   "source": [
    "# Print the best set of hyperparameters\n",
    "print('Best hyperparameters: ', study.best_params)\n",
    "# Print the corresponding performance\n",
    "print('Best performance: ', study.best_value)"
   ]
  },
  {
   "cell_type": "code",
   "execution_count": 18,
   "metadata": {},
   "outputs": [],
   "source": [
    "best = study.best_params\n",
    "\n",
    "n_estimators = best['n_estimators']\n",
    "criterion = best['criterion'] \n",
    "max_depth = best['max_depth'] \n",
    "min_samples_split = best['min_samples_split']\n",
    "max_features = best['max_features']\n",
    "   \n",
    "set_parameters = {'n_estimators':n_estimators,\n",
    "                  'criterion': criterion,\n",
    "                  'max_depth': max_depth, \n",
    "                  'min_samples_split':min_samples_split,\n",
    "                  'max_features':max_features}"
   ]
  },
  {
   "cell_type": "code",
   "execution_count": 21,
   "metadata": {},
   "outputs": [],
   "source": [
    "def mine_test(X,y, set_parameters= set_parameters): # testa o ajuste\n",
    "  rows=X.shape[0]\n",
    "  cols =X.shape[1]\n",
    "\n",
    "  y_pred   = []\n",
    "\n",
    "  for i in range(rows):\n",
    "    X_train = np.delete(X,i,axis=0)\n",
    "    y_train = np.delete(y,i,axis=0)\n",
    "    X_test  = X[i,:].reshape(1,cols)\n",
    "    y_test  = y[i]\n",
    "    model =  RandomForestRegressor(**set_parameters)\n",
    "    model = model.fit(X_train, y_train.reshape(-1,1))\n",
    "    yi = model.predict(X_test)\n",
    "    y_pred.append(yi)\n",
    "\n",
    "  y_pred = np.array(y_pred)\n",
    "  #print(model)\n",
    "\n",
    "  return y_pred"
   ]
  },
  {
   "cell_type": "code",
   "execution_count": 22,
   "metadata": {},
   "outputs": [],
   "source": [
    "y_pred = mine_test(X , y)\n",
    "y_true = y"
   ]
  },
  {
   "cell_type": "code",
   "execution_count": 23,
   "metadata": {},
   "outputs": [
    {
     "name": "stdout",
     "output_type": "stream",
     "text": [
      "mae : 0.32314788152498647\n",
      "rmse : 0.4561990679822124\n",
      "r-score : 0.7918824103721607\n"
     ]
    }
   ],
   "source": [
    "print('mae :', mean_absolute_error(y_true, y_pred))\n",
    "print('rmse :', root_mean_squared_error(y_true, y_pred))\n",
    "print('r-score :',r2_score(y_true, y_pred))"
   ]
  },
  {
   "cell_type": "code",
   "execution_count": 24,
   "metadata": {},
   "outputs": [
    {
     "name": "stdout",
     "output_type": "stream",
     "text": [
      "n_estimators 100\n",
      "criterion friedman_mse\n",
      "max_depth 20\n",
      "min_samples_split 2\n",
      "max_features 1\n"
     ]
    }
   ],
   "source": [
    "for value in set_parameters:\n",
    "    print(value,set_parameters[value])"
   ]
  },
  {
   "cell_type": "code",
   "execution_count": null,
   "metadata": {},
   "outputs": [],
   "source": []
  }
 ],
 "metadata": {
  "colab": {
   "provenance": []
  },
  "kernelspec": {
   "display_name": "Python 3 (ipykernel)",
   "language": "python",
   "name": "python3"
  },
  "language_info": {
   "codemirror_mode": {
    "name": "ipython",
    "version": 3
   },
   "file_extension": ".py",
   "mimetype": "text/x-python",
   "name": "python",
   "nbconvert_exporter": "python",
   "pygments_lexer": "ipython3",
   "version": "3.12.7"
  }
 },
 "nbformat": 4,
 "nbformat_minor": 4
}
