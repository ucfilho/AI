{
 "cells": [
  {
   "cell_type": "markdown",
   "metadata": {},
   "source": [
    "## XGBoost- restricted"
   ]
  },
  {
   "cell_type": "code",
   "execution_count": 1,
   "metadata": {
    "id": "Pex7tA7T1Ou_"
   },
   "outputs": [],
   "source": [
    "import pandas as pd\n",
    "import numpy as np\n",
    "from sklearn import cluster, covariance, manifold\n",
    "import numpy as np\n",
    "from sklearn.metrics import r2_score\n",
    "import math\n",
    "import matplotlib.pyplot as plt\n",
    "import time\n",
    "import os"
   ]
  },
  {
   "cell_type": "code",
   "execution_count": 2,
   "metadata": {
    "id": "JkK8UlBBP9gq"
   },
   "outputs": [],
   "source": [
    "from xgboost import XGBRegressor\n",
    "from scipy.optimize import minimize\n",
    "from sklearn.preprocessing import MinMaxScaler, StandardScaler\n",
    "from scipy.optimize import minimize\n",
    "from sklearn.feature_selection import RFECV"
   ]
  },
  {
   "cell_type": "code",
   "execution_count": 3,
   "metadata": {},
   "outputs": [],
   "source": [
    "import optuna"
   ]
  },
  {
   "cell_type": "code",
   "execution_count": 4,
   "metadata": {
    "id": "_-9TN1CUWkDx"
   },
   "outputs": [],
   "source": [
    "# import warnings\n",
    "import warnings\n",
    "warnings.filterwarnings(\"ignore\")"
   ]
  },
  {
   "cell_type": "code",
   "execution_count": 5,
   "metadata": {},
   "outputs": [],
   "source": [
    "from sklearn.metrics import mean_absolute_error\n",
    "from sklearn.metrics import root_mean_squared_error"
   ]
  },
  {
   "cell_type": "code",
   "execution_count": 6,
   "metadata": {},
   "outputs": [],
   "source": [
    "path = r'C:\\Users\\User\\Documents\\Atividades_andamento\\Nayana\\corrige_codigos'\n",
    "os.chdir(path)"
   ]
  },
  {
   "cell_type": "code",
   "execution_count": 7,
   "metadata": {
    "id": "XbYHyMAZ1RQN"
   },
   "outputs": [],
   "source": [
    "#df =pd.read_excel('custos_versao_jun_17_2023.xlsx')\n",
    "df =pd.read_excel(\"custos_versao_mar_14B_2024.xlsx\")\n",
    "df = df.drop(['Local','Barragens'],axis=1)\n",
    "names = df.columns"
   ]
  },
  {
   "cell_type": "code",
   "execution_count": 8,
   "metadata": {
    "colab": {
     "base_uri": "https://localhost:8080/"
    },
    "id": "FxZN4JzqTtMP",
    "outputId": "47900881-0bc1-4b64-c0e2-8b8ca358a36e"
   },
   "outputs": [
    {
     "data": {
      "text/plain": [
       "(33, 78)"
      ]
     },
     "execution_count": 8,
     "metadata": {},
     "output_type": "execute_result"
    }
   ],
   "source": [
    "df.shape"
   ]
  },
  {
   "cell_type": "code",
   "execution_count": 9,
   "metadata": {
    "id": "rOs3zWa7Q7Ci"
   },
   "outputs": [],
   "source": [
    "word ='Custo_barragem' \n",
    "word = 'Dams'\n",
    "X = df.drop([word],axis=1)\n",
    "y = df[word]\n",
    "y = np.log10(y)\n",
    "\n",
    "escalor =  StandardScaler() # escalor = MinMaxScaler()\n",
    "y_norm = escalor.fit_transform(y.values.reshape(-1,1))"
   ]
  },
  {
   "cell_type": "markdown",
   "metadata": {
    "id": "hEXjmMJ-15pj"
   },
   "source": [
    "## XGBoost\n",
    "\n"
   ]
  },
  {
   "cell_type": "code",
   "execution_count": 10,
   "metadata": {},
   "outputs": [],
   "source": [
    "restricted =['ReinfEmbank','GroundwaQMon',\n",
    "             'ErosProcMain','Volume','Area','Height']"
   ]
  },
  {
   "cell_type": "code",
   "execution_count": 11,
   "metadata": {
    "scrolled": true
   },
   "outputs": [],
   "source": [
    "X_restricted = df[restricted]\n",
    "\n",
    "x_scaler = StandardScaler() # x_scaler = MinMaxScaler()\n",
    "y_scaler = StandardScaler()# y_scaler = MinMaxScaler()\n",
    "\n",
    "X_norm = x_scaler.fit_transform(X_restricted)\n",
    "y_norm = y_scaler.fit_transform(y.values.reshape(-1,1))"
   ]
  },
  {
   "cell_type": "code",
   "execution_count": 12,
   "metadata": {},
   "outputs": [],
   "source": [
    "X,y = X_norm,y_norm"
   ]
  },
  {
   "cell_type": "code",
   "execution_count": 13,
   "metadata": {
    "id": "LgpNr7FwtTTT"
   },
   "outputs": [],
   "source": [
    "def mine_test(set_parameters, X=X, y=y): # testa o ajuste\n",
    "  rows=X.shape[0]\n",
    "  cols =X.shape[1]\n",
    "\n",
    "  y_pred   = []\n",
    "\n",
    "  for i in range(rows):\n",
    "    X_train = np.delete(X,i,axis=0)\n",
    "    y_train = np.delete(y,i,axis=0)\n",
    "    X_test  = X[i,:].reshape(1,cols)\n",
    "    y_test  = y[i]\n",
    "    model =  XGBRegressor(**set_parameters)\n",
    "    model = model.fit(X_train, y_train.reshape(-1,1))\n",
    "    yi = model.predict(X_test)\n",
    "    y_pred.append(yi)\n",
    "\n",
    "  y_pred = np.array(y_pred)\n",
    "\n",
    "  resp = mean_absolute_error(y, y_pred)\n",
    "  \n",
    "\n",
    "  return -resp\n"
   ]
  },
  {
   "cell_type": "code",
   "execution_count": 14,
   "metadata": {},
   "outputs": [],
   "source": [
    "# Define the objective function and suggest hyperparameters values\n",
    "def objective(trial):\n",
    "    learning_rate = trial.suggest_float('learning_rate', 0, 1)\n",
    "    max_depth = trial.suggest_int('max_depth', 0, 20)\n",
    "    min_child_weight= trial.suggest_int('min_child_weight', 0, 20)\n",
    "    n_estimators= trial.suggest_int('n_estimators', 2, 300)\n",
    "    gamma= trial.suggest_int('gamma', 0, 20)\n",
    "    lambda_ = trial.suggest_int('lambda', 0, 20)\n",
    "    \n",
    "    set_parameters = {'booster': 'gbtree',\n",
    "                      'verbosity':0,\n",
    "                      'learning_rate': learning_rate,\n",
    "                      'gamma': gamma, \n",
    "                      'lambda': lambda_,\n",
    "                      'min_child_weight': min_child_weight,\n",
    "                      'max_depth': max_depth, \n",
    "                      'n_estimators': n_estimators}\n",
    "    adjust = mine_test( set_parameters)\n",
    "    \n",
    "    \n",
    "    return adjust"
   ]
  },
  {
   "cell_type": "code",
   "execution_count": 15,
   "metadata": {},
   "outputs": [
    {
     "name": "stderr",
     "output_type": "stream",
     "text": [
      "[I 2024-08-13 17:22:47,591] A new study created in memory with name: no-name-d0661ad8-701b-42dc-9d7f-80aba9c415ef\n",
      "[I 2024-08-13 17:22:47,947] Trial 0 finished with value: -0.6184758446453222 and parameters: {'learning_rate': 0.953347474374145, 'max_depth': 1, 'min_child_weight': 15, 'n_estimators': 13, 'gamma': 13, 'lambda': 1}. Best is trial 0 with value: -0.6184758446453222.\n",
      "[I 2024-08-13 17:22:48,898] Trial 1 finished with value: -0.6265318583427999 and parameters: {'learning_rate': 0.5754370015941113, 'max_depth': 13, 'min_child_weight': 8, 'n_estimators': 116, 'gamma': 6, 'lambda': 9}. Best is trial 0 with value: -0.6184758446453222.\n",
      "[I 2024-08-13 17:22:49,195] Trial 2 finished with value: -0.6797242955525186 and parameters: {'learning_rate': 0.7409838905823215, 'max_depth': 10, 'min_child_weight': 12, 'n_estimators': 10, 'gamma': 9, 'lambda': 11}. Best is trial 0 with value: -0.6184758446453222.\n",
      "[I 2024-08-13 17:22:50,067] Trial 3 finished with value: -0.8521738100187027 and parameters: {'learning_rate': 0.15541659493115567, 'max_depth': 8, 'min_child_weight': 5, 'n_estimators': 106, 'gamma': 10, 'lambda': 13}. Best is trial 0 with value: -0.6184758446453222.\n",
      "[I 2024-08-13 17:22:50,852] Trial 4 finished with value: -0.6871178529548868 and parameters: {'learning_rate': 0.16449939439564754, 'max_depth': 0, 'min_child_weight': 2, 'n_estimators': 89, 'gamma': 5, 'lambda': 10}. Best is trial 0 with value: -0.6184758446453222.\n",
      "[I 2024-08-13 17:22:52,614] Trial 5 finished with value: -0.8739523135997376 and parameters: {'learning_rate': 0.5207351770669196, 'max_depth': 14, 'min_child_weight': 2, 'n_estimators': 247, 'gamma': 13, 'lambda': 14}. Best is trial 0 with value: -0.6184758446453222.\n",
      "[I 2024-08-13 17:22:52,990] Trial 6 finished with value: -0.5009210612456302 and parameters: {'learning_rate': 0.9498907927426208, 'max_depth': 1, 'min_child_weight': 2, 'n_estimators': 9, 'gamma': 1, 'lambda': 10}. Best is trial 6 with value: -0.5009210612456302.\n",
      "[I 2024-08-13 17:22:53,415] Trial 7 finished with value: -0.8739523116383158 and parameters: {'learning_rate': 0.2358001468159211, 'max_depth': 5, 'min_child_weight': 17, 'n_estimators': 31, 'gamma': 14, 'lambda': 13}. Best is trial 6 with value: -0.5009210612456302.\n",
      "[I 2024-08-13 17:22:54,505] Trial 8 finished with value: -0.8739523144816719 and parameters: {'learning_rate': 0.7120251335758925, 'max_depth': 3, 'min_child_weight': 1, 'n_estimators': 139, 'gamma': 12, 'lambda': 15}. Best is trial 6 with value: -0.5009210612456302.\n",
      "[I 2024-08-13 17:22:54,771] Trial 9 finished with value: -0.8739523124849726 and parameters: {'learning_rate': 0.25965291128285617, 'max_depth': 13, 'min_child_weight': 8, 'n_estimators': 9, 'gamma': 17, 'lambda': 6}. Best is trial 6 with value: -0.5009210612456302.\n",
      "[I 2024-08-13 17:22:56,823] Trial 10 finished with value: -0.8739523147074469 and parameters: {'learning_rate': 0.9888651738540892, 'max_depth': 20, 'min_child_weight': 20, 'n_estimators': 213, 'gamma': 0, 'lambda': 19}. Best is trial 6 with value: -0.5009210612456302.\n",
      "[I 2024-08-13 17:22:57,667] Trial 11 finished with value: -1.0358458260195922 and parameters: {'learning_rate': 0.9857636727854742, 'max_depth': 0, 'min_child_weight': 13, 'n_estimators': 59, 'gamma': 19, 'lambda': 0}. Best is trial 6 with value: -0.5009210612456302.\n",
      "[I 2024-08-13 17:22:59,556] Trial 12 finished with value: -0.5630531643547301 and parameters: {'learning_rate': 0.8160265546672207, 'max_depth': 4, 'min_child_weight': 15, 'n_estimators': 176, 'gamma': 1, 'lambda': 0}. Best is trial 6 with value: -0.5009210612456302.\n",
      "[I 2024-08-13 17:23:01,854] Trial 13 finished with value: -0.5470271865367279 and parameters: {'learning_rate': 0.8051338155053054, 'max_depth': 6, 'min_child_weight': 10, 'n_estimators': 186, 'gamma': 0, 'lambda': 4}. Best is trial 6 with value: -0.5009210612456302.\n",
      "[I 2024-08-13 17:23:03,998] Trial 14 finished with value: -0.5612758976738319 and parameters: {'learning_rate': 0.8406107664066493, 'max_depth': 7, 'min_child_weight': 6, 'n_estimators': 275, 'gamma': 3, 'lambda': 4}. Best is trial 6 with value: -0.5009210612456302.\n",
      "[I 2024-08-13 17:23:05,383] Trial 15 finished with value: -0.5778761738677194 and parameters: {'learning_rate': 0.40528890916415916, 'max_depth': 6, 'min_child_weight': 10, 'n_estimators': 172, 'gamma': 3, 'lambda': 6}. Best is trial 6 with value: -0.5009210612456302.\n",
      "[I 2024-08-13 17:23:06,953] Trial 16 finished with value: -0.6924025198072568 and parameters: {'learning_rate': 0.6430581827441747, 'max_depth': 3, 'min_child_weight': 4, 'n_estimators': 213, 'gamma': 7, 'lambda': 4}. Best is trial 6 with value: -0.5009210612456302.\n",
      "[I 2024-08-13 17:23:09,071] Trial 17 finished with value: -0.5475380228965171 and parameters: {'learning_rate': 0.8494001869046038, 'max_depth': 8, 'min_child_weight': 9, 'n_estimators': 299, 'gamma': 2, 'lambda': 19}. Best is trial 6 with value: -0.5009210612456302.\n",
      "[I 2024-08-13 17:23:10,915] Trial 18 finished with value: -0.6180875521561456 and parameters: {'learning_rate': 0.007824602405529846, 'max_depth': 10, 'min_child_weight': 0, 'n_estimators': 213, 'gamma': 4, 'lambda': 5}. Best is trial 6 with value: -0.5009210612456302.\n",
      "[I 2024-08-13 17:23:11,576] Trial 19 finished with value: -0.7316787119911519 and parameters: {'learning_rate': 0.38270238073539575, 'max_depth': 2, 'min_child_weight': 6, 'n_estimators': 60, 'gamma': 8, 'lambda': 9}. Best is trial 6 with value: -0.5009210612456302.\n",
      "[I 2024-08-13 17:23:13,073] Trial 20 finished with value: -0.8739523134656836 and parameters: {'learning_rate': 0.8899094121839036, 'max_depth': 16, 'min_child_weight': 19, 'n_estimators': 146, 'gamma': 0, 'lambda': 16}. Best is trial 6 with value: -0.5009210612456302.\n",
      "[I 2024-08-13 17:23:15,555] Trial 21 finished with value: -0.539906880145796 and parameters: {'learning_rate': 0.7704184934503571, 'max_depth': 9, 'min_child_weight': 10, 'n_estimators': 269, 'gamma': 2, 'lambda': 20}. Best is trial 6 with value: -0.5009210612456302.\n",
      "[I 2024-08-13 17:23:17,472] Trial 22 finished with value: -0.5281071513678091 and parameters: {'learning_rate': 0.7320784068230477, 'max_depth': 11, 'min_child_weight': 11, 'n_estimators': 247, 'gamma': 2, 'lambda': 17}. Best is trial 6 with value: -0.5009210612456302.\n",
      "[I 2024-08-13 17:23:19,315] Trial 23 finished with value: -0.7630382692294962 and parameters: {'learning_rate': 0.6235332602771082, 'max_depth': 18, 'min_child_weight': 12, 'n_estimators': 252, 'gamma': 5, 'lambda': 20}. Best is trial 6 with value: -0.5009210612456302.\n",
      "[I 2024-08-13 17:23:21,387] Trial 24 finished with value: -0.5951803998680482 and parameters: {'learning_rate': 0.7278758417468534, 'max_depth': 11, 'min_child_weight': 14, 'n_estimators': 298, 'gamma': 2, 'lambda': 18}. Best is trial 6 with value: -0.5009210612456302.\n",
      "[I 2024-08-13 17:23:23,169] Trial 25 finished with value: -0.8739523130282442 and parameters: {'learning_rate': 0.9177590794358363, 'max_depth': 11, 'min_child_weight': 17, 'n_estimators': 246, 'gamma': 4, 'lambda': 17}. Best is trial 6 with value: -0.5009210612456302.\n",
      "[I 2024-08-13 17:23:25,120] Trial 26 finished with value: -0.533107822990647 and parameters: {'learning_rate': 0.6792158917732137, 'max_depth': 15, 'min_child_weight': 4, 'n_estimators': 273, 'gamma': 2, 'lambda': 12}. Best is trial 6 with value: -0.5009210612456302.\n",
      "[I 2024-08-13 17:23:26,825] Trial 27 finished with value: -0.7170391480828245 and parameters: {'learning_rate': 0.6642068497332798, 'max_depth': 16, 'min_child_weight': 3, 'n_estimators': 229, 'gamma': 6, 'lambda': 12}. Best is trial 6 with value: -0.5009210612456302.\n",
      "[I 2024-08-13 17:23:28,597] Trial 28 finished with value: -0.48775466210662055 and parameters: {'learning_rate': 0.4720199534639271, 'max_depth': 15, 'min_child_weight': 0, 'n_estimators': 201, 'gamma': 1, 'lambda': 8}. Best is trial 28 with value: -0.48775466210662055.\n",
      "[I 2024-08-13 17:23:30,415] Trial 29 finished with value: -0.7423495452927205 and parameters: {'learning_rate': 0.417412236549834, 'max_depth': 19, 'min_child_weight': 0, 'n_estimators': 188, 'gamma': 11, 'lambda': 8}. Best is trial 28 with value: -0.48775466210662055.\n",
      "[I 2024-08-13 17:23:32,753] Trial 30 finished with value: -0.5414361405440766 and parameters: {'learning_rate': 0.4951257928641901, 'max_depth': 12, 'min_child_weight': 7, 'n_estimators': 166, 'gamma': 0, 'lambda': 7}. Best is trial 28 with value: -0.48775466210662055.\n"
     ]
    },
    {
     "name": "stderr",
     "output_type": "stream",
     "text": [
      "[I 2024-08-13 17:23:34,450] Trial 31 finished with value: -0.5699517735977342 and parameters: {'learning_rate': 0.5200240804743075, 'max_depth': 15, 'min_child_weight': 4, 'n_estimators': 229, 'gamma': 2, 'lambda': 11}. Best is trial 28 with value: -0.48775466210662055.\n",
      "[I 2024-08-13 17:23:36,362] Trial 32 finished with value: -0.5781200792463688 and parameters: {'learning_rate': 0.5918025068895434, 'max_depth': 17, 'min_child_weight': 2, 'n_estimators': 261, 'gamma': 4, 'lambda': 9}. Best is trial 28 with value: -0.48775466210662055.\n",
      "[I 2024-08-13 17:23:38,493] Trial 33 finished with value: -0.6501449642377413 and parameters: {'learning_rate': 0.4593501212844992, 'max_depth': 14, 'min_child_weight': 0, 'n_estimators': 280, 'gamma': 6, 'lambda': 11}. Best is trial 28 with value: -0.48775466210662055.\n",
      "[I 2024-08-13 17:23:39,562] Trial 34 finished with value: -0.4708530851383074 and parameters: {'learning_rate': 0.9059290524980406, 'max_depth': 13, 'min_child_weight': 4, 'n_estimators': 125, 'gamma': 1, 'lambda': 15}. Best is trial 34 with value: -0.4708530851383074.\n",
      "[I 2024-08-13 17:23:40,616] Trial 35 finished with value: -0.5339359654377064 and parameters: {'learning_rate': 0.9169071564564728, 'max_depth': 12, 'min_child_weight': 2, 'n_estimators': 124, 'gamma': 1, 'lambda': 15}. Best is trial 34 with value: -0.4708530851383074.\n",
      "[I 2024-08-13 17:23:41,550] Trial 36 finished with value: -0.5424102998263166 and parameters: {'learning_rate': 0.3380029984733564, 'max_depth': 13, 'min_child_weight': 12, 'n_estimators': 98, 'gamma': 1, 'lambda': 17}. Best is trial 34 with value: -0.4708530851383074.\n",
      "[I 2024-08-13 17:23:42,259] Trial 37 finished with value: -0.6599359761382063 and parameters: {'learning_rate': 0.9399322271543895, 'max_depth': 9, 'min_child_weight': 1, 'n_estimators': 69, 'gamma': 8, 'lambda': 14}. Best is trial 34 with value: -0.4708530851383074.\n",
      "[I 2024-08-13 17:23:42,716] Trial 38 finished with value: -0.580580366159326 and parameters: {'learning_rate': 0.864518724042109, 'max_depth': 14, 'min_child_weight': 5, 'n_estimators': 27, 'gamma': 3, 'lambda': 10}. Best is trial 34 with value: -0.4708530851383074.\n",
      "[I 2024-08-13 17:23:43,880] Trial 39 finished with value: -0.635168880194179 and parameters: {'learning_rate': 0.7677708692362951, 'max_depth': 11, 'min_child_weight': 3, 'n_estimators': 130, 'gamma': 5, 'lambda': 13}. Best is trial 34 with value: -0.4708530851383074.\n",
      "[I 2024-08-13 17:23:44,914] Trial 40 finished with value: -0.5057340454077937 and parameters: {'learning_rate': 0.5662349580687882, 'max_depth': 12, 'min_child_weight': 8, 'n_estimators': 84, 'gamma': 1, 'lambda': 2}. Best is trial 34 with value: -0.4708530851383074.\n",
      "[I 2024-08-13 17:23:45,909] Trial 41 finished with value: -0.5244790891491995 and parameters: {'learning_rate': 0.5835518179823355, 'max_depth': 12, 'min_child_weight': 8, 'n_estimators': 81, 'gamma': 1, 'lambda': 3}. Best is trial 34 with value: -0.4708530851383074.\n",
      "[I 2024-08-13 17:23:46,892] Trial 42 finished with value: -0.5363606333572601 and parameters: {'learning_rate': 0.5621063956541443, 'max_depth': 13, 'min_child_weight': 8, 'n_estimators': 78, 'gamma': 1, 'lambda': 8}. Best is trial 34 with value: -0.4708530851383074.\n",
      "[I 2024-08-13 17:23:48,517] Trial 43 finished with value: -0.5232139219364131 and parameters: {'learning_rate': 0.3087069309092355, 'max_depth': 15, 'min_child_weight': 7, 'n_estimators': 110, 'gamma': 0, 'lambda': 2}. Best is trial 34 with value: -0.4708530851383074.\n",
      "[I 2024-08-13 17:23:49,942] Trial 44 finished with value: -0.44171616443928885 and parameters: {'learning_rate': 0.2601914967405671, 'max_depth': 15, 'min_child_weight': 6, 'n_estimators': 107, 'gamma': 0, 'lambda': 3}. Best is trial 44 with value: -0.44171616443928885.\n",
      "[I 2024-08-13 17:23:50,590] Trial 45 finished with value: -0.5406818464260837 and parameters: {'learning_rate': 0.1573123280064767, 'max_depth': 17, 'min_child_weight': 5, 'n_estimators': 53, 'gamma': 3, 'lambda': 1}. Best is trial 44 with value: -0.44171616443928885.\n",
      "[I 2024-08-13 17:23:51,090] Trial 46 finished with value: -0.8430939371071734 and parameters: {'learning_rate': 0.09391058159249988, 'max_depth': 16, 'min_child_weight': 1, 'n_estimators': 28, 'gamma': 16, 'lambda': 1}. Best is trial 44 with value: -0.44171616443928885.\n",
      "[I 2024-08-13 17:23:53,870] Trial 47 finished with value: -0.38873334924809705 and parameters: {'learning_rate': 0.2407050993614256, 'max_depth': 14, 'min_child_weight': 3, 'n_estimators': 155, 'gamma': 0, 'lambda': 2}. Best is trial 47 with value: -0.38873334924809705.\n",
      "[I 2024-08-13 17:23:55,028] Trial 48 finished with value: -0.8739523113631523 and parameters: {'learning_rate': 0.11113607630606984, 'max_depth': 17, 'min_child_weight': 3, 'n_estimators': 134, 'gamma': 20, 'lambda': 6}. Best is trial 47 with value: -0.38873334924809705.\n",
      "[I 2024-08-13 17:23:58,770] Trial 49 finished with value: -0.3512829455496935 and parameters: {'learning_rate': 0.2368579652966714, 'max_depth': 14, 'min_child_weight': 1, 'n_estimators': 153, 'gamma': 0, 'lambda': 5}. Best is trial 49 with value: -0.3512829455496935.\n",
      "[I 2024-08-13 17:24:02,701] Trial 50 finished with value: -0.3519596717867159 and parameters: {'learning_rate': 0.25280181959036657, 'max_depth': 14, 'min_child_weight': 1, 'n_estimators': 159, 'gamma': 0, 'lambda': 5}. Best is trial 49 with value: -0.3512829455496935.\n",
      "[I 2024-08-13 17:24:06,012] Trial 51 finished with value: -0.36295374488295706 and parameters: {'learning_rate': 0.21613119340239562, 'max_depth': 14, 'min_child_weight': 1, 'n_estimators': 147, 'gamma': 0, 'lambda': 4}. Best is trial 49 with value: -0.3512829455496935.\n",
      "[I 2024-08-13 17:24:09,113] Trial 52 finished with value: -0.34873475430158607 and parameters: {'learning_rate': 0.23008732529290143, 'max_depth': 14, 'min_child_weight': 1, 'n_estimators': 160, 'gamma': 0, 'lambda': 3}. Best is trial 52 with value: -0.34873475430158607.\n",
      "[I 2024-08-13 17:24:12,000] Trial 53 finished with value: -0.3580867942416285 and parameters: {'learning_rate': 0.22182310316066006, 'max_depth': 14, 'min_child_weight': 1, 'n_estimators': 148, 'gamma': 0, 'lambda': 3}. Best is trial 52 with value: -0.34873475430158607.\n",
      "[I 2024-08-13 17:24:16,119] Trial 54 finished with value: -0.36553546214948884 and parameters: {'learning_rate': 0.20789695782290118, 'max_depth': 14, 'min_child_weight': 1, 'n_estimators': 161, 'gamma': 0, 'lambda': 5}. Best is trial 52 with value: -0.34873475430158607.\n",
      "[I 2024-08-13 17:24:17,757] Trial 55 finished with value: -0.5658354526367395 and parameters: {'learning_rate': 0.19710600258423788, 'max_depth': 14, 'min_child_weight': 1, 'n_estimators': 158, 'gamma': 3, 'lambda': 5}. Best is trial 52 with value: -0.34873475430158607.\n",
      "[I 2024-08-13 17:24:21,212] Trial 56 finished with value: -0.351083964082095 and parameters: {'learning_rate': 0.2917243347960844, 'max_depth': 18, 'min_child_weight': 1, 'n_estimators': 146, 'gamma': 0, 'lambda': 5}. Best is trial 52 with value: -0.34873475430158607.\n",
      "[I 2024-08-13 17:24:23,773] Trial 57 finished with value: -0.367562493731766 and parameters: {'learning_rate': 0.2940325857214906, 'max_depth': 20, 'min_child_weight': 2, 'n_estimators': 147, 'gamma': 0, 'lambda': 3}. Best is trial 52 with value: -0.34873475430158607.\n",
      "[I 2024-08-13 17:24:25,265] Trial 58 finished with value: -0.5290367762585424 and parameters: {'learning_rate': 0.0706426166803718, 'max_depth': 19, 'min_child_weight': 1, 'n_estimators': 182, 'gamma': 2, 'lambda': 4}. Best is trial 52 with value: -0.34873475430158607.\n",
      "[I 2024-08-13 17:24:26,427] Trial 59 finished with value: -0.793128886250774 and parameters: {'learning_rate': 0.3561819175313158, 'max_depth': 18, 'min_child_weight': 2, 'n_estimators': 139, 'gamma': 13, 'lambda': 6}. Best is trial 52 with value: -0.34873475430158607.\n",
      "[I 2024-08-13 17:24:27,824] Trial 60 finished with value: -0.5880870235838743 and parameters: {'learning_rate': 0.19433160508348019, 'max_depth': 16, 'min_child_weight': 0, 'n_estimators': 173, 'gamma': 4, 'lambda': 5}. Best is trial 52 with value: -0.34873475430158607.\n",
      "[I 2024-08-13 17:24:31,173] Trial 61 finished with value: -0.36474820076636066 and parameters: {'learning_rate': 0.2127391429303202, 'max_depth': 13, 'min_child_weight': 1, 'n_estimators': 165, 'gamma': 0, 'lambda': 5}. Best is trial 52 with value: -0.34873475430158607.\n"
     ]
    },
    {
     "name": "stderr",
     "output_type": "stream",
     "text": [
      "[I 2024-08-13 17:24:34,774] Trial 62 finished with value: -0.3617566112348607 and parameters: {'learning_rate': 0.2911277970745683, 'max_depth': 13, 'min_child_weight': 1, 'n_estimators': 148, 'gamma': 0, 'lambda': 4}. Best is trial 52 with value: -0.34873475430158607.\n",
      "[I 2024-08-13 17:24:36,519] Trial 63 finished with value: -0.44325434436664235 and parameters: {'learning_rate': 0.28943086813772567, 'max_depth': 10, 'min_child_weight': 0, 'n_estimators': 145, 'gamma': 1, 'lambda': 4}. Best is trial 52 with value: -0.34873475430158607.\n",
      "[I 2024-08-13 17:24:38,049] Trial 64 finished with value: -0.584194599495936 and parameters: {'learning_rate': 0.11766497454927217, 'max_depth': 16, 'min_child_weight': 2, 'n_estimators': 193, 'gamma': 3, 'lambda': 7}. Best is trial 52 with value: -0.34873475430158607.\n",
      "[I 2024-08-13 17:24:39,099] Trial 65 finished with value: -0.5077457824089519 and parameters: {'learning_rate': 0.27284417953545437, 'max_depth': 18, 'min_child_weight': 3, 'n_estimators': 117, 'gamma': 2, 'lambda': 3}. Best is trial 52 with value: -0.34873475430158607.\n",
      "[I 2024-08-13 17:24:42,085] Trial 66 finished with value: -0.3545938622287621 and parameters: {'learning_rate': 0.3330891835907532, 'max_depth': 12, 'min_child_weight': 1, 'n_estimators': 175, 'gamma': 0, 'lambda': 7}. Best is trial 52 with value: -0.34873475430158607.\n",
      "[I 2024-08-13 17:24:43,478] Trial 67 finished with value: -0.5555105709318576 and parameters: {'learning_rate': 0.34185383781113354, 'max_depth': 12, 'min_child_weight': 2, 'n_estimators': 180, 'gamma': 2, 'lambda': 7}. Best is trial 52 with value: -0.34873475430158607.\n",
      "[I 2024-08-13 17:24:46,490] Trial 68 finished with value: -0.34272701651789583 and parameters: {'learning_rate': 0.3179788402715273, 'max_depth': 9, 'min_child_weight': 0, 'n_estimators': 199, 'gamma': 0, 'lambda': 6}. Best is trial 68 with value: -0.34272701651789583.\n",
      "[I 2024-08-13 17:24:48,168] Trial 69 finished with value: -0.5565447550040246 and parameters: {'learning_rate': 0.378933408715364, 'max_depth': 8, 'min_child_weight': 0, 'n_estimators': 208, 'gamma': 2, 'lambda': 6}. Best is trial 68 with value: -0.34272701651789583.\n",
      "[I 2024-08-13 17:24:50,067] Trial 70 finished with value: -0.4805048445954627 and parameters: {'learning_rate': 0.4279210748818077, 'max_depth': 9, 'min_child_weight': 0, 'n_estimators': 197, 'gamma': 1, 'lambda': 7}. Best is trial 68 with value: -0.34272701651789583.\n",
      "[I 2024-08-13 17:24:52,970] Trial 71 finished with value: -0.36044290991464 and parameters: {'learning_rate': 0.3193105774345614, 'max_depth': 10, 'min_child_weight': 1, 'n_estimators': 153, 'gamma': 0, 'lambda': 4}. Best is trial 68 with value: -0.34272701651789583.\n",
      "[I 2024-08-13 17:24:54,345] Trial 72 finished with value: -0.4590048042417636 and parameters: {'learning_rate': 0.17256310262017924, 'max_depth': 7, 'min_child_weight': 2, 'n_estimators': 169, 'gamma': 1, 'lambda': 5}. Best is trial 68 with value: -0.34272701651789583.\n",
      "[I 2024-08-13 17:24:56,994] Trial 73 finished with value: -0.39588266412282375 and parameters: {'learning_rate': 0.3206013995816369, 'max_depth': 10, 'min_child_weight': 3, 'n_estimators': 175, 'gamma': 0, 'lambda': 2}. Best is trial 68 with value: -0.34272701651789583.\n",
      "[I 2024-08-13 17:24:58,840] Trial 74 finished with value: -0.43910591281891603 and parameters: {'learning_rate': 0.24377679011261427, 'max_depth': 11, 'min_child_weight': 4, 'n_estimators': 224, 'gamma': 1, 'lambda': 3}. Best is trial 68 with value: -0.34272701651789583.\n",
      "[I 2024-08-13 17:25:02,079] Trial 75 finished with value: -0.3474187294707536 and parameters: {'learning_rate': 0.37845676214677315, 'max_depth': 9, 'min_child_weight': 0, 'n_estimators': 155, 'gamma': 0, 'lambda': 6}. Best is trial 68 with value: -0.34272701651789583.\n",
      "[I 2024-08-13 17:25:03,598] Trial 76 finished with value: -0.7689329407395125 and parameters: {'learning_rate': 0.26576415684776844, 'max_depth': 7, 'min_child_weight': 0, 'n_estimators': 188, 'gamma': 10, 'lambda': 6}. Best is trial 68 with value: -0.34272701651789583.\n",
      "[I 2024-08-13 17:25:05,058] Trial 77 finished with value: -0.551199917756925 and parameters: {'learning_rate': 0.3769999970044141, 'max_depth': 9, 'min_child_weight': 0, 'n_estimators': 137, 'gamma': 2, 'lambda': 9}. Best is trial 68 with value: -0.34272701651789583.\n",
      "[I 2024-08-13 17:25:09,675] Trial 78 finished with value: -0.3070491569047886 and parameters: {'learning_rate': 0.14033268663783194, 'max_depth': 15, 'min_child_weight': 2, 'n_estimators': 204, 'gamma': 0, 'lambda': 8}. Best is trial 78 with value: -0.3070491569047886.\n",
      "[I 2024-08-13 17:25:11,292] Trial 79 finished with value: -0.48991113166128913 and parameters: {'learning_rate': 0.13889599044689635, 'max_depth': 8, 'min_child_weight': 2, 'n_estimators': 208, 'gamma': 1, 'lambda': 8}. Best is trial 78 with value: -0.3070491569047886.\n",
      "[I 2024-08-13 17:25:12,987] Trial 80 finished with value: -0.48758479896744794 and parameters: {'learning_rate': 0.03842391253104238, 'max_depth': 6, 'min_child_weight': 0, 'n_estimators': 197, 'gamma': 1, 'lambda': 7}. Best is trial 78 with value: -0.3070491569047886.\n",
      "[I 2024-08-13 17:25:14,264] Trial 81 finished with value: -0.8800560111289695 and parameters: {'learning_rate': 0.17596959556512798, 'max_depth': 15, 'min_child_weight': 1, 'n_estimators': 158, 'gamma': 15, 'lambda': 6}. Best is trial 78 with value: -0.3070491569047886.\n",
      "[I 2024-08-13 17:25:16,604] Trial 82 finished with value: -0.3257451438247773 and parameters: {'learning_rate': 0.3597530699718381, 'max_depth': 12, 'min_child_weight': 2, 'n_estimators': 122, 'gamma': 0, 'lambda': 8}. Best is trial 78 with value: -0.3070491569047886.\n",
      "[I 2024-08-13 17:25:18,591] Trial 83 finished with value: -0.39766596643438157 and parameters: {'learning_rate': 0.43888600932894806, 'max_depth': 11, 'min_child_weight': 3, 'n_estimators': 119, 'gamma': 0, 'lambda': 9}. Best is trial 78 with value: -0.3070491569047886.\n",
      "[I 2024-08-13 17:25:20,421] Trial 84 finished with value: -0.48356409616806084 and parameters: {'learning_rate': 0.36048424250902333, 'max_depth': 12, 'min_child_weight': 4, 'n_estimators': 222, 'gamma': 1, 'lambda': 8}. Best is trial 78 with value: -0.3070491569047886.\n",
      "[I 2024-08-13 17:25:21,758] Trial 85 finished with value: -0.5882067357669106 and parameters: {'learning_rate': 0.409267610554415, 'max_depth': 13, 'min_child_weight': 2, 'n_estimators': 127, 'gamma': 3, 'lambda': 6}. Best is trial 78 with value: -0.3070491569047886.\n",
      "[I 2024-08-13 17:25:23,471] Trial 86 finished with value: -0.8739523119417012 and parameters: {'learning_rate': 0.24465101187329694, 'max_depth': 19, 'min_child_weight': 17, 'n_estimators': 165, 'gamma': 0, 'lambda': 7}. Best is trial 78 with value: -0.3070491569047886.\n",
      "[I 2024-08-13 17:25:25,000] Trial 87 finished with value: -0.8965592364989129 and parameters: {'learning_rate': 0.39706317884213715, 'max_depth': 11, 'min_child_weight': 0, 'n_estimators': 183, 'gamma': 12, 'lambda': 10}. Best is trial 78 with value: -0.3070491569047886.\n",
      "[I 2024-08-13 17:25:25,923] Trial 88 finished with value: -0.5488547914653574 and parameters: {'learning_rate': 0.3194947039732159, 'max_depth': 12, 'min_child_weight': 3, 'n_estimators': 95, 'gamma': 2, 'lambda': 8}. Best is trial 78 with value: -0.3070491569047886.\n",
      "[I 2024-08-13 17:25:27,096] Trial 89 finished with value: -0.4527120395798735 and parameters: {'learning_rate': 0.45769375995688666, 'max_depth': 17, 'min_child_weight': 2, 'n_estimators': 142, 'gamma': 1, 'lambda': 5}. Best is trial 78 with value: -0.3070491569047886.\n",
      "[I 2024-08-13 17:25:31,194] Trial 90 finished with value: -0.3414892693510935 and parameters: {'learning_rate': 0.2753708716117683, 'max_depth': 15, 'min_child_weight': 1, 'n_estimators': 238, 'gamma': 0, 'lambda': 9}. Best is trial 78 with value: -0.3070491569047886.\n",
      "[I 2024-08-13 17:25:35,554] Trial 91 finished with value: -0.338049327061569 and parameters: {'learning_rate': 0.27658784815638754, 'max_depth': 15, 'min_child_weight': 1, 'n_estimators': 240, 'gamma': 0, 'lambda': 10}. Best is trial 78 with value: -0.3070491569047886.\n",
      "[I 2024-08-13 17:25:41,307] Trial 92 finished with value: -0.35138832321629687 and parameters: {'learning_rate': 0.2814381291859336, 'max_depth': 15, 'min_child_weight': 1, 'n_estimators': 234, 'gamma': 0, 'lambda': 9}. Best is trial 78 with value: -0.3070491569047886.\n"
     ]
    },
    {
     "name": "stderr",
     "output_type": "stream",
     "text": [
      "[I 2024-08-13 17:25:43,201] Trial 93 finished with value: -0.5205689626762979 and parameters: {'learning_rate': 0.2777274625595907, 'max_depth': 15, 'min_child_weight': 0, 'n_estimators': 238, 'gamma': 1, 'lambda': 11}. Best is trial 78 with value: -0.3070491569047886.\n",
      "[I 2024-08-13 17:25:48,287] Trial 94 finished with value: -0.3158752407708461 and parameters: {'learning_rate': 0.3538441872705733, 'max_depth': 15, 'min_child_weight': 2, 'n_estimators': 235, 'gamma': 0, 'lambda': 10}. Best is trial 78 with value: -0.3070491569047886.\n",
      "[I 2024-08-13 17:25:50,354] Trial 95 finished with value: -0.8739523121110325 and parameters: {'learning_rate': 0.3051804788582065, 'max_depth': 16, 'min_child_weight': 2, 'n_estimators': 259, 'gamma': 18, 'lambda': 11}. Best is trial 78 with value: -0.3070491569047886.\n",
      "[I 2024-08-13 17:25:52,292] Trial 96 finished with value: -0.4984704317154296 and parameters: {'learning_rate': 0.357869993364152, 'max_depth': 16, 'min_child_weight': 3, 'n_estimators': 241, 'gamma': 1, 'lambda': 10}. Best is trial 78 with value: -0.3070491569047886.\n",
      "[I 2024-08-13 17:25:54,735] Trial 97 finished with value: -0.5689024008492186 and parameters: {'learning_rate': 0.1475273750815668, 'max_depth': 17, 'min_child_weight': 2, 'n_estimators': 255, 'gamma': 2, 'lambda': 12}. Best is trial 78 with value: -0.3070491569047886.\n",
      "[I 2024-08-13 17:25:58,469] Trial 98 finished with value: -0.4603554581813115 and parameters: {'learning_rate': 0.22963962333282376, 'max_depth': 15, 'min_child_weight': 5, 'n_estimators': 269, 'gamma': 0, 'lambda': 10}. Best is trial 78 with value: -0.3070491569047886.\n",
      "[I 2024-08-13 17:26:00,670] Trial 99 finished with value: -0.4953147581336334 and parameters: {'learning_rate': 0.1872795403427474, 'max_depth': 14, 'min_child_weight': 1, 'n_estimators': 283, 'gamma': 1, 'lambda': 8}. Best is trial 78 with value: -0.3070491569047886.\n",
      "[I 2024-08-13 17:26:04,537] Trial 100 finished with value: -0.3439486537235398 and parameters: {'learning_rate': 0.39277813171500675, 'max_depth': 16, 'min_child_weight': 0, 'n_estimators': 225, 'gamma': 0, 'lambda': 9}. Best is trial 78 with value: -0.3070491569047886.\n",
      "[I 2024-08-13 17:26:08,576] Trial 101 finished with value: -0.3440965726407508 and parameters: {'learning_rate': 0.3424407650452142, 'max_depth': 16, 'min_child_weight': 0, 'n_estimators': 228, 'gamma': 0, 'lambda': 9}. Best is trial 78 with value: -0.3070491569047886.\n",
      "[I 2024-08-13 17:26:12,944] Trial 102 finished with value: -0.3428953508078294 and parameters: {'learning_rate': 0.3924295453929928, 'max_depth': 16, 'min_child_weight': 0, 'n_estimators': 219, 'gamma': 0, 'lambda': 9}. Best is trial 78 with value: -0.3070491569047886.\n",
      "[I 2024-08-13 17:26:15,916] Trial 103 finished with value: -0.3574208770273263 and parameters: {'learning_rate': 0.4960216940628883, 'max_depth': 16, 'min_child_weight': 0, 'n_estimators': 218, 'gamma': 0, 'lambda': 9}. Best is trial 78 with value: -0.3070491569047886.\n",
      "[I 2024-08-13 17:26:17,647] Trial 104 finished with value: -0.5600080615324965 and parameters: {'learning_rate': 0.4003247894140803, 'max_depth': 17, 'min_child_weight': 0, 'n_estimators': 228, 'gamma': 2, 'lambda': 10}. Best is trial 78 with value: -0.3070491569047886.\n",
      "[I 2024-08-13 17:26:19,576] Trial 105 finished with value: -0.49455557688959484 and parameters: {'learning_rate': 0.37062532054113656, 'max_depth': 15, 'min_child_weight': 0, 'n_estimators': 245, 'gamma': 1, 'lambda': 9}. Best is trial 78 with value: -0.3070491569047886.\n",
      "[I 2024-08-13 17:26:21,801] Trial 106 finished with value: -0.5600961025869056 and parameters: {'learning_rate': 0.4458652684381744, 'max_depth': 16, 'min_child_weight': 15, 'n_estimators': 215, 'gamma': 0, 'lambda': 11}. Best is trial 78 with value: -0.3070491569047886.\n",
      "[I 2024-08-13 17:26:23,419] Trial 107 finished with value: -0.7684424721796693 and parameters: {'learning_rate': 0.33801372598112056, 'max_depth': 17, 'min_child_weight': 0, 'n_estimators': 204, 'gamma': 9, 'lambda': 9}. Best is trial 78 with value: -0.3070491569047886.\n",
      "[I 2024-08-13 17:26:25,625] Trial 108 finished with value: -0.519820258460504 and parameters: {'learning_rate': 0.39626024613088245, 'max_depth': 16, 'min_child_weight': 2, 'n_estimators': 234, 'gamma': 1, 'lambda': 10}. Best is trial 78 with value: -0.3070491569047886.\n",
      "[I 2024-08-13 17:26:29,652] Trial 109 finished with value: -0.3348458278458097 and parameters: {'learning_rate': 0.5193017462300912, 'max_depth': 15, 'min_child_weight': 1, 'n_estimators': 220, 'gamma': 0, 'lambda': 12}. Best is trial 78 with value: -0.3070491569047886.\n",
      "[I 2024-08-13 17:26:31,643] Trial 110 finished with value: -0.554600273360521 and parameters: {'learning_rate': 0.4219743633694061, 'max_depth': 9, 'min_child_weight': 0, 'n_estimators': 220, 'gamma': 2, 'lambda': 12}. Best is trial 78 with value: -0.3070491569047886.\n",
      "[I 2024-08-13 17:26:35,629] Trial 111 finished with value: -0.3407010427004775 and parameters: {'learning_rate': 0.5310800954657778, 'max_depth': 15, 'min_child_weight': 1, 'n_estimators': 251, 'gamma': 0, 'lambda': 11}. Best is trial 78 with value: -0.3070491569047886.\n",
      "[I 2024-08-13 17:26:39,083] Trial 112 finished with value: -0.3272022886998322 and parameters: {'learning_rate': 0.49106994214594824, 'max_depth': 15, 'min_child_weight': 1, 'n_estimators': 250, 'gamma': 0, 'lambda': 11}. Best is trial 78 with value: -0.3070491569047886.\n",
      "[I 2024-08-13 17:26:41,559] Trial 113 finished with value: -0.5345532071624456 and parameters: {'learning_rate': 0.533952195799864, 'max_depth': 15, 'min_child_weight': 1, 'n_estimators': 251, 'gamma': 1, 'lambda': 13}. Best is trial 78 with value: -0.3070491569047886.\n",
      "[I 2024-08-13 17:26:44,881] Trial 114 finished with value: -0.5572417031701692 and parameters: {'learning_rate': 0.47340856544834886, 'max_depth': 15, 'min_child_weight': 11, 'n_estimators': 263, 'gamma': 0, 'lambda': 12}. Best is trial 78 with value: -0.3070491569047886.\n",
      "[I 2024-08-13 17:26:48,167] Trial 115 finished with value: -0.2984978041375866 and parameters: {'learning_rate': 0.5411097064942365, 'max_depth': 16, 'min_child_weight': 2, 'n_estimators': 229, 'gamma': 0, 'lambda': 11}. Best is trial 115 with value: -0.2984978041375866.\n",
      "[I 2024-08-13 17:26:49,976] Trial 116 finished with value: -0.8739523143335068 and parameters: {'learning_rate': 0.5108285790614886, 'max_depth': 18, 'min_child_weight': 18, 'n_estimators': 236, 'gamma': 1, 'lambda': 11}. Best is trial 115 with value: -0.2984978041375866.\n",
      "[I 2024-08-13 17:26:53,645] Trial 117 finished with value: -0.3378946575397526 and parameters: {'learning_rate': 0.5428378389527906, 'max_depth': 17, 'min_child_weight': 2, 'n_estimators': 242, 'gamma': 0, 'lambda': 13}. Best is trial 115 with value: -0.2984978041375866.\n",
      "[I 2024-08-13 17:26:55,543] Trial 118 finished with value: -0.5160979540647872 and parameters: {'learning_rate': 0.6161039820888856, 'max_depth': 17, 'min_child_weight': 3, 'n_estimators': 245, 'gamma': 1, 'lambda': 14}. Best is trial 115 with value: -0.2984978041375866.\n",
      "[I 2024-08-13 17:27:00,585] Trial 119 finished with value: -0.44910906314965693 and parameters: {'learning_rate': 0.5535779543389883, 'max_depth': 14, 'min_child_weight': 4, 'n_estimators': 251, 'gamma': 0, 'lambda': 13}. Best is trial 115 with value: -0.2984978041375866.\n",
      "[I 2024-08-13 17:27:02,344] Trial 120 finished with value: -0.5585721940379254 and parameters: {'learning_rate': 0.6089148692971396, 'max_depth': 15, 'min_child_weight': 2, 'n_estimators': 214, 'gamma': 2, 'lambda': 13}. Best is trial 115 with value: -0.2984978041375866.\n",
      "[I 2024-08-13 17:27:05,895] Trial 121 finished with value: -0.31122969649593346 and parameters: {'learning_rate': 0.4809099348119259, 'max_depth': 16, 'min_child_weight': 1, 'n_estimators': 242, 'gamma': 0, 'lambda': 11}. Best is trial 115 with value: -0.2984978041375866.\n",
      "[I 2024-08-13 17:27:09,213] Trial 122 finished with value: -0.33010917067626644 and parameters: {'learning_rate': 0.5267600411942995, 'max_depth': 17, 'min_child_weight': 1, 'n_estimators': 234, 'gamma': 0, 'lambda': 12}. Best is trial 115 with value: -0.2984978041375866.\n",
      "[I 2024-08-13 17:27:11,112] Trial 123 finished with value: -0.5181200776520267 and parameters: {'learning_rate': 0.5289818832180992, 'max_depth': 17, 'min_child_weight': 2, 'n_estimators': 239, 'gamma': 1, 'lambda': 12}. Best is trial 115 with value: -0.2984978041375866.\n"
     ]
    },
    {
     "name": "stderr",
     "output_type": "stream",
     "text": [
      "[I 2024-08-13 17:27:15,443] Trial 124 finished with value: -0.33890564290753356 and parameters: {'learning_rate': 0.543546570288204, 'max_depth': 18, 'min_child_weight': 1, 'n_estimators': 257, 'gamma': 0, 'lambda': 11}. Best is trial 115 with value: -0.2984978041375866.\n",
      "[I 2024-08-13 17:27:18,938] Trial 125 finished with value: -0.34533889286674774 and parameters: {'learning_rate': 0.5465590344686133, 'max_depth': 18, 'min_child_weight': 1, 'n_estimators': 264, 'gamma': 0, 'lambda': 11}. Best is trial 115 with value: -0.2984978041375866.\n",
      "[I 2024-08-13 17:27:20,792] Trial 126 finished with value: -0.5490274720326678 and parameters: {'learning_rate': 0.5877189944980995, 'max_depth': 19, 'min_child_weight': 2, 'n_estimators': 245, 'gamma': 1, 'lambda': 11}. Best is trial 115 with value: -0.2984978041375866.\n",
      "[I 2024-08-13 17:27:22,957] Trial 127 finished with value: -0.7544399022448287 and parameters: {'learning_rate': 0.4807318837696125, 'max_depth': 17, 'min_child_weight': 3, 'n_estimators': 280, 'gamma': 7, 'lambda': 12}. Best is trial 115 with value: -0.2984978041375866.\n",
      "[I 2024-08-13 17:27:24,921] Trial 128 finished with value: -0.5147171590162939 and parameters: {'learning_rate': 0.5150395778543951, 'max_depth': 15, 'min_child_weight': 3, 'n_estimators': 252, 'gamma': 1, 'lambda': 12}. Best is trial 115 with value: -0.2984978041375866.\n",
      "[I 2024-08-13 17:27:28,576] Trial 129 finished with value: -0.36457510366890067 and parameters: {'learning_rate': 0.6521700077051, 'max_depth': 18, 'min_child_weight': 1, 'n_estimators': 258, 'gamma': 0, 'lambda': 14}. Best is trial 115 with value: -0.2984978041375866.\n",
      "[I 2024-08-13 17:27:32,794] Trial 130 finished with value: -0.33398067421325467 and parameters: {'learning_rate': 0.6906440895303265, 'max_depth': 19, 'min_child_weight': 2, 'n_estimators': 269, 'gamma': 0, 'lambda': 10}. Best is trial 115 with value: -0.2984978041375866.\n",
      "[I 2024-08-13 17:27:36,137] Trial 131 finished with value: -0.3257679827047184 and parameters: {'learning_rate': 0.6858296641327059, 'max_depth': 20, 'min_child_weight': 2, 'n_estimators': 293, 'gamma': 0, 'lambda': 10}. Best is trial 115 with value: -0.2984978041375866.\n",
      "[I 2024-08-13 17:27:38,155] Trial 132 finished with value: -0.4817441913993688 and parameters: {'learning_rate': 0.7556558752558008, 'max_depth': 20, 'min_child_weight': 2, 'n_estimators': 270, 'gamma': 1, 'lambda': 10}. Best is trial 115 with value: -0.2984978041375866.\n",
      "[I 2024-08-13 17:27:42,435] Trial 133 finished with value: -0.46619355663950507 and parameters: {'learning_rate': 0.7140746143800882, 'max_depth': 19, 'min_child_weight': 4, 'n_estimators': 288, 'gamma': 0, 'lambda': 11}. Best is trial 115 with value: -0.2984978041375866.\n",
      "[I 2024-08-13 17:27:44,879] Trial 134 finished with value: -0.5126520537272707 and parameters: {'learning_rate': 0.5679852277781705, 'max_depth': 20, 'min_child_weight': 2, 'n_estimators': 297, 'gamma': 1, 'lambda': 10}. Best is trial 115 with value: -0.2984978041375866.\n",
      "[I 2024-08-13 17:27:48,964] Trial 135 finished with value: -0.3828407635015296 and parameters: {'learning_rate': 0.6690293314515914, 'max_depth': 18, 'min_child_weight': 3, 'n_estimators': 232, 'gamma': 0, 'lambda': 12}. Best is trial 115 with value: -0.2984978041375866.\n",
      "[I 2024-08-13 17:27:52,886] Trial 136 finished with value: -0.31207975129555793 and parameters: {'learning_rate': 0.6313957425045776, 'max_depth': 19, 'min_child_weight': 2, 'n_estimators': 275, 'gamma': 0, 'lambda': 11}. Best is trial 115 with value: -0.2984978041375866.\n",
      "[I 2024-08-13 17:27:56,194] Trial 137 finished with value: -0.3267537148342043 and parameters: {'learning_rate': 0.6879632896714963, 'max_depth': 19, 'min_child_weight': 2, 'n_estimators': 286, 'gamma': 0, 'lambda': 13}. Best is trial 115 with value: -0.2984978041375866.\n",
      "[I 2024-08-13 17:27:58,263] Trial 138 finished with value: -0.5612121657647127 and parameters: {'learning_rate': 0.6884042269180222, 'max_depth': 19, 'min_child_weight': 2, 'n_estimators': 290, 'gamma': 1, 'lambda': 14}. Best is trial 115 with value: -0.2984978041375866.\n",
      "[I 2024-08-13 17:28:00,381] Trial 139 finished with value: -0.5983283585323894 and parameters: {'learning_rate': 0.7914920981544149, 'max_depth': 20, 'min_child_weight': 16, 'n_estimators': 275, 'gamma': 2, 'lambda': 13}. Best is trial 115 with value: -0.2984978041375866.\n",
      "[I 2024-08-13 17:28:04,959] Trial 140 finished with value: -0.3722815141865471 and parameters: {'learning_rate': 0.6932621123400114, 'max_depth': 19, 'min_child_weight': 3, 'n_estimators': 295, 'gamma': 0, 'lambda': 12}. Best is trial 115 with value: -0.2984978041375866.\n",
      "[I 2024-08-13 17:28:09,017] Trial 141 finished with value: -0.3255801550901293 and parameters: {'learning_rate': 0.6367542238615493, 'max_depth': 19, 'min_child_weight': 2, 'n_estimators': 275, 'gamma': 0, 'lambda': 11}. Best is trial 115 with value: -0.2984978041375866.\n",
      "[I 2024-08-13 17:28:12,899] Trial 142 finished with value: -0.3155190001000895 and parameters: {'learning_rate': 0.6312866652383844, 'max_depth': 20, 'min_child_weight': 2, 'n_estimators': 266, 'gamma': 0, 'lambda': 10}. Best is trial 115 with value: -0.2984978041375866.\n",
      "[I 2024-08-13 17:28:14,928] Trial 143 finished with value: -0.5596066889193182 and parameters: {'learning_rate': 0.6394836105947322, 'max_depth': 20, 'min_child_weight': 2, 'n_estimators': 276, 'gamma': 1, 'lambda': 13}. Best is trial 115 with value: -0.2984978041375866.\n",
      "[I 2024-08-13 17:28:19,850] Trial 144 finished with value: -0.39730865798217796 and parameters: {'learning_rate': 0.6015472336754343, 'max_depth': 19, 'min_child_weight': 3, 'n_estimators': 285, 'gamma': 0, 'lambda': 11}. Best is trial 115 with value: -0.2984978041375866.\n",
      "[I 2024-08-13 17:28:23,328] Trial 145 finished with value: -0.31592772241360556 and parameters: {'learning_rate': 0.6311603883149305, 'max_depth': 20, 'min_child_weight': 2, 'n_estimators': 266, 'gamma': 0, 'lambda': 10}. Best is trial 115 with value: -0.2984978041375866.\n",
      "[I 2024-08-13 17:28:25,600] Trial 146 finished with value: -0.49698204681391833 and parameters: {'learning_rate': 0.6348148450421356, 'max_depth': 20, 'min_child_weight': 2, 'n_estimators': 267, 'gamma': 1, 'lambda': 10}. Best is trial 115 with value: -0.2984978041375866.\n",
      "[I 2024-08-13 17:28:29,979] Trial 147 finished with value: -0.39993772320363247 and parameters: {'learning_rate': 0.7075510766291822, 'max_depth': 20, 'min_child_weight': 3, 'n_estimators': 280, 'gamma': 0, 'lambda': 10}. Best is trial 115 with value: -0.2984978041375866.\n",
      "[I 2024-08-13 17:28:33,261] Trial 148 finished with value: -0.5108097531906298 and parameters: {'learning_rate': 0.6546496724299612, 'max_depth': 19, 'min_child_weight': 2, 'n_estimators': 292, 'gamma': 1, 'lambda': 11}. Best is trial 115 with value: -0.2984978041375866.\n",
      "[I 2024-08-13 17:28:40,159] Trial 149 finished with value: -0.40519836109568763 and parameters: {'learning_rate': 0.6233905520397807, 'max_depth': 20, 'min_child_weight': 3, 'n_estimators': 275, 'gamma': 0, 'lambda': 11}. Best is trial 115 with value: -0.2984978041375866.\n",
      "[I 2024-08-13 17:28:42,254] Trial 150 finished with value: -0.5267900146543361 and parameters: {'learning_rate': 0.6823434201446887, 'max_depth': 19, 'min_child_weight': 2, 'n_estimators': 265, 'gamma': 2, 'lambda': 10}. Best is trial 115 with value: -0.2984978041375866.\n",
      "[I 2024-08-13 17:28:45,533] Trial 151 finished with value: -0.33541266736803227 and parameters: {'learning_rate': 0.7322304710184813, 'max_depth': 20, 'min_child_weight': 2, 'n_estimators': 272, 'gamma': 0, 'lambda': 12}. Best is trial 115 with value: -0.2984978041375866.\n",
      "[I 2024-08-13 17:28:49,100] Trial 152 finished with value: -0.3283227024712714 and parameters: {'learning_rate': 0.7141118690723011, 'max_depth': 20, 'min_child_weight': 1, 'n_estimators': 286, 'gamma': 0, 'lambda': 12}. Best is trial 115 with value: -0.2984978041375866.\n",
      "[I 2024-08-13 17:28:53,228] Trial 153 finished with value: -0.3380382509146088 and parameters: {'learning_rate': 0.578292398443518, 'max_depth': 19, 'min_child_weight': 1, 'n_estimators': 280, 'gamma': 0, 'lambda': 12}. Best is trial 115 with value: -0.2984978041375866.\n",
      "[I 2024-08-13 17:28:55,442] Trial 154 finished with value: -0.48849721962869935 and parameters: {'learning_rate': 0.7508803993538616, 'max_depth': 20, 'min_child_weight': 1, 'n_estimators': 287, 'gamma': 1, 'lambda': 10}. Best is trial 115 with value: -0.2984978041375866.\n"
     ]
    },
    {
     "name": "stderr",
     "output_type": "stream",
     "text": [
      "[I 2024-08-13 17:28:58,807] Trial 155 finished with value: -0.5253137585298095 and parameters: {'learning_rate': 0.70283862501721, 'max_depth': 20, 'min_child_weight': 9, 'n_estimators': 284, 'gamma': 0, 'lambda': 11}. Best is trial 115 with value: -0.2984978041375866.\n",
      "[I 2024-08-13 17:29:01,169] Trial 156 finished with value: -0.47451892879140023 and parameters: {'learning_rate': 0.6651271192739956, 'max_depth': 19, 'min_child_weight': 4, 'n_estimators': 299, 'gamma': 1, 'lambda': 8}. Best is trial 115 with value: -0.2984978041375866.\n",
      "[I 2024-08-13 17:29:05,978] Trial 157 finished with value: -0.3317762410087279 and parameters: {'learning_rate': 0.7176447427526417, 'max_depth': 18, 'min_child_weight': 1, 'n_estimators': 262, 'gamma': 0, 'lambda': 12}. Best is trial 115 with value: -0.2984978041375866.\n",
      "[I 2024-08-13 17:29:09,677] Trial 158 finished with value: -0.3345036406402472 and parameters: {'learning_rate': 0.7330850647080864, 'max_depth': 18, 'min_child_weight': 2, 'n_estimators': 261, 'gamma': 0, 'lambda': 10}. Best is trial 115 with value: -0.2984978041375866.\n",
      "[I 2024-08-13 17:29:11,684] Trial 159 finished with value: -0.52310141922416 and parameters: {'learning_rate': 0.6339594704060038, 'max_depth': 18, 'min_child_weight': 3, 'n_estimators': 269, 'gamma': 1, 'lambda': 11}. Best is trial 115 with value: -0.2984978041375866.\n",
      "[I 2024-08-13 17:29:15,011] Trial 160 finished with value: -0.32949592445325043 and parameters: {'learning_rate': 0.7149683141276602, 'max_depth': 19, 'min_child_weight': 1, 'n_estimators': 257, 'gamma': 0, 'lambda': 12}. Best is trial 115 with value: -0.2984978041375866.\n",
      "[I 2024-08-13 17:29:18,127] Trial 161 finished with value: -0.32750205282490674 and parameters: {'learning_rate': 0.7110011254545014, 'max_depth': 19, 'min_child_weight': 1, 'n_estimators': 259, 'gamma': 0, 'lambda': 12}. Best is trial 115 with value: -0.2984978041375866.\n",
      "[I 2024-08-13 17:29:21,701] Trial 162 finished with value: -0.3466027921186764 and parameters: {'learning_rate': 0.785085256757861, 'max_depth': 19, 'min_child_weight': 1, 'n_estimators': 256, 'gamma': 0, 'lambda': 13}. Best is trial 115 with value: -0.2984978041375866.\n",
      "[I 2024-08-13 17:29:24,379] Trial 163 finished with value: -0.5044744703230248 and parameters: {'learning_rate': 0.7240475379142971, 'max_depth': 20, 'min_child_weight': 1, 'n_estimators': 275, 'gamma': 1, 'lambda': 12}. Best is trial 115 with value: -0.2984978041375866.\n",
      "[I 2024-08-13 17:29:28,212] Trial 164 finished with value: -0.34746934291894566 and parameters: {'learning_rate': 0.6557541864901411, 'max_depth': 19, 'min_child_weight': 1, 'n_estimators': 262, 'gamma': 0, 'lambda': 12}. Best is trial 115 with value: -0.2984978041375866.\n",
      "[I 2024-08-13 17:29:31,423] Trial 165 finished with value: -0.3900068900296113 and parameters: {'learning_rate': 0.834910016828792, 'max_depth': 18, 'min_child_weight': 2, 'n_estimators': 250, 'gamma': 0, 'lambda': 11}. Best is trial 115 with value: -0.2984978041375866.\n",
      "[I 2024-08-13 17:29:33,711] Trial 166 finished with value: -0.5312698368197756 and parameters: {'learning_rate': 0.6784809816513533, 'max_depth': 20, 'min_child_weight': 1, 'n_estimators': 290, 'gamma': 1, 'lambda': 12}. Best is trial 115 with value: -0.2984978041375866.\n",
      "[I 2024-08-13 17:29:37,345] Trial 167 finished with value: -0.3351180776200471 and parameters: {'learning_rate': 0.7164520623223412, 'max_depth': 19, 'min_child_weight': 2, 'n_estimators': 256, 'gamma': 0, 'lambda': 11}. Best is trial 115 with value: -0.2984978041375866.\n",
      "[I 2024-08-13 17:29:40,468] Trial 168 finished with value: -0.5598553984995646 and parameters: {'learning_rate': 0.7705827236998135, 'max_depth': 18, 'min_child_weight': 13, 'n_estimators': 248, 'gamma': 0, 'lambda': 14}. Best is trial 115 with value: -0.2984978041375866.\n",
      "[I 2024-08-13 17:29:42,533] Trial 169 finished with value: -0.5427620468247277 and parameters: {'learning_rate': 0.6129378349703314, 'max_depth': 20, 'min_child_weight': 1, 'n_estimators': 265, 'gamma': 1, 'lambda': 13}. Best is trial 115 with value: -0.2984978041375866.\n",
      "[I 2024-08-13 17:29:47,196] Trial 170 finished with value: -0.3343381760641088 and parameters: {'learning_rate': 0.4852347294135282, 'max_depth': 0, 'min_child_weight': 2, 'n_estimators': 279, 'gamma': 0, 'lambda': 12}. Best is trial 115 with value: -0.2984978041375866.\n",
      "[I 2024-08-13 17:29:51,433] Trial 171 finished with value: -0.348860604783222 and parameters: {'learning_rate': 0.6976892234622272, 'max_depth': 19, 'min_child_weight': 2, 'n_estimators': 269, 'gamma': 0, 'lambda': 10}. Best is trial 115 with value: -0.2984978041375866.\n",
      "[I 2024-08-13 17:29:55,974] Trial 172 finished with value: -0.33460155404461495 and parameters: {'learning_rate': 0.670177272594784, 'max_depth': 19, 'min_child_weight': 1, 'n_estimators': 260, 'gamma': 0, 'lambda': 11}. Best is trial 115 with value: -0.2984978041375866.\n",
      "[I 2024-08-13 17:29:59,338] Trial 173 finished with value: -0.3224734312538081 and parameters: {'learning_rate': 0.7568602121560662, 'max_depth': 18, 'min_child_weight': 2, 'n_estimators': 273, 'gamma': 0, 'lambda': 13}. Best is trial 115 with value: -0.2984978041375866.\n",
      "[I 2024-08-13 17:30:01,429] Trial 174 finished with value: -0.5087666948286588 and parameters: {'learning_rate': 0.7498472797579485, 'max_depth': 18, 'min_child_weight': 1, 'n_estimators': 284, 'gamma': 1, 'lambda': 13}. Best is trial 115 with value: -0.2984978041375866.\n",
      "[I 2024-08-13 17:30:05,973] Trial 175 finished with value: -0.3825629694516566 and parameters: {'learning_rate': 0.8083230586029156, 'max_depth': 17, 'min_child_weight': 3, 'n_estimators': 275, 'gamma': 0, 'lambda': 13}. Best is trial 115 with value: -0.2984978041375866.\n",
      "[I 2024-08-13 17:30:10,316] Trial 176 finished with value: -0.3315611414557013 and parameters: {'learning_rate': 0.7353563678726136, 'max_depth': 18, 'min_child_weight': 1, 'n_estimators': 244, 'gamma': 0, 'lambda': 12}. Best is trial 115 with value: -0.2984978041375866.\n",
      "[I 2024-08-13 17:30:12,564] Trial 177 finished with value: -0.8739523137126252 and parameters: {'learning_rate': 0.7766340399439506, 'max_depth': 19, 'min_child_weight': 20, 'n_estimators': 232, 'gamma': 1, 'lambda': 11}. Best is trial 115 with value: -0.2984978041375866.\n",
      "[I 2024-08-13 17:30:17,367] Trial 178 finished with value: -0.3385081938114064 and parameters: {'learning_rate': 0.7369547990688847, 'max_depth': 20, 'min_child_weight': 2, 'n_estimators': 246, 'gamma': 0, 'lambda': 12}. Best is trial 115 with value: -0.2984978041375866.\n",
      "[I 2024-08-13 17:30:19,791] Trial 179 finished with value: -0.873952313740847 and parameters: {'learning_rate': 0.6499092760275403, 'max_depth': 16, 'min_child_weight': 3, 'n_estimators': 293, 'gamma': 14, 'lambda': 13}. Best is trial 115 with value: -0.2984978041375866.\n",
      "[I 2024-08-13 17:30:21,668] Trial 180 finished with value: -0.5404923937413443 and parameters: {'learning_rate': 0.46295249086894474, 'max_depth': 17, 'min_child_weight': 2, 'n_estimators': 241, 'gamma': 1, 'lambda': 14}. Best is trial 115 with value: -0.2984978041375866.\n",
      "[I 2024-08-13 17:30:24,873] Trial 181 finished with value: -0.3283523539436523 and parameters: {'learning_rate': 0.7144358878219236, 'max_depth': 18, 'min_child_weight': 1, 'n_estimators': 255, 'gamma': 0, 'lambda': 12}. Best is trial 115 with value: -0.2984978041375866.\n",
      "[I 2024-08-13 17:30:28,786] Trial 182 finished with value: -0.33849827019331574 and parameters: {'learning_rate': 0.5917984577930769, 'max_depth': 19, 'min_child_weight': 1, 'n_estimators': 256, 'gamma': 0, 'lambda': 11}. Best is trial 115 with value: -0.2984978041375866.\n",
      "[I 2024-08-13 17:30:31,809] Trial 183 finished with value: -0.34578012071793063 and parameters: {'learning_rate': 0.7544780147413059, 'max_depth': 18, 'min_child_weight': 2, 'n_estimators': 251, 'gamma': 0, 'lambda': 12}. Best is trial 115 with value: -0.2984978041375866.\n",
      "[I 2024-08-13 17:30:33,830] Trial 184 finished with value: -0.3818540905994478 and parameters: {'learning_rate': 0.7055513326524038, 'max_depth': 1, 'min_child_weight': 1, 'n_estimators': 236, 'gamma': 0, 'lambda': 12}. Best is trial 115 with value: -0.2984978041375866.\n",
      "[I 2024-08-13 17:30:36,416] Trial 185 finished with value: -0.5309478634102938 and parameters: {'learning_rate': 0.49761879912362816, 'max_depth': 20, 'min_child_weight': 2, 'n_estimators': 243, 'gamma': 1, 'lambda': 13}. Best is trial 115 with value: -0.2984978041375866.\n"
     ]
    },
    {
     "name": "stderr",
     "output_type": "stream",
     "text": [
      "[I 2024-08-13 17:30:38,851] Trial 186 finished with value: -0.8519624867471252 and parameters: {'learning_rate': 0.6807000277272892, 'max_depth': 18, 'min_child_weight': 1, 'n_estimators': 273, 'gamma': 11, 'lambda': 11}. Best is trial 115 with value: -0.2984978041375866.\n",
      "[I 2024-08-13 17:30:44,384] Trial 187 finished with value: -0.5645496763740939 and parameters: {'learning_rate': 0.6400368416839891, 'max_depth': 20, 'min_child_weight': 7, 'n_estimators': 300, 'gamma': 0, 'lambda': 11}. Best is trial 115 with value: -0.2984978041375866.\n",
      "[I 2024-08-13 17:30:47,751] Trial 188 finished with value: -0.33685110377687 and parameters: {'learning_rate': 0.7353574681035026, 'max_depth': 18, 'min_child_weight': 2, 'n_estimators': 226, 'gamma': 0, 'lambda': 12}. Best is trial 115 with value: -0.2984978041375866.\n",
      "[I 2024-08-13 17:30:49,847] Trial 189 finished with value: -0.5066885263958378 and parameters: {'learning_rate': 0.6158012091922518, 'max_depth': 19, 'min_child_weight': 0, 'n_estimators': 286, 'gamma': 1, 'lambda': 10}. Best is trial 115 with value: -0.2984978041375866.\n",
      "[I 2024-08-13 17:30:54,780] Trial 190 finished with value: -0.36350302231440573 and parameters: {'learning_rate': 0.02483516826667921, 'max_depth': 17, 'min_child_weight': 1, 'n_estimators': 253, 'gamma': 0, 'lambda': 10}. Best is trial 115 with value: -0.2984978041375866.\n",
      "[I 2024-08-13 17:30:58,948] Trial 191 finished with value: -0.32515040823058017 and parameters: {'learning_rate': 0.7165850872635936, 'max_depth': 18, 'min_child_weight': 1, 'n_estimators': 262, 'gamma': 0, 'lambda': 12}. Best is trial 115 with value: -0.2984978041375866.\n",
      "[I 2024-08-13 17:31:02,689] Trial 192 finished with value: -0.3305198908460478 and parameters: {'learning_rate': 0.7027290516710564, 'max_depth': 17, 'min_child_weight': 2, 'n_estimators': 263, 'gamma': 0, 'lambda': 13}. Best is trial 115 with value: -0.2984978041375866.\n",
      "[I 2024-08-13 17:31:06,235] Trial 193 finished with value: -0.3946012717619457 and parameters: {'learning_rate': 0.700673868591273, 'max_depth': 16, 'min_child_weight': 3, 'n_estimators': 265, 'gamma': 0, 'lambda': 13}. Best is trial 115 with value: -0.2984978041375866.\n",
      "[I 2024-08-13 17:31:08,442] Trial 194 finished with value: -0.5439819564749512 and parameters: {'learning_rate': 0.6672395246899567, 'max_depth': 17, 'min_child_weight': 2, 'n_estimators': 269, 'gamma': 1, 'lambda': 13}. Best is trial 115 with value: -0.2984978041375866.\n",
      "[I 2024-08-13 17:31:12,370] Trial 195 finished with value: -0.3355992666751911 and parameters: {'learning_rate': 0.7175887663627925, 'max_depth': 17, 'min_child_weight': 2, 'n_estimators': 281, 'gamma': 0, 'lambda': 15}. Best is trial 115 with value: -0.2984978041375866.\n",
      "[I 2024-08-13 17:31:14,709] Trial 196 finished with value: -0.5291389843296356 and parameters: {'learning_rate': 0.5712359119321289, 'max_depth': 19, 'min_child_weight': 3, 'n_estimators': 259, 'gamma': 1, 'lambda': 11}. Best is trial 115 with value: -0.2984978041375866.\n",
      "[I 2024-08-13 17:31:18,382] Trial 197 finished with value: -0.3624448103335126 and parameters: {'learning_rate': 0.6892482392300513, 'max_depth': 16, 'min_child_weight': 1, 'n_estimators': 276, 'gamma': 0, 'lambda': 14}. Best is trial 115 with value: -0.2984978041375866.\n",
      "[I 2024-08-13 17:31:20,952] Trial 198 finished with value: -0.35802137900678843 and parameters: {'learning_rate': 0.7572444573307316, 'max_depth': 3, 'min_child_weight': 2, 'n_estimators': 265, 'gamma': 0, 'lambda': 9}. Best is trial 115 with value: -0.2984978041375866.\n",
      "[I 2024-08-13 17:31:24,052] Trial 199 finished with value: -0.3225513249736008 and parameters: {'learning_rate': 0.6643569151781947, 'max_depth': 20, 'min_child_weight': 2, 'n_estimators': 256, 'gamma': 0, 'lambda': 12}. Best is trial 115 with value: -0.2984978041375866.\n"
     ]
    }
   ],
   "source": [
    "# Create a study object and optimize the objective function\n",
    "study = optuna.create_study(direction='maximize')\n",
    "study.optimize(objective, n_trials=200)"
   ]
  },
  {
   "cell_type": "code",
   "execution_count": 17,
   "metadata": {},
   "outputs": [
    {
     "name": "stdout",
     "output_type": "stream",
     "text": [
      "Best hyperparameters:  {'learning_rate': 0.5411097064942365, 'max_depth': 16, 'min_child_weight': 2, 'n_estimators': 229, 'gamma': 0, 'lambda': 11}\n",
      "Best performance:  -0.2984978041375866\n"
     ]
    }
   ],
   "source": [
    "# Print the best set of hyperparameters\n",
    "print('Best hyperparameters: ', study.best_params)\n",
    "# Print the corresponding performance\n",
    "print('Best performance: ', study.best_value)"
   ]
  },
  {
   "cell_type": "code",
   "execution_count": 18,
   "metadata": {},
   "outputs": [],
   "source": [
    "set_parameters = study.best_params"
   ]
  },
  {
   "cell_type": "code",
   "execution_count": 19,
   "metadata": {},
   "outputs": [],
   "source": [
    "def mine_test(X,y, set_parameters= set_parameters): # testa o ajuste\n",
    "  rows=X.shape[0]\n",
    "  cols =X.shape[1]\n",
    "\n",
    "  y_pred   = []\n",
    "\n",
    "  for i in range(rows):\n",
    "    X_train = np.delete(X,i,axis=0)\n",
    "    y_train = np.delete(y,i,axis=0)\n",
    "    X_test  = X[i,:].reshape(1,cols)\n",
    "    y_test  = y[i]\n",
    "    model =  XGBRegressor(**set_parameters)\n",
    "    model = model.fit(X_train, y_train.reshape(-1,1))\n",
    "    yi = model.predict(X_test)\n",
    "    y_pred.append(yi)\n",
    "\n",
    "  y_pred = np.array(y_pred)\n",
    "  #print(model)\n",
    "\n",
    "  return y_pred"
   ]
  },
  {
   "cell_type": "code",
   "execution_count": 20,
   "metadata": {},
   "outputs": [],
   "source": [
    "y_pred = mine_test(X , y)\n",
    "y_true = y"
   ]
  },
  {
   "cell_type": "code",
   "execution_count": 22,
   "metadata": {},
   "outputs": [
    {
     "name": "stdout",
     "output_type": "stream",
     "text": [
      "mae : 0.2984978041375866\n",
      "rmse : 0.4434466455946895\n",
      "r-score : 0.8033550725108178\n"
     ]
    }
   ],
   "source": [
    "print('mae :', mean_absolute_error(y_true, y_pred))\n",
    "print('rmse :', root_mean_squared_error(y_true, y_pred))\n",
    "print('r-score :',r2_score(y_true, y_pred))"
   ]
  },
  {
   "cell_type": "code",
   "execution_count": 23,
   "metadata": {},
   "outputs": [
    {
     "name": "stdout",
     "output_type": "stream",
     "text": [
      "learning_rate 0.5411097064942365\n",
      "max_depth 16\n",
      "min_child_weight 2\n",
      "n_estimators 229\n",
      "gamma 0\n",
      "lambda 11\n"
     ]
    }
   ],
   "source": [
    "for value in set_parameters:\n",
    "    print(value,set_parameters[value])"
   ]
  },
  {
   "cell_type": "code",
   "execution_count": null,
   "metadata": {},
   "outputs": [],
   "source": []
  }
 ],
 "metadata": {
  "colab": {
   "provenance": []
  },
  "kernelspec": {
   "display_name": "Python 3 (ipykernel)",
   "language": "python",
   "name": "python3"
  },
  "language_info": {
   "codemirror_mode": {
    "name": "ipython",
    "version": 3
   },
   "file_extension": ".py",
   "mimetype": "text/x-python",
   "name": "python",
   "nbconvert_exporter": "python",
   "pygments_lexer": "ipython3",
   "version": "3.12.7"
  }
 },
 "nbformat": 4,
 "nbformat_minor": 4
}
