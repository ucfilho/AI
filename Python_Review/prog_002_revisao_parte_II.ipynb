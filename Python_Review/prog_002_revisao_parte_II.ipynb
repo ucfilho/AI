{
  "nbformat": 4,
  "nbformat_minor": 0,
  "metadata": {
    "colab": {
      "provenance": [],
      "authorship_tag": "ABX9TyMjnTAxh8Pv2gHEV1hfh/BY",
      "include_colab_link": true
    },
    "kernelspec": {
      "name": "python3",
      "display_name": "Python 3"
    },
    "language_info": {
      "name": "python"
    }
  },
  "cells": [
    {
      "cell_type": "markdown",
      "metadata": {
        "id": "view-in-github",
        "colab_type": "text"
      },
      "source": [
        "<a href=\"https://colab.research.google.com/github/ucfilho/AI/blob/main/Python_Review/prog_002_revisao_parte_II.ipynb\" target=\"_parent\"><img src=\"https://colab.research.google.com/assets/colab-badge.svg\" alt=\"Open In Colab\"/></a>"
      ]
    },
    {
      "cell_type": "code",
      "execution_count": 70,
      "metadata": {
        "id": "9uAWVVC2SFy-"
      },
      "outputs": [],
      "source": [
        "import numpy as np\n"
      ]
    },
    {
      "cell_type": "code",
      "source": [
        "class Student_more_general:\n",
        "  def __init__(self, name, grades):\n",
        "    self.name = name\n",
        "    self.grades = grades\n",
        "\n",
        "  def average(self):\n",
        "    return sum(self.grades)/len(self.grades)\n",
        "  \n",
        "  def status(self):\n",
        "    valor = sum(self.grades)/len(self.grades)\n",
        "    if valor >= 50:\n",
        "      status ='aprovado'\n",
        "    else:\n",
        "      status = 'nao aprovado'\n",
        "    return status\n",
        "  \n",
        "\n",
        "\n",
        "student1 = Student_more_general('John',(90,90,93,78,90))\n",
        "student2 = Student_more_general('Sarah',(90,90,93,100,90))\n",
        "print(student1.average())\n",
        "print(student2.status())"
      ],
      "metadata": {
        "colab": {
          "base_uri": "https://localhost:8080/"
        },
        "id": "c77zyC31Tt1W",
        "outputId": "977ee2af-ddb2-46d3-b0ae-26c5d40c5322"
      },
      "execution_count": 71,
      "outputs": [
        {
          "output_type": "stream",
          "name": "stdout",
          "text": [
            "88.2\n",
            "aprovado\n"
          ]
        }
      ]
    },
    {
      "cell_type": "code",
      "source": [
        "import pandas as pd\n",
        "df = pd.DataFrame({'a':[1,2,3],'b':[3,4,5]})\n",
        "print(df)"
      ],
      "metadata": {
        "colab": {
          "base_uri": "https://localhost:8080/"
        },
        "id": "4WihiST1V9TU",
        "outputId": "ac622e5a-039d-475e-d618-c0949c1e69bd"
      },
      "execution_count": 72,
      "outputs": [
        {
          "output_type": "stream",
          "name": "stdout",
          "text": [
            "   a  b\n",
            "0  1  3\n",
            "1  2  4\n",
            "2  3  5\n"
          ]
        }
      ]
    },
    {
      "cell_type": "code",
      "source": [
        "df.a"
      ],
      "metadata": {
        "colab": {
          "base_uri": "https://localhost:8080/"
        },
        "id": "c3ivDmsRXNSk",
        "outputId": "44e6d3ac-b7dc-4475-b367-983e970863d5"
      },
      "execution_count": 73,
      "outputs": [
        {
          "output_type": "execute_result",
          "data": {
            "text/plain": [
              "0    1\n",
              "1    2\n",
              "2    3\n",
              "Name: a, dtype: int64"
            ]
          },
          "metadata": {},
          "execution_count": 73
        }
      ]
    },
    {
      "cell_type": "code",
      "source": [
        "def fun(x):\n",
        "  y = (x -3)**2\n",
        "  return y"
      ],
      "metadata": {
        "id": "lhuw5nnAXjUG"
      },
      "execution_count": 74,
      "outputs": []
    },
    {
      "cell_type": "code",
      "source": [
        "x = [1,2,3,4,5]\n",
        "for xi in x:\n",
        "  print('f(',xi,')=',fun(xi))"
      ],
      "metadata": {
        "colab": {
          "base_uri": "https://localhost:8080/"
        },
        "id": "4_tYgiG8X7rc",
        "outputId": "edab3e57-38c3-4578-cf31-0570e9080ee5"
      },
      "execution_count": 75,
      "outputs": [
        {
          "output_type": "stream",
          "name": "stdout",
          "text": [
            "f( 1 )= 4\n",
            "f( 2 )= 1\n",
            "f( 3 )= 0\n",
            "f( 4 )= 1\n",
            "f( 5 )= 4\n"
          ]
        }
      ]
    },
    {
      "cell_type": "code",
      "source": [
        "def population(pop,a,b):\n",
        "  population = []\n",
        "  for i in range(pop):\n",
        "    xi = a + np.random.uniform()*(b-a)\n",
        "    population.append(xi)\n",
        "  return population\n",
        "  "
      ],
      "metadata": {
        "id": "SelhVlAudGMM"
      },
      "execution_count": 76,
      "outputs": []
    },
    {
      "cell_type": "code",
      "source": [
        "def metodo(pop,a,b,gen):\n",
        "  best = 1e99\n",
        "  melhores = []\n",
        "  for i in range(gen):\n",
        "    x = population(pop,a,b)\n",
        "    for xi in x:\n",
        "      yi = fun(xi)\n",
        "      if yi < best:\n",
        "        best = yi\n",
        "        xbest = xi\n",
        "    melhores.append([xbest,best])\n",
        "\n",
        "  return melhores\n",
        "    \n",
        "\n"
      ],
      "metadata": {
        "id": "EEuneyXvejes"
      },
      "execution_count": 77,
      "outputs": []
    },
    {
      "cell_type": "code",
      "source": [
        "pop = 3\n",
        "a,b = 0,5\n",
        "gen =4\n",
        "elementos = metodo(pop,a,b,gen)\n",
        "for valores in elementos:\n",
        "  print(valores)"
      ],
      "metadata": {
        "colab": {
          "base_uri": "https://localhost:8080/"
        },
        "id": "0SKRSEsKgCrj",
        "outputId": "62e1d71e-726d-45b7-f7a4-488deb971bce"
      },
      "execution_count": 78,
      "outputs": [
        {
          "output_type": "stream",
          "name": "stdout",
          "text": [
            "[4.223726984970347, 1.4975077337446163]\n",
            "[3.185402181289616, 0.034373968826947654]\n",
            "[3.185402181289616, 0.034373968826947654]\n",
            "[3.185402181289616, 0.034373968826947654]\n"
          ]
        }
      ]
    },
    {
      "cell_type": "code",
      "source": [
        "gen = 10\n",
        "pop = 5\n",
        "a, b = 0, 10\n",
        "valores = population(pop,a,b)\n",
        "print(valores)"
      ],
      "metadata": {
        "colab": {
          "base_uri": "https://localhost:8080/"
        },
        "id": "eOoXzPJ9dur8",
        "outputId": "1daab9af-2d06-4586-ed42-0e739fcbc223"
      },
      "execution_count": 79,
      "outputs": [
        {
          "output_type": "stream",
          "name": "stdout",
          "text": [
            "[2.8371928646582525, 8.911615765520539, 8.996650819189634, 7.960223372232696, 4.576013342580113]\n"
          ]
        }
      ]
    },
    {
      "cell_type": "code",
      "source": [
        "gen = 10\n",
        "pop = 5\n",
        "a, b = 0, 10\n",
        "for i in range(gen):\n",
        "  xi = a + np.random.uniform()*(b-a)\n",
        "  print('f(',xi,')=',fun(xi))\n"
      ],
      "metadata": {
        "colab": {
          "base_uri": "https://localhost:8080/"
        },
        "id": "W03iL2bocD67",
        "outputId": "71cecd1a-2d4d-449e-9c7a-b3d1d9755e12"
      },
      "execution_count": 80,
      "outputs": [
        {
          "output_type": "stream",
          "name": "stdout",
          "text": [
            "f( 3.9770083046409246 )= 0.9545452273373337\n",
            "f( 8.2911246087577 )= 27.995999625401325\n",
            "f( 3.115146386976375 )= 0.013258690433713133\n",
            "f( 0.2755412084427822 )= 7.422675706893416\n",
            "f( 2.4449754494350904 )= 0.3080522517297799\n",
            "f( 0.20020082029968633 )= 7.838875446650548\n",
            "f( 7.713388462643419 )= 22.216030799780093\n",
            "f( 2.6684988207868257 )= 0.10989303181972514\n",
            "f( 2.558754691613964 )= 0.19469742217268815\n",
            "f( 9.932713390258224 )= 48.06251495146567\n"
          ]
        }
      ]
    },
    {
      "cell_type": "code",
      "source": [
        "s = np.random.uniform(-1,0,3)\n",
        "print(s)"
      ],
      "metadata": {
        "colab": {
          "base_uri": "https://localhost:8080/"
        },
        "id": "pai_ekNIbcs1",
        "outputId": "e0737010-4508-40a5-86ff-e604ad848cf5"
      },
      "execution_count": 81,
      "outputs": [
        {
          "output_type": "stream",
          "name": "stdout",
          "text": [
            "[-0.33695004 -0.62585515 -0.34451846]\n"
          ]
        }
      ]
    },
    {
      "cell_type": "code",
      "source": [
        "s = np.random.uniform()\n",
        "print(s)"
      ],
      "metadata": {
        "colab": {
          "base_uri": "https://localhost:8080/"
        },
        "id": "h4m4Gugcbz3S",
        "outputId": "3ae4dfa7-e1df-470d-ee06-c0fe5dd1dc0b"
      },
      "execution_count": 82,
      "outputs": [
        {
          "output_type": "stream",
          "name": "stdout",
          "text": [
            "0.6774664421752195\n"
          ]
        }
      ]
    },
    {
      "cell_type": "code",
      "source": [
        "print(np.random.uniform())\n",
        "a = []\n",
        "for i in range(10):\n",
        "  a.append(np.random.uniform())\n",
        "print(a)"
      ],
      "metadata": {
        "colab": {
          "base_uri": "https://localhost:8080/"
        },
        "id": "BzmwD4ppr-bB",
        "outputId": "fc26b61d-4bcf-43b3-c398-c4d137dba33f"
      },
      "execution_count": 83,
      "outputs": [
        {
          "output_type": "stream",
          "name": "stdout",
          "text": [
            "0.5754067302983064\n",
            "[0.5970342390354626, 0.7597259662618968, 0.28304912364477597, 0.6724292034244858, 0.13673820751374044, 0.8984258859195314, 0.9453885543371624, 0.5806544630809138, 0.6753110604934034, 0.2733136007299928]\n"
          ]
        }
      ]
    },
    {
      "cell_type": "code",
      "source": [
        "a = [np.random.uniform() for i in range(4) ] # list comprehension\n",
        "print(a)\n",
        "print(np.min(a))\n",
        "print(np.max(a))"
      ],
      "metadata": {
        "colab": {
          "base_uri": "https://localhost:8080/"
        },
        "id": "9CVhWtF4sibR",
        "outputId": "5e010a2f-a9ce-45c3-b417-405e0b2cffdd"
      },
      "execution_count": 84,
      "outputs": [
        {
          "output_type": "stream",
          "name": "stdout",
          "text": [
            "[0.8738025363451883, 0.417302229342545, 0.14097003932644148, 0.9826523401867613]\n",
            "0.14097003932644148\n",
            "0.9826523401867613\n"
          ]
        }
      ]
    },
    {
      "cell_type": "code",
      "source": [
        "np.argmin(a)"
      ],
      "metadata": {
        "colab": {
          "base_uri": "https://localhost:8080/"
        },
        "id": "NYKjJCSjtYkY",
        "outputId": "f89766aa-4570-408e-ca75-b6d55475ef6f"
      },
      "execution_count": 85,
      "outputs": [
        {
          "output_type": "execute_result",
          "data": {
            "text/plain": [
              "2"
            ]
          },
          "metadata": {},
          "execution_count": 85
        }
      ]
    },
    {
      "cell_type": "code",
      "source": [
        "import numpy as np\n",
        "from scipy.optimize import differential_evolution"
      ],
      "metadata": {
        "id": "hfqzyhVHvCwH"
      },
      "execution_count": 86,
      "outputs": []
    },
    {
      "cell_type": "code",
      "source": [
        "def ackley(x):\n",
        "    arg1 = -0.2 * np.sqrt(0.5 * (x[0] ** 2 + x[1] ** 2))\n",
        "    arg2 = 0.5 * (np.cos(2. * np.pi * x[0]) + np.cos(2. * np.pi * x[1]))\n",
        "    return -20. * np.exp(arg1) - np.exp(arg2) + 20. + np.e\n",
        "\n",
        "bounds = [(-5, 5), (-5, 5)]\n",
        "result = differential_evolution(ackley, bounds, maxiter=10, popsize=100, tol=0.001)\n",
        "\n",
        "print(result.x, result.fun)\n"
      ],
      "metadata": {
        "colab": {
          "base_uri": "https://localhost:8080/"
        },
        "id": "DijNSO9su5j4",
        "outputId": "fdb8a188-ee95-4b03-85a3-22836c57fc99"
      },
      "execution_count": 87,
      "outputs": [
        {
          "output_type": "stream",
          "name": "stdout",
          "text": [
            "[-5.05030903e-09 -4.82386422e-09] 1.9753539692857203e-08\n"
          ]
        }
      ]
    },
    {
      "cell_type": "code",
      "source": [
        "from scipy.optimize import minimize\n",
        "x0 = [3,5]\n",
        "metodo = 'Nelder-Mead'\n",
        "metodo = 'BFGS'\n",
        "answer = minimize(ackley, x0, method=metodo, tol=1e-12, options={'maxiter': 10000})\n",
        "print(answer.x, answer.fun)"
      ],
      "metadata": {
        "colab": {
          "base_uri": "https://localhost:8080/"
        },
        "id": "e67Q7sazyEVH",
        "outputId": "523d297d-219c-42d9-bfb5-2f08aa801365"
      },
      "execution_count": 88,
      "outputs": [
        {
          "output_type": "stream",
          "name": "stdout",
          "text": [
            "[2.98799505 4.97995793] 11.217549480016741\n"
          ]
        }
      ]
    },
    {
      "cell_type": "code",
      "source": [
        "def soma(vetor, quantidade=2):\n",
        "  if quantidade > len(vetor):\n",
        "    n = len(vetor)\n",
        "  else:\n",
        "    n = quantidade\n",
        "  result = 0\n",
        "  for i in range(n):\n",
        "    result = result + vetor[i]\n",
        "  return result\n"
      ],
      "metadata": {
        "id": "dBufaxL-0GW3"
      },
      "execution_count": 89,
      "outputs": []
    },
    {
      "cell_type": "code",
      "source": [
        "vetor = [1,2,3,4,5,6,7]\n",
        "quant = 1\n",
        "print(soma(vetor) )\n",
        "print(soma(vetor,4))"
      ],
      "metadata": {
        "colab": {
          "base_uri": "https://localhost:8080/"
        },
        "id": "u7PodovS0qq-",
        "outputId": "9128c236-519b-4240-d6c7-a16ebc79b768"
      },
      "execution_count": 90,
      "outputs": [
        {
          "output_type": "stream",
          "name": "stdout",
          "text": [
            "3\n",
            "10\n"
          ]
        }
      ]
    }
  ]
}