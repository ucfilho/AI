{
  "nbformat": 4,
  "nbformat_minor": 0,
  "metadata": {
    "colab": {
      "provenance": [],
      "include_colab_link": true
    },
    "kernelspec": {
      "name": "python3",
      "display_name": "Python 3"
    },
    "language_info": {
      "name": "python"
    }
  },
  "cells": [
    {
      "cell_type": "markdown",
      "metadata": {
        "id": "view-in-github",
        "colab_type": "text"
      },
      "source": [
        "<a href=\"https://colab.research.google.com/github/ucfilho/AI/blob/main/AI_2023/RNN/LSTM_Temporal_Series_Furniture_sales_predictions_April_2021.ipynb\" target=\"_parent\"><img src=\"https://colab.research.google.com/assets/colab-badge.svg\" alt=\"Open In Colab\"/></a>"
      ]
    },
    {
      "cell_type": "code",
      "metadata": {
        "id": "G6_52vHnr34h"
      },
      "source": [
        "import pandas as pd\n",
        "import numpy as np\n",
        "from google.colab import files\n",
        "import matplotlib.pyplot as plt\n",
        "from sklearn.model_selection import train_test_split\n",
        "from sklearn.preprocessing import MinMaxScaler\n",
        "from sklearn.metrics import mean_squared_error\n",
        "from sklearn.metrics import r2_score"
      ],
      "execution_count": 1,
      "outputs": []
    },
    {
      "cell_type": "code",
      "metadata": {
        "id": "d7MsJQI2mdaz"
      },
      "source": [
        "from keras.models import Sequential\n",
        "from keras.layers import Dense\n",
        "from keras.layers import LSTM"
      ],
      "execution_count": 2,
      "outputs": []
    },
    {
      "cell_type": "code",
      "metadata": {
        "colab": {
          "base_uri": "https://localhost:8080/"
        },
        "id": "HOWF51hxrhhP",
        "outputId": "d4ccac29-1610-4a61-8ee5-28a2f4e56845"
      },
      "source": [
        "!git clone https://github.com/ucfilho/Machine_Learning_DataSet\n",
        "%cd Machine_Learning_DataSet"
      ],
      "execution_count": 3,
      "outputs": [
        {
          "output_type": "stream",
          "name": "stdout",
          "text": [
            "fatal: destination path 'Machine_Learning_DataSet' already exists and is not an empty directory.\n",
            "/content/Machine_Learning_DataSet\n"
          ]
        }
      ]
    },
    {
      "cell_type": "code",
      "metadata": {
        "colab": {
          "base_uri": "https://localhost:8080/"
        },
        "id": "j6Lc6V7EroT-",
        "outputId": "4414b1a9-d6d7-4a82-fc0d-1837e5cf3c3f"
      },
      "source": [
        "# df = pd.read_csv(\"Superstore.csv\", encoding='windows-1252')\n",
        "df = pd.read_excel(\"Superstore.xlsx\")\n",
        "print(df.head(3)) # shows headers with top 3 rows"
      ],
      "execution_count": 4,
      "outputs": [
        {
          "output_type": "stream",
          "name": "stdout",
          "text": [
            "   Row ID        Order ID Order Date  Ship Date     Ship Mode Customer ID  \\\n",
            "0       1  CA-2016-152156 2016-11-08 2016-11-11  Second Class    CG-12520   \n",
            "1       2  CA-2016-152156 2016-11-08 2016-11-11  Second Class    CG-12520   \n",
            "2       3  CA-2016-138688 2016-06-12 2016-06-16  Second Class    DV-13045   \n",
            "\n",
            "     Customer Name    Segment        Country         City  ... Postal Code  \\\n",
            "0      Claire Gute   Consumer  United States    Henderson  ...       42420   \n",
            "1      Claire Gute   Consumer  United States    Henderson  ...       42420   \n",
            "2  Darrin Van Huff  Corporate  United States  Los Angeles  ...       90036   \n",
            "\n",
            "   Region       Product ID         Category Sub-Category  \\\n",
            "0   South  FUR-BO-10001798        Furniture    Bookcases   \n",
            "1   South  FUR-CH-10000454        Furniture       Chairs   \n",
            "2    West  OFF-LA-10000240  Office Supplies       Labels   \n",
            "\n",
            "                                        Product Name   Sales  Quantity  \\\n",
            "0                  Bush Somerset Collection Bookcase  261.96         2   \n",
            "1  Hon Deluxe Fabric Upholstered Stacking Chairs,...  731.94         3   \n",
            "2  Self-Adhesive Address Labels for Typewriters b...   14.62         2   \n",
            "\n",
            "   Discount    Profit  \n",
            "0       0.0   41.9136  \n",
            "1       0.0  219.5820  \n",
            "2       0.0    6.8714  \n",
            "\n",
            "[3 rows x 21 columns]\n"
          ]
        }
      ]
    },
    {
      "cell_type": "code",
      "source": [
        "!ls"
      ],
      "metadata": {
        "id": "a5bXWRhGP_8G",
        "outputId": "1b3c3029-769b-4628-de96-cc413b05ffa7",
        "colab": {
          "base_uri": "https://localhost:8080/"
        }
      },
      "execution_count": 5,
      "outputs": [
        {
          "output_type": "stream",
          "name": "stdout",
          "text": [
            " airline-passengers.csv         moore.csv\n",
            " AirlineSentimentTweets.csv     occupation_pictures.csv\n",
            " AMMG2212.dbc\t\t        original.jpg\n",
            " bbc_text_cls.csv\t        PG_2007_2017.csv\n",
            " boston_housing.data\t        Pima_diabetes.txt\n",
            " car_count.png\t\t        Polution_India_Kaggle.zip\n",
            " cardio_alco.csv\t        README.md\n",
            " cardio_base.csv\t        spam.csv\n",
            " carro2.JPG\t\t        states_coords.csv\n",
            " carro3.jpg\t\t        states_coords.xlsx\n",
            " carro5.jpg\t\t        states_gmaps.csv\n",
            " cats.zip\t\t        states_gmaps.json\n",
            " Churn_Modelling.csv\t        states_line.csv\n",
            " Climate_delhi.csv\t        states_line.json\n",
            " covid_data.csv\t\t        states_merged.csv\n",
            " Customers_in_a_Shop.csv        states_merged.json\n",
            " data.json\t\t        Superstore.csv\n",
            " datasets_894_813759_2019.csv   Superstore.xls\n",
            " diabetes.csv\t\t        Superstore.xlsx\n",
            " ecoli.csv\t\t        suporte_pedra.png\n",
            " ecoli.data\t\t        tampered.jpg\n",
            " Einstein2.jpg\t\t       'The Solvay Conference.jpg'\n",
            " Einstein.jpg\t\t        trash_features.zip\n",
            " flights.txt\t\t        trash.zip\n",
            " logistic_regression.h5         Tweets.csv\n",
            " Margaridas.zip\t\t        WaldoBeach.jpg\n",
            " maze_02.png\t\t        waldo.jpg\n",
            " maze.png\t\t       \"Where's Waldo_0.jpg\"\n",
            " moore_clean.csv\n"
          ]
        }
      ]
    },
    {
      "cell_type": "code",
      "metadata": {
        "id": "RUhuWR_Ltcmd",
        "colab": {
          "base_uri": "https://localhost:8080/"
        },
        "outputId": "82325871-29e2-4473-8435-3ae46f39cdc4"
      },
      "source": [
        "Names =df['Category'].drop_duplicates()\n",
        "print(Names)"
      ],
      "execution_count": 6,
      "outputs": [
        {
          "output_type": "stream",
          "name": "stdout",
          "text": [
            "0          Furniture\n",
            "2    Office Supplies\n",
            "7         Technology\n",
            "Name: Category, dtype: object\n"
          ]
        }
      ]
    },
    {
      "cell_type": "code",
      "metadata": {
        "colab": {
          "base_uri": "https://localhost:8080/"
        },
        "id": "ZKiAEGAN1pjb",
        "outputId": "4eeda31c-56ce-4c15-e358-6602b8615ad9"
      },
      "source": [
        "Stuff =df['Sub-Category'].drop_duplicates()\n",
        "print(Stuff)"
      ],
      "execution_count": 7,
      "outputs": [
        {
          "output_type": "stream",
          "name": "stdout",
          "text": [
            "0        Bookcases\n",
            "1           Chairs\n",
            "2           Labels\n",
            "3           Tables\n",
            "4          Storage\n",
            "5      Furnishings\n",
            "6              Art\n",
            "7           Phones\n",
            "8          Binders\n",
            "9       Appliances\n",
            "12           Paper\n",
            "26     Accessories\n",
            "30       Envelopes\n",
            "53       Fasteners\n",
            "138       Supplies\n",
            "165       Machines\n",
            "335        Copiers\n",
            "Name: Sub-Category, dtype: object\n"
          ]
        }
      ]
    },
    {
      "cell_type": "code",
      "metadata": {
        "id": "PsiQSIt-8Mbo"
      },
      "source": [
        "furniture = df.loc[df['Category'] == 'Furniture']\n",
        "furniture = furniture.groupby('Order Date')['Sales'].sum().reset_index()\n",
        "furniture = furniture.set_index('Order Date')\n",
        "\n",
        "y = furniture['Sales'].resample('MS').mean()\n",
        "y = y.reset_index()"
      ],
      "execution_count": 8,
      "outputs": []
    },
    {
      "cell_type": "code",
      "metadata": {
        "id": "CPI16Jdj7h_E"
      },
      "source": [
        "chairs = df.loc[df['Sub-Category'] == 'Chairs']\n",
        "chairs = chairs.groupby('Order Date')['Sales'].sum().reset_index()\n",
        "chairs = chairs.set_index('Order Date')\n",
        "w = chairs['Sales'].resample('MS').mean()\n",
        "w=w.fillna(0)"
      ],
      "execution_count": 9,
      "outputs": []
    },
    {
      "cell_type": "code",
      "source": [],
      "metadata": {
        "id": "iWa3iYPnfV_z"
      },
      "execution_count": 9,
      "outputs": []
    },
    {
      "cell_type": "code",
      "metadata": {
        "id": "eYLU1Pk284fs"
      },
      "source": [
        "machines = df.loc[df['Sub-Category'] == 'Machines']\n",
        "machines = machines.groupby('Order Date')['Sales'].sum().reset_index()\n",
        "machines = machines.set_index('Order Date')\n",
        "m = machines['Sales'].resample('MS').mean()\n",
        "m=m.fillna(0) "
      ],
      "execution_count": 10,
      "outputs": []
    },
    {
      "cell_type": "code",
      "metadata": {
        "id": "-PaVYyU28p8o"
      },
      "source": [
        "tables = df.loc[df['Sub-Category'] == 'Tables']\n",
        "tables = tables.groupby('Order Date')['Sales'].sum().reset_index()\n",
        "tables = tables.set_index('Order Date')\n",
        "t = tables['Sales'].resample('MS').mean()\n",
        "t=t.fillna(0) "
      ],
      "execution_count": 11,
      "outputs": []
    },
    {
      "cell_type": "code",
      "metadata": {
        "id": "PObQVjSb0ia9",
        "colab": {
          "base_uri": "https://localhost:8080/"
        },
        "outputId": "2adf88a1-f902-4601-c800-bba86257f424"
      },
      "source": [
        "names = t.index; print(names)"
      ],
      "execution_count": 12,
      "outputs": [
        {
          "output_type": "stream",
          "name": "stdout",
          "text": [
            "DatetimeIndex(['2014-01-01', '2014-02-01', '2014-03-01', '2014-04-01',\n",
            "               '2014-05-01', '2014-06-01', '2014-07-01', '2014-08-01',\n",
            "               '2014-09-01', '2014-10-01', '2014-11-01', '2014-12-01',\n",
            "               '2015-01-01', '2015-02-01', '2015-03-01', '2015-04-01',\n",
            "               '2015-05-01', '2015-06-01', '2015-07-01', '2015-08-01',\n",
            "               '2015-09-01', '2015-10-01', '2015-11-01', '2015-12-01',\n",
            "               '2016-01-01', '2016-02-01', '2016-03-01', '2016-04-01',\n",
            "               '2016-05-01', '2016-06-01', '2016-07-01', '2016-08-01',\n",
            "               '2016-09-01', '2016-10-01', '2016-11-01', '2016-12-01',\n",
            "               '2017-01-01', '2017-02-01', '2017-03-01', '2017-04-01',\n",
            "               '2017-05-01', '2017-06-01', '2017-07-01', '2017-08-01',\n",
            "               '2017-09-01', '2017-10-01', '2017-11-01', '2017-12-01'],\n",
            "              dtype='datetime64[ns]', name='Order Date', freq='MS')\n"
          ]
        }
      ]
    },
    {
      "cell_type": "code",
      "metadata": {
        "id": "Ji1RGaij2Wpi"
      },
      "source": [
        "import datetime\n",
        "months = []\n",
        "for i in names:\n",
        "  months.append(i.month)\n",
        "#months =pd.Series(months).reset_index()"
      ],
      "execution_count": 13,
      "outputs": []
    },
    {
      "cell_type": "code",
      "metadata": {
        "id": "kT2TQuap-Pdw",
        "colab": {
          "base_uri": "https://localhost:8080/"
        },
        "outputId": "03ed625c-ffa2-4832-b7e8-02876c8901f6"
      },
      "source": [
        "len(y)"
      ],
      "execution_count": 14,
      "outputs": [
        {
          "output_type": "execute_result",
          "data": {
            "text/plain": [
              "48"
            ]
          },
          "metadata": {},
          "execution_count": 14
        }
      ]
    },
    {
      "cell_type": "code",
      "metadata": {
        "id": "-4Ge4lcx_Kw1"
      },
      "source": [
        "y1 = y.shift(1).values[:,1]\n",
        "y2 = y.shift(2).values[:,1]\n",
        "y3 = y.shift(3).values[:,1]\n",
        "y4 = y.shift(4).values[:,1]\n",
        "y = y.values[:,1]"
      ],
      "execution_count": 15,
      "outputs": []
    },
    {
      "cell_type": "code",
      "metadata": {
        "id": "suYwM6Ux-DC4"
      },
      "source": [
        "dataframe = pd.DataFrame({'mo':months,'t-1':y1,'t-2':y2,'t-3':y3,'y':y})\n",
        "dataframe = dataframe.dropna()"
      ],
      "execution_count": 16,
      "outputs": []
    },
    {
      "cell_type": "code",
      "metadata": {
        "id": "zaOzv0Tp46Tr",
        "colab": {
          "base_uri": "https://localhost:8080/",
          "height": 143
        },
        "outputId": "35abf43e-f91d-457c-85de-f01229d2731d"
      },
      "source": [
        "#pd.set_option(\"max_columns\", None)\n",
        "#pd.set_option(\"max_rows\", None)\n",
        "dataframe.head(3)"
      ],
      "execution_count": 17,
      "outputs": [
        {
          "output_type": "execute_result",
          "data": {
            "text/plain": [
              "   mo         t-1         t-2         t-3           y\n",
              "3   4  857.291529    367.9316  480.194231  567.488357\n",
              "4   5  567.488357  857.291529    367.9316  432.049188\n",
              "5   6  432.049188  567.488357  857.291529  695.059242"
            ],
            "text/html": [
              "\n",
              "  <div id=\"df-031ce889-cbbe-4069-a9d6-1ec88fddcf46\">\n",
              "    <div class=\"colab-df-container\">\n",
              "      <div>\n",
              "<style scoped>\n",
              "    .dataframe tbody tr th:only-of-type {\n",
              "        vertical-align: middle;\n",
              "    }\n",
              "\n",
              "    .dataframe tbody tr th {\n",
              "        vertical-align: top;\n",
              "    }\n",
              "\n",
              "    .dataframe thead th {\n",
              "        text-align: right;\n",
              "    }\n",
              "</style>\n",
              "<table border=\"1\" class=\"dataframe\">\n",
              "  <thead>\n",
              "    <tr style=\"text-align: right;\">\n",
              "      <th></th>\n",
              "      <th>mo</th>\n",
              "      <th>t-1</th>\n",
              "      <th>t-2</th>\n",
              "      <th>t-3</th>\n",
              "      <th>y</th>\n",
              "    </tr>\n",
              "  </thead>\n",
              "  <tbody>\n",
              "    <tr>\n",
              "      <th>3</th>\n",
              "      <td>4</td>\n",
              "      <td>857.291529</td>\n",
              "      <td>367.9316</td>\n",
              "      <td>480.194231</td>\n",
              "      <td>567.488357</td>\n",
              "    </tr>\n",
              "    <tr>\n",
              "      <th>4</th>\n",
              "      <td>5</td>\n",
              "      <td>567.488357</td>\n",
              "      <td>857.291529</td>\n",
              "      <td>367.9316</td>\n",
              "      <td>432.049188</td>\n",
              "    </tr>\n",
              "    <tr>\n",
              "      <th>5</th>\n",
              "      <td>6</td>\n",
              "      <td>432.049188</td>\n",
              "      <td>567.488357</td>\n",
              "      <td>857.291529</td>\n",
              "      <td>695.059242</td>\n",
              "    </tr>\n",
              "  </tbody>\n",
              "</table>\n",
              "</div>\n",
              "      <button class=\"colab-df-convert\" onclick=\"convertToInteractive('df-031ce889-cbbe-4069-a9d6-1ec88fddcf46')\"\n",
              "              title=\"Convert this dataframe to an interactive table.\"\n",
              "              style=\"display:none;\">\n",
              "        \n",
              "  <svg xmlns=\"http://www.w3.org/2000/svg\" height=\"24px\"viewBox=\"0 0 24 24\"\n",
              "       width=\"24px\">\n",
              "    <path d=\"M0 0h24v24H0V0z\" fill=\"none\"/>\n",
              "    <path d=\"M18.56 5.44l.94 2.06.94-2.06 2.06-.94-2.06-.94-.94-2.06-.94 2.06-2.06.94zm-11 1L8.5 8.5l.94-2.06 2.06-.94-2.06-.94L8.5 2.5l-.94 2.06-2.06.94zm10 10l.94 2.06.94-2.06 2.06-.94-2.06-.94-.94-2.06-.94 2.06-2.06.94z\"/><path d=\"M17.41 7.96l-1.37-1.37c-.4-.4-.92-.59-1.43-.59-.52 0-1.04.2-1.43.59L10.3 9.45l-7.72 7.72c-.78.78-.78 2.05 0 2.83L4 21.41c.39.39.9.59 1.41.59.51 0 1.02-.2 1.41-.59l7.78-7.78 2.81-2.81c.8-.78.8-2.07 0-2.86zM5.41 20L4 18.59l7.72-7.72 1.47 1.35L5.41 20z\"/>\n",
              "  </svg>\n",
              "      </button>\n",
              "      \n",
              "  <style>\n",
              "    .colab-df-container {\n",
              "      display:flex;\n",
              "      flex-wrap:wrap;\n",
              "      gap: 12px;\n",
              "    }\n",
              "\n",
              "    .colab-df-convert {\n",
              "      background-color: #E8F0FE;\n",
              "      border: none;\n",
              "      border-radius: 50%;\n",
              "      cursor: pointer;\n",
              "      display: none;\n",
              "      fill: #1967D2;\n",
              "      height: 32px;\n",
              "      padding: 0 0 0 0;\n",
              "      width: 32px;\n",
              "    }\n",
              "\n",
              "    .colab-df-convert:hover {\n",
              "      background-color: #E2EBFA;\n",
              "      box-shadow: 0px 1px 2px rgba(60, 64, 67, 0.3), 0px 1px 3px 1px rgba(60, 64, 67, 0.15);\n",
              "      fill: #174EA6;\n",
              "    }\n",
              "\n",
              "    [theme=dark] .colab-df-convert {\n",
              "      background-color: #3B4455;\n",
              "      fill: #D2E3FC;\n",
              "    }\n",
              "\n",
              "    [theme=dark] .colab-df-convert:hover {\n",
              "      background-color: #434B5C;\n",
              "      box-shadow: 0px 1px 3px 1px rgba(0, 0, 0, 0.15);\n",
              "      filter: drop-shadow(0px 1px 2px rgba(0, 0, 0, 0.3));\n",
              "      fill: #FFFFFF;\n",
              "    }\n",
              "  </style>\n",
              "\n",
              "      <script>\n",
              "        const buttonEl =\n",
              "          document.querySelector('#df-031ce889-cbbe-4069-a9d6-1ec88fddcf46 button.colab-df-convert');\n",
              "        buttonEl.style.display =\n",
              "          google.colab.kernel.accessAllowed ? 'block' : 'none';\n",
              "\n",
              "        async function convertToInteractive(key) {\n",
              "          const element = document.querySelector('#df-031ce889-cbbe-4069-a9d6-1ec88fddcf46');\n",
              "          const dataTable =\n",
              "            await google.colab.kernel.invokeFunction('convertToInteractive',\n",
              "                                                     [key], {});\n",
              "          if (!dataTable) return;\n",
              "\n",
              "          const docLinkHtml = 'Like what you see? Visit the ' +\n",
              "            '<a target=\"_blank\" href=https://colab.research.google.com/notebooks/data_table.ipynb>data table notebook</a>'\n",
              "            + ' to learn more about interactive tables.';\n",
              "          element.innerHTML = '';\n",
              "          dataTable['output_type'] = 'display_data';\n",
              "          await google.colab.output.renderOutput(dataTable, element);\n",
              "          const docLink = document.createElement('div');\n",
              "          docLink.innerHTML = docLinkHtml;\n",
              "          element.appendChild(docLink);\n",
              "        }\n",
              "      </script>\n",
              "    </div>\n",
              "  </div>\n",
              "  "
            ]
          },
          "metadata": {},
          "execution_count": 17
        }
      ]
    },
    {
      "cell_type": "code",
      "metadata": {
        "id": "YcpfdGu2Dbzo"
      },
      "source": [
        "X=dataframe.iloc[:,:-1]\n",
        "y=np.array(dataframe.iloc[:,-1]).reshape(-1, 1)"
      ],
      "execution_count": 18,
      "outputs": []
    },
    {
      "cell_type": "code",
      "metadata": {
        "id": "mbvaQKvuEWTQ"
      },
      "source": [
        "rows, cols = X.shape\n",
        "ntrain = int(rows*0.8)\n",
        "X_train=X.iloc[0:ntrain,:].copy()\n",
        "y_train= y[0:ntrain,:].copy()\n",
        "X_test=X.drop(X_train.index)\n",
        "y_test=np.delete(y,range(ntrain))\n",
        "y_train = y_train.reshape(-1, 1)\n",
        "y_test = y_test.reshape(-1, 1)"
      ],
      "execution_count": 19,
      "outputs": []
    },
    {
      "cell_type": "code",
      "metadata": {
        "id": "B6N5k_BVCdri"
      },
      "source": [
        "#, X_test, y_train, y_test = train_test_split(X, y, test_size=0.2, random_state=101)\n",
        "#X_train\n",
        "scalerX = MinMaxScaler() \n",
        "scalerY = MinMaxScaler() \n",
        "scalerX.fit(X_train) \n",
        "scalerY.fit(y_train) \n",
        "X_train = scalerX.transform(X_train)\n",
        "X_test = scalerX.transform(X_test)\n",
        "y_train= scalerY.transform(y_train) \n",
        "y_test= scalerY.transform(y_test)"
      ],
      "execution_count": 20,
      "outputs": []
    },
    {
      "cell_type": "code",
      "metadata": {
        "id": "weovYXt-CipU",
        "colab": {
          "base_uri": "https://localhost:8080/"
        },
        "outputId": "4275fa1a-705d-4b99-e0e1-29e701dd9346"
      },
      "source": [
        "\n",
        "for i in range(1):\n",
        "  '''\n",
        "  model = Sequential()\n",
        "  model.add(LSTM(units=32, activation='tanh',input_shape=(X_train.shape[1], 4)))\n",
        "  # units=32 \n",
        "  model.add(Dense(1))\n",
        "  '''\n",
        "  # model = keras.Sequential()\n",
        "  model = Sequential()\n",
        "  # Add an Embedding layer expecting input vocab of size 1000, and\n",
        "  # output embedding dimension of size 64.\n",
        "  #model.add(layers.Embedding(input_dim=1000, output_dim=64))\n",
        "\n",
        "  # Add a LSTM layer with 128 internal units.\n",
        "  model.add(LSTM(128))\n",
        "\n",
        "  # Add a Dense layer with 10 units.\n",
        "  model.add(Dense(1))\n",
        "\n",
        "  #model.summary()\n",
        "  model.compile(loss='mean_squared_error', optimizer='adam')\n",
        "  X_train = np.reshape(X_train, (X_train.shape[0], 1, X_train.shape[1]))\n",
        "  X_test = np.reshape(X_test, (X_test.shape[0], 1, X_test.shape[1]))\n",
        "  # reshape input to be [samples, time steps, features]\n",
        "  # reshape input to be [samples, time steps, features]\n",
        "  #trainX = numpy.reshape(trainX, (trainX.shape[0], 1, trainX.shape[1]))\n",
        "  #testX = numpy.reshape(testX, (testX.shape[0], 1, testX.shape[1]))\n",
        "  model.fit(X_train, y_train, epochs=200, batch_size=1, verbose=0)\n",
        "  y_calc_train=model.predict(X_train)\n",
        "  y_calc_test=model.predict(X_test)\n",
        "  mse_test=mean_squared_error(y_test,y_calc_test)\n",
        "  R2_test=r2_score(y_test,y_calc_test)\n",
        "  mse_train=mean_squared_error(y_train,y_calc_train)\n",
        "  R2_train=r2_score(y_train,y_calc_train)"
      ],
      "execution_count": 21,
      "outputs": [
        {
          "output_type": "stream",
          "name": "stdout",
          "text": [
            "2/2 [==============================] - 1s 6ms/step\n",
            "1/1 [==============================] - 0s 35ms/step\n"
          ]
        }
      ]
    },
    {
      "cell_type": "code",
      "source": [
        "X_test.shape"
      ],
      "metadata": {
        "id": "Sf8l3K3WZFA6",
        "outputId": "6313e36f-2456-4999-cbb9-c0a4354210fd",
        "colab": {
          "base_uri": "https://localhost:8080/"
        }
      },
      "execution_count": 22,
      "outputs": [
        {
          "output_type": "execute_result",
          "data": {
            "text/plain": [
              "(9, 1, 4)"
            ]
          },
          "metadata": {},
          "execution_count": 22
        }
      ]
    },
    {
      "cell_type": "code",
      "metadata": {
        "id": "Z_V3ASfyCvfa",
        "colab": {
          "base_uri": "https://localhost:8080/",
          "height": 455
        },
        "outputId": "935251e7-aa40-45ff-956c-13627cd7917d"
      },
      "source": [
        "# expressa os dois dados em figura\n",
        "fig = plt.figure()\n",
        "ax1 = fig.add_subplot(111)\n",
        "\n",
        "ax1.scatter(y_test,y_calc_test, s=10, c='b', marker=\"s\", label='teste')\n",
        "ax1.scatter(y_train,y_calc_train, s=10, c='r', marker=\"o\", label='treino')\n",
        "ax1.set_xlim([0, 1])\n",
        "ax1.set_ylim([0, 1])\n",
        "plt.legend(loc='upper left')\n",
        "plt.ylabel('Y Calc')\n",
        "plt.xlabel('Y Obs')\n",
        "plt.show()"
      ],
      "execution_count": 23,
      "outputs": [
        {
          "output_type": "display_data",
          "data": {
            "text/plain": [
              "<Figure size 640x480 with 1 Axes>"
            ],
            "image/png": "[encoded data removed]"
          },
          "metadata": {}
        }
      ]
    },
    {
      "cell_type": "code",
      "metadata": {
        "id": "LYFWNxeDXxyA",
        "colab": {
          "base_uri": "https://localhost:8080/"
        },
        "outputId": "fb4f5f24-de2b-4219-b159-e2ab70bc5fa1"
      },
      "source": [
        "mse=mean_squared_error(y_test,y_calc_test)\n",
        "print(\"MSE teste=\",mse)\n",
        "R2=r2_score(y_test,y_calc_test)\n",
        "print(\"R^2 teste=\",R2)"
      ],
      "execution_count": 24,
      "outputs": [
        {
          "output_type": "stream",
          "name": "stdout",
          "text": [
            "MSE teste= 0.01176116002994979\n",
            "R^2 teste= 0.8009417528424312\n"
          ]
        }
      ]
    },
    {
      "cell_type": "code",
      "metadata": {
        "colab": {
          "base_uri": "https://localhost:8080/"
        },
        "id": "owr88npGaV73",
        "outputId": "5a27342b-08e0-4512-d06d-2f9516e7191b"
      },
      "source": [
        "mse=mean_squared_error(y_train,y_calc_train)\n",
        "print(\"MSE train=\",mse)\n",
        "R2=r2_score(y_train,y_calc_train)\n",
        "print(\"R^2 train=\",R2)"
      ],
      "execution_count": 25,
      "outputs": [
        {
          "output_type": "stream",
          "name": "stdout",
          "text": [
            "MSE train= 0.023908602672812064\n",
            "R^2 train= 0.6417825247863028\n"
          ]
        }
      ]
    },
    {
      "cell_type": "code",
      "metadata": {
        "id": "BA8zj-jY2EZu"
      },
      "source": [
        "y_calc = y_calc_train.tolist()"
      ],
      "execution_count": 26,
      "outputs": []
    },
    {
      "cell_type": "code",
      "metadata": {
        "id": "pth2NdH124As"
      },
      "source": [
        "for yi in y_calc_test:\n",
        "  y_calc.append(yi)"
      ],
      "execution_count": 27,
      "outputs": []
    },
    {
      "cell_type": "code",
      "metadata": {
        "id": "KczspclD30Q1"
      },
      "source": [
        "y_calc = np.array(y_calc).reshape(1,-1)\n",
        "y_calc = scalerY.inverse_transform(y_calc)"
      ],
      "execution_count": 28,
      "outputs": []
    },
    {
      "cell_type": "code",
      "metadata": {
        "colab": {
          "base_uri": "https://localhost:8080/",
          "height": 449
        },
        "id": "XqBi0bYl3D0C",
        "outputId": "7c7d77d1-5620-4b6d-a472-f57c9be47eb4"
      },
      "source": [
        "line1, =plt.plot(range(len(y)),y,c='r')\n",
        "line2, =plt.plot(range(len(y)),y_calc[0], c='b')\n",
        "plt.legend([line1,line2],['true','ANN'],loc='upper right')\n",
        "plt.xlabel('Semanas')\n",
        "plt.ylabel('Vendas em milhões/semana')\n",
        "plt.show()"
      ],
      "execution_count": 29,
      "outputs": [
        {
          "output_type": "display_data",
          "data": {
            "text/plain": [
              "<Figure size 640x480 with 1 Axes>"
            ],
            "image/png": "[encoded data removed]"
          },
          "metadata": {}
        }
      ]
    },
    {
      "cell_type": "code",
      "metadata": {
        "colab": {
          "base_uri": "https://localhost:8080/"
        },
        "id": "CxGHy5WY5mJH",
        "outputId": "18b90d96-5230-4d33-8f63-079a0910d119"
      },
      "source": [
        "df['Product ID'].shape"
      ],
      "execution_count": 30,
      "outputs": [
        {
          "output_type": "execute_result",
          "data": {
            "text/plain": [
              "(9994,)"
            ]
          },
          "metadata": {},
          "execution_count": 30
        }
      ]
    },
    {
      "cell_type": "code",
      "metadata": {
        "colab": {
          "base_uri": "https://localhost:8080/"
        },
        "id": "S3DzHc5i4swC",
        "outputId": "62a7bb34-0d3d-45cc-d90f-c4b4254c7c2e"
      },
      "source": [
        "y_calc"
      ],
      "execution_count": 31,
      "outputs": [
        {
          "output_type": "execute_result",
          "data": {
            "text/plain": [
              "array([[ 535.06508387,  561.00832043,  762.88788207,  700.53046366,\n",
              "         789.37374177,  988.51713757,  843.31461625, 1089.53114812,\n",
              "        1253.19876033,  766.02745966,  531.65161995,  666.51587418,\n",
              "         669.3121174 ,  601.76544916,  744.76938339,  843.0203947 ,\n",
              "         779.04109708,  878.63707115,  831.81097049, 1294.96834188,\n",
              "        1257.03208284,  491.63806709,  525.66447938,  578.91921057,\n",
              "         525.71147286,  544.63940483,  682.6736782 ,  762.64189758,\n",
              "         859.40407568,  987.79340651,  940.15757479, 1289.10534957,\n",
              "        1158.41843533,  645.16752419,  424.16286116,  688.78044808,\n",
              "         499.6167905 ,  594.50214583,  639.51454   ,  682.72566353,\n",
              "         899.7676012 ,  917.03527799,  873.01249673, 1261.30615968,\n",
              "        1266.72447426]])"
            ]
          },
          "metadata": {},
          "execution_count": 31
        }
      ]
    },
    {
      "cell_type": "code",
      "metadata": {
        "colab": {
          "base_uri": "https://localhost:8080/"
        },
        "id": "XHzDUqM74zAs",
        "outputId": "b16de249-b1f8-42c4-8a38-eb891193a4f7"
      },
      "source": [
        "y"
      ],
      "execution_count": 32,
      "outputs": [
        {
          "output_type": "execute_result",
          "data": {
            "text/plain": [
              "array([[567.4883571428571],\n",
              "       [432.0491875],\n",
              "       [695.0592421052631],\n",
              "       [601.1695],\n",
              "       [457.52165625],\n",
              "       [992.3533666666667],\n",
              "       [769.0154375],\n",
              "       [980.2214863636364],\n",
              "       [1532.2983250000002],\n",
              "       [978.3284666666667],\n",
              "       [522.3956666666667],\n",
              "       [781.2364375],\n",
              "       [805.8229615384615],\n",
              "       [624.9966999999999],\n",
              "       [428.5655],\n",
              "       [719.7063157894737],\n",
              "       [602.4120125],\n",
              "       [1382.7906842105265],\n",
              "       [632.9801842105263],\n",
              "       [1286.7013541666668],\n",
              "       [1049.3554181818183],\n",
              "       [508.1828666666667],\n",
              "       [356.8682727272727],\n",
              "       [609.5758095238094],\n",
              "       [695.3731578947369],\n",
              "       [687.2652272727273],\n",
              "       [816.91075],\n",
              "       [768.7364117647058],\n",
              "       [734.3077823529411],\n",
              "       [1135.9533708333333],\n",
              "       [624.8724736842106],\n",
              "       [1271.345152],\n",
              "       [1410.7198076923078],\n",
              "       [397.60213333333337],\n",
              "       [528.1798],\n",
              "       [544.67224],\n",
              "       [453.297905],\n",
              "       [678.302328],\n",
              "       [826.4602913043478],\n",
              "       [562.5248571428571],\n",
              "       [857.8818888888889],\n",
              "       [1209.5085833333335],\n",
              "       [875.3627280000001],\n",
              "       [1277.8177586206896],\n",
              "       [1256.298672]], dtype=object)"
            ]
          },
          "metadata": {},
          "execution_count": 32
        }
      ]
    },
    {
      "cell_type": "code",
      "metadata": {
        "id": "ag2HzmFAUJzH",
        "outputId": "1c4c17ae-a43e-4755-e3d3-4697c39aeee8",
        "colab": {
          "base_uri": "https://localhost:8080/",
          "height": 484
        }
      },
      "source": [
        "plt.plot(furniture)\n",
        "plt.xticks(rotation=45)\n",
        "plt.ylabel('Vendas em milhões')"
      ],
      "execution_count": 33,
      "outputs": [
        {
          "output_type": "execute_result",
          "data": {
            "text/plain": [
              "Text(0, 0.5, 'Vendas em milhões')"
            ]
          },
          "metadata": {},
          "execution_count": 33
        },
        {
          "output_type": "display_data",
          "data": {
            "text/plain": [
              "<Figure size 640x480 with 1 Axes>"
            ],
            "image/png": "[encoded data removed]"
          },
          "metadata": {}
        }
      ]
    },
    {
      "cell_type": "code",
      "metadata": {
        "id": "bL6Ly_IzUzOK",
        "outputId": "5b6edf8d-8f8e-49c6-cc64-bc9b369df730",
        "colab": {
          "base_uri": "https://localhost:8080/"
        }
      },
      "source": [
        "sum(df['Profit'].values)"
      ],
      "execution_count": 34,
      "outputs": [
        {
          "output_type": "execute_result",
          "data": {
            "text/plain": [
              "286397.02170000126"
            ]
          },
          "metadata": {},
          "execution_count": 34
        }
      ]
    }
  ]
}