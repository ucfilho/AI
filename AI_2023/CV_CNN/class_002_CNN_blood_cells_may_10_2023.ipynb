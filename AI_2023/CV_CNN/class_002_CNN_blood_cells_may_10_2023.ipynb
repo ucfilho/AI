{
  "nbformat": 4,
  "nbformat_minor": 0,
  "metadata": {
    "colab": {
      "provenance": [],
      "gpuType": "T4",
      "authorship_tag": "ABX9TyOM8HxhBsiphZ3Zw18fK783",
      "include_colab_link": true
    },
    "kernelspec": {
      "name": "python3",
      "display_name": "Python 3"
    },
    "language_info": {
      "name": "python"
    },
    "accelerator": "GPU",
    "gpuClass": "standard"
  },
  "cells": [
    {
      "cell_type": "markdown",
      "metadata": {
        "id": "view-in-github",
        "colab_type": "text"
      },
      "source": [
        "<a href=\"https://colab.research.google.com/github/ucfilho/AI/blob/main/AI_2023/CV_CNN/class_002_CNN_blood_cells_may_10_2023.ipynb\" target=\"_parent\"><img src=\"https://colab.research.google.com/assets/colab-badge.svg\" alt=\"Open In Colab\"/></a>"
      ]
    },
    {
      "cell_type": "code",
      "source": [
        "import tensorflow as tf\n",
        "tf.__version__"
      ],
      "metadata": {
        "colab": {
          "base_uri": "https://localhost:8080/",
          "height": 37
        },
        "id": "k5IJzJf5b8rp",
        "outputId": "ba6f73db-3109-44cd-a8a7-ca7a423e58b0"
      },
      "execution_count": 1,
      "outputs": [
        {
          "output_type": "execute_result",
          "data": {
            "text/plain": [
              "'2.12.0'"
            ],
            "application/vnd.google.colaboratory.intrinsic+json": {
              "type": "string"
            }
          },
          "metadata": {},
          "execution_count": 1
        }
      ]
    },
    {
      "cell_type": "code",
      "source": [
        "from tensorflow.keras.layers import Input, Lambda, Dense, Flatten, Conv2D, BatchNormalization\n",
        "from tensorflow.keras.layers import  Dropout,ZeroPadding2D, MaxPooling2D, Activation, add\n",
        "from tensorflow.keras.models import Sequential\n",
        "from tensorflow.keras.preprocessing import image\n",
        "from tensorflow.keras.preprocessing.image import ImageDataGenerator\n",
        "from tensorflow.keras.optimizers import Adam\n",
        "from tensorflow.keras.applications.mobilenet_v2 import preprocess_input\n",
        "\n",
        "import cv2\n",
        "import numpy as np\n",
        "\n",
        "from sklearn.metrics import confusion_matrix\n",
        "import numpy as np\n",
        "import matplotlib.pyplot as plt\n",
        "\n",
        "from glob import glob\n",
        "\n",
        "import zipfile\n",
        "import pandas as pd\n",
        "\n",
        "\n",
        "from sklearn.metrics import classification_report, confusion_matrix"
      ],
      "metadata": {
        "id": "vBV4maM5dj4Z"
      },
      "execution_count": 2,
      "outputs": []
    },
    {
      "cell_type": "code",
      "source": [
        "IMAGE_SIZE = [224,224]\n",
        "ImgSize = IMAGE_SIZE[0]\n",
        "epochs = 16\n",
        "batch_size = 128"
      ],
      "metadata": {
        "id": "joGhrFvxf0SZ"
      },
      "execution_count": 3,
      "outputs": []
    },
    {
      "cell_type": "code",
      "execution_count": 4,
      "metadata": {
        "colab": {
          "base_uri": "https://localhost:8080/"
        },
        "id": "uqYS3HOybl-j",
        "outputId": "5b333f96-edb5-47ce-b010-b8b95e0723df"
      },
      "outputs": [
        {
          "output_type": "stream",
          "name": "stdout",
          "text": [
            "Downloading...\n",
            "From: https://drive.google.com/uc?id=1CU4UkqJae07u1tKfp2rajWwwZA0SKiIm\n",
            "To: /content/blood_cell_images.zip\n",
            "100% 110M/110M [00:01<00:00, 75.7MB/s]\n"
          ]
        }
      ],
      "source": [
        "!gdown 1CU4UkqJae07u1tKfp2rajWwwZA0SKiIm"
      ]
    },
    {
      "cell_type": "code",
      "source": [
        "FILE='blood_cell_images.zip'"
      ],
      "metadata": {
        "id": "oA9vdFhEcBjR"
      },
      "execution_count": 5,
      "outputs": []
    },
    {
      "cell_type": "code",
      "source": [
        "archive = zipfile.ZipFile(FILE, 'r')\n",
        "archive.extractall()"
      ],
      "metadata": {
        "id": "PDaUD1YFhapi"
      },
      "execution_count": 6,
      "outputs": []
    },
    {
      "cell_type": "code",
      "source": [],
      "metadata": {
        "id": "71nT-kBylbsC"
      },
      "execution_count": 6,
      "outputs": []
    },
    {
      "cell_type": "code",
      "source": [
        "!ls"
      ],
      "metadata": {
        "colab": {
          "base_uri": "https://localhost:8080/"
        },
        "id": "XkzcOpuIg-4y",
        "outputId": "d8b182d9-c756-4c12-b096-9d92c7604524"
      },
      "execution_count": 7,
      "outputs": [
        {
          "output_type": "stream",
          "name": "stdout",
          "text": [
            "blood_cell_images  blood_cell_images.zip  __MACOSX  sample_data\n"
          ]
        }
      ]
    },
    {
      "cell_type": "code",
      "source": [
        "train_path = 'blood_cell_images/TRAIN'\n",
        "test_path = 'blood_cell_images/TEST'\n",
        "images_test = glob(test_path + '/*/*.jp*g')\n",
        "images_train = glob(train_path + '/*/*.jp*g')"
      ],
      "metadata": {
        "id": "dZNvCnEvfywC"
      },
      "execution_count": 8,
      "outputs": []
    },
    {
      "cell_type": "code",
      "source": [
        "folders_train = glob(train_path + '/*')\n",
        "folders_test = glob(test_path + '/*')"
      ],
      "metadata": {
        "id": "gkRGu5GTj146"
      },
      "execution_count": 9,
      "outputs": []
    },
    {
      "cell_type": "code",
      "source": [
        "folders_train"
      ],
      "metadata": {
        "colab": {
          "base_uri": "https://localhost:8080/"
        },
        "id": "SMnhssdIJNmg",
        "outputId": "56dfa2ef-c917-46f7-a464-24ac012b5060"
      },
      "execution_count": 10,
      "outputs": [
        {
          "output_type": "execute_result",
          "data": {
            "text/plain": [
              "['blood_cell_images/TRAIN/MONOCYTE',\n",
              " 'blood_cell_images/TRAIN/EOSINOPHIL',\n",
              " 'blood_cell_images/TRAIN/LYMPHOCYTE',\n",
              " 'blood_cell_images/TRAIN/NEUTROPHIL']"
            ]
          },
          "metadata": {},
          "execution_count": 10
        }
      ]
    },
    {
      "cell_type": "code",
      "source": [
        "folders_test"
      ],
      "metadata": {
        "colab": {
          "base_uri": "https://localhost:8080/"
        },
        "id": "GA4YzlX_LMyA",
        "outputId": "a444aed1-3c83-4d05-944b-83dc12d8d7cc"
      },
      "execution_count": 11,
      "outputs": [
        {
          "output_type": "execute_result",
          "data": {
            "text/plain": [
              "['blood_cell_images/TEST/MONOCYTE',\n",
              " 'blood_cell_images/TEST/EOSINOPHIL',\n",
              " 'blood_cell_images/TEST/LYMPHOCYTE',\n",
              " 'blood_cell_images/TEST/NEUTROPHIL']"
            ]
          },
          "metadata": {},
          "execution_count": 11
        }
      ]
    },
    {
      "cell_type": "code",
      "source": [
        "ntrain, ntest = len(images_train),len(images_test)\n",
        "ntrain,ntest"
      ],
      "metadata": {
        "colab": {
          "base_uri": "https://localhost:8080/"
        },
        "id": "db3UWPUCJbvQ",
        "outputId": "420daadc-4d53-44ca-853e-e6d92c0878a7"
      },
      "execution_count": 12,
      "outputs": [
        {
          "output_type": "execute_result",
          "data": {
            "text/plain": [
              "(9957, 2487)"
            ]
          },
          "metadata": {},
          "execution_count": 12
        }
      ]
    },
    {
      "cell_type": "code",
      "source": [
        "images_train[:4]\n",
        "num_classes = 4"
      ],
      "metadata": {
        "id": "zf5rRd3dJweu"
      },
      "execution_count": 13,
      "outputs": []
    },
    {
      "cell_type": "code",
      "source": [
        "types = ['NEUTROPHIL', 'EOSINOPHIL', 'MONOCYTE', 'LYMPHOCYTE']"
      ],
      "metadata": {
        "id": "TgEH-NHPWLCy"
      },
      "execution_count": 14,
      "outputs": []
    },
    {
      "cell_type": "code",
      "source": [
        "\n",
        "def load_images(images,types=types):\n",
        "\n",
        "  nsize = len(images)\n",
        "  X =[]\n",
        "  y =[]\n",
        "  names =[]\n",
        "  k = 0\n",
        "\n",
        "  for i in range(nsize): \n",
        "    img = image.load_img(images[i])\n",
        "    im = cv2.resize(np.array(img), (224, 224))\n",
        "    im = preprocess_input(im)\n",
        "    k += 1\n",
        "    if( k % 3 == 0):\n",
        "      X.append(im)\n",
        "\n",
        "      if(types[0] in images[i]):\n",
        "        names.append(types[0])\n",
        "        y.append(0)\n",
        "      elif(types[1] in images[i]):\n",
        "        names.append(types[1])\n",
        "        y.append(1)\n",
        "      elif(types[2] in images[i]):\n",
        "        names.append(types[2])\n",
        "        y.append(2)\n",
        "      else:\n",
        "        names.append(types[3])\n",
        "        y.append(3)\n",
        "\n",
        "  X =np.array(X)\n",
        "  return X,y,names"
      ],
      "metadata": {
        "id": "zzt1zfddkCSC"
      },
      "execution_count": 15,
      "outputs": []
    },
    {
      "cell_type": "code",
      "source": [
        "\n",
        "X_train, y_train, names_train = load_images(images_train)\n",
        "X_test, y_test, names_test = load_images(images_test)"
      ],
      "metadata": {
        "id": "eoaiNXxgcOkT"
      },
      "execution_count": 16,
      "outputs": []
    },
    {
      "cell_type": "code",
      "source": [
        "X_train[0].shape"
      ],
      "metadata": {
        "colab": {
          "base_uri": "https://localhost:8080/"
        },
        "id": "vhBa4_9Ec21T",
        "outputId": "a9a7ce7d-00f6-4e2b-8840-6bd20c5faa8a"
      },
      "execution_count": 17,
      "outputs": [
        {
          "output_type": "execute_result",
          "data": {
            "text/plain": [
              "(224, 224, 3)"
            ]
          },
          "metadata": {},
          "execution_count": 17
        }
      ]
    },
    {
      "cell_type": "code",
      "source": [
        "df = pd.DataFrame({'name':names_train,'class':y_train})\n",
        "y_train = pd.get_dummies(df['class'])\n",
        "y_train"
      ],
      "metadata": {
        "colab": {
          "base_uri": "https://localhost:8080/",
          "height": 423
        },
        "id": "3LBDuJfBgLcz",
        "outputId": "3d1d5107-40fe-438a-bd6d-22fa4ba16ffb"
      },
      "execution_count": 18,
      "outputs": [
        {
          "output_type": "execute_result",
          "data": {
            "text/plain": [
              "      0  1  2  3\n",
              "0     0  0  1  0\n",
              "1     0  0  1  0\n",
              "2     0  0  1  0\n",
              "3     0  0  1  0\n",
              "4     0  0  1  0\n",
              "...  .. .. .. ..\n",
              "3314  1  0  0  0\n",
              "3315  1  0  0  0\n",
              "3316  1  0  0  0\n",
              "3317  1  0  0  0\n",
              "3318  1  0  0  0\n",
              "\n",
              "[3319 rows x 4 columns]"
            ],
            "text/html": [
              "\n",
              "  <div id=\"df-e0ea76d5-b377-48f3-b0a6-0d9da0db875c\">\n",
              "    <div class=\"colab-df-container\">\n",
              "      <div>\n",
              "<style scoped>\n",
              "    .dataframe tbody tr th:only-of-type {\n",
              "        vertical-align: middle;\n",
              "    }\n",
              "\n",
              "    .dataframe tbody tr th {\n",
              "        vertical-align: top;\n",
              "    }\n",
              "\n",
              "    .dataframe thead th {\n",
              "        text-align: right;\n",
              "    }\n",
              "</style>\n",
              "<table border=\"1\" class=\"dataframe\">\n",
              "  <thead>\n",
              "    <tr style=\"text-align: right;\">\n",
              "      <th></th>\n",
              "      <th>0</th>\n",
              "      <th>1</th>\n",
              "      <th>2</th>\n",
              "      <th>3</th>\n",
              "    </tr>\n",
              "  </thead>\n",
              "  <tbody>\n",
              "    <tr>\n",
              "      <th>0</th>\n",
              "      <td>0</td>\n",
              "      <td>0</td>\n",
              "      <td>1</td>\n",
              "      <td>0</td>\n",
              "    </tr>\n",
              "    <tr>\n",
              "      <th>1</th>\n",
              "      <td>0</td>\n",
              "      <td>0</td>\n",
              "      <td>1</td>\n",
              "      <td>0</td>\n",
              "    </tr>\n",
              "    <tr>\n",
              "      <th>2</th>\n",
              "      <td>0</td>\n",
              "      <td>0</td>\n",
              "      <td>1</td>\n",
              "      <td>0</td>\n",
              "    </tr>\n",
              "    <tr>\n",
              "      <th>3</th>\n",
              "      <td>0</td>\n",
              "      <td>0</td>\n",
              "      <td>1</td>\n",
              "      <td>0</td>\n",
              "    </tr>\n",
              "    <tr>\n",
              "      <th>4</th>\n",
              "      <td>0</td>\n",
              "      <td>0</td>\n",
              "      <td>1</td>\n",
              "      <td>0</td>\n",
              "    </tr>\n",
              "    <tr>\n",
              "      <th>...</th>\n",
              "      <td>...</td>\n",
              "      <td>...</td>\n",
              "      <td>...</td>\n",
              "      <td>...</td>\n",
              "    </tr>\n",
              "    <tr>\n",
              "      <th>3314</th>\n",
              "      <td>1</td>\n",
              "      <td>0</td>\n",
              "      <td>0</td>\n",
              "      <td>0</td>\n",
              "    </tr>\n",
              "    <tr>\n",
              "      <th>3315</th>\n",
              "      <td>1</td>\n",
              "      <td>0</td>\n",
              "      <td>0</td>\n",
              "      <td>0</td>\n",
              "    </tr>\n",
              "    <tr>\n",
              "      <th>3316</th>\n",
              "      <td>1</td>\n",
              "      <td>0</td>\n",
              "      <td>0</td>\n",
              "      <td>0</td>\n",
              "    </tr>\n",
              "    <tr>\n",
              "      <th>3317</th>\n",
              "      <td>1</td>\n",
              "      <td>0</td>\n",
              "      <td>0</td>\n",
              "      <td>0</td>\n",
              "    </tr>\n",
              "    <tr>\n",
              "      <th>3318</th>\n",
              "      <td>1</td>\n",
              "      <td>0</td>\n",
              "      <td>0</td>\n",
              "      <td>0</td>\n",
              "    </tr>\n",
              "  </tbody>\n",
              "</table>\n",
              "<p>3319 rows × 4 columns</p>\n",
              "</div>\n",
              "      <button class=\"colab-df-convert\" onclick=\"convertToInteractive('df-e0ea76d5-b377-48f3-b0a6-0d9da0db875c')\"\n",
              "              title=\"Convert this dataframe to an interactive table.\"\n",
              "              style=\"display:none;\">\n",
              "        \n",
              "  <svg xmlns=\"http://www.w3.org/2000/svg\" height=\"24px\"viewBox=\"0 0 24 24\"\n",
              "       width=\"24px\">\n",
              "    <path d=\"M0 0h24v24H0V0z\" fill=\"none\"/>\n",
              "    <path d=\"M18.56 5.44l.94 2.06.94-2.06 2.06-.94-2.06-.94-.94-2.06-.94 2.06-2.06.94zm-11 1L8.5 8.5l.94-2.06 2.06-.94-2.06-.94L8.5 2.5l-.94 2.06-2.06.94zm10 10l.94 2.06.94-2.06 2.06-.94-2.06-.94-.94-2.06-.94 2.06-2.06.94z\"/><path d=\"M17.41 7.96l-1.37-1.37c-.4-.4-.92-.59-1.43-.59-.52 0-1.04.2-1.43.59L10.3 9.45l-7.72 7.72c-.78.78-.78 2.05 0 2.83L4 21.41c.39.39.9.59 1.41.59.51 0 1.02-.2 1.41-.59l7.78-7.78 2.81-2.81c.8-.78.8-2.07 0-2.86zM5.41 20L4 18.59l7.72-7.72 1.47 1.35L5.41 20z\"/>\n",
              "  </svg>\n",
              "      </button>\n",
              "      \n",
              "  <style>\n",
              "    .colab-df-container {\n",
              "      display:flex;\n",
              "      flex-wrap:wrap;\n",
              "      gap: 12px;\n",
              "    }\n",
              "\n",
              "    .colab-df-convert {\n",
              "      background-color: #E8F0FE;\n",
              "      border: none;\n",
              "      border-radius: 50%;\n",
              "      cursor: pointer;\n",
              "      display: none;\n",
              "      fill: #1967D2;\n",
              "      height: 32px;\n",
              "      padding: 0 0 0 0;\n",
              "      width: 32px;\n",
              "    }\n",
              "\n",
              "    .colab-df-convert:hover {\n",
              "      background-color: #E2EBFA;\n",
              "      box-shadow: 0px 1px 2px rgba(60, 64, 67, 0.3), 0px 1px 3px 1px rgba(60, 64, 67, 0.15);\n",
              "      fill: #174EA6;\n",
              "    }\n",
              "\n",
              "    [theme=dark] .colab-df-convert {\n",
              "      background-color: #3B4455;\n",
              "      fill: #D2E3FC;\n",
              "    }\n",
              "\n",
              "    [theme=dark] .colab-df-convert:hover {\n",
              "      background-color: #434B5C;\n",
              "      box-shadow: 0px 1px 3px 1px rgba(0, 0, 0, 0.15);\n",
              "      filter: drop-shadow(0px 1px 2px rgba(0, 0, 0, 0.3));\n",
              "      fill: #FFFFFF;\n",
              "    }\n",
              "  </style>\n",
              "\n",
              "      <script>\n",
              "        const buttonEl =\n",
              "          document.querySelector('#df-e0ea76d5-b377-48f3-b0a6-0d9da0db875c button.colab-df-convert');\n",
              "        buttonEl.style.display =\n",
              "          google.colab.kernel.accessAllowed ? 'block' : 'none';\n",
              "\n",
              "        async function convertToInteractive(key) {\n",
              "          const element = document.querySelector('#df-e0ea76d5-b377-48f3-b0a6-0d9da0db875c');\n",
              "          const dataTable =\n",
              "            await google.colab.kernel.invokeFunction('convertToInteractive',\n",
              "                                                     [key], {});\n",
              "          if (!dataTable) return;\n",
              "\n",
              "          const docLinkHtml = 'Like what you see? Visit the ' +\n",
              "            '<a target=\"_blank\" href=https://colab.research.google.com/notebooks/data_table.ipynb>data table notebook</a>'\n",
              "            + ' to learn more about interactive tables.';\n",
              "          element.innerHTML = '';\n",
              "          dataTable['output_type'] = 'display_data';\n",
              "          await google.colab.output.renderOutput(dataTable, element);\n",
              "          const docLink = document.createElement('div');\n",
              "          docLink.innerHTML = docLinkHtml;\n",
              "          element.appendChild(docLink);\n",
              "        }\n",
              "      </script>\n",
              "    </div>\n",
              "  </div>\n",
              "  "
            ]
          },
          "metadata": {},
          "execution_count": 18
        }
      ]
    },
    {
      "cell_type": "code",
      "source": [
        "for i in range(4): \n",
        "  df_plot= df[(df[\"class\"] == i)]\n",
        "  n= df_plot.shape[0]\n",
        "  print(types[i],n)"
      ],
      "metadata": {
        "colab": {
          "base_uri": "https://localhost:8080/"
        },
        "id": "riQc8fXFglFT",
        "outputId": "045ea672-4d53-46d7-ba77-09d580c028d1"
      },
      "execution_count": 19,
      "outputs": [
        {
          "output_type": "stream",
          "name": "stdout",
          "text": [
            "NEUTROPHIL 833\n",
            "EOSINOPHIL 832\n",
            "MONOCYTE 826\n",
            "LYMPHOCYTE 828\n"
          ]
        }
      ]
    },
    {
      "cell_type": "code",
      "source": [
        "df = pd.DataFrame({'name':names_test,'class':y_test})\n",
        "y_test = pd.get_dummies(df['class'])\n",
        "y_test"
      ],
      "metadata": {
        "colab": {
          "base_uri": "https://localhost:8080/",
          "height": 423
        },
        "id": "wt92shXjg9ol",
        "outputId": "6893e8a1-b4de-4915-886d-94f3ec9807bc"
      },
      "execution_count": 20,
      "outputs": [
        {
          "output_type": "execute_result",
          "data": {
            "text/plain": [
              "     0  1  2  3\n",
              "0    0  0  1  0\n",
              "1    0  0  1  0\n",
              "2    0  0  1  0\n",
              "3    0  0  1  0\n",
              "4    0  0  1  0\n",
              "..  .. .. .. ..\n",
              "824  1  0  0  0\n",
              "825  1  0  0  0\n",
              "826  1  0  0  0\n",
              "827  1  0  0  0\n",
              "828  1  0  0  0\n",
              "\n",
              "[829 rows x 4 columns]"
            ],
            "text/html": [
              "\n",
              "  <div id=\"df-1647d0f1-2411-4fd5-ad47-9512d18b2bb7\">\n",
              "    <div class=\"colab-df-container\">\n",
              "      <div>\n",
              "<style scoped>\n",
              "    .dataframe tbody tr th:only-of-type {\n",
              "        vertical-align: middle;\n",
              "    }\n",
              "\n",
              "    .dataframe tbody tr th {\n",
              "        vertical-align: top;\n",
              "    }\n",
              "\n",
              "    .dataframe thead th {\n",
              "        text-align: right;\n",
              "    }\n",
              "</style>\n",
              "<table border=\"1\" class=\"dataframe\">\n",
              "  <thead>\n",
              "    <tr style=\"text-align: right;\">\n",
              "      <th></th>\n",
              "      <th>0</th>\n",
              "      <th>1</th>\n",
              "      <th>2</th>\n",
              "      <th>3</th>\n",
              "    </tr>\n",
              "  </thead>\n",
              "  <tbody>\n",
              "    <tr>\n",
              "      <th>0</th>\n",
              "      <td>0</td>\n",
              "      <td>0</td>\n",
              "      <td>1</td>\n",
              "      <td>0</td>\n",
              "    </tr>\n",
              "    <tr>\n",
              "      <th>1</th>\n",
              "      <td>0</td>\n",
              "      <td>0</td>\n",
              "      <td>1</td>\n",
              "      <td>0</td>\n",
              "    </tr>\n",
              "    <tr>\n",
              "      <th>2</th>\n",
              "      <td>0</td>\n",
              "      <td>0</td>\n",
              "      <td>1</td>\n",
              "      <td>0</td>\n",
              "    </tr>\n",
              "    <tr>\n",
              "      <th>3</th>\n",
              "      <td>0</td>\n",
              "      <td>0</td>\n",
              "      <td>1</td>\n",
              "      <td>0</td>\n",
              "    </tr>\n",
              "    <tr>\n",
              "      <th>4</th>\n",
              "      <td>0</td>\n",
              "      <td>0</td>\n",
              "      <td>1</td>\n",
              "      <td>0</td>\n",
              "    </tr>\n",
              "    <tr>\n",
              "      <th>...</th>\n",
              "      <td>...</td>\n",
              "      <td>...</td>\n",
              "      <td>...</td>\n",
              "      <td>...</td>\n",
              "    </tr>\n",
              "    <tr>\n",
              "      <th>824</th>\n",
              "      <td>1</td>\n",
              "      <td>0</td>\n",
              "      <td>0</td>\n",
              "      <td>0</td>\n",
              "    </tr>\n",
              "    <tr>\n",
              "      <th>825</th>\n",
              "      <td>1</td>\n",
              "      <td>0</td>\n",
              "      <td>0</td>\n",
              "      <td>0</td>\n",
              "    </tr>\n",
              "    <tr>\n",
              "      <th>826</th>\n",
              "      <td>1</td>\n",
              "      <td>0</td>\n",
              "      <td>0</td>\n",
              "      <td>0</td>\n",
              "    </tr>\n",
              "    <tr>\n",
              "      <th>827</th>\n",
              "      <td>1</td>\n",
              "      <td>0</td>\n",
              "      <td>0</td>\n",
              "      <td>0</td>\n",
              "    </tr>\n",
              "    <tr>\n",
              "      <th>828</th>\n",
              "      <td>1</td>\n",
              "      <td>0</td>\n",
              "      <td>0</td>\n",
              "      <td>0</td>\n",
              "    </tr>\n",
              "  </tbody>\n",
              "</table>\n",
              "<p>829 rows × 4 columns</p>\n",
              "</div>\n",
              "      <button class=\"colab-df-convert\" onclick=\"convertToInteractive('df-1647d0f1-2411-4fd5-ad47-9512d18b2bb7')\"\n",
              "              title=\"Convert this dataframe to an interactive table.\"\n",
              "              style=\"display:none;\">\n",
              "        \n",
              "  <svg xmlns=\"http://www.w3.org/2000/svg\" height=\"24px\"viewBox=\"0 0 24 24\"\n",
              "       width=\"24px\">\n",
              "    <path d=\"M0 0h24v24H0V0z\" fill=\"none\"/>\n",
              "    <path d=\"M18.56 5.44l.94 2.06.94-2.06 2.06-.94-2.06-.94-.94-2.06-.94 2.06-2.06.94zm-11 1L8.5 8.5l.94-2.06 2.06-.94-2.06-.94L8.5 2.5l-.94 2.06-2.06.94zm10 10l.94 2.06.94-2.06 2.06-.94-2.06-.94-.94-2.06-.94 2.06-2.06.94z\"/><path d=\"M17.41 7.96l-1.37-1.37c-.4-.4-.92-.59-1.43-.59-.52 0-1.04.2-1.43.59L10.3 9.45l-7.72 7.72c-.78.78-.78 2.05 0 2.83L4 21.41c.39.39.9.59 1.41.59.51 0 1.02-.2 1.41-.59l7.78-7.78 2.81-2.81c.8-.78.8-2.07 0-2.86zM5.41 20L4 18.59l7.72-7.72 1.47 1.35L5.41 20z\"/>\n",
              "  </svg>\n",
              "      </button>\n",
              "      \n",
              "  <style>\n",
              "    .colab-df-container {\n",
              "      display:flex;\n",
              "      flex-wrap:wrap;\n",
              "      gap: 12px;\n",
              "    }\n",
              "\n",
              "    .colab-df-convert {\n",
              "      background-color: #E8F0FE;\n",
              "      border: none;\n",
              "      border-radius: 50%;\n",
              "      cursor: pointer;\n",
              "      display: none;\n",
              "      fill: #1967D2;\n",
              "      height: 32px;\n",
              "      padding: 0 0 0 0;\n",
              "      width: 32px;\n",
              "    }\n",
              "\n",
              "    .colab-df-convert:hover {\n",
              "      background-color: #E2EBFA;\n",
              "      box-shadow: 0px 1px 2px rgba(60, 64, 67, 0.3), 0px 1px 3px 1px rgba(60, 64, 67, 0.15);\n",
              "      fill: #174EA6;\n",
              "    }\n",
              "\n",
              "    [theme=dark] .colab-df-convert {\n",
              "      background-color: #3B4455;\n",
              "      fill: #D2E3FC;\n",
              "    }\n",
              "\n",
              "    [theme=dark] .colab-df-convert:hover {\n",
              "      background-color: #434B5C;\n",
              "      box-shadow: 0px 1px 3px 1px rgba(0, 0, 0, 0.15);\n",
              "      filter: drop-shadow(0px 1px 2px rgba(0, 0, 0, 0.3));\n",
              "      fill: #FFFFFF;\n",
              "    }\n",
              "  </style>\n",
              "\n",
              "      <script>\n",
              "        const buttonEl =\n",
              "          document.querySelector('#df-1647d0f1-2411-4fd5-ad47-9512d18b2bb7 button.colab-df-convert');\n",
              "        buttonEl.style.display =\n",
              "          google.colab.kernel.accessAllowed ? 'block' : 'none';\n",
              "\n",
              "        async function convertToInteractive(key) {\n",
              "          const element = document.querySelector('#df-1647d0f1-2411-4fd5-ad47-9512d18b2bb7');\n",
              "          const dataTable =\n",
              "            await google.colab.kernel.invokeFunction('convertToInteractive',\n",
              "                                                     [key], {});\n",
              "          if (!dataTable) return;\n",
              "\n",
              "          const docLinkHtml = 'Like what you see? Visit the ' +\n",
              "            '<a target=\"_blank\" href=https://colab.research.google.com/notebooks/data_table.ipynb>data table notebook</a>'\n",
              "            + ' to learn more about interactive tables.';\n",
              "          element.innerHTML = '';\n",
              "          dataTable['output_type'] = 'display_data';\n",
              "          await google.colab.output.renderOutput(dataTable, element);\n",
              "          const docLink = document.createElement('div');\n",
              "          docLink.innerHTML = docLinkHtml;\n",
              "          element.appendChild(docLink);\n",
              "        }\n",
              "      </script>\n",
              "    </div>\n",
              "  </div>\n",
              "  "
            ]
          },
          "metadata": {},
          "execution_count": 20
        }
      ]
    },
    {
      "cell_type": "code",
      "source": [
        "model = Sequential()\n",
        "model.add(Conv2D(32, (3, 3), padding='same',\n",
        "                 input_shape=X_train.shape[1:]))\n",
        "model.add(Activation('relu'))\n",
        "model.add(Conv2D(32, (3, 3)))\n",
        "model.add(Activation('relu'))\n",
        "model.add(MaxPooling2D(pool_size=(2, 2)))\n",
        "model.add(Dropout(0.25))\n",
        "\n",
        "model.add(Conv2D(64, (3, 3), padding='same'))\n",
        "model.add(Activation('relu'))\n",
        "model.add(Conv2D(64, (3, 3)))\n",
        "model.add(Activation('relu'))\n",
        "model.add(MaxPooling2D(pool_size=(2, 2)))\n",
        "model.add(Dropout(0.25))\n",
        "\n",
        "model.add(Flatten())\n",
        "model.add(Dense(512))\n",
        "model.add(Activation('relu'))\n",
        "model.add(Dropout(0.5))\n",
        "model.add(Dense(num_classes))\n",
        "model.add(Activation('softmax'))"
      ],
      "metadata": {
        "id": "1jQtzeWfhmxe"
      },
      "execution_count": 21,
      "outputs": []
    },
    {
      "cell_type": "code",
      "source": [
        "# Let's take a look to see how many layers are in the base model\n",
        "print(\"Number of layers in the base model: \", len(model.layers))"
      ],
      "metadata": {
        "colab": {
          "base_uri": "https://localhost:8080/"
        },
        "id": "yfQIQy12pIuH",
        "outputId": "e54678d0-0bb0-4a6e-c2d5-9def3adcb31b"
      },
      "execution_count": 22,
      "outputs": [
        {
          "output_type": "stream",
          "name": "stdout",
          "text": [
            "Number of layers in the base model:  18\n"
          ]
        }
      ]
    },
    {
      "cell_type": "code",
      "source": [],
      "metadata": {
        "id": "2oLTZ3y9h3MM"
      },
      "execution_count": 22,
      "outputs": []
    },
    {
      "cell_type": "code",
      "source": [],
      "metadata": {
        "id": "iwdrhtrIpH8l"
      },
      "execution_count": 22,
      "outputs": []
    },
    {
      "cell_type": "code",
      "source": [
        "base_learning_rate = 0.0001\n",
        "model.compile(optimizer=tf.keras.optimizers.RMSprop(learning_rate=base_learning_rate/10),\n",
        "              loss=tf.keras.losses.CategoricalCrossentropy(from_logits=False),\n",
        "              metrics=['accuracy'])"
      ],
      "metadata": {
        "id": "suAFxJ8jh7sU"
      },
      "execution_count": 23,
      "outputs": []
    },
    {
      "cell_type": "code",
      "source": [
        "r = model.fit(\n",
        "    x=X_train,\n",
        "    y=y_train,\n",
        "    validation_data=(X_test, y_test),\n",
        "    epochs=30,\n",
        "    verbose=2\n",
        ")"
      ],
      "metadata": {
        "id": "lBwZKcBNh7vd",
        "colab": {
          "base_uri": "https://localhost:8080/"
        },
        "outputId": "0a7faf18-ef46-4148-e5db-af67d7715d67"
      },
      "execution_count": 24,
      "outputs": [
        {
          "output_type": "stream",
          "name": "stdout",
          "text": [
            "Epoch 1/30\n",
            "104/104 - 37s - loss: 1.4078 - accuracy: 0.2639 - val_loss: 1.3834 - val_accuracy: 0.2606 - 37s/epoch - 360ms/step\n",
            "Epoch 2/30\n",
            "104/104 - 18s - loss: 1.3791 - accuracy: 0.2962 - val_loss: 1.3684 - val_accuracy: 0.2533 - 18s/epoch - 170ms/step\n",
            "Epoch 3/30\n",
            "104/104 - 18s - loss: 1.3583 - accuracy: 0.3227 - val_loss: 1.3407 - val_accuracy: 0.3884 - 18s/epoch - 170ms/step\n",
            "Epoch 4/30\n",
            "104/104 - 18s - loss: 1.3288 - accuracy: 0.3498 - val_loss: 1.3102 - val_accuracy: 0.4077 - 18s/epoch - 174ms/step\n",
            "Epoch 5/30\n",
            "104/104 - 18s - loss: 1.2895 - accuracy: 0.3929 - val_loss: 1.2791 - val_accuracy: 0.4138 - 18s/epoch - 171ms/step\n",
            "Epoch 6/30\n",
            "104/104 - 18s - loss: 1.2588 - accuracy: 0.4269 - val_loss: 1.2494 - val_accuracy: 0.4258 - 18s/epoch - 175ms/step\n",
            "Epoch 7/30\n",
            "104/104 - 18s - loss: 1.2372 - accuracy: 0.4387 - val_loss: 1.2304 - val_accuracy: 0.4403 - 18s/epoch - 169ms/step\n",
            "Epoch 8/30\n",
            "104/104 - 17s - loss: 1.2069 - accuracy: 0.4456 - val_loss: 1.2079 - val_accuracy: 0.4427 - 17s/epoch - 168ms/step\n",
            "Epoch 9/30\n",
            "104/104 - 18s - loss: 1.1793 - accuracy: 0.4754 - val_loss: 1.1961 - val_accuracy: 0.4536 - 18s/epoch - 169ms/step\n",
            "Epoch 10/30\n",
            "104/104 - 18s - loss: 1.1543 - accuracy: 0.4833 - val_loss: 1.1821 - val_accuracy: 0.4560 - 18s/epoch - 170ms/step\n",
            "Epoch 11/30\n",
            "104/104 - 18s - loss: 1.1380 - accuracy: 0.5002 - val_loss: 1.1938 - val_accuracy: 0.4415 - 18s/epoch - 169ms/step\n",
            "Epoch 12/30\n",
            "104/104 - 18s - loss: 1.1072 - accuracy: 0.5215 - val_loss: 1.1721 - val_accuracy: 0.4511 - 18s/epoch - 169ms/step\n",
            "Epoch 13/30\n",
            "104/104 - 18s - loss: 1.0934 - accuracy: 0.5279 - val_loss: 1.1596 - val_accuracy: 0.4596 - 18s/epoch - 173ms/step\n",
            "Epoch 14/30\n",
            "104/104 - 18s - loss: 1.0641 - accuracy: 0.5580 - val_loss: 1.1795 - val_accuracy: 0.4415 - 18s/epoch - 174ms/step\n",
            "Epoch 15/30\n",
            "104/104 - 18s - loss: 1.0407 - accuracy: 0.5719 - val_loss: 1.1453 - val_accuracy: 0.4572 - 18s/epoch - 169ms/step\n",
            "Epoch 16/30\n",
            "104/104 - 18s - loss: 1.0141 - accuracy: 0.5809 - val_loss: 1.1480 - val_accuracy: 0.4596 - 18s/epoch - 173ms/step\n",
            "Epoch 17/30\n",
            "104/104 - 18s - loss: 1.0007 - accuracy: 0.5881 - val_loss: 1.1271 - val_accuracy: 0.4753 - 18s/epoch - 174ms/step\n",
            "Epoch 18/30\n",
            "104/104 - 18s - loss: 0.9791 - accuracy: 0.6050 - val_loss: 1.1551 - val_accuracy: 0.4680 - 18s/epoch - 169ms/step\n",
            "Epoch 19/30\n",
            "104/104 - 18s - loss: 0.9574 - accuracy: 0.6165 - val_loss: 1.1357 - val_accuracy: 0.4704 - 18s/epoch - 170ms/step\n",
            "Epoch 20/30\n",
            "104/104 - 18s - loss: 0.9360 - accuracy: 0.6234 - val_loss: 1.1187 - val_accuracy: 0.4837 - 18s/epoch - 170ms/step\n",
            "Epoch 21/30\n",
            "104/104 - 18s - loss: 0.9123 - accuracy: 0.6285 - val_loss: 1.1351 - val_accuracy: 0.4656 - 18s/epoch - 175ms/step\n",
            "Epoch 22/30\n",
            "104/104 - 18s - loss: 0.9004 - accuracy: 0.6403 - val_loss: 1.1511 - val_accuracy: 0.4620 - 18s/epoch - 174ms/step\n",
            "Epoch 23/30\n",
            "104/104 - 18s - loss: 0.8769 - accuracy: 0.6547 - val_loss: 1.1079 - val_accuracy: 0.4910 - 18s/epoch - 174ms/step\n",
            "Epoch 24/30\n",
            "104/104 - 18s - loss: 0.8527 - accuracy: 0.6683 - val_loss: 1.0959 - val_accuracy: 0.4897 - 18s/epoch - 170ms/step\n",
            "Epoch 25/30\n",
            "104/104 - 18s - loss: 0.8359 - accuracy: 0.6698 - val_loss: 1.0949 - val_accuracy: 0.5054 - 18s/epoch - 174ms/step\n",
            "Epoch 26/30\n",
            "104/104 - 18s - loss: 0.8192 - accuracy: 0.6764 - val_loss: 1.2124 - val_accuracy: 0.4379 - 18s/epoch - 174ms/step\n",
            "Epoch 27/30\n",
            "104/104 - 18s - loss: 0.8041 - accuracy: 0.6927 - val_loss: 1.0971 - val_accuracy: 0.4873 - 18s/epoch - 174ms/step\n",
            "Epoch 28/30\n",
            "104/104 - 18s - loss: 0.7813 - accuracy: 0.7008 - val_loss: 1.0800 - val_accuracy: 0.4885 - 18s/epoch - 174ms/step\n",
            "Epoch 29/30\n",
            "104/104 - 18s - loss: 0.7674 - accuracy: 0.6969 - val_loss: 1.0930 - val_accuracy: 0.4922 - 18s/epoch - 173ms/step\n",
            "Epoch 30/30\n",
            "104/104 - 18s - loss: 0.7413 - accuracy: 0.7198 - val_loss: 1.1482 - val_accuracy: 0.4620 - 18s/epoch - 170ms/step\n"
          ]
        }
      ]
    },
    {
      "cell_type": "code",
      "source": [
        "plt.plot(r.history['accuracy'],label='accuracy')\n",
        "plt.plot(r.history['val_accuracy'],label='val_accuracy')\n",
        "plt.legend()"
      ],
      "metadata": {
        "id": "q1ky-EElh7yM",
        "colab": {
          "base_uri": "https://localhost:8080/",
          "height": 448
        },
        "outputId": "703d4166-00a4-4e06-eb1d-9bd3274c8150"
      },
      "execution_count": 25,
      "outputs": [
        {
          "output_type": "execute_result",
          "data": {
            "text/plain": [
              "<matplotlib.legend.Legend at 0x7f32e3da06a0>"
            ]
          },
          "metadata": {},
          "execution_count": 25
        },
        {
          "output_type": "display_data",
          "data": {
            "text/plain": [
              "<Figure size 640x480 with 1 Axes>"
            ],
            "image/png": "[encoded data removed]"
          },
          "metadata": {}
        }
      ]
    },
    {
      "cell_type": "code",
      "source": [
        "plt.plot(r.history['loss'],label='loss')\n",
        "plt.plot(r.history['val_loss'],label='val_loss')\n",
        "plt.legend()"
      ],
      "metadata": {
        "id": "k-8VDyHih71N",
        "colab": {
          "base_uri": "https://localhost:8080/",
          "height": 448
        },
        "outputId": "be656a12-bde7-4135-df2d-10a6e3e71a52"
      },
      "execution_count": 26,
      "outputs": [
        {
          "output_type": "execute_result",
          "data": {
            "text/plain": [
              "<matplotlib.legend.Legend at 0x7f31e1e7b3d0>"
            ]
          },
          "metadata": {},
          "execution_count": 26
        },
        {
          "output_type": "display_data",
          "data": {
            "text/plain": [
              "<Figure size 640x480 with 1 Axes>"
            ],
            "image/png": "[encoded data removed]"
          },
          "metadata": {}
        }
      ]
    }
  ]
}