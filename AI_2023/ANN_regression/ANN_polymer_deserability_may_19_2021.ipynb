{
  "nbformat": 4,
  "nbformat_minor": 0,
  "metadata": {
    "kernelspec": {
      "display_name": "Python 3",
      "language": "python",
      "name": "python3"
    },
    "language_info": {
      "codemirror_mode": {
        "name": "ipython",
        "version": 3
      },
      "file_extension": ".py",
      "mimetype": "text/x-python",
      "name": "python",
      "nbconvert_exporter": "python",
      "pygments_lexer": "ipython3",
      "version": "3.5.4"
    },
    "colab": {
      "provenance": [],
      "include_colab_link": true
    }
  },
  "cells": [
    {
      "cell_type": "markdown",
      "metadata": {
        "id": "view-in-github",
        "colab_type": "text"
      },
      "source": [
        "<a href=\"https://colab.research.google.com/github/ucfilho/AI/blob/main/AI_2023/ANN_regression/ANN_polymer_deserability_may_19_2021.ipynb\" target=\"_parent\"><img src=\"https://colab.research.google.com/assets/colab-badge.svg\" alt=\"Open In Colab\"/></a>"
      ]
    },
    {
      "cell_type": "code",
      "metadata": {
        "id": "cF6kzanWQZgh"
      },
      "source": [
        "# bibliotecas usadas\n",
        "import numpy as np\n",
        "import pandas as pd\n",
        "import matplotlib.pyplot as plt\n",
        "from sklearn.neural_network import MLPRegressor\n",
        "from sklearn.model_selection import train_test_split\n",
        "from sklearn.metrics import mean_squared_error\n",
        "from sklearn import preprocessing\n",
        "from sklearn.metrics import r2_score\n",
        "from google.colab import files\n",
        "from scipy import optimize"
      ],
      "execution_count": null,
      "outputs": []
    },
    {
      "cell_type": "code",
      "metadata": {
        "id": "UW1APYrFQZgl"
      },
      "source": [
        "# para gerar o grafico no browser\n",
        "%matplotlib inline"
      ],
      "execution_count": null,
      "outputs": []
    },
    {
      "cell_type": "code",
      "metadata": {
        "id": "xDrq_-S8QZgn",
        "colab": {
          "base_uri": "https://localhost:8080/"
        },
        "outputId": "bf6978cf-d170-4f0d-fe83-0ec843b283f5"
      },
      "source": [
        "!git clone https://github.com/ucfilho/ANN_2021_01\n",
        "%cd ANN_2021_01"
      ],
      "execution_count": null,
      "outputs": [
        {
          "output_type": "stream",
          "name": "stdout",
          "text": [
            "Cloning into 'ANN_2021_01'...\n",
            "remote: Enumerating objects: 538, done.\u001b[K\n",
            "remote: Counting objects: 100% (169/169), done.\u001b[K\n",
            "remote: Compressing objects: 100% (88/88), done.\u001b[K\n",
            "remote: Total 538 (delta 85), reused 164 (delta 80), pack-reused 369\u001b[K\n",
            "Receiving objects: 100% (538/538), 80.06 MiB | 30.26 MiB/s, done.\n",
            "Resolving deltas: 100% (294/294), done.\n",
            "Updating files: 100% (77/77), done.\n",
            "/content/ANN_2021_01\n"
          ]
        }
      ]
    },
    {
      "cell_type": "code",
      "metadata": {
        "id": "poo2kvF6QZgo",
        "colab": {
          "base_uri": "https://localhost:8080/"
        },
        "outputId": "6e1741b9-c1a5-4350-9590-025196cdb653"
      },
      "source": [
        "df=pd.read_csv(\"Polimero_maio_21_2015.txt\",sep='\\t')\n",
        "print(df.head())"
      ],
      "execution_count": null,
      "outputs": [
        {
          "output_type": "stream",
          "name": "stdout",
          "text": [
            "   Time     TC     Y  MI    MW\n",
            "0  80.0  170.0  76.5  62  2940\n",
            "1  80.0  180.0  77.0  60  3470\n",
            "2  90.0  170.0  78.0  66  3680\n",
            "3  90.0  180.0  79.5  59  3890\n",
            "4  85.0  175.0  79.9  72  3480\n"
          ]
        }
      ]
    },
    {
      "cell_type": "code",
      "metadata": {
        "id": "FEvCqRGUQZgr"
      },
      "source": [
        "# separa os dados em normatizados e originais\n",
        "X = df[['Time','TC']]\n",
        "y = np.array(df[['Y','MI','MW']]).reshape(-1,3)"
      ],
      "execution_count": null,
      "outputs": []
    },
    {
      "cell_type": "code",
      "metadata": {
        "id": "9_In7Roxklf-"
      },
      "source": [
        "X_train, X_test, y_train, y_test = train_test_split(X,y,test_size=0.10, shuffle=True, random_state=3)"
      ],
      "execution_count": null,
      "outputs": []
    },
    {
      "cell_type": "code",
      "metadata": {
        "id": "W1D-K3kZfdKC"
      },
      "source": [
        "scaler_X = preprocessing.MinMaxScaler((-1,1)).fit(X)\n",
        "scaler_Y = preprocessing.MinMaxScaler((-1,1)).fit(y)"
      ],
      "execution_count": null,
      "outputs": []
    },
    {
      "cell_type": "code",
      "metadata": {
        "id": "n79c1vardcuS"
      },
      "source": [
        "X_train = scaler_X.transform(X)\n",
        "y_train = scaler_Y.transform(y)"
      ],
      "execution_count": null,
      "outputs": []
    },
    {
      "cell_type": "code",
      "metadata": {
        "id": "a7xdJHoKhCUA",
        "colab": {
          "base_uri": "https://localhost:8080/",
          "height": 37
        },
        "outputId": "51bb77de-f838-413a-93d6-fba4ae7dcc47"
      },
      "source": [
        "'''\n",
        "X_train = scaler_X.transform(X_train)\n",
        "X_test = scaler_X.transform(X_test)\n",
        "y_train = scaler_Y.transform(y_train)\n",
        "y_test = scaler_Y.transform(y_test)\n",
        "'''"
      ],
      "execution_count": null,
      "outputs": [
        {
          "output_type": "execute_result",
          "data": {
            "text/plain": [
              "'\\nX_train = scaler_X.transform(X_train)\\nX_test = scaler_X.transform(X_test)\\ny_train = scaler_Y.transform(y_train)\\ny_test = scaler_Y.transform(y_test)\\n'"
            ],
            "application/vnd.google.colaboratory.intrinsic+json": {
              "type": "string"
            }
          },
          "metadata": {},
          "execution_count": 9
        }
      ]
    },
    {
      "cell_type": "code",
      "metadata": {
        "id": "ohPsTk19YUaR"
      },
      "source": [
        "# define a rede neural\n",
        "model = MLPRegressor(solver='lbfgs',activation='tanh',alpha=1e-5,hidden_layer_sizes=(15),\n",
        "                     random_state=1)"
      ],
      "execution_count": null,
      "outputs": []
    },
    {
      "cell_type": "code",
      "metadata": {
        "colab": {
          "base_uri": "https://localhost:8080/",
          "height": 91
        },
        "id": "hYNjZoGaYb1k",
        "outputId": "7e3e5faf-3ead-4f41-80fd-f7ee1643069d"
      },
      "source": [
        "# treina a rede neural\n",
        "model.fit(X_train, y_train)"
      ],
      "execution_count": null,
      "outputs": [
        {
          "output_type": "execute_result",
          "data": {
            "text/plain": [
              "MLPRegressor(activation='tanh', alpha=1e-05, hidden_layer_sizes=15,\n",
              "             random_state=1, solver='lbfgs')"
            ],
            "text/html": [
              "<style>#sk-container-id-1 {color: black;background-color: white;}#sk-container-id-1 pre{padding: 0;}#sk-container-id-1 div.sk-toggleable {background-color: white;}#sk-container-id-1 label.sk-toggleable__label {cursor: pointer;display: block;width: 100%;margin-bottom: 0;padding: 0.3em;box-sizing: border-box;text-align: center;}#sk-container-id-1 label.sk-toggleable__label-arrow:before {content: \"▸\";float: left;margin-right: 0.25em;color: #696969;}#sk-container-id-1 label.sk-toggleable__label-arrow:hover:before {color: black;}#sk-container-id-1 div.sk-estimator:hover label.sk-toggleable__label-arrow:before {color: black;}#sk-container-id-1 div.sk-toggleable__content {max-height: 0;max-width: 0;overflow: hidden;text-align: left;background-color: #f0f8ff;}#sk-container-id-1 div.sk-toggleable__content pre {margin: 0.2em;color: black;border-radius: 0.25em;background-color: #f0f8ff;}#sk-container-id-1 input.sk-toggleable__control:checked~div.sk-toggleable__content {max-height: 200px;max-width: 100%;overflow: auto;}#sk-container-id-1 input.sk-toggleable__control:checked~label.sk-toggleable__label-arrow:before {content: \"▾\";}#sk-container-id-1 div.sk-estimator input.sk-toggleable__control:checked~label.sk-toggleable__label {background-color: #d4ebff;}#sk-container-id-1 div.sk-label input.sk-toggleable__control:checked~label.sk-toggleable__label {background-color: #d4ebff;}#sk-container-id-1 input.sk-hidden--visually {border: 0;clip: rect(1px 1px 1px 1px);clip: rect(1px, 1px, 1px, 1px);height: 1px;margin: -1px;overflow: hidden;padding: 0;position: absolute;width: 1px;}#sk-container-id-1 div.sk-estimator {font-family: monospace;background-color: #f0f8ff;border: 1px dotted black;border-radius: 0.25em;box-sizing: border-box;margin-bottom: 0.5em;}#sk-container-id-1 div.sk-estimator:hover {background-color: #d4ebff;}#sk-container-id-1 div.sk-parallel-item::after {content: \"\";width: 100%;border-bottom: 1px solid gray;flex-grow: 1;}#sk-container-id-1 div.sk-label:hover label.sk-toggleable__label {background-color: #d4ebff;}#sk-container-id-1 div.sk-serial::before {content: \"\";position: absolute;border-left: 1px solid gray;box-sizing: border-box;top: 0;bottom: 0;left: 50%;z-index: 0;}#sk-container-id-1 div.sk-serial {display: flex;flex-direction: column;align-items: center;background-color: white;padding-right: 0.2em;padding-left: 0.2em;position: relative;}#sk-container-id-1 div.sk-item {position: relative;z-index: 1;}#sk-container-id-1 div.sk-parallel {display: flex;align-items: stretch;justify-content: center;background-color: white;position: relative;}#sk-container-id-1 div.sk-item::before, #sk-container-id-1 div.sk-parallel-item::before {content: \"\";position: absolute;border-left: 1px solid gray;box-sizing: border-box;top: 0;bottom: 0;left: 50%;z-index: -1;}#sk-container-id-1 div.sk-parallel-item {display: flex;flex-direction: column;z-index: 1;position: relative;background-color: white;}#sk-container-id-1 div.sk-parallel-item:first-child::after {align-self: flex-end;width: 50%;}#sk-container-id-1 div.sk-parallel-item:last-child::after {align-self: flex-start;width: 50%;}#sk-container-id-1 div.sk-parallel-item:only-child::after {width: 0;}#sk-container-id-1 div.sk-dashed-wrapped {border: 1px dashed gray;margin: 0 0.4em 0.5em 0.4em;box-sizing: border-box;padding-bottom: 0.4em;background-color: white;}#sk-container-id-1 div.sk-label label {font-family: monospace;font-weight: bold;display: inline-block;line-height: 1.2em;}#sk-container-id-1 div.sk-label-container {text-align: center;}#sk-container-id-1 div.sk-container {/* jupyter's `normalize.less` sets `[hidden] { display: none; }` but bootstrap.min.css set `[hidden] { display: none !important; }` so we also need the `!important` here to be able to override the default hidden behavior on the sphinx rendered scikit-learn.org. See: https://github.com/scikit-learn/scikit-learn/issues/21755 */display: inline-block !important;position: relative;}#sk-container-id-1 div.sk-text-repr-fallback {display: none;}</style><div id=\"sk-container-id-1\" class=\"sk-top-container\"><div class=\"sk-text-repr-fallback\"><pre>MLPRegressor(activation=&#x27;tanh&#x27;, alpha=1e-05, hidden_layer_sizes=15,\n",
              "             random_state=1, solver=&#x27;lbfgs&#x27;)</pre><b>In a Jupyter environment, please rerun this cell to show the HTML representation or trust the notebook. <br />On GitHub, the HTML representation is unable to render, please try loading this page with nbviewer.org.</b></div><div class=\"sk-container\" hidden><div class=\"sk-item\"><div class=\"sk-estimator sk-toggleable\"><input class=\"sk-toggleable__control sk-hidden--visually\" id=\"sk-estimator-id-1\" type=\"checkbox\" checked><label for=\"sk-estimator-id-1\" class=\"sk-toggleable__label sk-toggleable__label-arrow\">MLPRegressor</label><div class=\"sk-toggleable__content\"><pre>MLPRegressor(activation=&#x27;tanh&#x27;, alpha=1e-05, hidden_layer_sizes=15,\n",
              "             random_state=1, solver=&#x27;lbfgs&#x27;)</pre></div></div></div></div></div>"
            ]
          },
          "metadata": {},
          "execution_count": 11
        }
      ]
    },
    {
      "cell_type": "code",
      "source": [
        "# https://www.itl.nist.gov/div898/handbook/pri/section5/pri5322.htm"
      ],
      "metadata": {
        "id": "RKBYc8koB1kb"
      },
      "execution_count": null,
      "outputs": []
    },
    {
      "cell_type": "code",
      "metadata": {
        "id": "qF4fxd33YjWF"
      },
      "source": [
        "# usa a rede neural treina em calculos para treino e teste\n",
        "y_calc_train=model.predict(X_train)\n",
        "# y_calc_test=model.predict(X_test)"
      ],
      "execution_count": null,
      "outputs": []
    },
    {
      "cell_type": "code",
      "metadata": {
        "colab": {
          "base_uri": "https://localhost:8080/"
        },
        "id": "fjTXAKSnb1L8",
        "outputId": "33013c8a-bbbe-4555-c194-612e96d7603b"
      },
      "source": [
        "y_train"
      ],
      "execution_count": null,
      "outputs": [
        {
          "output_type": "execute_result",
          "data": {
            "text/plain": [
              "array([[-0.61702128, -0.33333333, -1.        ],\n",
              "       [-0.40425532, -0.6       ,  0.11578947],\n",
              "       [ 0.0212766 ,  0.2       ,  0.55789474],\n",
              "       [ 0.65957447, -0.73333333,  1.        ],\n",
              "       [ 0.82978723,  1.        ,  0.13684211],\n",
              "       [ 1.        ,  0.6       , -0.45263158],\n",
              "       [ 0.87234043,  0.46666667, -0.01052632],\n",
              "       [ 0.74468085,  0.73333333, -0.26315789],\n",
              "       [ 0.78723404,  0.86666667,  0.17894737],\n",
              "       [ 0.19148936,  0.46666667, -0.11578947],\n",
              "       [-1.        ,  0.86666667, -0.83157895],\n",
              "       [ 0.23404255, -0.86666667,  0.45263158],\n",
              "       [-0.40425532, -1.        , -0.55789474]])"
            ]
          },
          "metadata": {},
          "execution_count": 13
        }
      ]
    },
    {
      "cell_type": "code",
      "metadata": {
        "colab": {
          "base_uri": "https://localhost:8080/"
        },
        "id": "Y-xRoqNPcG5x",
        "outputId": "67febb2d-dd02-4322-cbe5-b2df959afc0e"
      },
      "source": [
        "y_calc_train"
      ],
      "execution_count": null,
      "outputs": [
        {
          "output_type": "execute_result",
          "data": {
            "text/plain": [
              "array([[-0.61738232, -0.33337197, -0.99994229],\n",
              "       [-0.40518786, -0.6007252 ,  0.11588197],\n",
              "       [ 0.02124032,  0.1998564 ,  0.55803901],\n",
              "       [ 0.65943924, -0.73403266,  1.000044  ],\n",
              "       [ 0.8468796 ,  0.73325763, -0.08216555],\n",
              "       [ 0.8468796 ,  0.73325763, -0.08216555],\n",
              "       [ 0.8468796 ,  0.73325763, -0.08216555],\n",
              "       [ 0.8468796 ,  0.73325763, -0.08216555],\n",
              "       [ 0.8468796 ,  0.73325763, -0.08216555],\n",
              "       [ 0.19120349,  0.46726165, -0.11548114],\n",
              "       [-1.00007076,  0.86713072, -0.83124186],\n",
              "       [ 0.23475845, -0.8659042 ,  0.45243359],\n",
              "       [-0.40417703, -1.00017644, -0.55811518]])"
            ]
          },
          "metadata": {},
          "execution_count": 14
        }
      ]
    },
    {
      "cell_type": "code",
      "metadata": {
        "id": "BpNn_IogQZgt"
      },
      "source": [
        "# transforma dos dados calculados na forma original (nao normatizado)\n",
        "y_obs_train=scaler_Y.inverse_transform(np.array(y_train).reshape(-1,3))\n",
        "# y_obs_test=scaler_Y.inverse_transform(np.array(y_test).reshape(-1,3))\n",
        "y_calc_train=scaler_Y.inverse_transform(y_calc_train.reshape(-1,3))\n",
        "# y_calc_test=scaler_Y.inverse_transform(y_calc_test.reshape(-1,3))"
      ],
      "execution_count": null,
      "outputs": []
    },
    {
      "cell_type": "code",
      "metadata": {
        "id": "wmk4ojlFdCSr"
      },
      "source": [],
      "execution_count": null,
      "outputs": []
    },
    {
      "cell_type": "code",
      "metadata": {
        "id": "jGfHbJMBoX9y",
        "colab": {
          "base_uri": "https://localhost:8080/",
          "height": 37
        },
        "outputId": "4def30a1-8635-4c93-e61c-8ea61ddee2d2"
      },
      "source": [
        "'''\n",
        "mse=mean_squared_error(y_obs_test,y_calc_test)\n",
        "print(\"MSE teste=\",mse)\n",
        "R2=r2_score(y_obs_test,y_calc_test)\n",
        "print(\"R^2 teste=\",R2)\n",
        "'''"
      ],
      "execution_count": null,
      "outputs": [
        {
          "output_type": "execute_result",
          "data": {
            "text/plain": [
              "'\\nmse=mean_squared_error(y_obs_test,y_calc_test)\\nprint(\"MSE teste=\",mse)\\nR2=r2_score(y_obs_test,y_calc_test)\\nprint(\"R^2 teste=\",R2)\\n'"
            ],
            "application/vnd.google.colaboratory.intrinsic+json": {
              "type": "string"
            }
          },
          "metadata": {},
          "execution_count": 16
        }
      ]
    },
    {
      "cell_type": "code",
      "metadata": {
        "colab": {
          "base_uri": "https://localhost:8080/"
        },
        "id": "IQ6i-NR6ZP_6",
        "outputId": "93d3d92b-bcfa-46c5-a2be-76a40211d706"
      },
      "source": [
        "mse=mean_squared_error(y_obs_train,y_calc_train)\n",
        "print(\"MSE treino=\",mse)\n",
        "R2=r2_score(y_obs_train,y_calc_train)\n",
        "print(\"R^2 treino=\",R2)"
      ],
      "execution_count": null,
      "outputs": [
        {
          "output_type": "stream",
          "name": "stdout",
          "text": [
            "MSE treino= 1685.3920755346742\n",
            "R^2 treino= 0.9629146653266748\n"
          ]
        }
      ]
    },
    {
      "cell_type": "code",
      "metadata": {
        "id": "I6hcy2aKZVKe"
      },
      "source": [
        "def MW_calc(x_test): #Time     TC     Y  MI    MW\n",
        "    global Y_OLD,model\n",
        "    x_test = np.array(x_test).reshape(-1,2)\n",
        "    y_calc_test=model.predict(x_test)\n",
        "    y_calc_test =scaler_Y.inverse_transform(y_calc_test.reshape(-1,3))\n",
        "    y =  y_calc_test[:,2]\n",
        "    return y\n",
        "def MI_calc(x_test):\n",
        "    global Y_OLD,model\n",
        "    x_test = np.array(x_test).reshape(-1,2)\n",
        "    y_calc_test=model.predict(x_test)\n",
        "    y_calc_test =scaler_Y.inverse_transform(y_calc_test.reshape(-1,3))\n",
        "    y =  y_calc_test[:,1]\n",
        "    return y\n",
        "def Y_calc(x_test):\n",
        "    global Y_OLD,model\n",
        "    x_test = x_test.reshape(-1,2)\n",
        "    y_calc_test=model.predict(x_test)\n",
        "    y_calc_test =scaler_Y.inverse_transform(y_calc_test.reshape(-1,3))\n",
        "    y =  y_calc_test[:,0]\n",
        "    return y\n",
        "\n",
        "def Desirability(y,U,T,L):\n",
        "    if y<L:\n",
        "        d=0\n",
        "    if (y>=L)&(y<=T):\n",
        "        d=(y-L)/(T-L)\n",
        "    if (y>=T)&(y<+U):\n",
        "        d=(U-y)/(U-T)\n",
        "    if (y>U):\n",
        "        d=0\n",
        "    return d"
      ],
      "execution_count": null,
      "outputs": []
    },
    {
      "cell_type": "code",
      "metadata": {
        "id": "w52Tlboqbmhs"
      },
      "source": [
        "def function(x):\n",
        "    Time=x[0]\n",
        "    TC=x[1]\n",
        "    MW=MW_calc(x)\n",
        "    MI=MI_calc(x)\n",
        "    Y=Y_calc(x)\n",
        "    U=3890\n",
        "    T=3400\n",
        "    L=2940\n",
        "    d1=Desirability(MW,U,T,L)\n",
        "    U=68\n",
        "    T=65\n",
        "    L=62\n",
        "    d2=Desirability(MI,U,T,L)\n",
        "    U=80\n",
        "    T=77.5\n",
        "    L=75.6\n",
        "    d3=Desirability(Y,U,T,L)\n",
        "    fun = (-1)*(d1*d2*d3)**(1/3)\n",
        "    return fun"
      ],
      "execution_count": null,
      "outputs": []
    },
    {
      "cell_type": "code",
      "metadata": {
        "colab": {
          "base_uri": "https://localhost:8080/"
        },
        "id": "2N_aneTlegod",
        "outputId": "67b3f85c-790e-4047-b326-4f82fd7c667d"
      },
      "source": [
        "bounds = [(-1, 1),(-1, 1)]\n",
        "\n",
        "Condicoes = optimize.differential_evolution(function,bounds,\n",
        "                                      init=\"latinhypercube\", # obs: init=\"random\"\n",
        "                                      maxiter=100, popsize=50,recombination=0.5)\n",
        "\n",
        "x_opt = Condicoes.x\n",
        "x_opt =scaler_X.inverse_transform(np.array(x_opt).reshape(-1,2))\n",
        "y_opt =model.predict(x_opt)\n",
        "y_opt =scaler_Y.inverse_transform(np.array(y_opt).reshape(-1,3))\n",
        "print(x_opt)\n",
        "print(y_opt)"
      ],
      "execution_count": null,
      "outputs": [
        {
          "output_type": "stream",
          "name": "stdout",
          "text": [
            "[[ 87.38361656 170.49947359]]\n",
            "[[  72.73293761   60.14936428 3852.59516626]]\n"
          ]
        }
      ]
    },
    {
      "cell_type": "markdown",
      "metadata": {
        "id": "i_46TqDPi051"
      },
      "source": [
        "\n",
        "PS: no planejamento de experimentos utilizando o Statistica -e-papers Y=80 MI=65,044 MW=3586,1\n",
        "\n",
        "tempo=86,65 e Temperatura=178,77"
      ]
    }
  ]
}