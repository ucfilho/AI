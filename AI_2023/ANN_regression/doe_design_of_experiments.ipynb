{
  "nbformat": 4,
  "nbformat_minor": 0,
  "metadata": {
    "colab": {
      "provenance": [],
      "authorship_tag": "ABX9TyOaRt6VA4PMctQRTSPI9YGB",
      "include_colab_link": true
    },
    "kernelspec": {
      "name": "python3",
      "display_name": "Python 3"
    },
    "language_info": {
      "name": "python"
    }
  },
  "cells": [
    {
      "cell_type": "markdown",
      "metadata": {
        "id": "view-in-github",
        "colab_type": "text"
      },
      "source": [
        "<a href=\"https://colab.research.google.com/github/ucfilho/AI/blob/main/AI_2023/ANN_regression/doe_design_of_experiments.ipynb\" target=\"_parent\"><img src=\"https://colab.research.google.com/assets/colab-badge.svg\" alt=\"Open In Colab\"/></a>"
      ]
    },
    {
      "cell_type": "code",
      "source": [
        "import numpy as np"
      ],
      "metadata": {
        "id": "Rg7hGMFwbY-N"
      },
      "execution_count": 18,
      "outputs": []
    },
    {
      "cell_type": "code",
      "source": [
        "# https://en.wikipedia.org/wiki/Central_composite_design"
      ],
      "metadata": {
        "id": "V94NnEa5m-1B"
      },
      "execution_count": 19,
      "outputs": []
    },
    {
      "cell_type": "code",
      "source": [
        "k = 2 # levels\n",
        "n = 8 # central points\n",
        "T = 2*k+n\n",
        "F = 2**k\n",
        "Q = ((F+T)**0.5-F**0.5)**2\n",
        "alpha = (Q*F/4)**0.25; print('alpha:',alpha)\n",
        "alpha = (F)**0.25; print('alpha:',alpha)"
      ],
      "metadata": {
        "colab": {
          "base_uri": "https://localhost:8080/"
        },
        "id": "E8Pt9oEJhy3D",
        "outputId": "da048770-33e2-4013-dd24-5fcd41beb6ed"
      },
      "execution_count": 25,
      "outputs": [
        {
          "output_type": "stream",
          "name": "stdout",
          "text": [
            "alpha: 1.4142135623730951\n",
            "alpha: 1.4142135623730951\n"
          ]
        }
      ]
    },
    {
      "cell_type": "code",
      "source": [
        "# https://pythonhosted.org/pyDOE/rsm.html#central-composite\n",
        "# https://en.wikipedia.org/wiki/Central_composite_design\n",
        "#"
      ],
      "metadata": {
        "id": "BppbH26BrprP"
      },
      "execution_count": null,
      "outputs": []
    },
    {
      "cell_type": "code",
      "source": [],
      "metadata": {
        "id": "KExN_bR1wmOI"
      },
      "execution_count": null,
      "outputs": []
    }
  ]
}