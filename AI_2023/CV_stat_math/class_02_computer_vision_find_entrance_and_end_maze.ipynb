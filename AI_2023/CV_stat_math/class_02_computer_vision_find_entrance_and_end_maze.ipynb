{
  "nbformat": 4,
  "nbformat_minor": 0,
  "metadata": {
    "colab": {
      "provenance": [],
      "authorship_tag": "ABX9TyOCNH6jU1yjx1tMRInMDzKe",
      "include_colab_link": true
    },
    "kernelspec": {
      "name": "python3",
      "display_name": "Python 3"
    },
    "language_info": {
      "name": "python"
    }
  },
  "cells": [
    {
      "cell_type": "markdown",
      "metadata": {
        "id": "view-in-github",
        "colab_type": "text"
      },
      "source": [
        "<a href=\"https://colab.research.google.com/github/ucfilho/AI/blob/main/AI_2023/CV_stat_math/class_02_computer_vision_find_entrance_and_end_maze.ipynb\" target=\"_parent\"><img src=\"https://colab.research.google.com/assets/colab-badge.svg\" alt=\"Open In Colab\"/></a>"
      ]
    },
    {
      "cell_type": "code",
      "execution_count": 1,
      "metadata": {
        "id": "hpc8CEy79-Ge"
      },
      "outputs": [],
      "source": [
        "import cv2\n",
        "import numpy as np\n",
        "from google.colab.patches import cv2_imshow\n",
        "import matplotlib.pyplot as plt"
      ]
    },
    {
      "cell_type": "code",
      "source": [
        "!git clone https://github.com/ucfilho/Machine_Learning_DataSet\n",
        "%cd Machine_Learning_DataSet"
      ],
      "metadata": {
        "colab": {
          "base_uri": "https://localhost:8080/"
        },
        "id": "-qbq0GQCAr47",
        "outputId": "b2d02539-8375-4f42-c878-a66b4176afc7"
      },
      "execution_count": 2,
      "outputs": [
        {
          "output_type": "stream",
          "name": "stdout",
          "text": [
            "Cloning into 'Machine_Learning_DataSet'...\n",
            "remote: Enumerating objects: 196, done.\u001b[K\n",
            "remote: Counting objects: 100% (1/1), done.\u001b[K\n",
            "remote: Total 196 (delta 0), reused 0 (delta 0), pack-reused 195\u001b[K\n",
            "Receiving objects: 100% (196/196), 59.28 MiB | 26.35 MiB/s, done.\n",
            "Resolving deltas: 100% (64/64), done.\n",
            "/content/Machine_Learning_DataSet\n"
          ]
        }
      ]
    },
    {
      "cell_type": "code",
      "source": [
        "img = cv2.imread('maze.png',0)"
      ],
      "metadata": {
        "id": "r3HaBO8mCb-q"
      },
      "execution_count": 3,
      "outputs": []
    },
    {
      "cell_type": "code",
      "source": [
        "# cv2.imshow('maze',img) #\n",
        "# cv2.imshow() is disabled in Colab, because it causes Jupyter sessions to crash\n",
        "cv2_imshow(img)"
      ],
      "metadata": {
        "colab": {
          "base_uri": "https://localhost:8080/",
          "height": 796
        },
        "id": "vyAHH5JDDiYi",
        "outputId": "4b9baf91-c357-47f1-e53a-10c859f915df"
      },
      "execution_count": 4,
      "outputs": [
        {
          "output_type": "display_data",
          "data": {
            "text/plain": [
              "<PIL.Image.Image image mode=L size=738x779 at 0x7FC3812735B0>"
            ],
            "image/png": "[encoded data removed]"
          },
          "metadata": {}
        }
      ]
    },
    {
      "cell_type": "code",
      "source": [
        "img"
      ],
      "metadata": {
        "colab": {
          "base_uri": "https://localhost:8080/"
        },
        "id": "fqv_AKomEZNI",
        "outputId": "30206ad8-585e-4862-c440-be0e0b84ffbc"
      },
      "execution_count": 5,
      "outputs": [
        {
          "output_type": "execute_result",
          "data": {
            "text/plain": [
              "array([[255, 255, 255, ..., 255, 255, 255],\n",
              "       [255, 255, 255, ..., 255, 255, 255],\n",
              "       [255, 255, 255, ..., 255, 255, 255],\n",
              "       ...,\n",
              "       [255, 255, 255, ..., 255, 255, 255],\n",
              "       [255, 255, 255, ..., 255, 255, 255],\n",
              "       [255, 255, 255, ..., 255, 255, 255]], dtype=uint8)"
            ]
          },
          "metadata": {},
          "execution_count": 5
        }
      ]
    },
    {
      "cell_type": "code",
      "source": [
        "img.shape"
      ],
      "metadata": {
        "colab": {
          "base_uri": "https://localhost:8080/"
        },
        "id": "RzhKHVsbEfhx",
        "outputId": "4d96ca6d-e79b-4aa8-b10e-f63fd2a83eac"
      },
      "execution_count": 6,
      "outputs": [
        {
          "output_type": "execute_result",
          "data": {
            "text/plain": [
              "(779, 738)"
            ]
          },
          "metadata": {},
          "execution_count": 6
        }
      ]
    },
    {
      "cell_type": "code",
      "source": [
        "scale_percent = 10 # percent of original size\n",
        "width = int(img.shape[1] * scale_percent / 100)\n",
        "height = int(img.shape[0] * scale_percent / 100)\n",
        "dim = (width, height)"
      ],
      "metadata": {
        "id": "8p7MfxFXFCPg"
      },
      "execution_count": 7,
      "outputs": []
    },
    {
      "cell_type": "code",
      "source": [
        "# resize image\n",
        "resized = cv2.resize(img, dim, interpolation = cv2.INTER_AREA)"
      ],
      "metadata": {
        "id": "zY2fsdyXFKxQ"
      },
      "execution_count": 8,
      "outputs": []
    },
    {
      "cell_type": "code",
      "source": [
        "resized.shape"
      ],
      "metadata": {
        "colab": {
          "base_uri": "https://localhost:8080/"
        },
        "id": "rVoVkqN8FNe3",
        "outputId": "6d543cf5-64ea-4da2-9ab8-ba1fab443c36"
      },
      "execution_count": 9,
      "outputs": [
        {
          "output_type": "execute_result",
          "data": {
            "text/plain": [
              "(77, 73)"
            ]
          },
          "metadata": {},
          "execution_count": 9
        }
      ]
    },
    {
      "cell_type": "code",
      "source": [
        "cv2_imshow(resized)"
      ],
      "metadata": {
        "colab": {
          "base_uri": "https://localhost:8080/",
          "height": 94
        },
        "id": "m5FEnwAvFaug",
        "outputId": "458f5f66-eb7d-4fd8-d00a-152406e34b02"
      },
      "execution_count": 10,
      "outputs": [
        {
          "output_type": "display_data",
          "data": {
            "text/plain": [
              "<PIL.Image.Image image mode=L size=73x77 at 0x7FC3881037F0>"
            ],
            "image/png": "[encoded data removed]"
          },
          "metadata": {}
        }
      ]
    },
    {
      "cell_type": "code",
      "source": [
        "resized[20,:] # 255 represents white"
      ],
      "metadata": {
        "colab": {
          "base_uri": "https://localhost:8080/"
        },
        "id": "2Z5KCUFIFmA4",
        "outputId": "0040b233-d171-49c3-c776-95adea21fa98"
      },
      "execution_count": 11,
      "outputs": [
        {
          "output_type": "execute_result",
          "data": {
            "text/plain": [
              "array([255, 255, 254, 126,  26, 237, 255, 255, 255, 255, 255, 255, 255,\n",
              "       255, 255, 255, 255, 255, 255, 255, 255, 255, 255, 255, 255, 255,\n",
              "       255, 255, 255, 255, 255, 255, 255, 255, 220,  12, 159, 255, 255,\n",
              "       255, 255, 255, 190,   5, 202, 255, 255, 255, 255, 255, 255, 255,\n",
              "       255, 255, 255, 255, 255, 253, 108,  41, 244, 255, 255, 255, 255,\n",
              "       252,  80,  61, 253, 255, 255, 255, 255], dtype=uint8)"
            ]
          },
          "metadata": {},
          "execution_count": 11
        }
      ]
    },
    {
      "cell_type": "code",
      "source": [
        "ret, binary_img = cv2.threshold(resized, 127, 255, cv2.THRESH_BINARY)"
      ],
      "metadata": {
        "id": "IYkZJGwwG2RZ"
      },
      "execution_count": 12,
      "outputs": []
    },
    {
      "cell_type": "code",
      "source": [
        "cv2_imshow(binary_img)"
      ],
      "metadata": {
        "colab": {
          "base_uri": "https://localhost:8080/",
          "height": 94
        },
        "id": "hsSEvNhdG-Rw",
        "outputId": "926799f9-ccb2-44a8-d0a4-3b4fb9a7a797"
      },
      "execution_count": 13,
      "outputs": [
        {
          "output_type": "display_data",
          "data": {
            "text/plain": [
              "<PIL.Image.Image image mode=L size=73x77 at 0x7FC36003CAF0>"
            ],
            "image/png": "[encoded data removed]"
          },
          "metadata": {}
        }
      ]
    },
    {
      "cell_type": "code",
      "source": [
        "binary_img[20,:] # 255 represents white"
      ],
      "metadata": {
        "colab": {
          "base_uri": "https://localhost:8080/"
        },
        "id": "WhT06G1XHIFH",
        "outputId": "8401e3d3-e6c4-4813-baaf-4808fcfb8741"
      },
      "execution_count": 14,
      "outputs": [
        {
          "output_type": "execute_result",
          "data": {
            "text/plain": [
              "array([255, 255, 255,   0,   0, 255, 255, 255, 255, 255, 255, 255, 255,\n",
              "       255, 255, 255, 255, 255, 255, 255, 255, 255, 255, 255, 255, 255,\n",
              "       255, 255, 255, 255, 255, 255, 255, 255, 255,   0, 255, 255, 255,\n",
              "       255, 255, 255, 255,   0, 255, 255, 255, 255, 255, 255, 255, 255,\n",
              "       255, 255, 255, 255, 255, 255,   0,   0, 255, 255, 255, 255, 255,\n",
              "       255,   0,   0, 255, 255, 255, 255, 255], dtype=uint8)"
            ]
          },
          "metadata": {},
          "execution_count": 14
        }
      ]
    },
    {
      "cell_type": "code",
      "source": [
        "cv2.line(binary_img, pt1=(0,20), pt2=(73,20), color=(0,0,255), thickness=1)\n",
        "plt.imshow(binary_img,'gray',vmin=0,vmax=255)"
      ],
      "metadata": {
        "colab": {
          "base_uri": "https://localhost:8080/",
          "height": 450
        },
        "id": "zQGtScpEISPg",
        "outputId": "efc8b4c5-4a08-49e4-c700-674de6c30903"
      },
      "execution_count": 15,
      "outputs": [
        {
          "output_type": "execute_result",
          "data": {
            "text/plain": [
              "<matplotlib.image.AxesImage at 0x7fc354ec05e0>"
            ]
          },
          "metadata": {},
          "execution_count": 15
        },
        {
          "output_type": "display_data",
          "data": {
            "text/plain": [
              "<Figure size 640x480 with 1 Axes>"
            ],
            "image/png": "[encoded data removed]"
          },
          "metadata": {}
        }
      ]
    },
    {
      "cell_type": "code",
      "source": [
        "cv2_imshow(binary_img)"
      ],
      "metadata": {
        "colab": {
          "base_uri": "https://localhost:8080/",
          "height": 94
        },
        "id": "38tqCJbdJKMg",
        "outputId": "9df6a894-05f1-49fd-afee-647fd871cf05"
      },
      "execution_count": 16,
      "outputs": [
        {
          "output_type": "display_data",
          "data": {
            "text/plain": [
              "<PIL.Image.Image image mode=L size=73x77 at 0x7FC354EB0700>"
            ],
            "image/png": "[encoded data removed]"
          },
          "metadata": {}
        }
      ]
    },
    {
      "cell_type": "code",
      "source": [
        "binary_img[20,:] # 255 represents white"
      ],
      "metadata": {
        "colab": {
          "base_uri": "https://localhost:8080/"
        },
        "id": "xn50OivuR2w-",
        "outputId": "c1c2bcdd-8b67-483c-9165-0bf02b30ddcf"
      },
      "execution_count": 17,
      "outputs": [
        {
          "output_type": "execute_result",
          "data": {
            "text/plain": [
              "array([0, 0, 0, 0, 0, 0, 0, 0, 0, 0, 0, 0, 0, 0, 0, 0, 0, 0, 0, 0, 0, 0,\n",
              "       0, 0, 0, 0, 0, 0, 0, 0, 0, 0, 0, 0, 0, 0, 0, 0, 0, 0, 0, 0, 0, 0,\n",
              "       0, 0, 0, 0, 0, 0, 0, 0, 0, 0, 0, 0, 0, 0, 0, 0, 0, 0, 0, 0, 0, 0,\n",
              "       0, 0, 0, 0, 0, 0, 0], dtype=uint8)"
            ]
          },
          "metadata": {},
          "execution_count": 17
        }
      ]
    },
    {
      "cell_type": "code",
      "source": [
        "binary_img[25,:]"
      ],
      "metadata": {
        "id": "51ENgHjsSLit",
        "colab": {
          "base_uri": "https://localhost:8080/"
        },
        "outputId": "e78841d6-0c15-4f4c-ac7d-53162f921d9e"
      },
      "execution_count": 18,
      "outputs": [
        {
          "output_type": "execute_result",
          "data": {
            "text/plain": [
              "array([255, 255, 255,   0,   0, 255, 255, 255, 255, 255, 255, 255, 255,\n",
              "       255, 255, 255, 255, 255, 255,   0,   0, 255, 255, 255, 255, 255,\n",
              "       255, 255, 255, 255, 255, 255, 255, 255, 255, 255, 255, 255, 255,\n",
              "       255, 255, 255, 255,   0, 255, 255, 255, 255, 255, 255, 255,   0,\n",
              "       255, 255, 255, 255, 255, 255, 255, 255, 255, 255, 255, 255, 255,\n",
              "       255,   0,   0, 255, 255, 255, 255, 255], dtype=uint8)"
            ]
          },
          "metadata": {},
          "execution_count": 18
        }
      ]
    },
    {
      "cell_type": "code",
      "source": [
        "binary_img[26,:]"
      ],
      "metadata": {
        "colab": {
          "base_uri": "https://localhost:8080/"
        },
        "id": "rC4RBteQBO0E",
        "outputId": "fa093f29-2adb-4431-9249-49846897c269"
      },
      "execution_count": 20,
      "outputs": [
        {
          "output_type": "execute_result",
          "data": {
            "text/plain": [
              "array([255, 255, 255,   0,   0, 255, 255, 255, 255, 255, 255, 255, 255,\n",
              "       255, 255, 255, 255, 255, 255,   0,   0, 255, 255, 255, 255, 255,\n",
              "       255, 255, 255, 255, 255, 255, 255, 255, 255, 255, 255, 255, 255,\n",
              "       255, 255, 255, 255,   0, 255, 255, 255, 255, 255, 255, 255,   0,\n",
              "       255, 255, 255, 255, 255, 255, 255, 255, 255, 255, 255, 255, 255,\n",
              "       255,   0,   0, 255, 255, 255, 255, 255], dtype=uint8)"
            ]
          },
          "metadata": {},
          "execution_count": 20
        }
      ]
    },
    {
      "cell_type": "code",
      "source": [
        "binary_img[27,:]"
      ],
      "metadata": {
        "colab": {
          "base_uri": "https://localhost:8080/"
        },
        "id": "x9reIO1eClRb",
        "outputId": "b56af4b9-4458-48d8-ff69-0b1b0cbab2ca"
      },
      "execution_count": 21,
      "outputs": [
        {
          "output_type": "execute_result",
          "data": {
            "text/plain": [
              "array([255, 255, 255,   0,   0, 255, 255, 255, 255, 255, 255, 255, 255,\n",
              "       255, 255, 255, 255, 255, 255,   0,   0, 255, 255, 255, 255, 255,\n",
              "       255, 255, 255, 255, 255, 255, 255, 255, 255, 255, 255, 255, 255,\n",
              "       255, 255, 255, 255,   0, 255, 255, 255, 255, 255, 255, 255,   0,\n",
              "       255, 255, 255, 255, 255, 255, 255, 255, 255, 255, 255, 255, 255,\n",
              "       255,   0,   0, 255, 255, 255, 255, 255], dtype=uint8)"
            ]
          },
          "metadata": {},
          "execution_count": 21
        }
      ]
    }
  ]
}