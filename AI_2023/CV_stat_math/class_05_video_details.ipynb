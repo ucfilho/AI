{
  "nbformat": 4,
  "nbformat_minor": 0,
  "metadata": {
    "colab": {
      "provenance": [],
      "authorship_tag": "ABX9TyM4WkCZJNCFL8gacevO6EsG",
      "include_colab_link": true
    },
    "kernelspec": {
      "name": "python3",
      "display_name": "Python 3"
    },
    "language_info": {
      "name": "python"
    }
  },
  "cells": [
    {
      "cell_type": "markdown",
      "metadata": {
        "id": "view-in-github",
        "colab_type": "text"
      },
      "source": [
        "<a href=\"https://colab.research.google.com/github/ucfilho/AI/blob/main/AI_2023/CV_stat_math/class_05_video_details.ipynb\" target=\"_parent\"><img src=\"https://colab.research.google.com/assets/colab-badge.svg\" alt=\"Open In Colab\"/></a>"
      ]
    },
    {
      "cell_type": "code",
      "execution_count": 1,
      "metadata": {
        "id": "o6xh1CH6bWTU"
      },
      "outputs": [],
      "source": [
        "import cv2\n",
        "from google.colab.patches import cv2_imshow\n",
        "import datetime"
      ]
    },
    {
      "cell_type": "code",
      "source": [
        "!gdown 1mx3LUdeFO1-KFzClhFVwu71KWM3-s1hO"
      ],
      "metadata": {
        "colab": {
          "base_uri": "https://localhost:8080/"
        },
        "id": "DO6tkcLob6lL",
        "outputId": "3ddcdb53-5769-42b0-ca99-b846fe67ee90"
      },
      "execution_count": 2,
      "outputs": [
        {
          "output_type": "stream",
          "name": "stdout",
          "text": [
            "Downloading...\n",
            "From: https://drive.google.com/uc?id=1mx3LUdeFO1-KFzClhFVwu71KWM3-s1hO\n",
            "To: /content/strawberry.mp4\n",
            "\r  0% 0.00/7.87M [00:00<?, ?B/s]\r100% 7.87M/7.87M [00:00<00:00, 100MB/s]\n"
          ]
        }
      ]
    },
    {
      "cell_type": "code",
      "source": [
        "name_video = 'strawberry.mp4'\n",
        "video = cv2.VideoCapture(name_video)"
      ],
      "metadata": {
        "id": "lkCkRjkYfr2B"
      },
      "execution_count": 3,
      "outputs": []
    },
    {
      "cell_type": "code",
      "source": [
        "# count the number of frames\n",
        "frames = video.get(cv2.CAP_PROP_FRAME_COUNT)\n",
        "fps = video.get(cv2.CAP_PROP_FPS)\n",
        " \n",
        "# calculate duration of the video\n",
        "seconds = round(frames / fps)\n",
        "video_time = datetime.timedelta(seconds=seconds)\n",
        "print(f\"duration in seconds: {seconds}\")\n",
        "print(f\"video time: {video_time}\")\n",
        "print('frame per seconds:',fps)\n",
        "print('numeber of frames:',frames)"
      ],
      "metadata": {
        "colab": {
          "base_uri": "https://localhost:8080/"
        },
        "id": "rh1XIratcnIc",
        "outputId": "7f8bc580-da74-4bdd-e839-2b41ed51ef97"
      },
      "execution_count": 4,
      "outputs": [
        {
          "output_type": "stream",
          "name": "stdout",
          "text": [
            "duration in seconds: 34\n",
            "video time: 0:00:34\n",
            "frame per seconds: 30.00945876364659\n",
            "numeber of frames: 1029.0\n"
          ]
        }
      ]
    },
    {
      "cell_type": "code",
      "source": [],
      "metadata": {
        "id": "uGUc5pb0gbq5"
      },
      "execution_count": 4,
      "outputs": []
    },
    {
      "cell_type": "code",
      "source": [],
      "metadata": {
        "id": "hRgxFmeGfpbQ"
      },
      "execution_count": 4,
      "outputs": []
    }
  ]
}