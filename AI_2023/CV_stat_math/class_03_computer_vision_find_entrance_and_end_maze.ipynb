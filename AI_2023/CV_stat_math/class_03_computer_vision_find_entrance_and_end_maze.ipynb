{
  "nbformat": 4,
  "nbformat_minor": 0,
  "metadata": {
    "colab": {
      "provenance": [],
      "authorship_tag": "ABX9TyMNBWf7uK6IBVdLy5FZD/0K",
      "include_colab_link": true
    },
    "kernelspec": {
      "name": "python3",
      "display_name": "Python 3"
    },
    "language_info": {
      "name": "python"
    }
  },
  "cells": [
    {
      "cell_type": "markdown",
      "metadata": {
        "id": "view-in-github",
        "colab_type": "text"
      },
      "source": [
        "<a href=\"https://colab.research.google.com/github/ucfilho/AI/blob/main/AI_2023/CV_stat_math/class_03_computer_vision_find_entrance_and_end_maze.ipynb\" target=\"_parent\"><img src=\"https://colab.research.google.com/assets/colab-badge.svg\" alt=\"Open In Colab\"/></a>"
      ]
    },
    {
      "cell_type": "code",
      "execution_count": 1,
      "metadata": {
        "id": "hpc8CEy79-Ge"
      },
      "outputs": [],
      "source": [
        "import cv2\n",
        "import numpy as np\n",
        "from google.colab.patches import cv2_imshow\n",
        "import matplotlib.pyplot as plt"
      ]
    },
    {
      "cell_type": "code",
      "source": [
        "!git clone https://github.com/ucfilho/Machine_Learning_DataSet\n",
        "%cd Machine_Learning_DataSet"
      ],
      "metadata": {
        "colab": {
          "base_uri": "https://localhost:8080/"
        },
        "id": "-qbq0GQCAr47",
        "outputId": "3f04f93c-f2f1-4d30-f486-0a8bf8e62fd9"
      },
      "execution_count": 2,
      "outputs": [
        {
          "output_type": "stream",
          "name": "stdout",
          "text": [
            "fatal: destination path 'Machine_Learning_DataSet' already exists and is not an empty directory.\n",
            "/content/Machine_Learning_DataSet\n"
          ]
        }
      ]
    },
    {
      "cell_type": "code",
      "source": [
        "img = cv2.imread('maze.png',0)"
      ],
      "metadata": {
        "id": "r3HaBO8mCb-q"
      },
      "execution_count": 3,
      "outputs": []
    },
    {
      "cell_type": "code",
      "source": [
        "img.shape"
      ],
      "metadata": {
        "colab": {
          "base_uri": "https://localhost:8080/"
        },
        "id": "RzhKHVsbEfhx",
        "outputId": "44e11093-b2f0-4bf3-aa26-eac18185d34a"
      },
      "execution_count": 4,
      "outputs": [
        {
          "output_type": "execute_result",
          "data": {
            "text/plain": [
              "(779, 738)"
            ]
          },
          "metadata": {},
          "execution_count": 4
        }
      ]
    },
    {
      "cell_type": "code",
      "source": [
        "scale_percent = 10 # percent of original size\n",
        "width = int(img.shape[1] * scale_percent / 100)\n",
        "height = int(img.shape[0] * scale_percent / 100)\n",
        "dim = (width, height)"
      ],
      "metadata": {
        "id": "8p7MfxFXFCPg"
      },
      "execution_count": 5,
      "outputs": []
    },
    {
      "cell_type": "code",
      "source": [
        "# resize image\n",
        "resized = cv2.resize(img, dim, interpolation = cv2.INTER_AREA)"
      ],
      "metadata": {
        "id": "zY2fsdyXFKxQ"
      },
      "execution_count": 6,
      "outputs": []
    },
    {
      "cell_type": "code",
      "source": [
        "resized.shape"
      ],
      "metadata": {
        "colab": {
          "base_uri": "https://localhost:8080/"
        },
        "id": "rVoVkqN8FNe3",
        "outputId": "3586c057-0e6b-4977-e84d-e960fdb6549b"
      },
      "execution_count": 7,
      "outputs": [
        {
          "output_type": "execute_result",
          "data": {
            "text/plain": [
              "(77, 73)"
            ]
          },
          "metadata": {},
          "execution_count": 7
        }
      ]
    },
    {
      "cell_type": "code",
      "source": [
        "cv2_imshow(resized)"
      ],
      "metadata": {
        "colab": {
          "base_uri": "https://localhost:8080/",
          "height": 94
        },
        "id": "m5FEnwAvFaug",
        "outputId": "d30e2c85-bb3a-42d7-f8be-275f57a056a1"
      },
      "execution_count": 8,
      "outputs": [
        {
          "output_type": "display_data",
          "data": {
            "text/plain": [
              "<PIL.Image.Image image mode=L size=73x77 at 0x7FB83CACA820>"
            ],
            "image/png": "[encoded data removed]"
          },
          "metadata": {}
        }
      ]
    },
    {
      "cell_type": "code",
      "source": [
        "resized[20,:] # 255 represents white"
      ],
      "metadata": {
        "colab": {
          "base_uri": "https://localhost:8080/"
        },
        "id": "2Z5KCUFIFmA4",
        "outputId": "0c67e184-4432-4177-bbf1-e4f167c241b8"
      },
      "execution_count": 9,
      "outputs": [
        {
          "output_type": "execute_result",
          "data": {
            "text/plain": [
              "array([255, 255, 254, 126,  26, 237, 255, 255, 255, 255, 255, 255, 255,\n",
              "       255, 255, 255, 255, 255, 255, 255, 255, 255, 255, 255, 255, 255,\n",
              "       255, 255, 255, 255, 255, 255, 255, 255, 220,  12, 159, 255, 255,\n",
              "       255, 255, 255, 190,   5, 202, 255, 255, 255, 255, 255, 255, 255,\n",
              "       255, 255, 255, 255, 255, 253, 108,  41, 244, 255, 255, 255, 255,\n",
              "       252,  80,  61, 253, 255, 255, 255, 255], dtype=uint8)"
            ]
          },
          "metadata": {},
          "execution_count": 9
        }
      ]
    },
    {
      "cell_type": "code",
      "source": [
        "ret, binary_img = cv2.threshold(resized, 127, 255, cv2.THRESH_BINARY)"
      ],
      "metadata": {
        "id": "IYkZJGwwG2RZ"
      },
      "execution_count": 10,
      "outputs": []
    },
    {
      "cell_type": "code",
      "source": [
        "plt.imshow(binary_img,'gray',vmin=0,vmax=255)"
      ],
      "metadata": {
        "colab": {
          "base_uri": "https://localhost:8080/",
          "height": 450
        },
        "id": "hsSEvNhdG-Rw",
        "outputId": "2e556218-d48c-4b0e-db11-e16bc6fc8fc2"
      },
      "execution_count": 11,
      "outputs": [
        {
          "output_type": "execute_result",
          "data": {
            "text/plain": [
              "<matplotlib.image.AxesImage at 0x7fb83ca46af0>"
            ]
          },
          "metadata": {},
          "execution_count": 11
        },
        {
          "output_type": "display_data",
          "data": {
            "text/plain": [
              "<Figure size 640x480 with 1 Axes>"
            ],
            "image/png": "[encoded data removed]"
          },
          "metadata": {}
        }
      ]
    },
    {
      "cell_type": "code",
      "source": [
        "rows, cols = binary_img.shape\n",
        "print(rows,cols)"
      ],
      "metadata": {
        "colab": {
          "base_uri": "https://localhost:8080/"
        },
        "id": "VmgAlmLc-4Om",
        "outputId": "bb629fde-a3a5-4636-b950-aecf1fcf40fd"
      },
      "execution_count": 12,
      "outputs": [
        {
          "output_type": "stream",
          "name": "stdout",
          "text": [
            "77 73\n"
          ]
        }
      ]
    },
    {
      "cell_type": "code",
      "source": [
        "def walls(binary_img,rows=rows,cols=cols, row_check = False): \n",
        "  # this routine return cols or rows position of walls in a list: \n",
        "  #    if you add row_check = True it return rows and otherwise cols\n",
        "  list_max, list_min = [], []\n",
        "  for i in range(rows):\n",
        "    for j in range(cols):\n",
        "      m =binary_img[i,j]\n",
        "      if m == 0:\n",
        "        if row_check == False:\n",
        "          if j > cols/2:\n",
        "            list_max.append(j)\n",
        "          else:\n",
        "            list_min.append(j)\n",
        "        else:\n",
        "          if i > rows/2:\n",
        "            list_max.append(i)\n",
        "          else:\n",
        "            list_min.append(i)\n",
        "  return list_max, list_min"
      ],
      "metadata": {
        "id": "SYyVr49h_-2g"
      },
      "execution_count": 13,
      "outputs": []
    },
    {
      "cell_type": "code",
      "source": [
        "def freq(list_):\n",
        "  # this routine return the frequency a item appears in a list as a dict\n",
        "  frequency = {}\n",
        "  for item in list_:\n",
        "    if item in frequency:\n",
        "        frequency[item] += 1\n",
        "    else:\n",
        "        frequency[item] = 1\n",
        "  return frequency"
      ],
      "metadata": {
        "id": "9EniiXiICdmr"
      },
      "execution_count": 14,
      "outputs": []
    },
    {
      "cell_type": "code",
      "source": [
        "# key_max is the most frequent wall position using col_max, row_max, row_min and col_min\n",
        "# key_max for col_max it represent righ\n",
        "# key_max for col_min represents left\n",
        "# key_max for row_max represent botton\n",
        "# key_max for row_min represent top\n",
        "\n",
        "col_max, col_min = walls(binary_img)\n",
        "row_max, row_min = walls(binary_img,row_check=True)\n",
        "freq_row1, freq_row2 = freq(row_min), freq(row_max)\n",
        "freq_col1, freq_col2 = freq(col_min), freq(col_max)\n",
        "list_all = [freq_col1,freq_col2,freq_row1,freq_row2]\n",
        "labels = ['col min','col max','row min','row max']\n",
        "k = 0\n",
        "for list_ in list_all:\n",
        "  key_max = max(list_, key=list_.get)\n",
        "  print(key_max, list_[key_max], labels[k]) \n",
        "  k += 1\n"
      ],
      "metadata": {
        "colab": {
          "base_uri": "https://localhost:8080/"
        },
        "id": "QbVeZJyJMTxN",
        "outputId": "391a2e1d-2558-44eb-ac63-cb828fb03898"
      },
      "execution_count": 15,
      "outputs": [
        {
          "output_type": "stream",
          "name": "stdout",
          "text": [
            "4 57 col min\n",
            "66 58 col max\n",
            "7 65 row min\n",
            "69 65 row max\n"
          ]
        }
      ]
    },
    {
      "cell_type": "code",
      "source": [
        "nref = 5\n",
        "def find(img, id_min,id_max,rows=rows, cols=cols,N =nref, row = False):\n",
        "  \n",
        "  positions =[]\n",
        "  score = []\n",
        "  if row == False:\n",
        "    for j in [id_min[1], id_max[1]]:\n",
        "      max_sum = 0\n",
        "      for i in range(rows-N):\n",
        "        total = 0\n",
        "        if i > id_min[0] and i < id_max[0]:\n",
        "          for k in range(N):\n",
        "            total += img[i+k,j]\n",
        "            if max_sum < total:\n",
        "              idx, idy = i, j\n",
        "              max_sum = total\n",
        "      if max_sum > 0:\n",
        "        positions.append([idx,idy])\n",
        "        score.append(max_sum)\n",
        "  else:\n",
        "    for i in [id_min[0],id_max[0]]:\n",
        "      max_sum = 0\n",
        "      for j in range(cols-N):\n",
        "        total = 0\n",
        "        if j > id_min[1] and j < id_max[1]:\n",
        "          for k in range(N):\n",
        "            total += img[i,j+k]\n",
        "        if total == 0:\n",
        "            if max_sum < total:\n",
        "              idx, idy = i, j\n",
        "              max_sum = total\n",
        "      if max_sum > 0:\n",
        "        positions.append([idx,idy])\n",
        "        score.append(max_sum)\n",
        "\n",
        "  return positions, score\n",
        "        \n"
      ],
      "metadata": {
        "id": "_rJctGhUrtAG"
      },
      "execution_count": 16,
      "outputs": []
    },
    {
      "cell_type": "code",
      "source": [
        "tol = 0\n",
        "id_min = [7+tol,4+tol]\n",
        "id_max = [69-tol, 66-tol]\n",
        "find(binary_img,id_min,id_max)"
      ],
      "metadata": {
        "colab": {
          "base_uri": "https://localhost:8080/"
        },
        "id": "VCrQXRuErbNh",
        "outputId": "c17a8140-5d00-416d-eeec-0e6e2e446c91"
      },
      "execution_count": 17,
      "outputs": [
        {
          "output_type": "execute_result",
          "data": {
            "text/plain": [
              "([[31, 4], [8, 66]], [1275, 1275])"
            ]
          },
          "metadata": {},
          "execution_count": 17
        }
      ]
    },
    {
      "cell_type": "code",
      "source": [
        "positions,score =find(binary_img,id_min,id_max)\n",
        "yc,xc = positions[0]\n",
        "image = cv2.circle(binary_img, (xc,yc), radius=3, color=[0,0,255], thickness=1)\n",
        "yc,xc = positions[1]\n",
        "image = cv2.circle(image, (xc,yc), radius=3, color=[0,0,255], thickness=1)\n",
        "plt.imshow(image,'gray',vmin=0,vmax=255)"
      ],
      "metadata": {
        "colab": {
          "base_uri": "https://localhost:8080/",
          "height": 450
        },
        "id": "1qaGfTB2A-le",
        "outputId": "96f83895-c41e-4f67-9c24-244e88f4ebc5"
      },
      "execution_count": 18,
      "outputs": [
        {
          "output_type": "execute_result",
          "data": {
            "text/plain": [
              "<matplotlib.image.AxesImage at 0x7fb83c9c37c0>"
            ]
          },
          "metadata": {},
          "execution_count": 18
        },
        {
          "output_type": "display_data",
          "data": {
            "text/plain": [
              "<Figure size 640x480 with 1 Axes>"
            ],
            "image/png": "[encoded data removed]"
          },
          "metadata": {}
        }
      ]
    },
    {
      "cell_type": "code",
      "source": [
        "find(binary_img,id_min,id_max, row = True)"
      ],
      "metadata": {
        "colab": {
          "base_uri": "https://localhost:8080/"
        },
        "id": "-DVLXuYaAu20",
        "outputId": "4e8579de-d4ab-4eff-d019-d6c24950c0bd"
      },
      "execution_count": 19,
      "outputs": [
        {
          "output_type": "execute_result",
          "data": {
            "text/plain": [
              "([], [])"
            ]
          },
          "metadata": {},
          "execution_count": 19
        }
      ]
    },
    {
      "cell_type": "code",
      "source": [
        "nref = 5\n",
        "def find_improved(img, id_min,id_max,rows=rows, cols=cols,N =nref):\n",
        "  \n",
        "  positions =[]\n",
        "  score = []\n",
        "\n",
        "  for j in [id_min[1], id_max[1]]:\n",
        "    max_sum = 0\n",
        "    for i in range(rows-N):\n",
        "      total = 0\n",
        "      if i > id_min[0] and i < id_max[0]:\n",
        "        for k in range(N):\n",
        "          total += img[i+k,j]\n",
        "          if max_sum < total:\n",
        "            idx, idy = i, j\n",
        "            max_sum = total\n",
        "    if max_sum > 0:\n",
        "      positions.append([idx,idy])\n",
        "      score.append(max_sum)\n",
        "\n",
        "  for i in [id_min[0],id_max[0]]:\n",
        "    max_sum = 0\n",
        "    for j in range(cols-N):\n",
        "      total = 0\n",
        "      if j > id_min[1] and j < id_max[1]:\n",
        "        for k in range(N):\n",
        "          total += img[i,j+k]\n",
        "          if max_sum < total:\n",
        "            idx, idy = i, j\n",
        "            max_sum = total\n",
        "    if max_sum > 0:\n",
        "      positions.append([idx,idy])\n",
        "      score.append(max_sum)\n",
        "  k = 0\n",
        "  x =np.array(score)\n",
        "  ind = np.argsort(x)\n",
        "  pos  = [positions[ind[-1]],positions[ind[-2]]]\n",
        "  sco  = [score[ind[-1]],score[ind[-2]]]\n",
        "\n",
        "  return pos, sco\n",
        "        "
      ],
      "metadata": {
        "id": "kIAMgfbHEFn0"
      },
      "execution_count": 20,
      "outputs": []
    },
    {
      "cell_type": "code",
      "source": [
        "find_improved(binary_img,id_min,id_max)"
      ],
      "metadata": {
        "colab": {
          "base_uri": "https://localhost:8080/"
        },
        "id": "Fv5AWj6hFG3f",
        "outputId": "c7982862-4463-4bf6-b262-cf6398ea7006"
      },
      "execution_count": 21,
      "outputs": [
        {
          "output_type": "execute_result",
          "data": {
            "text/plain": [
              "([[8, 66], [31, 4]], [1020, 1020])"
            ]
          },
          "metadata": {},
          "execution_count": 21
        }
      ]
    }
  ]
}