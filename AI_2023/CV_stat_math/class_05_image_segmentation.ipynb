{
  "nbformat": 4,
  "nbformat_minor": 0,
  "metadata": {
    "colab": {
      "provenance": [],
      "authorship_tag": "ABX9TyMECGbYKkRO9eJyd/qksY8c",
      "include_colab_link": true
    },
    "kernelspec": {
      "name": "python3",
      "display_name": "Python 3"
    },
    "language_info": {
      "name": "python"
    }
  },
  "cells": [
    {
      "cell_type": "markdown",
      "metadata": {
        "id": "view-in-github",
        "colab_type": "text"
      },
      "source": [
        "<a href=\"https://colab.research.google.com/github/ucfilho/AI/blob/main/AI_2023/CV_stat_math/class_05_image_segmentation.ipynb\" target=\"_parent\"><img src=\"https://colab.research.google.com/assets/colab-badge.svg\" alt=\"Open In Colab\"/></a>"
      ]
    },
    {
      "cell_type": "code",
      "source": [
        "# Note: this code will not work on colab--> it was done to run on computer"
      ],
      "metadata": {
        "id": "b7sZx3iW9Jh5"
      },
      "execution_count": null,
      "outputs": []
    },
    {
      "cell_type": "code",
      "execution_count": null,
      "metadata": {
        "id": "E8FiorrO9Ahu"
      },
      "outputs": [],
      "source": [
        "# import the library\n",
        "import cv2\n",
        "import numpy as np\n",
        "from matplotlib import pyplot as plt\n",
        "\n",
        "# read a video file and create a matrix A\n",
        "video = cv2.VideoCapture('spider_guard.mp4')\n",
        "\n",
        "matrixA = []\n",
        "\n",
        "while True:\n",
        "    ret, image = video.read()  # read each image from video \n",
        "    if ret == False:           # break the while loop\n",
        "        break\n",
        "    image = cv2.cvtColor(image, cv2.COLOR_BGR2GRAY) # convert to grayscale\n",
        "    matrixA.append(image)      # append to matrixA\n",
        "\n",
        "matrixA = np.array(matrixA)    # convert to numpy array\n",
        "\n",
        "video.release()\n",
        "\n",
        "# create the background image b\n",
        "b = np.median(matrixA,axis=0) # calculate the median\n",
        "b = b.astype(np.uint8) # change the data type\n",
        "\n",
        "# video segmentation\n",
        "video = cv2.VideoCapture('spider_guard.mp4')\n",
        "while True:\n",
        "    ret, image = video.read()  \n",
        "    if ret == False:           \n",
        "        break\n",
        "    image = cv2.cvtColor(image, cv2.COLOR_BGR2GRAY)\n",
        "    \n",
        "    g = cv2.absdiff(image, b) # image differece\n",
        "    _, gT = cv2.threshold(g, 25, 255, cv2.THRESH_BINARY) # image thresholding\n",
        "    cv2.imshow('Image Subtraction', gT)\n",
        "    if cv2.waitKey(30) & 0xFFF == 27:\n",
        "        break\n",
        "\n",
        "video.release()\n",
        "cv2.destroyAllWindows()"
      ]
    }
  ]
}