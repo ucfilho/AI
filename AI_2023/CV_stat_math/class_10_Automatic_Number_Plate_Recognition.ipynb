{
  "cells": [
    {
      "cell_type": "markdown",
      "metadata": {
        "id": "view-in-github",
        "colab_type": "text"
      },
      "source": [
        "<a href=\"https://colab.research.google.com/github/ucfilho/AI/blob/main/AI_2023/CV_stat_math/class_10_Automatic_Number_Plate_Recognition.ipynb\" target=\"_parent\"><img src=\"https://colab.research.google.com/assets/colab-badge.svg\" alt=\"Open In Colab\"/></a>"
      ]
    },
    {
      "cell_type": "markdown",
      "id": "350b432d",
      "metadata": {
        "id": "350b432d"
      },
      "source": [
        "# **INSTALLING ALL THE REQUIRED LIBRARIES**"
      ]
    },
    {
      "cell_type": "code",
      "execution_count": 1,
      "id": "5ca1a8e2",
      "metadata": {
        "trusted": false,
        "colab": {
          "base_uri": "https://localhost:8080/"
        },
        "id": "5ca1a8e2",
        "outputId": "3c1ca8cd-317f-4d98-9406-e991ed85c191"
      },
      "outputs": [
        {
          "output_type": "stream",
          "name": "stdout",
          "text": [
            "Looking in indexes: https://pypi.org/simple, https://us-python.pkg.dev/colab-wheels/public/simple/\n",
            "Requirement already satisfied: easyocr in /usr/local/lib/python3.10/dist-packages (1.6.2)\n",
            "Requirement already satisfied: torch in /usr/local/lib/python3.10/dist-packages (from easyocr) (2.0.0+cu118)\n",
            "Requirement already satisfied: torchvision>=0.5 in /usr/local/lib/python3.10/dist-packages (from easyocr) (0.15.1+cu118)\n",
            "Requirement already satisfied: opencv-python-headless<=4.5.4.60 in /usr/local/lib/python3.10/dist-packages (from easyocr) (4.5.4.60)\n",
            "Requirement already satisfied: scipy in /usr/local/lib/python3.10/dist-packages (from easyocr) (1.10.1)\n",
            "Requirement already satisfied: numpy in /usr/local/lib/python3.10/dist-packages (from easyocr) (1.22.4)\n",
            "Requirement already satisfied: Pillow in /usr/local/lib/python3.10/dist-packages (from easyocr) (8.4.0)\n",
            "Requirement already satisfied: scikit-image in /usr/local/lib/python3.10/dist-packages (from easyocr) (0.19.3)\n",
            "Requirement already satisfied: python-bidi in /usr/local/lib/python3.10/dist-packages (from easyocr) (0.4.2)\n",
            "Requirement already satisfied: PyYAML in /usr/local/lib/python3.10/dist-packages (from easyocr) (6.0)\n",
            "Requirement already satisfied: Shapely in /usr/local/lib/python3.10/dist-packages (from easyocr) (2.0.1)\n",
            "Requirement already satisfied: pyclipper in /usr/local/lib/python3.10/dist-packages (from easyocr) (1.3.0.post4)\n",
            "Requirement already satisfied: ninja in /usr/local/lib/python3.10/dist-packages (from easyocr) (1.11.1)\n",
            "Requirement already satisfied: requests in /usr/local/lib/python3.10/dist-packages (from torchvision>=0.5->easyocr) (2.27.1)\n",
            "Requirement already satisfied: filelock in /usr/local/lib/python3.10/dist-packages (from torch->easyocr) (3.12.0)\n",
            "Requirement already satisfied: typing-extensions in /usr/local/lib/python3.10/dist-packages (from torch->easyocr) (4.5.0)\n",
            "Requirement already satisfied: sympy in /usr/local/lib/python3.10/dist-packages (from torch->easyocr) (1.11.1)\n",
            "Requirement already satisfied: networkx in /usr/local/lib/python3.10/dist-packages (from torch->easyocr) (3.1)\n",
            "Requirement already satisfied: jinja2 in /usr/local/lib/python3.10/dist-packages (from torch->easyocr) (3.1.2)\n",
            "Requirement already satisfied: triton==2.0.0 in /usr/local/lib/python3.10/dist-packages (from torch->easyocr) (2.0.0)\n",
            "Requirement already satisfied: cmake in /usr/local/lib/python3.10/dist-packages (from triton==2.0.0->torch->easyocr) (3.25.2)\n",
            "Requirement already satisfied: lit in /usr/local/lib/python3.10/dist-packages (from triton==2.0.0->torch->easyocr) (16.0.3)\n",
            "Requirement already satisfied: six in /usr/local/lib/python3.10/dist-packages (from python-bidi->easyocr) (1.16.0)\n",
            "Requirement already satisfied: imageio>=2.4.1 in /usr/local/lib/python3.10/dist-packages (from scikit-image->easyocr) (2.25.1)\n",
            "Requirement already satisfied: tifffile>=2019.7.26 in /usr/local/lib/python3.10/dist-packages (from scikit-image->easyocr) (2023.4.12)\n",
            "Requirement already satisfied: PyWavelets>=1.1.1 in /usr/local/lib/python3.10/dist-packages (from scikit-image->easyocr) (1.4.1)\n",
            "Requirement already satisfied: packaging>=20.0 in /usr/local/lib/python3.10/dist-packages (from scikit-image->easyocr) (23.1)\n",
            "Requirement already satisfied: MarkupSafe>=2.0 in /usr/local/lib/python3.10/dist-packages (from jinja2->torch->easyocr) (2.1.2)\n",
            "Requirement already satisfied: urllib3<1.27,>=1.21.1 in /usr/local/lib/python3.10/dist-packages (from requests->torchvision>=0.5->easyocr) (1.26.15)\n",
            "Requirement already satisfied: certifi>=2017.4.17 in /usr/local/lib/python3.10/dist-packages (from requests->torchvision>=0.5->easyocr) (2022.12.7)\n",
            "Requirement already satisfied: charset-normalizer~=2.0.0 in /usr/local/lib/python3.10/dist-packages (from requests->torchvision>=0.5->easyocr) (2.0.12)\n",
            "Requirement already satisfied: idna<4,>=2.5 in /usr/local/lib/python3.10/dist-packages (from requests->torchvision>=0.5->easyocr) (3.4)\n",
            "Requirement already satisfied: mpmath>=0.19 in /usr/local/lib/python3.10/dist-packages (from sympy->torch->easyocr) (1.3.0)\n"
          ]
        }
      ],
      "source": [
        "!pip install easyocr"
      ]
    },
    {
      "cell_type": "code",
      "execution_count": 2,
      "id": "c4e3ed6c",
      "metadata": {
        "trusted": false,
        "colab": {
          "base_uri": "https://localhost:8080/"
        },
        "id": "c4e3ed6c",
        "outputId": "c6c6f817-a1ad-44c5-d4c1-51f5ab39d680"
      },
      "outputs": [
        {
          "output_type": "stream",
          "name": "stdout",
          "text": [
            "Looking in indexes: https://pypi.org/simple, https://us-python.pkg.dev/colab-wheels/public/simple/\n",
            "Requirement already satisfied: imutils in /usr/local/lib/python3.10/dist-packages (0.5.4)\n"
          ]
        }
      ],
      "source": [
        "!pip install imutils"
      ]
    },
    {
      "cell_type": "markdown",
      "id": "213a0c54",
      "metadata": {
        "id": "213a0c54"
      },
      "source": [
        "# IMPORTING ALL THE REQUIRED LIBRARIES"
      ]
    },
    {
      "cell_type": "code",
      "execution_count": 3,
      "id": "175d2faa",
      "metadata": {
        "trusted": false,
        "id": "175d2faa"
      },
      "outputs": [],
      "source": [
        "import cv2\n",
        "import pandas as pd\n",
        "import zipfile\n",
        "import matplotlib.pyplot as plt\n",
        "import numpy as np\n",
        "import imutils \n",
        "from google.colab.patches import cv2_imshow\n",
        "import easyocr"
      ]
    },
    {
      "cell_type": "code",
      "execution_count": 3,
      "id": "55e0544a",
      "metadata": {
        "trusted": false,
        "id": "55e0544a"
      },
      "outputs": [],
      "source": []
    },
    {
      "cell_type": "markdown",
      "id": "7ca9dd79",
      "metadata": {
        "id": "7ca9dd79"
      },
      "source": [
        "# Reading the Image"
      ]
    },
    {
      "cell_type": "code",
      "source": [
        "!gdown 17DeutH_Rzmw7J6Qdr9XdMFTRSH8v7VvY"
      ],
      "metadata": {
        "colab": {
          "base_uri": "https://localhost:8080/"
        },
        "id": "qahTExbXWNOM",
        "outputId": "f8d2e3d3-0371-4bed-bfa0-3da51c1f5f85"
      },
      "id": "qahTExbXWNOM",
      "execution_count": 4,
      "outputs": [
        {
          "output_type": "stream",
          "name": "stdout",
          "text": [
            "Downloading...\n",
            "From: https://drive.google.com/uc?id=17DeutH_Rzmw7J6Qdr9XdMFTRSH8v7VvY\n",
            "To: /content/licence_plate.zip\n",
            "\r  0% 0.00/2.96M [00:00<?, ?B/s]\r100% 2.96M/2.96M [00:00<00:00, 212MB/s]\n"
          ]
        }
      ]
    },
    {
      "cell_type": "code",
      "source": [
        "FILE = 'licence_plate.zip'\n",
        "archive = zipfile.ZipFile(FILE, 'r')\n",
        "names = archive.namelist()\n",
        "archive.extractall()"
      ],
      "metadata": {
        "id": "f1UzhmoWWStO"
      },
      "id": "f1UzhmoWWStO",
      "execution_count": 5,
      "outputs": []
    },
    {
      "cell_type": "code",
      "source": [
        "#print(names)"
      ],
      "metadata": {
        "id": "AXv9Jna8QAaX"
      },
      "id": "AXv9Jna8QAaX",
      "execution_count": 6,
      "outputs": []
    },
    {
      "cell_type": "code",
      "source": [
        "licences = ['BDM3D69','POX4G21','BAH4952','K81482',\n",
        "            '53JGZ5','6EVY261','BBRB364','FAG643',\n",
        "            'C26727','GCP332', 'PRL3D97']\n",
        "cars = ['placa_carro3.jpg', 'placa_carro2.jpg', '00011.jpg', \n",
        "        '00024.jpg', '00029.jpg', 'car_0001.jpg', \n",
        "        'car_0002.jpg', 'car_0004.jpg', 'car_0005.jpg', \n",
        "        'car_0006.jpg', 'placa_carro1.png']"
      ],
      "metadata": {
        "id": "p8dLNEs8RFoO"
      },
      "id": "p8dLNEs8RFoO",
      "execution_count": 7,
      "outputs": []
    },
    {
      "cell_type": "markdown",
      "id": "66ebd223",
      "metadata": {
        "trusted": true,
        "id": "66ebd223"
      },
      "source": [
        "# Converting the Image into the GRAY Scale FORMAT"
      ]
    },
    {
      "cell_type": "code",
      "execution_count": 8,
      "id": "d8a3179f",
      "metadata": {
        "trusted": false,
        "id": "d8a3179f"
      },
      "outputs": [],
      "source": [
        "def cropped(img):\n",
        "  gray = cv2.cvtColor(img, cv2.COLOR_BGR2GRAY)\n",
        "  bfilter = cv2.bilateralFilter(gray, 11, 11, 17)\n",
        "  edged = cv2.Canny(bfilter, 30, 200)\n",
        "  keypoints = cv2.findContours(edged.copy(), cv2.RETR_TREE, cv2.CHAIN_APPROX_SIMPLE)\n",
        "  contours = imutils.grab_contours(keypoints)\n",
        "  contours = sorted(contours, key = cv2.contourArea, reverse = True)[:10]\n",
        "  location = []\n",
        "  for contour in contours:\n",
        "    # cv2.approxPolyDP returns a resampled contour, so this will still return a set of (x, y) points\n",
        "    approx = cv2.approxPolyDP(contour, 10, True)\n",
        "    if len(approx) == 4:\n",
        "      location = approx\n",
        "      break\n",
        "  mask = np.zeros(gray.shape, np.uint8)\n",
        "  if len(location) > 0:\n",
        "    new_image = cv2.drawContours(mask, [location], 0, 255, -1)\n",
        "\n",
        "    new_image = cv2.bitwise_and(img, img, mask = mask)\n",
        "    (x, y) = np.where(mask == 255)\n",
        "\n",
        "    (x1, y1) = (np.min(x), np.min(y))\n",
        "\n",
        "    (x2, y2) = (np.max(x), np.max(y))\n",
        "\n",
        "    cropped_image = gray[x1:x2+3, y1:y2+3]\n",
        "\n",
        "  else:\n",
        "    new_image = gray\n",
        "    cropped_image = gray\n",
        "  \n",
        "  return cropped_image"
      ]
    },
    {
      "cell_type": "code",
      "execution_count": 9,
      "id": "cabf9eec",
      "metadata": {
        "trusted": true,
        "id": "cabf9eec"
      },
      "outputs": [],
      "source": [
        "reader = easyocr.Reader(['en'])\n",
        "font = cv2.FONT_HERSHEY_SIMPLEX\n",
        "ans_all = []\n",
        "ans_check =[]\n",
        "for word in names:\n",
        "  img = cv2.imread(word)\n",
        "  scale_percent = 80 # percent of original size\n",
        "  width = int(img.shape[1] * scale_percent / 100)\n",
        "  height = int(img.shape[0] * scale_percent / 100)\n",
        "  dim = (width, height)\n",
        "  resized = cv2.resize(img, dim, interpolation = cv2.INTER_AREA)\n",
        "  cropped_image = cropped(resized)\n",
        "  result = reader.readtext(cropped_image)\n",
        "  ans_check.append(result)\n",
        "  licence_plate =\"\"\n",
        "  for word_ in result:\n",
        "    w = word_[1]\n",
        "    licence_plate += w + \" \"\n",
        "  text = licence_plate\n",
        "  idx = cars.index(word)\n",
        "  ans_all.append([word,text,licences[idx]])\n"
      ]
    },
    {
      "cell_type": "code",
      "source": [
        "df =pd.DataFrame(ans_all,columns=['img','found','expected'] )"
      ],
      "metadata": {
        "id": "cxREcPIOZiWl"
      },
      "id": "cxREcPIOZiWl",
      "execution_count": 10,
      "outputs": []
    },
    {
      "cell_type": "code",
      "source": [
        "df"
      ],
      "metadata": {
        "colab": {
          "base_uri": "https://localhost:8080/",
          "height": 394
        },
        "id": "CeX6k29RZhfO",
        "outputId": "7658fe02-dfb2-40cf-bf2d-dbee03d26b59"
      },
      "id": "CeX6k29RZhfO",
      "execution_count": 11,
      "outputs": [
        {
          "output_type": "execute_result",
          "data": {
            "text/plain": [
              "                 img                   found expected\n",
              "0   placa_carro3.jpg             C A PT U R   BDM3D69\n",
              "1   placa_carro2.jpg              BR POXG21   POX4G21\n",
              "2          00011.jpg                          BAH4952\n",
              "3          00024.jpg                           K81482\n",
              "4          00029.jpg               53JGZ-5;    53JGZ5\n",
              "5       car_0001.jpg                 GEv2al   6EVY261\n",
              "6       car_0002.jpg                          BBRB364\n",
              "7       car_0004.jpg  Porschd Potr n FAG 64    FAG643\n",
              "8       car_0005.jpg                 C26727    C26727\n",
              "9       car_0006.jpg                           GCP332\n",
              "10  placa_carro1.png                          PRL3D97"
            ],
            "text/html": [
              "\n",
              "  <div id=\"df-481902b0-cd8c-4034-8084-eaf5f287499c\">\n",
              "    <div class=\"colab-df-container\">\n",
              "      <div>\n",
              "<style scoped>\n",
              "    .dataframe tbody tr th:only-of-type {\n",
              "        vertical-align: middle;\n",
              "    }\n",
              "\n",
              "    .dataframe tbody tr th {\n",
              "        vertical-align: top;\n",
              "    }\n",
              "\n",
              "    .dataframe thead th {\n",
              "        text-align: right;\n",
              "    }\n",
              "</style>\n",
              "<table border=\"1\" class=\"dataframe\">\n",
              "  <thead>\n",
              "    <tr style=\"text-align: right;\">\n",
              "      <th></th>\n",
              "      <th>img</th>\n",
              "      <th>found</th>\n",
              "      <th>expected</th>\n",
              "    </tr>\n",
              "  </thead>\n",
              "  <tbody>\n",
              "    <tr>\n",
              "      <th>0</th>\n",
              "      <td>placa_carro3.jpg</td>\n",
              "      <td>C A PT U R</td>\n",
              "      <td>BDM3D69</td>\n",
              "    </tr>\n",
              "    <tr>\n",
              "      <th>1</th>\n",
              "      <td>placa_carro2.jpg</td>\n",
              "      <td>BR POXG21</td>\n",
              "      <td>POX4G21</td>\n",
              "    </tr>\n",
              "    <tr>\n",
              "      <th>2</th>\n",
              "      <td>00011.jpg</td>\n",
              "      <td></td>\n",
              "      <td>BAH4952</td>\n",
              "    </tr>\n",
              "    <tr>\n",
              "      <th>3</th>\n",
              "      <td>00024.jpg</td>\n",
              "      <td></td>\n",
              "      <td>K81482</td>\n",
              "    </tr>\n",
              "    <tr>\n",
              "      <th>4</th>\n",
              "      <td>00029.jpg</td>\n",
              "      <td>53JGZ-5;</td>\n",
              "      <td>53JGZ5</td>\n",
              "    </tr>\n",
              "    <tr>\n",
              "      <th>5</th>\n",
              "      <td>car_0001.jpg</td>\n",
              "      <td>GEv2al</td>\n",
              "      <td>6EVY261</td>\n",
              "    </tr>\n",
              "    <tr>\n",
              "      <th>6</th>\n",
              "      <td>car_0002.jpg</td>\n",
              "      <td></td>\n",
              "      <td>BBRB364</td>\n",
              "    </tr>\n",
              "    <tr>\n",
              "      <th>7</th>\n",
              "      <td>car_0004.jpg</td>\n",
              "      <td>Porschd Potr n FAG 64</td>\n",
              "      <td>FAG643</td>\n",
              "    </tr>\n",
              "    <tr>\n",
              "      <th>8</th>\n",
              "      <td>car_0005.jpg</td>\n",
              "      <td>C26727</td>\n",
              "      <td>C26727</td>\n",
              "    </tr>\n",
              "    <tr>\n",
              "      <th>9</th>\n",
              "      <td>car_0006.jpg</td>\n",
              "      <td></td>\n",
              "      <td>GCP332</td>\n",
              "    </tr>\n",
              "    <tr>\n",
              "      <th>10</th>\n",
              "      <td>placa_carro1.png</td>\n",
              "      <td></td>\n",
              "      <td>PRL3D97</td>\n",
              "    </tr>\n",
              "  </tbody>\n",
              "</table>\n",
              "</div>\n",
              "      <button class=\"colab-df-convert\" onclick=\"convertToInteractive('df-481902b0-cd8c-4034-8084-eaf5f287499c')\"\n",
              "              title=\"Convert this dataframe to an interactive table.\"\n",
              "              style=\"display:none;\">\n",
              "        \n",
              "  <svg xmlns=\"http://www.w3.org/2000/svg\" height=\"24px\"viewBox=\"0 0 24 24\"\n",
              "       width=\"24px\">\n",
              "    <path d=\"M0 0h24v24H0V0z\" fill=\"none\"/>\n",
              "    <path d=\"M18.56 5.44l.94 2.06.94-2.06 2.06-.94-2.06-.94-.94-2.06-.94 2.06-2.06.94zm-11 1L8.5 8.5l.94-2.06 2.06-.94-2.06-.94L8.5 2.5l-.94 2.06-2.06.94zm10 10l.94 2.06.94-2.06 2.06-.94-2.06-.94-.94-2.06-.94 2.06-2.06.94z\"/><path d=\"M17.41 7.96l-1.37-1.37c-.4-.4-.92-.59-1.43-.59-.52 0-1.04.2-1.43.59L10.3 9.45l-7.72 7.72c-.78.78-.78 2.05 0 2.83L4 21.41c.39.39.9.59 1.41.59.51 0 1.02-.2 1.41-.59l7.78-7.78 2.81-2.81c.8-.78.8-2.07 0-2.86zM5.41 20L4 18.59l7.72-7.72 1.47 1.35L5.41 20z\"/>\n",
              "  </svg>\n",
              "      </button>\n",
              "      \n",
              "  <style>\n",
              "    .colab-df-container {\n",
              "      display:flex;\n",
              "      flex-wrap:wrap;\n",
              "      gap: 12px;\n",
              "    }\n",
              "\n",
              "    .colab-df-convert {\n",
              "      background-color: #E8F0FE;\n",
              "      border: none;\n",
              "      border-radius: 50%;\n",
              "      cursor: pointer;\n",
              "      display: none;\n",
              "      fill: #1967D2;\n",
              "      height: 32px;\n",
              "      padding: 0 0 0 0;\n",
              "      width: 32px;\n",
              "    }\n",
              "\n",
              "    .colab-df-convert:hover {\n",
              "      background-color: #E2EBFA;\n",
              "      box-shadow: 0px 1px 2px rgba(60, 64, 67, 0.3), 0px 1px 3px 1px rgba(60, 64, 67, 0.15);\n",
              "      fill: #174EA6;\n",
              "    }\n",
              "\n",
              "    [theme=dark] .colab-df-convert {\n",
              "      background-color: #3B4455;\n",
              "      fill: #D2E3FC;\n",
              "    }\n",
              "\n",
              "    [theme=dark] .colab-df-convert:hover {\n",
              "      background-color: #434B5C;\n",
              "      box-shadow: 0px 1px 3px 1px rgba(0, 0, 0, 0.15);\n",
              "      filter: drop-shadow(0px 1px 2px rgba(0, 0, 0, 0.3));\n",
              "      fill: #FFFFFF;\n",
              "    }\n",
              "  </style>\n",
              "\n",
              "      <script>\n",
              "        const buttonEl =\n",
              "          document.querySelector('#df-481902b0-cd8c-4034-8084-eaf5f287499c button.colab-df-convert');\n",
              "        buttonEl.style.display =\n",
              "          google.colab.kernel.accessAllowed ? 'block' : 'none';\n",
              "\n",
              "        async function convertToInteractive(key) {\n",
              "          const element = document.querySelector('#df-481902b0-cd8c-4034-8084-eaf5f287499c');\n",
              "          const dataTable =\n",
              "            await google.colab.kernel.invokeFunction('convertToInteractive',\n",
              "                                                     [key], {});\n",
              "          if (!dataTable) return;\n",
              "\n",
              "          const docLinkHtml = 'Like what you see? Visit the ' +\n",
              "            '<a target=\"_blank\" href=https://colab.research.google.com/notebooks/data_table.ipynb>data table notebook</a>'\n",
              "            + ' to learn more about interactive tables.';\n",
              "          element.innerHTML = '';\n",
              "          dataTable['output_type'] = 'display_data';\n",
              "          await google.colab.output.renderOutput(dataTable, element);\n",
              "          const docLink = document.createElement('div');\n",
              "          docLink.innerHTML = docLinkHtml;\n",
              "          element.appendChild(docLink);\n",
              "        }\n",
              "      </script>\n",
              "    </div>\n",
              "  </div>\n",
              "  "
            ]
          },
          "metadata": {},
          "execution_count": 11
        }
      ]
    },
    {
      "cell_type": "code",
      "source": [
        "ans_check"
      ],
      "metadata": {
        "colab": {
          "base_uri": "https://localhost:8080/"
        },
        "id": "6CfeSZJ3g7eD",
        "outputId": "63d68ee3-9e06-49ff-bcc8-93b4cc7c7a3f"
      },
      "id": "6CfeSZJ3g7eD",
      "execution_count": 12,
      "outputs": [
        {
          "output_type": "execute_result",
          "data": {
            "text/plain": [
              "[[([[56, 4], [111, 4], [111, 23], [56, 23]], 'C A', 0.5810978412628174),\n",
              "  ([[117, 5], [231, 5], [231, 21], [117, 21]], 'PT U R', 0.1402347837605933)],\n",
              " [([[2, 72], [28, 72], [28, 96], [2, 96]], 'BR', 0.9969396577231775),\n",
              "  ([[21, 0], [309, 0], [309, 96], [21, 96]], 'POXG21', 0.8632401384878545)],\n",
              " [],\n",
              " [],\n",
              " [([[15.512570837685422, 32.11759917275959],\n",
              "    [207.49189019453658, 2.583568314403899],\n",
              "    [213.48742916231458, 55.88240082724041],\n",
              "    [21.508109805463405, 84.4164316855961]],\n",
              "   '53JGZ-5;',\n",
              "   0.6257221142358117)],\n",
              " [([[-3.664100588675687, 7.503849116986469],\n",
              "    [40.44554122479882, 2.2623786034324165],\n",
              "    [42.66410058867569, 27.49615088301353],\n",
              "    [-2.4455412247988213, 32.73762139656758]],\n",
              "   'GEv2al',\n",
              "   0.06542066747688623)],\n",
              " [],\n",
              " [([[141.3480186333612, 32.10925403674746],\n",
              "    [246.99990930322195, 47.98095324473122],\n",
              "    [243.6519813666388, 64.89074596325254],\n",
              "    [138.00009069677805, 49.01904675526878]],\n",
              "   'Porschd',\n",
              "   0.22579402196981668),\n",
              "  ([[141.3053712883528, 91.12450247855259],\n",
              "    [191.99667988335122, 104.88480692980666],\n",
              "    [186.6946287116472, 121.87549752144741],\n",
              "    [136.00332011664878, 108.11519307019334]],\n",
              "   'Potr',\n",
              "   0.011579562909901142),\n",
              "  ([[188.57006641960766, 103.09713948117607],\n",
              "    [223.98710547774758, 110.83992884144634],\n",
              "    [220.42993358039234, 125.90286051882393],\n",
              "    [185.01289452225242, 117.16007115855366]],\n",
              "   'n',\n",
              "   0.08347284638541286),\n",
              "  ([[131.84551323567393, 137.11211750193706],\n",
              "    [197.28282659953305, 148.1554010617899],\n",
              "    [187.15448676432607, 199.88788249806294],\n",
              "    [121.71717340046695, 188.8445989382101]],\n",
              "   'FAG',\n",
              "   0.5419586144671745),\n",
              "  ([[194.9266873708001, 148.09678053940056],\n",
              "    [254.38354490841613, 163.35095409268413],\n",
              "    [241.0733126291999, 214.90321946059944],\n",
              "    [180.61645509158387, 199.64904590731587]],\n",
              "   '64',\n",
              "   0.860049581937934)],\n",
              " [([[3, 7], [39, 7], [39, 27], [3, 27]], 'C26727', 0.6657042017424883)],\n",
              " [],\n",
              " []]"
            ]
          },
          "metadata": {},
          "execution_count": 12
        }
      ]
    }
  ],
  "metadata": {
    "colab": {
      "provenance": [],
      "gpuType": "T4",
      "include_colab_link": true
    },
    "language_info": {
      "name": "python"
    },
    "kernelspec": {
      "name": "python3",
      "display_name": "Python 3"
    },
    "gpuClass": "standard",
    "accelerator": "GPU"
  },
  "nbformat": 4,
  "nbformat_minor": 5
}