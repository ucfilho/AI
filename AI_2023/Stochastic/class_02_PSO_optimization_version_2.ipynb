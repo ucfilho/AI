{
  "nbformat": 4,
  "nbformat_minor": 0,
  "metadata": {
    "colab": {
      "provenance": [],
      "authorship_tag": "ABX9TyMfIVp7HU3pK2BiB9lfJqHf",
      "include_colab_link": true
    },
    "kernelspec": {
      "name": "python3",
      "display_name": "Python 3"
    },
    "language_info": {
      "name": "python"
    }
  },
  "cells": [
    {
      "cell_type": "markdown",
      "metadata": {
        "id": "view-in-github",
        "colab_type": "text"
      },
      "source": [
        "<a href=\"https://colab.research.google.com/github/ucfilho/AI/blob/main/AI_2023/Stochastic/class_02_PSO_optimization_version_2.ipynb\" target=\"_parent\"><img src=\"https://colab.research.google.com/assets/colab-badge.svg\" alt=\"Open In Colab\"/></a>"
      ]
    },
    {
      "cell_type": "code",
      "source": [
        "import random\n",
        "import numpy as np"
      ],
      "metadata": {
        "id": "t-99XVgrNzYD"
      },
      "execution_count": 1,
      "outputs": []
    },
    {
      "cell_type": "code",
      "execution_count": 2,
      "metadata": {
        "id": "VXNIs5brNx9b"
      },
      "outputs": [],
      "source": [
        "def Schwefel(x):\n",
        "    summ=0\n",
        "    for i in range(len(x)):\n",
        "        new=x[i]*np.sin((abs(x[i]))**0.5)\n",
        "        summ=summ+new\n",
        "    return (418.982887272433799807913601398*len(x)-summ)\n",
        "# f(xi)= 0 for xi = 420.968746 for i=1,...,n  ;  xi in [-500,500]\n",
        "fitness_function = Schwefel"
      ]
    },
    {
      "cell_type": "code",
      "source": [
        "def fun(x):\n",
        "  n = x.shape[0]\n",
        "  ans = np.zeros(n)\n",
        "  for i in range(n):\n",
        "    ans[i] = fitness_function(x[i,:])\n",
        "  return ans"
      ],
      "metadata": {
        "id": "chSuIWc6CYBI"
      },
      "execution_count": 3,
      "outputs": []
    },
    {
      "cell_type": "code",
      "source": [
        "def pop_rnd(population,dimension,Max,Min):\n",
        "  x = np.zeros((population,dimension))\n",
        "  for i in range(population):\n",
        "    for j in range(dimension):\n",
        "      r = np.random.rand()\n",
        "      x[i,j] = Min[j] + r*(Max[j]-Min[j])\n",
        "  return x"
      ],
      "metadata": {
        "id": "A4b_ZXPIbNbc"
      },
      "execution_count": 4,
      "outputs": []
    },
    {
      "cell_type": "code",
      "source": [
        "def best(xp,xg,fp,fg,fitness,x):\n",
        "  # gbest, pbest = solution vector with best function \n",
        "  #                (global and particle gen)\n",
        "  # fitness = values of function all particles\n",
        "  # best = values of function best all iterations\n",
        "  n = x.shape[0]\n",
        "\n",
        "  for i in range(n):\n",
        "    if fp[i] >= fitness[i]:\n",
        "      xp[i,:] = x[i,:]*1.0\n",
        "      fp[i] = fitness[i]*1.0\n",
        "    if fg >= fitness[i]:\n",
        "      xg = xp[i,:]*1.0\n",
        "      fg = fitness[i]* 1.0\n",
        "  return xp,fp,xg,fg"
      ],
      "metadata": {
        "id": "vhtWsRe60jmP"
      },
      "execution_count": 5,
      "outputs": []
    },
    {
      "cell_type": "code",
      "source": [
        "def melhora(x,fit,xnew):\n",
        "  n = x.shape[0]\n",
        "  fnew = fun(xnew)\n",
        "  for i in range(n):\n",
        "    if fit[i] >= fnew[i]:\n",
        "      x[i,:] = xnew[i,:]\n",
        "      fit[i] = fnew[i]\n",
        "  \n",
        "  return x,fit"
      ],
      "metadata": {
        "id": "111tpsqSFaut"
      },
      "execution_count": 6,
      "outputs": []
    },
    {
      "cell_type": "code",
      "source": [
        "def PSO(D,pop,gen,Max,Min):\n",
        "  fp = np.ones(pop)*1e99\n",
        "  v = np.zeros((pop,D))\n",
        "  vnew = np.zeros((pop,D))\n",
        "  xnew = np.zeros((pop,D))\n",
        "  fg = 1e99\n",
        "  xg = np.ones((1,D))*9\n",
        "  xp = np.ones((pop,D))*10\n",
        "  x = pop_rnd(pop,D,Max,Min)\n",
        "  w, c1, c2 =0.8,  0.1, 0.1\n",
        "  fit = fun(x)\n",
        "  for k in range(gen):\n",
        "    xp,fp,xg,fg = best(xp,xg,fp,fg,fit,x)\n",
        "    for i in range(pop):\n",
        "      for j in range(D):\n",
        "        r1 = np.random.rand()\n",
        "        r2 = np.random.rand()\n",
        "        vnew[i,j] = w*v[i,j]+ c1*r1*(xp[i,j]-x[i,j])+ c2*r2*(xg[j]-x[i,j])\n",
        "        v[i,j] = vnew[i,j]* 1.0\n",
        "        xnew[i,j] = x[i,j] + vnew[i,j]\n",
        "    x,fit = melhora(x,fit,xnew)  \n",
        "  \n",
        "  return xg,fg"
      ],
      "metadata": {
        "id": "b9HRmoZxNART"
      },
      "execution_count": 7,
      "outputs": []
    },
    {
      "cell_type": "code",
      "source": [
        "D = 3\n",
        "pop = 300\n",
        "gen = 10000\n",
        "Max = [500,500, 500]\n",
        "Min = [-500,-500, -500]\n",
        "xg,fg = PSO(D,pop,gen,Max,Min)\n",
        "print(xg)\n",
        "print(fg)\n",
        "\n"
      ],
      "metadata": {
        "colab": {
          "base_uri": "https://localhost:8080/"
        },
        "id": "ZP6WSRUTbzzR",
        "outputId": "da9eac3e-73eb-4026-b30d-fb89083fa4d0"
      },
      "execution_count": 8,
      "outputs": [
        {
          "output_type": "stream",
          "name": "stdout",
          "text": [
            "[420.96874579 420.96874689 420.9687462 ]\n",
            "0.0\n"
          ]
        }
      ]
    }
  ]
}