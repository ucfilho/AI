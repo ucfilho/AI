{
  "nbformat": 4,
  "nbformat_minor": 0,
  "metadata": {
    "colab": {
      "provenance": [],
      "authorship_tag": "ABX9TyO4PII2H2qwtYrdlsQZ6AJU",
      "include_colab_link": true
    },
    "kernelspec": {
      "name": "python3",
      "display_name": "Python 3"
    },
    "language_info": {
      "name": "python"
    }
  },
  "cells": [
    {
      "cell_type": "markdown",
      "metadata": {
        "id": "view-in-github",
        "colab_type": "text"
      },
      "source": [
        "<a href=\"https://colab.research.google.com/github/ucfilho/AI/blob/main/AI_2023/Stochastic/class_06_maze_breadth_first_search.ipynb\" target=\"_parent\"><img src=\"https://colab.research.google.com/assets/colab-badge.svg\" alt=\"Open In Colab\"/></a>"
      ]
    },
    {
      "cell_type": "code",
      "execution_count": null,
      "metadata": {
        "id": "hpc8CEy79-Ge"
      },
      "outputs": [],
      "source": [
        "import cv2\n",
        "import numpy as np\n",
        "from google.colab.patches import cv2_imshow\n",
        "import matplotlib.pyplot as plt\n",
        "import pandas as pd"
      ]
    },
    {
      "cell_type": "code",
      "source": [
        "!git clone https://github.com/ucfilho/Machine_Learning_DataSet\n",
        "%cd Machine_Learning_DataSet"
      ],
      "metadata": {
        "colab": {
          "base_uri": "https://localhost:8080/"
        },
        "id": "-qbq0GQCAr47",
        "outputId": "0b4ecd10-300e-493d-fc9a-d7d65c0d6f07"
      },
      "execution_count": null,
      "outputs": [
        {
          "output_type": "stream",
          "name": "stdout",
          "text": [
            "fatal: destination path 'Machine_Learning_DataSet' already exists and is not an empty directory.\n",
            "/content/Machine_Learning_DataSet\n"
          ]
        }
      ]
    },
    {
      "cell_type": "code",
      "source": [
        "img = cv2.imread('maze.png',0)"
      ],
      "metadata": {
        "id": "r3HaBO8mCb-q"
      },
      "execution_count": null,
      "outputs": []
    },
    {
      "cell_type": "code",
      "source": [
        "img.shape"
      ],
      "metadata": {
        "colab": {
          "base_uri": "https://localhost:8080/"
        },
        "id": "RzhKHVsbEfhx",
        "outputId": "4944f997-d142-462c-d5b0-96a6f907e670"
      },
      "execution_count": null,
      "outputs": [
        {
          "output_type": "execute_result",
          "data": {
            "text/plain": [
              "(779, 738)"
            ]
          },
          "metadata": {},
          "execution_count": 6
        }
      ]
    },
    {
      "cell_type": "code",
      "source": [
        "scale_percent = 20 # percent of original size\n",
        "width = int(img.shape[1] * scale_percent / 100)\n",
        "height = int(img.shape[0] * scale_percent / 100)\n",
        "dim = (width, height)"
      ],
      "metadata": {
        "id": "8p7MfxFXFCPg"
      },
      "execution_count": null,
      "outputs": []
    },
    {
      "cell_type": "code",
      "source": [
        "# resize image\n",
        "resized = cv2.resize(img, dim, interpolation = cv2.INTER_AREA)"
      ],
      "metadata": {
        "id": "zY2fsdyXFKxQ"
      },
      "execution_count": null,
      "outputs": []
    },
    {
      "cell_type": "code",
      "source": [
        "ret, binary_img = cv2.threshold(resized, 127, 255, cv2.THRESH_BINARY)"
      ],
      "metadata": {
        "id": "IYkZJGwwG2RZ"
      },
      "execution_count": null,
      "outputs": []
    },
    {
      "cell_type": "code",
      "source": [
        "plt.imshow(binary_img,'gray',vmin=0,vmax=255)"
      ],
      "metadata": {
        "colab": {
          "base_uri": "https://localhost:8080/",
          "height": 451
        },
        "id": "hsSEvNhdG-Rw",
        "outputId": "71254417-c30b-4347-8eab-9a2851c62ebf"
      },
      "execution_count": null,
      "outputs": [
        {
          "output_type": "execute_result",
          "data": {
            "text/plain": [
              "<matplotlib.image.AxesImage at 0x7f4f2c9240a0>"
            ]
          },
          "metadata": {},
          "execution_count": 10
        },
        {
          "output_type": "display_data",
          "data": {
            "text/plain": [
              "<Figure size 640x480 with 1 Axes>"
            ],
            "image/png": "[encoded data removed]"
          },
          "metadata": {}
        }
      ]
    },
    {
      "cell_type": "code",
      "source": [
        "rows, cols = binary_img.shape\n",
        "print(rows,cols)"
      ],
      "metadata": {
        "colab": {
          "base_uri": "https://localhost:8080/"
        },
        "id": "VmgAlmLc-4Om",
        "outputId": "92636ac6-bbf1-4400-cf69-d25000484090"
      },
      "execution_count": null,
      "outputs": [
        {
          "output_type": "stream",
          "name": "stdout",
          "text": [
            "155 147\n"
          ]
        }
      ]
    },
    {
      "cell_type": "code",
      "source": [
        "def walls(binary_img,rows=rows,cols=cols, row_check = False): \n",
        "  # this routine return cols or rows position of walls in a list: \n",
        "  #    if you add row_check = True it return rows and otherwise cols\n",
        "  list_max, list_min = [], []\n",
        "  for i in range(rows):\n",
        "    for j in range(cols):\n",
        "      m =binary_img[i,j]\n",
        "      if m == 0:\n",
        "        if row_check == False:\n",
        "          if j > cols/2:\n",
        "            list_max.append(j)\n",
        "          else:\n",
        "            list_min.append(j)\n",
        "        else:\n",
        "          if i > rows/2:\n",
        "            list_max.append(i)\n",
        "          else:\n",
        "            list_min.append(i)\n",
        "  return list_max, list_min\n",
        "     "
      ],
      "metadata": {
        "id": "aIQO4OkD3N_z"
      },
      "execution_count": null,
      "outputs": []
    },
    {
      "cell_type": "code",
      "source": [
        "def freq(list_):\n",
        "  # this routine return the frequency a item appears in a list as a dict\n",
        "  frequency = {}\n",
        "  for item in list_:\n",
        "    if item in frequency:\n",
        "        frequency[item] += 1\n",
        "    else:\n",
        "        frequency[item] = 1\n",
        "  return frequency"
      ],
      "metadata": {
        "id": "9EniiXiICdmr"
      },
      "execution_count": null,
      "outputs": []
    },
    {
      "cell_type": "code",
      "source": [
        "\n",
        "# key_max is the most frequent wall position using col_max, row_max, row_min and col_min\n",
        "# key_max for col_max it represent righ\n",
        "# key_max for col_min represents left\n",
        "# key_max for row_max represent botton\n",
        "# key_max for row_min represent top\n",
        "\n",
        "col_max, col_min = walls(binary_img)\n",
        "row_max, row_min = walls(binary_img,row_check=True)\n",
        "freq_row1, freq_row2 = freq(row_min), freq(row_max)\n",
        "freq_col1, freq_col2 = freq(col_min), freq(col_max)\n",
        "list_all = [freq_col1,freq_col2,freq_row1,freq_row2]\n",
        "labels = ['col min','col max','row min','row max']\n",
        "k = 0\n",
        "pos_ =[]\n",
        "for list_ in list_all:\n",
        "  key_max = max(list_, key=list_.get)\n",
        "  print(key_max, list_[key_max], labels[k]) \n",
        "  pos_.append(key_max)\n",
        "  k += 1"
      ],
      "metadata": {
        "colab": {
          "base_uri": "https://localhost:8080/"
        },
        "id": "UGNde3UA3Gt8",
        "outputId": "13436e38-5709-4268-b8e1-1d61c592c991"
      },
      "execution_count": null,
      "outputs": [
        {
          "output_type": "stream",
          "name": "stdout",
          "text": [
            "7 116 col min\n",
            "134 116 col max\n",
            "13 129 row min\n",
            "139 129 row max\n"
          ]
        }
      ]
    },
    {
      "cell_type": "code",
      "source": [
        "id_min = [pos_[2], pos_[0]]\n",
        "id_max = [pos_[3],pos_[1]]\n",
        "id_min,id_max"
      ],
      "metadata": {
        "colab": {
          "base_uri": "https://localhost:8080/"
        },
        "id": "2_tHik1ACaaU",
        "outputId": "6d352e5b-f861-4c00-fa61-c69a7e9679ec"
      },
      "execution_count": null,
      "outputs": [
        {
          "output_type": "execute_result",
          "data": {
            "text/plain": [
              "([13, 7], [139, 134])"
            ]
          },
          "metadata": {},
          "execution_count": 15
        }
      ]
    },
    {
      "cell_type": "code",
      "source": [
        "nref = 7\n",
        "def find(img, id_min,id_max,rows=rows, cols=cols,N =nref):\n",
        "  \n",
        "  positions =[]\n",
        "  score = []\n",
        "\n",
        "  for j in [id_min[1], id_max[1]]:\n",
        "    max_sum = 0\n",
        "    for i in range(rows-N):\n",
        "      total = 0\n",
        "      if i > id_min[0] and i < id_max[0]:\n",
        "        for k in range(N):\n",
        "          total += img[i+k,j]\n",
        "          if max_sum < total:\n",
        "            idx, idy = i, j\n",
        "            max_sum = total\n",
        "    if max_sum > 0:\n",
        "      positions.append([idx,idy])\n",
        "      score.append(max_sum)\n",
        "\n",
        "  for i in [id_min[0],id_max[0]]:\n",
        "    max_sum = 0\n",
        "    for j in range(cols-N):\n",
        "      total = 0\n",
        "      if j > id_min[1] and j < id_max[1]:\n",
        "        for k in range(N):\n",
        "          total += img[i,j+k]\n",
        "          if max_sum < total:\n",
        "            idx, idy = i, j\n",
        "            max_sum = total\n",
        "    if max_sum > 0:\n",
        "      positions.append([idx,idy])\n",
        "      score.append(max_sum)\n",
        "  k = 0\n",
        "  x =np.array(score)\n",
        "  ind = np.argsort(x)\n",
        "  pos  = [positions[ind[-1]],positions[ind[-2]]]\n",
        "  sco  = [score[ind[-1]],score[ind[-2]]]\n",
        "\n",
        "  return pos, sco\n",
        "        "
      ],
      "metadata": {
        "id": "kIAMgfbHEFn0"
      },
      "execution_count": null,
      "outputs": []
    },
    {
      "cell_type": "code",
      "source": [
        "find(binary_img,id_min,id_max)"
      ],
      "metadata": {
        "colab": {
          "base_uri": "https://localhost:8080/"
        },
        "id": "VCrQXRuErbNh",
        "outputId": "9ad2c3b7-ed98-41d3-d8b6-cfeeca774ed9"
      },
      "execution_count": null,
      "outputs": [
        {
          "output_type": "execute_result",
          "data": {
            "text/plain": [
              "([[16, 134], [63, 7]], [1785, 1785])"
            ]
          },
          "metadata": {},
          "execution_count": 17
        }
      ]
    },
    {
      "cell_type": "code",
      "source": [
        "positions,score =find(binary_img,id_min,id_max)\n",
        "yc,xc = positions[0]\n",
        "image = cv2.circle(binary_img, (xc,yc), radius=3, color=[0,0,255], thickness=1)\n",
        "yc,xc = positions[1]\n",
        "image = cv2.circle(image, (xc,yc), radius=3, color=[0,0,255], thickness=1)\n",
        "plt.imshow(image,'gray',vmin=0,vmax=255)"
      ],
      "metadata": {
        "colab": {
          "base_uri": "https://localhost:8080/",
          "height": 451
        },
        "id": "1qaGfTB2A-le",
        "outputId": "214d38d5-699e-467a-edf1-f5416440a7e8"
      },
      "execution_count": null,
      "outputs": [
        {
          "output_type": "execute_result",
          "data": {
            "text/plain": [
              "<matplotlib.image.AxesImage at 0x7f4f29ffe370>"
            ]
          },
          "metadata": {},
          "execution_count": 18
        },
        {
          "output_type": "display_data",
          "data": {
            "text/plain": [
              "<Figure size 640x480 with 1 Axes>"
            ],
            "image/png": "[encoded data removed]"
          },
          "metadata": {}
        }
      ]
    },
    {
      "cell_type": "code",
      "source": [
        "find(binary_img,id_min,id_max)"
      ],
      "metadata": {
        "colab": {
          "base_uri": "https://localhost:8080/"
        },
        "id": "Fv5AWj6hFG3f",
        "outputId": "f241e461-4ee9-4234-c865-fc127cf69682"
      },
      "execution_count": null,
      "outputs": [
        {
          "output_type": "execute_result",
          "data": {
            "text/plain": [
              "([[20, 134], [67, 7]], [1785, 1785])"
            ]
          },
          "metadata": {},
          "execution_count": 19
        }
      ]
    },
    {
      "cell_type": "code",
      "source": [
        "target, score = find(binary_img,id_min,id_max)\n",
        "start_ = target[1]\n",
        "end_ = target[0]\n",
        "start_, end_"
      ],
      "metadata": {
        "colab": {
          "base_uri": "https://localhost:8080/"
        },
        "id": "0T_v8_ap0lHm",
        "outputId": "421c62ba-be9d-4f27-f1d2-60d685d116d9"
      },
      "execution_count": null,
      "outputs": [
        {
          "output_type": "execute_result",
          "data": {
            "text/plain": [
              "([67, 7], [20, 134])"
            ]
          },
          "metadata": {},
          "execution_count": 20
        }
      ]
    },
    {
      "cell_type": "code",
      "source": [
        "grid = []\n",
        "# number one for wall and zero for empty\n",
        "for x in binary_img:\n",
        "  grid.append(list(x))\n",
        "\n",
        "for i in range(rows):\n",
        "  for j in range(cols):\n",
        "    if grid[i][j]== 0:\n",
        "      grid[i][j]=1 # 1 if it is wall\n",
        "\n",
        "for i in range(rows):\n",
        "  for j in range(cols):\n",
        "    if grid[i][j]== 255:\n",
        "      grid[i][j]=0 # 0  if it is empty\n",
        "\n",
        "\n",
        "for i in range(rows):\n",
        "  for j in range(cols):\n",
        "    if i < id_min[0] or i > id_max[0]:\n",
        "      grid[i][j] = 1\n",
        "\n",
        "for i in range(rows):\n",
        "  for j in range(cols):\n",
        "    if j < id_min[1] or j > id_max[1]:\n",
        "      grid[i][j] = 1\n",
        "\n",
        "#grid[20][134] = 2\n",
        "start = start_[0],start_[1]\n",
        "end = end_[0], end_[1]"
      ],
      "metadata": {
        "id": "-anVyXkGbxvf"
      },
      "execution_count": null,
      "outputs": []
    },
    {
      "cell_type": "code",
      "source": [
        "a = grid"
      ],
      "metadata": {
        "id": "JJiAYtAUo9i9"
      },
      "execution_count": null,
      "outputs": []
    },
    {
      "cell_type": "code",
      "source": [
        "# https://levelup.gitconnected.com/solve-a-maze-with-python-e9f0580979a1"
      ],
      "metadata": {
        "id": "tmEsvR1n0Icu"
      },
      "execution_count": null,
      "outputs": []
    },
    {
      "cell_type": "code",
      "source": [
        "def make_step(k):\n",
        "  for i in range(len(m)):\n",
        "    for j in range(len(m[i])):\n",
        "      if m[i][j] == k:\n",
        "        if i>0 and m[i-1][j] == 0 and a[i-1][j] == 0:\n",
        "          m[i-1][j] = k + 1\n",
        "        if j>0 and m[i][j-1] == 0 and a[i][j-1] == 0:\n",
        "          m[i][j-1] = k + 1\n",
        "        if i<len(m)-1 and m[i+1][j] == 0 and a[i+1][j] == 0:\n",
        "          m[i+1][j] = k + 1\n",
        "        if j<len(m[i])-1 and m[i][j+1] == 0 and a[i][j+1] == 0:\n",
        "           m[i][j+1] = k + 1\n",
        "\n",
        "def print_m(m):\n",
        "    for i in range(len(m)):\n",
        "        for j in range(len(m[i])):\n",
        "            print( str(m[i][j]).ljust(2),end=' ')\n",
        "        print()\n",
        "\n",
        "\n",
        "\n",
        "m = []\n",
        "for i in range(len(a)):\n",
        "    m.append([])\n",
        "    for j in range(len(a[i])):\n",
        "        m[-1].append(0)\n",
        "i,j = start\n",
        "m[i][j] = 1\n",
        "\n",
        "k = 0\n",
        "while m[end[0]][end[1]] == 0:\n",
        "    k += 1\n",
        "    make_step(k)\n",
        "\n",
        "\n",
        "i, j = end\n",
        "k = m[i][j]\n",
        "the_path = [(i,j)]\n",
        "while k > 1:\n",
        "  if i > 0 and m[i - 1][j] == k-1:\n",
        "    i, j = i-1, j\n",
        "    the_path.append((i, j))\n",
        "    k-=1\n",
        "  elif j > 0 and m[i][j - 1] == k-1:\n",
        "    i, j = i, j-1\n",
        "    the_path.append((i, j))\n",
        "    k-=1\n",
        "  elif i < len(m) - 1 and m[i + 1][j] == k-1:\n",
        "    i, j = i+1, j\n",
        "    the_path.append((i, j))\n",
        "    k-=1\n",
        "  elif j < len(m[i]) - 1 and m[i][j + 1] == k-1:\n",
        "    i, j = i, j+1\n",
        "    the_path.append((i, j))\n",
        "    k -= 1\n",
        "\n",
        "print_m(m)\n",
        "print(the_path)"
      ],
      "metadata": {
        "colab": {
          "base_uri": "https://localhost:8080/"
        },
        "id": "ZaZwQj3Uo6Hv",
        "outputId": "aa3c8000-27a1-4ec4-b41e-f036c27a89fc"
      },
      "execution_count": null,
      "outputs": [
        {
          "output_type": "stream",
          "name": "stdout",
          "text": [
            "0  0  0  0  0  0  0  0  0  0  0  0  0  0  0  0  0  0  0  0  0  0  0  0  0  0  0  0  0  0  0  0  0  0  0  0  0  0  0  0  0  0  0  0  0  0  0  0  0  0  0  0  0  0  0  0  0  0  0  0  0  0  0  0  0  0  0  0  0  0  0  0  0  0  0  0  0  0  0  0  0  0  0  0  0  0  0  0  0  0  0  0  0  0  0  0  0  0  0  0  0  0  0  0  0  0  0  0  0  0  0  0  0  0  0  0  0  0  0  0  0  0  0  0  0  0  0  0  0  0  0  0  0  0  0  0  0  0  0  0  0  0  0  0  0  0  0  \n",
            "0  0  0  0  0  0  0  0  0  0  0  0  0  0  0  0  0  0  0  0  0  0  0  0  0  0  0  0  0  0  0  0  0  0  0  0  0  0  0  0  0  0  0  0  0  0  0  0  0  0  0  0  0  0  0  0  0  0  0  0  0  0  0  0  0  0  0  0  0  0  0  0  0  0  0  0  0  0  0  0  0  0  0  0  0  0  0  0  0  0  0  0  0  0  0  0  0  0  0  0  0  0  0  0  0  0  0  0  0  0  0  0  0  0  0  0  0  0  0  0  0  0  0  0  0  0  0  0  0  0  0  0  0  0  0  0  0  0  0  0  0  0  0  0  0  0  0  \n",
            "0  0  0  0  0  0  0  0  0  0  0  0  0  0  0  0  0  0  0  0  0  0  0  0  0  0  0  0  0  0  0  0  0  0  0  0  0  0  0  0  0  0  0  0  0  0  0  0  0  0  0  0  0  0  0  0  0  0  0  0  0  0  0  0  0  0  0  0  0  0  0  0  0  0  0  0  0  0  0  0  0  0  0  0  0  0  0  0  0  0  0  0  0  0  0  0  0  0  0  0  0  0  0  0  0  0  0  0  0  0  0  0  0  0  0  0  0  0  0  0  0  0  0  0  0  0  0  0  0  0  0  0  0  0  0  0  0  0  0  0  0  0  0  0  0  0  0  \n",
            "0  0  0  0  0  0  0  0  0  0  0  0  0  0  0  0  0  0  0  0  0  0  0  0  0  0  0  0  0  0  0  0  0  0  0  0  0  0  0  0  0  0  0  0  0  0  0  0  0  0  0  0  0  0  0  0  0  0  0  0  0  0  0  0  0  0  0  0  0  0  0  0  0  0  0  0  0  0  0  0  0  0  0  0  0  0  0  0  0  0  0  0  0  0  0  0  0  0  0  0  0  0  0  0  0  0  0  0  0  0  0  0  0  0  0  0  0  0  0  0  0  0  0  0  0  0  0  0  0  0  0  0  0  0  0  0  0  0  0  0  0  0  0  0  0  0  0  \n",
            "0  0  0  0  0  0  0  0  0  0  0  0  0  0  0  0  0  0  0  0  0  0  0  0  0  0  0  0  0  0  0  0  0  0  0  0  0  0  0  0  0  0  0  0  0  0  0  0  0  0  0  0  0  0  0  0  0  0  0  0  0  0  0  0  0  0  0  0  0  0  0  0  0  0  0  0  0  0  0  0  0  0  0  0  0  0  0  0  0  0  0  0  0  0  0  0  0  0  0  0  0  0  0  0  0  0  0  0  0  0  0  0  0  0  0  0  0  0  0  0  0  0  0  0  0  0  0  0  0  0  0  0  0  0  0  0  0  0  0  0  0  0  0  0  0  0  0  \n",
            "0  0  0  0  0  0  0  0  0  0  0  0  0  0  0  0  0  0  0  0  0  0  0  0  0  0  0  0  0  0  0  0  0  0  0  0  0  0  0  0  0  0  0  0  0  0  0  0  0  0  0  0  0  0  0  0  0  0  0  0  0  0  0  0  0  0  0  0  0  0  0  0  0  0  0  0  0  0  0  0  0  0  0  0  0  0  0  0  0  0  0  0  0  0  0  0  0  0  0  0  0  0  0  0  0  0  0  0  0  0  0  0  0  0  0  0  0  0  0  0  0  0  0  0  0  0  0  0  0  0  0  0  0  0  0  0  0  0  0  0  0  0  0  0  0  0  0  \n",
            "0  0  0  0  0  0  0  0  0  0  0  0  0  0  0  0  0  0  0  0  0  0  0  0  0  0  0  0  0  0  0  0  0  0  0  0  0  0  0  0  0  0  0  0  0  0  0  0  0  0  0  0  0  0  0  0  0  0  0  0  0  0  0  0  0  0  0  0  0  0  0  0  0  0  0  0  0  0  0  0  0  0  0  0  0  0  0  0  0  0  0  0  0  0  0  0  0  0  0  0  0  0  0  0  0  0  0  0  0  0  0  0  0  0  0  0  0  0  0  0  0  0  0  0  0  0  0  0  0  0  0  0  0  0  0  0  0  0  0  0  0  0  0  0  0  0  0  \n",
            "0  0  0  0  0  0  0  0  0  0  0  0  0  0  0  0  0  0  0  0  0  0  0  0  0  0  0  0  0  0  0  0  0  0  0  0  0  0  0  0  0  0  0  0  0  0  0  0  0  0  0  0  0  0  0  0  0  0  0  0  0  0  0  0  0  0  0  0  0  0  0  0  0  0  0  0  0  0  0  0  0  0  0  0  0  0  0  0  0  0  0  0  0  0  0  0  0  0  0  0  0  0  0  0  0  0  0  0  0  0  0  0  0  0  0  0  0  0  0  0  0  0  0  0  0  0  0  0  0  0  0  0  0  0  0  0  0  0  0  0  0  0  0  0  0  0  0  \n",
            "0  0  0  0  0  0  0  0  0  0  0  0  0  0  0  0  0  0  0  0  0  0  0  0  0  0  0  0  0  0  0  0  0  0  0  0  0  0  0  0  0  0  0  0  0  0  0  0  0  0  0  0  0  0  0  0  0  0  0  0  0  0  0  0  0  0  0  0  0  0  0  0  0  0  0  0  0  0  0  0  0  0  0  0  0  0  0  0  0  0  0  0  0  0  0  0  0  0  0  0  0  0  0  0  0  0  0  0  0  0  0  0  0  0  0  0  0  0  0  0  0  0  0  0  0  0  0  0  0  0  0  0  0  0  0  0  0  0  0  0  0  0  0  0  0  0  0  \n",
            "0  0  0  0  0  0  0  0  0  0  0  0  0  0  0  0  0  0  0  0  0  0  0  0  0  0  0  0  0  0  0  0  0  0  0  0  0  0  0  0  0  0  0  0  0  0  0  0  0  0  0  0  0  0  0  0  0  0  0  0  0  0  0  0  0  0  0  0  0  0  0  0  0  0  0  0  0  0  0  0  0  0  0  0  0  0  0  0  0  0  0  0  0  0  0  0  0  0  0  0  0  0  0  0  0  0  0  0  0  0  0  0  0  0  0  0  0  0  0  0  0  0  0  0  0  0  0  0  0  0  0  0  0  0  0  0  0  0  0  0  0  0  0  0  0  0  0  \n",
            "0  0  0  0  0  0  0  0  0  0  0  0  0  0  0  0  0  0  0  0  0  0  0  0  0  0  0  0  0  0  0  0  0  0  0  0  0  0  0  0  0  0  0  0  0  0  0  0  0  0  0  0  0  0  0  0  0  0  0  0  0  0  0  0  0  0  0  0  0  0  0  0  0  0  0  0  0  0  0  0  0  0  0  0  0  0  0  0  0  0  0  0  0  0  0  0  0  0  0  0  0  0  0  0  0  0  0  0  0  0  0  0  0  0  0  0  0  0  0  0  0  0  0  0  0  0  0  0  0  0  0  0  0  0  0  0  0  0  0  0  0  0  0  0  0  0  0  \n",
            "0  0  0  0  0  0  0  0  0  0  0  0  0  0  0  0  0  0  0  0  0  0  0  0  0  0  0  0  0  0  0  0  0  0  0  0  0  0  0  0  0  0  0  0  0  0  0  0  0  0  0  0  0  0  0  0  0  0  0  0  0  0  0  0  0  0  0  0  0  0  0  0  0  0  0  0  0  0  0  0  0  0  0  0  0  0  0  0  0  0  0  0  0  0  0  0  0  0  0  0  0  0  0  0  0  0  0  0  0  0  0  0  0  0  0  0  0  0  0  0  0  0  0  0  0  0  0  0  0  0  0  0  0  0  0  0  0  0  0  0  0  0  0  0  0  0  0  \n",
            "0  0  0  0  0  0  0  0  0  0  0  0  0  0  0  0  0  0  0  0  0  0  0  0  0  0  0  0  0  0  0  0  0  0  0  0  0  0  0  0  0  0  0  0  0  0  0  0  0  0  0  0  0  0  0  0  0  0  0  0  0  0  0  0  0  0  0  0  0  0  0  0  0  0  0  0  0  0  0  0  0  0  0  0  0  0  0  0  0  0  0  0  0  0  0  0  0  0  0  0  0  0  0  0  0  0  0  0  0  0  0  0  0  0  0  0  0  0  0  0  0  0  0  0  0  0  0  0  0  0  0  0  0  0  0  0  0  0  0  0  0  0  0  0  0  0  0  \n",
            "0  0  0  0  0  0  0  0  0  0  0  0  0  0  0  0  0  0  0  0  0  0  0  0  0  0  0  0  0  0  0  0  0  0  0  0  0  0  0  0  0  0  0  0  0  0  0  0  0  0  0  0  0  0  0  0  0  0  0  0  0  0  0  0  0  0  0  0  0  0  0  0  0  0  0  0  0  0  0  0  0  0  0  0  0  0  0  0  0  0  0  0  0  0  0  0  0  0  0  0  0  0  0  0  0  0  0  0  0  0  0  0  0  0  0  0  0  0  0  0  0  0  0  0  0  0  0  0  0  0  0  0  0  0  0  0  0  0  0  0  0  0  0  0  0  0  0  \n",
            "0  0  0  0  0  0  0  0  0  0  0  0  0  0  0  0  0  0  0  0  0  0  0  0  0  0  0  0  0  0  0  0  0  0  0  0  0  0  0  0  0  0  0  0  0  0  0  0  0  0  0  0  0  0  0  0  0  0  0  0  0  0  0  0  0  0  0  0  0  0  0  0  0  0  0  0  0  0  0  0  0  0  0  0  0  0  0  0  0  0  0  0  0  0  0  0  0  0  0  0  0  0  0  0  0  0  0  0  0  0  0  0  0  0  0  0  0  0  0  0  0  0  0  0  0  0  0  0  0  0  0  0  0  0  0  0  0  0  0  0  0  0  0  0  0  0  0  \n",
            "0  0  0  0  0  0  0  0  0  0  0  0  0  0  0  0  0  0  0  0  0  0  0  0  0  0  0  0  0  0  0  0  0  0  0  0  0  0  0  0  0  0  0  0  0  0  0  0  0  0  0  0  0  0  0  0  0  0  0  0  0  0  0  0  0  0  0  0  0  0  0  0  0  0  0  0  0  0  0  0  0  0  0  0  0  0  0  0  0  0  0  0  0  0  0  0  0  0  0  0  0  0  0  0  0  0  0  0  0  0  0  0  0  0  0  0  0  0  0  0  0  0  0  0  0  0  0  0  0  0  0  0  0  0  0  0  0  0  0  0  0  0  0  0  0  0  0  \n",
            "0  0  0  0  0  0  0  0  0  0  141 140 139 138 137 136 135 134 133 132 131 130 129 130 131 132 133 134 135 136 137 138 139 140 141 142 143 144 145 146 147 148 149 150 151 152 153 154 155 156 157 158 159 160 0  0  0  164 165 166 167 168 169 170 171 172 173 174 175 176 177 178 179 180 181 182 183 184 185 186 187 188 189 190 191 192 193 194 195 196 197 198 199 200 201 202 203 204 205 206 207 208 0  0  0  588 589 590 591 592 593 594 595 596 597 598 599 600 601 602 603 604 605 606 607 608 609 610 611 612 613 0  0  0  0  0  0  0  0  0  0  0  0  0  0  0  0  \n",
            "0  0  0  0  0  0  0  0  0  0  140 139 138 137 136 135 134 133 132 131 130 129 128 129 130 131 132 133 134 135 136 137 138 139 140 141 142 143 144 145 146 147 148 149 150 151 152 153 154 155 156 157 158 159 160 0  0  163 164 165 166 167 168 169 170 171 172 173 174 175 176 177 178 179 180 181 182 183 184 185 186 187 188 189 190 191 192 193 194 195 196 197 198 199 200 201 202 203 204 205 206 207 0  0  0  587 588 589 590 591 592 593 594 595 596 597 598 599 600 601 602 603 604 605 606 607 608 609 610 611 612 613 0  0  0  0  0  0  0  0  0  0  0  0  0  0  0  \n",
            "0  0  0  0  0  0  0  0  0  0  139 138 137 136 135 134 133 132 131 130 129 128 127 128 129 130 131 132 133 134 135 136 137 138 139 140 141 142 143 144 145 146 147 148 149 150 151 152 153 154 155 156 157 158 159 0  0  162 163 164 165 166 167 168 169 170 171 172 173 174 175 176 177 178 179 180 181 182 183 184 185 186 187 188 189 190 191 192 193 194 195 196 197 198 199 200 201 202 203 204 205 206 0  0  0  586 587 588 589 590 591 592 593 594 595 596 597 598 599 600 601 602 603 604 605 606 607 608 609 610 611 612 0  0  0  0  0  0  0  0  0  0  0  0  0  0  0  \n",
            "0  0  0  0  0  0  0  0  0  0  138 137 136 135 134 133 132 131 130 129 128 127 126 127 128 129 130 131 132 133 134 135 136 137 138 139 140 141 142 143 144 145 146 147 148 149 150 151 152 153 154 155 156 157 158 0  0  161 162 163 164 165 166 167 168 169 170 171 172 173 174 175 176 177 178 179 180 181 182 183 184 185 186 187 188 189 190 191 192 193 194 195 196 197 198 199 200 201 202 203 204 205 0  0  0  585 586 587 588 589 590 591 592 593 594 595 596 597 598 599 600 601 602 603 604 605 606 607 608 609 610 611 612 613 0  0  0  0  0  0  0  0  0  0  0  0  0  \n",
            "0  0  0  0  0  0  0  0  0  0  137 136 135 134 133 132 131 130 129 128 127 126 125 126 127 128 129 130 131 132 133 134 135 136 137 138 139 140 141 142 143 144 145 146 147 148 149 150 151 152 153 154 155 156 157 0  0  160 161 162 163 164 165 166 167 168 169 170 171 172 173 174 175 176 177 178 179 180 181 182 183 184 185 186 187 188 189 190 191 192 193 194 195 196 197 198 199 200 201 202 203 204 0  0  0  584 585 586 587 588 589 590 591 592 593 594 595 596 597 598 599 600 601 602 603 604 605 606 607 608 609 610 611 612 613 0  0  0  0  0  0  0  0  0  0  0  0  \n",
            "0  0  0  0  0  0  0  0  0  0  136 135 134 133 132 131 130 129 128 127 126 125 124 125 126 127 128 129 130 131 132 133 134 135 136 137 138 139 140 141 142 143 144 145 146 147 148 149 150 151 152 153 154 155 156 0  0  159 160 161 162 163 164 165 166 167 168 169 170 171 172 173 174 175 176 177 178 179 180 181 182 183 184 185 186 187 188 189 190 191 192 193 194 195 196 197 198 199 200 201 202 203 0  0  0  583 584 585 586 587 588 589 590 591 592 593 594 595 596 597 598 599 600 601 602 603 604 605 606 607 608 609 610 611 612 0  0  0  0  0  0  0  0  0  0  0  0  \n",
            "0  0  0  0  0  0  0  0  0  0  135 134 133 132 131 130 129 128 127 126 125 124 123 124 125 126 127 128 129 130 131 132 133 134 135 136 137 138 139 140 141 142 143 144 145 146 147 148 149 150 151 152 153 154 155 0  0  158 159 160 161 162 163 164 165 166 167 168 169 170 171 172 173 174 175 176 177 178 179 180 181 182 183 184 185 186 187 188 189 190 191 192 193 194 195 196 197 198 199 200 201 202 0  0  0  582 583 584 585 586 587 588 589 590 591 592 593 594 595 596 597 598 599 600 601 602 603 604 605 606 607 608 609 610 611 0  0  0  0  0  0  0  0  0  0  0  0  \n",
            "0  0  0  0  0  0  0  0  0  0  134 133 132 131 130 129 128 127 126 125 124 123 122 123 124 125 126 127 128 129 130 131 132 133 134 135 136 137 138 139 140 141 142 143 144 145 146 147 148 149 150 151 152 153 154 0  0  157 158 159 160 161 162 163 164 165 166 167 168 169 170 171 172 173 174 175 176 177 178 179 180 181 182 183 184 185 186 187 188 189 190 191 192 193 194 195 196 197 198 199 200 201 0  0  0  581 582 583 584 585 586 587 588 589 590 591 592 593 594 595 596 597 598 599 600 601 602 603 604 605 606 607 608 609 610 0  0  0  0  0  0  0  0  0  0  0  0  \n",
            "0  0  0  0  0  0  0  0  0  0  133 132 131 130 129 128 127 126 125 124 123 122 121 122 123 124 125 126 127 128 129 130 131 132 133 134 135 136 137 138 139 140 141 142 143 144 145 146 147 148 149 150 151 152 153 0  0  156 157 158 159 160 161 162 163 164 165 166 167 168 169 170 171 172 173 174 175 176 177 178 179 180 181 182 183 184 185 186 187 188 189 190 191 192 193 194 195 196 197 198 199 200 0  0  0  580 581 582 583 584 585 586 587 588 589 590 591 592 593 594 595 596 597 598 599 600 601 602 603 604 605 606 607 608 609 0  0  0  0  0  0  0  0  0  0  0  0  \n",
            "0  0  0  0  0  0  0  0  0  0  132 131 130 129 128 127 126 125 124 123 122 121 120 121 122 123 124 125 126 127 128 129 130 131 132 133 134 135 136 137 138 139 140 141 142 143 144 145 146 147 148 149 150 151 152 0  0  155 156 157 158 159 160 161 162 163 164 165 166 167 168 169 170 171 172 173 174 175 176 177 178 179 180 181 182 183 184 185 186 187 188 189 190 191 192 193 194 195 196 197 198 199 0  0  0  579 580 581 582 583 584 585 586 587 588 589 590 591 592 593 594 595 596 597 598 599 600 601 602 603 604 605 606 607 608 0  0  0  0  0  0  0  0  0  0  0  0  \n",
            "0  0  0  0  0  0  0  0  0  0  131 130 129 128 127 126 125 124 123 122 121 120 119 120 121 122 123 124 125 126 127 128 129 130 131 132 133 134 135 136 137 138 139 140 141 142 143 144 145 146 147 148 149 150 151 0  0  154 155 156 157 158 159 160 161 162 163 164 165 166 167 168 169 170 171 172 173 174 175 176 177 178 179 180 181 182 183 184 185 186 187 188 189 190 191 192 193 194 195 196 197 198 0  0  0  578 579 580 581 582 583 584 585 586 587 588 589 590 591 592 593 594 595 596 597 598 599 600 601 602 603 604 605 606 607 0  0  0  0  0  0  0  0  0  0  0  0  \n",
            "0  0  0  0  0  0  0  0  0  0  130 129 128 127 126 125 124 123 122 121 120 119 118 119 120 121 122 123 124 125 126 127 128 129 130 131 132 133 134 135 136 137 138 139 140 141 142 143 144 145 146 147 148 149 150 0  0  153 154 155 156 157 158 159 160 161 162 163 164 165 166 167 168 169 170 171 172 173 174 175 176 177 178 179 180 181 182 183 184 185 186 187 188 189 190 191 192 193 194 195 196 197 0  0  0  577 578 579 580 581 582 583 584 585 586 587 588 589 590 591 592 593 594 595 596 597 598 599 600 601 602 603 604 605 606 0  0  0  0  0  0  0  0  0  0  0  0  \n",
            "0  0  0  0  0  0  0  0  0  0  129 128 127 126 125 124 123 122 121 120 119 118 117 118 119 120 121 122 123 124 125 126 127 128 129 130 131 132 133 134 135 136 137 138 139 140 141 142 143 144 145 146 147 148 0  0  0  152 153 154 155 156 157 158 159 160 161 162 163 164 165 166 167 168 169 170 171 172 173 174 175 176 177 178 179 180 181 182 183 184 185 186 187 188 189 190 191 192 193 194 195 0  0  0  0  576 577 578 579 580 581 582 583 584 585 586 587 588 589 590 591 592 593 594 595 596 597 598 599 600 601 602 603 604 605 0  0  0  0  0  0  0  0  0  0  0  0  \n",
            "0  0  0  0  0  0  0  0  0  0  128 127 126 125 124 123 122 121 120 119 118 117 116 0  0  0  0  0  0  0  0  0  0  0  0  0  0  0  0  0  0  0  0  0  0  0  0  0  0  0  0  0  0  0  0  0  0  151 152 153 154 155 156 157 158 159 160 161 162 163 0  0  0  169 170 171 172 173 174 175 176 177 178 179 180 181 0  0  0  0  0  0  0  0  0  0  0  0  0  0  0  0  0  0  0  575 576 577 578 579 580 581 582 583 584 585 586 587 0  0  0  0  0  0  0  0  0  0  0  0  0  0  0  0  0  0  0  0  0  0  0  0  0  0  0  0  0  \n",
            "0  0  0  0  0  0  0  0  0  0  127 126 125 124 123 122 121 120 119 118 117 116 115 0  0  0  0  0  0  0  0  0  0  0  0  0  0  0  0  0  0  0  0  0  0  0  0  0  0  0  0  0  0  0  0  0  0  150 151 152 153 154 155 156 157 158 159 160 161 162 0  0  0  170 171 172 173 174 175 176 177 178 179 180 181 182 0  0  0  0  0  0  0  0  0  0  0  0  0  0  0  0  0  0  0  574 575 576 577 578 579 580 581 582 583 584 585 586 0  0  0  0  0  0  0  0  0  0  0  0  0  0  0  0  0  0  0  0  0  0  0  0  0  0  0  0  0  \n",
            "0  0  0  0  0  0  0  0  0  0  126 125 124 123 122 121 120 119 118 117 116 115 114 115 0  0  0  0  0  0  0  0  0  0  0  0  0  0  0  0  0  0  0  0  0  0  0  0  0  0  0  0  0  0  0  0  148 149 150 151 152 153 154 155 156 157 158 159 160 161 0  0  0  171 172 173 174 175 176 177 178 179 180 181 182 183 0  0  0  0  0  0  0  0  0  0  0  0  0  0  0  0  0  0  572 573 574 575 576 577 578 579 580 581 582 583 584 585 0  0  0  0  550 0  0  0  0  0  0  0  0  0  0  0  0  0  0  0  0  0  0  0  0  0  0  0  0  \n",
            "0  0  0  0  0  0  0  0  0  0  125 124 123 122 121 120 119 118 117 116 115 114 113 114 115 116 117 118 119 120 121 122 123 124 125 126 127 128 129 130 131 132 133 134 135 136 137 138 139 140 141 142 143 144 145 146 147 148 149 150 151 152 153 154 155 156 157 158 159 160 0  0  0  172 173 174 175 176 177 178 179 180 181 182 183 184 0  0  0  580 579 578 577 576 575 574 573 572 571 570 569 568 569 570 571 572 573 574 575 576 577 578 579 580 581 582 583 584 0  0  0  548 549 550 551 552 553 554 555 556 557 558 559 560 0  0  0  0  0  0  0  0  0  0  0  0  0  \n",
            "0  0  0  0  0  0  0  0  0  0  124 123 122 121 120 119 118 117 116 115 114 113 112 113 114 115 116 117 118 119 120 121 122 123 124 125 126 127 128 129 130 131 132 133 134 135 136 137 138 139 140 141 142 143 144 145 146 147 148 149 150 151 152 153 154 155 156 157 158 159 0  0  0  173 174 175 176 177 178 179 180 181 182 183 184 185 0  0  0  579 578 577 576 575 574 573 572 571 570 569 568 567 568 569 570 571 572 573 574 575 576 577 578 579 580 581 582 583 0  0  0  547 548 549 550 551 552 553 554 555 556 557 558 559 0  0  0  0  0  0  0  0  0  0  0  0  0  \n",
            "0  0  0  0  0  0  0  0  0  0  123 122 121 120 119 118 117 116 115 114 113 112 111 112 113 114 115 116 117 118 119 120 121 122 123 124 125 126 127 128 129 130 131 132 133 134 135 136 137 138 139 140 141 142 143 144 145 146 147 148 149 150 151 152 153 154 155 156 157 158 0  0  0  174 175 176 177 178 179 180 181 182 183 184 185 186 0  0  0  578 577 576 575 574 573 572 571 570 569 568 567 566 567 568 569 570 571 572 573 574 575 576 577 578 579 580 581 582 0  0  0  546 547 548 549 550 551 552 553 554 555 556 557 558 0  0  0  0  0  0  0  0  0  0  0  0  0  \n",
            "0  0  0  0  0  0  0  0  0  0  122 121 120 119 118 117 116 115 114 113 112 111 110 111 112 113 114 115 116 117 118 119 120 121 122 123 124 125 126 127 128 129 130 131 132 133 134 135 136 137 138 139 140 141 142 143 144 145 146 147 148 149 150 151 152 153 154 155 156 157 0  0  0  175 176 177 178 179 180 181 182 183 184 185 186 187 0  0  0  577 576 575 574 573 572 571 570 569 568 567 566 565 566 567 568 569 570 571 572 573 574 575 576 577 578 579 580 581 0  0  0  545 546 547 548 549 550 551 552 553 554 555 556 557 0  0  0  0  0  0  0  0  0  0  0  0  0  \n",
            "0  0  0  0  0  0  0  0  0  0  121 120 119 118 117 116 115 114 113 112 111 110 109 110 111 112 113 114 115 116 117 118 119 120 121 122 123 124 125 126 127 128 129 130 131 132 133 134 135 136 137 138 139 140 141 142 143 144 145 146 147 148 149 150 151 152 153 154 155 156 0  0  0  176 177 178 179 180 181 182 183 184 185 186 187 188 0  0  0  576 575 574 573 572 571 570 569 568 567 566 565 564 565 566 567 568 569 570 571 572 573 574 575 576 577 578 579 580 0  0  0  544 545 546 547 548 549 550 551 552 553 554 555 556 0  0  0  0  0  0  0  0  0  0  0  0  0  \n",
            "0  0  0  0  0  0  0  0  0  0  120 119 118 117 116 115 114 113 112 111 110 109 108 109 110 111 112 113 114 115 116 117 118 119 120 121 122 123 124 125 126 127 128 129 130 131 132 133 134 135 136 137 138 139 140 141 142 143 144 145 146 147 148 149 150 151 152 153 154 155 0  0  0  177 178 179 180 181 182 183 184 185 186 187 188 189 0  0  0  575 574 573 572 571 570 569 568 567 566 565 564 563 564 565 566 567 568 569 570 571 572 573 574 575 576 577 578 579 0  0  0  543 544 545 546 547 548 549 550 551 552 553 554 555 0  0  0  0  0  0  0  0  0  0  0  0  0  \n",
            "0  0  0  0  0  0  0  0  0  0  119 118 117 116 115 114 113 112 111 110 109 108 107 108 109 110 111 112 113 114 115 116 117 118 119 120 121 122 123 124 125 126 127 128 129 130 131 132 133 134 135 136 137 138 139 140 141 142 143 144 145 146 147 148 149 150 151 152 153 154 0  0  0  178 179 180 181 182 183 184 185 186 187 188 189 190 0  0  0  574 573 572 571 570 569 568 567 566 565 564 563 562 563 564 565 566 567 568 569 570 571 572 573 574 575 576 577 578 0  0  0  542 543 544 545 546 547 548 549 550 551 552 553 554 0  0  0  0  0  0  0  0  0  0  0  0  0  \n",
            "0  0  0  0  0  0  0  0  0  0  118 117 116 115 114 113 112 111 110 109 108 107 106 107 108 109 110 111 112 113 114 115 116 117 118 119 120 121 122 123 124 125 126 127 128 129 130 131 132 133 134 135 136 137 138 139 140 141 142 143 144 145 146 147 148 149 150 151 152 153 0  0  0  179 180 181 182 183 184 185 186 187 188 189 190 191 0  0  0  573 572 571 570 569 568 567 566 565 564 563 562 561 562 563 564 565 566 567 568 569 570 571 572 573 574 575 576 577 0  0  0  541 542 543 544 545 546 547 548 549 550 551 552 553 0  0  0  0  0  0  0  0  0  0  0  0  0  \n",
            "0  0  0  0  0  0  0  0  0  0  117 116 115 114 113 112 111 110 109 108 107 106 105 106 107 108 109 110 111 112 113 114 115 116 117 118 119 120 121 122 123 124 125 126 127 128 129 130 131 132 133 134 135 136 137 138 139 140 141 142 143 144 145 146 147 148 149 150 151 152 0  0  0  180 181 182 183 184 185 186 187 188 189 190 191 192 0  0  0  572 571 570 569 568 567 566 565 564 563 562 561 560 561 562 563 564 565 566 567 568 569 570 571 572 573 574 575 576 0  0  0  540 541 542 543 544 545 546 547 548 549 550 551 552 0  0  0  0  0  0  0  0  0  0  0  0  0  \n",
            "0  0  0  0  0  0  0  0  0  0  116 115 114 113 112 111 110 109 108 107 106 105 104 105 106 107 108 109 110 111 112 113 114 115 116 117 118 119 120 121 122 123 124 125 126 127 128 129 130 131 132 133 134 135 136 137 138 139 140 141 142 143 144 145 146 147 148 149 150 151 0  0  0  181 182 183 184 185 186 187 188 189 190 191 192 193 0  0  0  571 570 569 568 567 566 565 564 563 562 561 560 559 560 561 562 563 564 565 566 567 568 569 570 571 572 573 574 575 0  0  0  539 540 541 542 543 544 545 546 547 548 549 550 551 0  0  0  0  0  0  0  0  0  0  0  0  0  \n",
            "0  0  0  0  0  0  0  0  0  0  115 114 113 112 111 110 109 108 107 106 105 104 103 104 105 106 107 108 109 110 111 112 113 114 115 116 117 118 119 120 121 122 123 124 125 126 127 128 129 130 131 132 133 134 135 136 137 138 139 140 141 142 143 144 145 146 147 148 149 150 0  0  0  182 183 184 185 186 187 188 189 190 191 192 193 194 0  0  0  570 569 568 567 566 565 564 563 562 561 560 559 558 559 560 561 562 563 564 565 566 567 568 569 570 571 572 573 574 0  0  0  538 539 540 541 542 543 544 545 546 547 548 549 550 0  0  0  0  0  0  0  0  0  0  0  0  0  \n",
            "0  0  0  0  0  0  0  0  0  0  114 113 112 111 110 109 108 107 106 105 104 103 102 103 104 105 106 107 108 109 110 111 112 113 114 115 116 117 118 119 120 121 122 123 124 125 126 127 128 129 130 131 132 133 134 135 136 137 138 139 140 141 142 143 144 145 146 147 148 149 0  0  0  183 184 185 186 187 188 189 190 191 192 193 194 195 0  0  0  569 568 567 566 565 564 563 562 561 560 559 558 557 558 559 560 561 562 563 564 565 566 567 568 569 570 571 572 573 0  0  0  537 538 539 540 541 542 543 544 545 546 547 548 549 0  0  0  0  0  0  0  0  0  0  0  0  0  \n",
            "0  0  0  0  0  0  0  0  0  0  113 112 111 110 109 108 107 106 105 104 103 102 101 0  0  0  0  0  0  0  0  0  0  0  0  0  0  0  0  0  0  0  0  0  0  0  0  0  0  0  0  0  0  0  0  0  0  0  0  0  0  0  0  0  0  0  0  0  0  0  0  0  0  184 185 186 187 188 189 190 191 192 193 194 195 196 0  0  0  568 567 566 565 564 563 562 561 560 559 558 557 556 0  0  0  0  0  0  0  0  0  0  0  0  0  0  0  0  0  0  0  536 537 538 539 540 541 542 543 544 545 546 547 548 0  0  0  0  0  0  0  0  0  0  0  0  0  \n",
            "0  0  0  0  0  0  0  0  0  0  112 111 110 109 108 107 106 105 104 103 102 101 100 0  0  0  0  0  0  0  0  0  0  0  0  0  0  0  0  0  0  0  0  0  0  0  0  0  0  0  0  0  0  0  0  0  0  0  0  0  0  0  0  0  0  0  0  0  0  0  0  0  0  185 186 187 188 189 190 191 192 193 194 195 196 197 0  0  0  567 566 565 564 563 562 561 560 559 558 557 556 555 0  0  0  0  0  0  0  0  0  0  0  0  0  0  0  0  0  0  0  535 536 537 538 539 540 541 542 543 544 545 546 547 0  0  0  0  0  0  0  0  0  0  0  0  0  \n",
            "0  0  0  0  0  0  0  0  0  0  111 110 109 108 107 106 105 104 103 102 101 100 99 0  0  0  0  0  0  0  0  0  0  0  0  0  0  0  0  0  0  0  0  0  0  0  0  0  0  0  0  0  0  0  0  0  0  0  0  0  0  0  0  0  0  0  0  0  0  0  0  0  0  186 187 188 189 190 191 192 193 194 195 196 197 198 0  0  0  566 565 564 563 562 561 560 559 558 557 556 555 554 0  0  0  0  0  0  0  0  0  0  0  0  0  0  0  0  0  0  0  534 535 536 537 538 539 540 541 542 543 544 545 546 0  0  0  0  0  0  0  0  0  0  0  0  0  \n",
            "0  0  0  0  0  0  0  0  0  0  110 109 108 107 106 105 104 103 102 101 100 99 98 97 96 95 94 95 96 97 98 99 100 101 102 103 104 105 0  0  0  0  218 217 216 215 214 213 212 211 210 209 208 207 206 205 204 203 202 201 200 199 198 197 196 195 194 193 192 191 190 189 188 187 188 189 190 191 192 193 194 195 196 197 198 199 0  0  0  565 564 563 562 561 560 559 558 557 556 555 554 553 0  0  0  549 548 547 546 545 544 543 542 541 540 539 538 537 536 535 534 533 534 535 536 537 538 539 540 541 542 543 544 545 0  0  0  0  0  0  0  0  0  0  0  0  0  \n",
            "0  0  0  0  0  0  0  0  0  0  109 108 107 106 105 104 103 102 101 100 99 98 97 96 95 94 93 94 95 96 97 98 99 100 101 102 103 104 105 0  0  0  219 218 217 216 215 214 213 212 211 210 209 208 207 206 205 204 203 202 201 200 199 198 197 196 195 194 193 192 191 190 189 188 189 190 191 192 193 194 195 196 197 198 199 200 0  0  0  564 563 562 561 560 559 558 557 556 555 554 553 552 0  0  0  548 547 546 545 544 543 542 541 540 539 538 537 536 535 534 533 532 533 534 535 536 537 538 539 540 541 542 543 544 0  0  0  0  0  0  0  0  0  0  0  0  0  \n",
            "0  0  0  0  0  0  0  0  0  0  108 107 106 105 104 103 102 101 100 99 98 97 96 95 94 93 92 93 94 95 96 97 98 99 100 101 102 103 104 0  0  0  220 219 218 217 216 215 214 213 212 211 210 209 208 207 206 205 204 203 202 201 200 199 198 197 196 195 194 193 192 191 190 189 190 191 192 193 194 195 196 197 198 199 200 201 0  0  0  563 562 561 560 559 558 557 556 555 554 553 552 551 0  0  0  547 546 545 544 543 542 541 540 539 538 537 536 535 534 533 532 531 532 533 534 535 536 537 538 539 540 541 542 543 0  0  0  0  0  0  0  0  0  0  0  0  0  \n",
            "0  0  0  0  0  0  0  0  0  0  107 106 105 104 103 102 101 100 99 98 97 96 95 94 93 92 91 92 93 94 95 96 97 98 99 100 101 102 103 0  0  0  221 220 219 218 217 216 215 214 213 212 211 210 209 208 207 206 205 204 203 202 201 200 199 198 197 196 195 194 193 192 191 190 191 192 193 194 195 196 197 198 199 200 201 202 0  0  0  562 561 560 559 558 557 556 555 554 553 552 551 550 0  0  0  546 545 544 543 542 541 540 539 538 537 536 535 534 533 532 531 530 531 532 533 534 535 536 537 538 539 540 541 542 0  0  0  0  0  0  0  0  0  0  0  0  0  \n",
            "0  0  0  0  0  0  0  0  0  0  106 105 104 103 102 101 100 99 98 97 96 95 94 93 92 91 90 91 92 93 94 95 96 97 98 99 100 101 102 0  0  0  222 221 220 219 218 217 216 215 214 213 212 211 210 209 208 207 206 205 204 203 202 201 200 199 198 197 196 195 194 193 192 191 192 193 194 195 196 197 198 199 200 201 202 203 0  0  0  561 560 559 558 557 556 555 554 553 552 551 550 549 0  0  0  545 544 543 542 541 540 539 538 537 536 535 534 533 532 531 530 529 530 531 532 533 534 535 536 537 538 539 540 541 0  0  0  0  0  0  0  0  0  0  0  0  0  \n",
            "0  0  0  0  0  0  0  0  0  0  105 104 103 102 101 100 99 98 97 96 95 94 93 92 91 90 89 90 91 92 93 94 95 96 97 98 99 100 101 0  0  0  223 222 221 220 219 218 217 216 215 214 213 212 211 210 209 208 207 206 205 204 203 202 201 200 199 198 197 196 195 194 193 192 193 194 195 196 197 198 199 200 201 202 203 204 0  0  0  560 559 558 557 556 555 554 553 552 551 550 549 548 0  0  0  544 543 542 541 540 539 538 537 536 535 534 533 532 531 530 529 528 529 530 531 532 533 534 535 536 537 538 539 540 0  0  0  0  0  0  0  0  0  0  0  0  0  \n",
            "0  0  0  0  0  0  0  0  0  0  104 103 102 101 100 99 98 97 96 95 94 93 92 91 90 89 88 89 90 91 92 93 94 95 96 97 98 99 100 0  0  0  224 223 222 221 220 219 218 217 216 215 214 213 212 211 210 209 208 207 206 205 204 203 202 201 200 199 198 197 196 195 194 193 194 195 196 197 198 199 200 201 202 203 204 205 0  0  0  559 558 557 556 555 554 553 552 551 550 549 548 547 0  0  0  543 542 541 540 539 538 537 536 535 534 533 532 531 530 529 528 527 528 529 530 531 532 533 534 535 536 537 538 539 0  0  0  0  0  0  0  0  0  0  0  0  0  \n",
            "0  0  0  0  0  0  0  0  0  0  103 102 101 100 99 98 97 96 95 94 93 92 91 90 89 88 87 88 89 90 91 92 93 94 95 96 97 98 99 0  0  0  225 224 223 222 221 220 219 218 217 216 215 214 213 212 211 210 209 208 207 206 205 204 203 202 201 200 199 198 197 196 195 194 195 196 197 198 199 200 201 202 203 204 205 206 0  0  0  558 557 556 555 554 553 552 551 550 549 548 547 546 0  0  0  542 541 540 539 538 537 536 535 534 533 532 531 530 529 528 527 526 527 528 529 530 531 532 533 534 535 536 537 538 0  0  0  0  0  0  0  0  0  0  0  0  0  \n",
            "0  0  0  0  0  0  0  0  0  0  102 101 100 99 98 97 96 95 94 93 92 91 90 89 88 87 86 87 88 89 90 91 92 93 94 95 96 97 98 0  0  0  226 225 224 223 222 221 220 219 218 217 216 215 214 213 212 211 210 209 208 207 206 205 204 203 202 201 200 199 198 197 196 195 196 197 198 199 200 201 202 203 204 205 206 207 0  0  0  557 556 555 554 553 552 551 550 549 548 547 546 545 0  0  0  541 540 539 538 537 536 535 534 533 532 531 530 529 528 527 526 525 526 527 528 529 530 531 532 533 534 535 536 537 0  0  0  0  0  0  0  0  0  0  0  0  0  \n",
            "0  0  0  0  0  0  0  0  0  0  101 100 99 98 97 96 95 94 93 92 91 90 89 88 87 86 85 86 87 88 89 90 91 92 93 94 95 96 97 0  0  0  227 226 225 224 223 222 221 220 219 218 217 216 215 214 213 212 211 210 209 208 207 206 205 204 203 202 201 200 199 198 197 196 197 198 199 200 201 202 203 204 205 206 207 208 0  0  0  556 555 554 553 552 551 550 549 548 547 546 545 544 0  0  0  540 539 538 537 536 535 534 533 532 531 530 529 528 527 526 525 524 525 526 527 528 529 530 531 532 533 534 535 536 0  0  0  0  0  0  0  0  0  0  0  0  0  \n",
            "0  0  0  0  0  0  0  0  0  0  100 99 98 97 96 95 94 93 92 91 90 89 88 87 86 85 84 85 86 87 88 89 90 91 92 93 94 95 96 0  0  0  228 227 226 225 224 223 222 221 220 219 218 217 216 215 214 213 212 211 210 209 208 207 206 205 204 203 202 201 200 199 198 197 198 199 200 201 202 203 204 205 206 207 208 209 0  0  0  555 554 553 552 551 550 549 548 547 546 545 544 543 0  0  0  539 538 537 536 535 534 533 532 531 530 529 528 527 526 525 524 523 524 525 526 527 528 529 530 531 532 533 534 535 0  0  0  0  0  0  0  0  0  0  0  0  0  \n",
            "0  0  0  0  0  0  0  0  0  0  99 98 97 96 95 94 93 92 91 90 89 88 87 86 85 84 83 84 85 86 87 88 89 90 91 92 93 94 95 0  0  0  229 228 227 226 225 224 223 222 221 220 219 218 217 216 215 214 213 212 211 210 209 208 207 206 205 204 203 202 201 200 199 198 199 200 201 202 203 204 205 206 207 208 209 210 0  0  0  554 553 552 551 550 549 548 547 546 545 544 543 542 0  0  0  538 537 536 535 534 533 532 531 530 529 528 527 526 525 524 523 522 523 524 525 526 527 528 529 530 531 532 533 534 0  0  0  0  0  0  0  0  0  0  0  0  0  \n",
            "0  0  0  0  0  0  0  0  0  0  98 97 96 95 94 93 92 91 90 89 88 87 86 85 84 83 82 83 84 85 86 87 88 89 90 91 92 93 94 0  0  0  230 229 228 227 226 225 224 223 222 221 220 219 218 217 216 215 214 213 212 211 210 209 208 207 206 205 204 203 202 201 200 199 200 201 202 203 204 205 206 207 208 209 210 211 0  0  0  553 552 551 550 549 548 547 546 545 544 543 542 541 0  0  0  537 536 535 534 533 532 531 530 529 528 527 526 525 524 523 522 521 522 523 524 525 526 527 528 529 530 531 532 533 0  0  0  0  0  0  0  0  0  0  0  0  0  \n",
            "0  0  0  0  0  0  0  0  0  0  0  0  0  0  0  0  0  0  0  0  0  0  0  0  0  0  81 82 83 84 85 86 87 88 89 90 91 92 93 0  0  0  231 230 229 228 227 226 225 224 223 222 221 220 219 0  0  0  0  0  0  0  0  0  0  0  0  0  0  0  0  0  0  0  0  0  0  0  0  0  0  0  0  0  0  0  0  0  0  552 551 550 549 548 547 546 545 544 543 542 541 540 0  0  0  0  0  0  0  0  0  0  0  0  0  0  0  0  0  0  521 520 521 522 523 524 525 526 527 528 529 530 531 532 0  0  0  0  0  0  0  0  0  0  0  0  0  \n",
            "0  0  0  0  0  0  0  0  0  0  0  0  0  0  0  0  0  0  0  0  0  0  0  0  0  0  80 81 82 83 84 85 86 87 88 89 90 91 92 0  0  0  232 231 230 229 228 227 226 225 224 223 222 221 220 0  0  0  0  0  0  0  0  0  0  0  0  0  0  0  0  0  0  0  0  0  0  0  0  0  0  0  0  0  0  0  0  0  0  551 550 549 548 547 546 545 544 543 542 541 540 539 0  0  0  0  0  0  0  0  0  0  0  0  0  0  0  0  0  0  0  519 520 521 522 523 524 525 526 527 528 529 530 531 0  0  0  0  0  0  0  0  0  0  0  0  0  \n",
            "0  0  0  0  0  0  0  0  0  0  0  0  0  0  0  0  0  0  0  0  0  0  0  0  0  0  79 80 81 82 83 84 85 86 87 88 89 90 91 0  0  0  233 232 231 230 229 228 227 226 225 224 223 222 221 0  0  0  0  0  0  0  0  0  0  0  0  0  0  0  0  0  0  0  0  0  0  0  0  0  0  0  0  0  0  0  0  0  0  550 549 548 547 546 545 544 543 542 541 540 539 538 0  0  0  0  0  0  0  0  0  0  0  0  0  0  0  0  0  0  0  518 519 520 521 522 523 524 525 526 527 528 529 530 0  0  0  0  0  0  0  0  0  0  0  0  0  \n",
            "0  0  0  0  0  0  0  0  0  0  0  9  10 11 12 13 14 15 16 17 18 19 20 0  0  0  78 79 80 81 82 83 84 85 86 87 88 89 90 0  0  0  234 233 232 231 230 229 228 227 226 225 224 223 222 223 224 225 226 227 228 229 230 231 232 233 234 235 236 237 238 239 240 241 242 243 244 245 246 247 248 249 250 251 252 253 0  0  0  549 548 547 546 545 544 543 542 541 540 539 538 537 536 535 534 533 532 531 530 529 528 527 526 525 524 523 522 521 0  0  0  517 518 519 520 521 522 523 524 525 526 527 528 529 0  0  0  0  0  0  0  0  0  0  0  0  0  \n",
            "0  0  0  0  0  0  0  0  0  0  7  8  9  10 11 12 13 14 15 16 17 18 19 0  0  0  77 78 79 80 81 82 83 84 85 86 87 88 89 0  0  0  235 234 233 232 231 230 229 228 227 226 225 224 223 224 225 226 227 228 229 230 231 232 233 234 235 236 237 238 239 240 241 242 243 244 245 246 247 248 249 250 251 252 253 254 0  0  0  548 547 546 545 544 543 542 541 540 539 538 537 536 535 534 533 532 531 530 529 528 527 526 525 524 523 522 521 520 0  0  0  516 517 518 519 520 521 522 523 524 525 526 527 528 0  0  0  0  0  0  0  0  0  0  0  0  0  \n",
            "0  0  0  0  0  0  0  0  0  0  6  7  8  9  10 11 12 13 14 15 16 17 18 0  0  0  76 77 78 79 80 81 82 83 84 85 86 87 88 0  0  0  236 235 234 233 232 231 230 229 228 227 226 225 224 225 226 227 228 229 230 231 232 233 234 235 236 237 238 239 240 241 242 243 244 245 246 247 248 249 250 251 252 253 254 255 0  0  0  547 546 545 544 543 542 541 540 539 538 537 536 535 534 533 532 531 530 529 528 527 526 525 524 523 522 521 520 519 0  0  0  515 516 517 518 519 520 521 522 523 524 525 526 527 0  0  0  0  0  0  0  0  0  0  0  0  0  \n",
            "0  0  0  0  0  0  0  0  3  4  5  6  7  8  9  10 11 12 13 14 15 16 17 0  0  0  75 76 77 78 79 80 81 82 83 84 85 86 87 0  0  0  237 236 235 234 233 232 231 230 229 228 227 226 225 226 227 228 229 230 231 232 233 234 235 236 237 238 239 240 241 242 243 244 245 246 247 248 249 250 251 252 253 254 255 256 0  0  0  546 545 544 543 542 541 540 539 538 537 536 535 534 533 532 531 530 529 528 527 526 525 524 523 522 521 520 519 518 0  0  0  514 515 516 517 518 519 520 521 522 523 524 525 526 0  0  0  0  0  0  0  0  0  0  0  0  0  \n",
            "0  0  0  0  0  0  0  1  2  3  4  5  6  7  8  9  10 11 12 13 14 15 16 0  0  0  74 75 76 77 78 79 80 81 82 83 84 85 86 0  0  0  238 237 236 235 234 233 232 231 230 229 228 227 226 227 228 229 230 231 232 233 234 235 236 237 238 239 240 241 242 243 244 245 246 247 248 249 250 251 252 253 254 255 256 257 0  0  0  545 544 543 542 541 540 539 538 537 536 535 534 533 532 531 530 529 528 527 526 525 524 523 522 521 520 519 518 517 0  0  0  513 514 515 516 517 518 519 520 521 522 523 524 525 0  0  0  0  0  0  0  0  0  0  0  0  0  \n",
            "0  0  0  0  0  0  0  2  3  4  5  6  7  8  9  10 11 12 13 14 15 16 17 0  0  0  73 74 75 76 77 78 79 80 81 82 83 84 85 0  0  0  239 238 237 236 235 234 233 232 231 230 229 228 227 228 229 230 231 232 233 234 235 236 237 238 239 240 241 242 243 244 245 246 247 248 249 250 251 252 253 254 255 256 257 258 0  0  0  544 543 542 541 540 539 538 537 536 535 534 533 532 531 530 529 528 527 526 525 524 523 522 521 520 519 518 517 516 0  0  0  512 513 514 515 516 517 518 519 520 521 522 523 524 0  0  0  0  0  0  0  0  0  0  0  0  0  \n",
            "0  0  0  0  0  0  0  3  4  5  6  7  8  9  10 11 12 13 14 15 16 17 18 0  0  0  72 73 74 75 76 77 78 79 80 81 82 83 84 0  0  0  240 239 238 237 236 235 234 233 232 231 230 229 228 229 230 231 232 233 234 235 236 237 238 239 240 241 242 243 244 245 246 247 248 249 250 251 252 253 254 255 256 257 258 259 0  0  0  543 542 541 540 539 538 537 536 535 534 533 532 531 530 529 528 527 526 525 524 523 522 521 520 519 518 517 516 515 0  0  0  511 512 513 514 515 516 517 518 519 520 521 522 523 0  0  0  0  0  0  0  0  0  0  0  0  0  \n",
            "0  0  0  0  0  0  0  4  5  6  7  8  9  10 11 12 13 14 15 16 17 18 19 0  0  0  71 72 73 74 75 76 77 78 79 80 81 82 83 0  0  0  241 240 239 238 237 236 235 234 233 232 231 230 229 230 231 232 233 234 235 236 237 238 239 240 241 242 243 244 245 246 247 248 249 250 251 252 253 254 255 256 257 258 259 260 0  0  0  542 541 540 539 538 537 536 535 534 533 532 531 530 529 528 527 526 525 524 523 522 521 520 519 518 517 516 515 514 0  0  0  510 511 512 513 514 515 516 517 518 519 520 521 522 0  0  0  0  0  0  0  0  0  0  0  0  0  \n",
            "0  0  0  0  0  0  0  5  6  7  8  9  10 11 12 13 14 15 16 17 18 19 20 0  0  0  70 71 72 73 74 75 76 77 78 79 80 81 82 0  0  0  242 241 240 239 238 237 236 235 234 233 232 231 230 231 232 233 234 235 236 237 238 239 240 241 242 243 244 245 246 247 248 249 250 251 252 253 254 255 256 257 258 259 260 261 0  0  0  541 540 539 538 537 536 535 534 533 532 531 530 529 528 527 526 525 524 523 522 521 520 519 518 517 516 515 514 513 0  0  0  509 510 511 512 513 514 515 516 517 518 519 520 521 0  0  0  0  0  0  0  0  0  0  0  0  0  \n",
            "0  0  0  0  0  0  0  6  7  8  9  10 11 12 13 14 15 16 17 18 19 20 21 0  0  0  69 70 71 72 73 74 75 76 77 78 79 80 81 0  0  0  243 242 241 240 239 238 237 236 235 234 233 232 231 232 233 234 235 236 237 238 239 240 241 242 243 244 245 246 247 248 249 250 251 252 253 254 255 256 257 258 259 260 261 262 0  0  0  540 539 538 537 536 535 534 533 532 531 530 529 528 527 526 525 524 523 522 521 520 519 518 517 516 515 514 513 512 0  0  0  508 509 510 511 512 513 514 515 516 517 518 519 520 0  0  0  0  0  0  0  0  0  0  0  0  0  \n",
            "0  0  0  0  0  0  0  7  8  9  10 11 12 13 14 15 16 17 18 19 20 21 22 0  0  0  68 69 70 71 72 73 74 75 76 77 78 79 80 0  0  0  244 243 242 241 240 239 238 237 236 235 234 233 232 233 234 235 236 237 238 239 240 241 242 243 244 245 246 247 248 249 250 251 252 253 254 255 256 257 258 259 260 261 262 263 0  0  0  539 538 537 536 535 534 533 532 531 530 529 528 527 526 525 524 523 522 521 520 519 518 517 516 515 514 513 512 511 0  0  0  507 508 509 510 511 512 513 514 515 516 517 518 519 0  0  0  0  0  0  0  0  0  0  0  0  0  \n",
            "0  0  0  0  0  0  0  8  9  10 11 12 13 14 15 16 17 18 19 20 21 22 23 0  0  0  67 68 69 70 71 72 73 74 75 76 77 78 79 0  0  0  245 244 243 242 241 240 239 238 237 236 235 234 233 234 235 236 237 238 239 240 241 242 243 244 245 246 247 248 249 250 251 252 253 254 255 256 257 258 259 260 261 262 263 264 0  0  0  538 537 536 535 534 533 532 531 530 529 528 527 526 525 524 523 522 521 520 519 518 517 516 515 514 513 512 511 510 0  0  0  506 507 508 509 510 511 512 513 514 515 516 517 518 0  0  0  0  0  0  0  0  0  0  0  0  0  \n",
            "0  0  0  0  0  0  0  9  10 11 12 13 14 15 16 17 18 19 20 21 22 23 24 0  0  0  66 67 68 69 70 71 72 73 74 75 76 77 78 0  0  0  246 245 244 243 242 241 240 239 238 237 236 235 234 235 236 237 238 239 240 241 242 243 244 245 246 247 248 249 250 251 252 253 254 255 256 257 258 259 260 261 262 263 264 265 0  0  0  537 536 535 534 533 532 531 530 529 528 527 526 525 524 523 522 521 520 519 518 517 516 515 514 513 512 511 510 509 0  0  0  505 506 507 508 509 510 511 512 513 514 515 516 517 0  0  0  0  0  0  0  0  0  0  0  0  0  \n",
            "0  0  0  0  0  0  0  0  0  0  13 14 15 16 17 18 19 20 21 22 23 24 25 0  0  0  65 66 67 68 69 70 71 72 73 74 75 76 77 0  0  0  0  0  0  0  0  0  0  0  0  0  0  0  0  0  0  0  0  0  0  0  0  0  0  0  0  0  0  0  0  0  0  254 255 256 257 258 259 260 261 262 263 264 265 266 0  0  0  0  0  0  0  0  0  0  0  0  0  0  0  0  0  0  0  520 519 518 517 516 515 514 513 512 511 510 509 508 0  0  0  504 505 506 507 508 509 510 511 512 513 514 515 516 0  0  0  0  0  0  0  0  0  0  0  0  0  \n",
            "0  0  0  0  0  0  0  0  0  0  14 15 16 17 18 19 20 21 22 23 24 25 26 0  0  0  64 65 66 67 68 69 70 71 72 73 74 75 76 0  0  0  0  0  0  0  0  0  0  0  0  0  0  0  0  0  0  0  0  0  0  0  0  0  0  0  0  0  0  0  0  0  0  255 256 257 258 259 260 261 262 263 264 265 266 267 0  0  0  0  0  0  0  0  0  0  0  0  0  0  0  0  0  0  0  519 518 517 516 515 514 513 512 511 510 509 508 507 0  0  0  503 504 505 506 507 508 509 510 511 512 513 514 515 0  0  0  0  0  0  0  0  0  0  0  0  0  \n",
            "0  0  0  0  0  0  0  0  0  0  15 16 17 18 19 20 21 22 23 24 25 26 27 0  0  0  63 64 65 66 67 68 69 70 71 72 73 74 75 0  0  0  0  0  0  0  0  0  0  0  0  0  0  0  0  0  0  0  0  0  0  0  0  0  0  0  0  0  0  0  0  0  0  256 257 258 259 260 261 262 263 264 265 266 267 268 0  0  0  0  0  0  0  0  0  0  0  0  0  0  0  0  0  0  0  518 517 516 515 514 513 512 511 510 509 508 507 506 0  0  503 502 503 504 505 506 507 508 509 510 511 512 513 514 0  0  0  0  0  0  0  0  0  0  0  0  0  \n",
            "0  0  0  0  0  0  0  0  0  0  16 17 18 19 20 21 22 23 24 25 26 27 28 0  0  0  62 63 64 65 66 67 68 69 70 71 72 73 74 75 76 77 78 79 80 81 82 83 84 85 86 87 88 89 0  0  0  273 272 271 270 269 268 267 266 265 264 263 262 261 260 259 258 257 258 259 260 261 262 263 264 265 266 267 268 269 0  0  0  303 304 305 306 307 308 309 310 311 312 313 314 315 0  0  0  517 516 515 514 513 512 511 510 509 508 507 506 505 504 503 502 501 502 503 504 505 506 507 508 509 510 511 512 513 0  0  0  0  0  0  0  0  0  0  0  0  0  \n",
            "0  0  0  0  0  0  0  0  0  0  17 18 19 20 21 22 23 24 25 26 27 28 29 0  0  0  61 62 63 64 65 66 67 68 69 70 71 72 73 74 75 76 77 78 79 80 81 82 83 84 85 86 87 88 89 0  0  274 273 272 271 270 269 268 267 266 265 264 263 262 261 260 259 258 259 260 261 262 263 264 265 266 267 268 269 270 0  0  0  302 303 304 305 306 307 308 309 310 311 312 313 314 0  0  0  516 515 514 513 512 511 510 509 508 507 506 505 504 503 502 501 500 501 502 503 504 505 506 507 508 509 510 511 512 0  0  0  0  0  0  0  0  0  0  0  0  0  \n",
            "0  0  0  0  0  0  0  0  0  0  18 19 20 21 22 23 24 25 26 27 28 29 30 0  0  0  60 61 62 63 64 65 66 67 68 69 70 71 72 73 74 75 76 77 78 79 80 81 82 83 84 85 86 87 88 0  0  275 274 273 272 271 270 269 268 267 266 265 264 263 262 261 260 259 260 261 262 263 264 265 266 267 268 269 270 271 0  0  0  301 302 303 304 305 306 307 308 309 310 311 312 313 0  0  0  515 514 513 512 511 510 509 508 507 506 505 504 503 502 501 500 499 500 501 502 503 504 505 506 507 508 509 510 511 0  0  0  0  0  0  0  0  0  0  0  0  0  \n",
            "0  0  0  0  0  0  0  0  0  0  19 20 21 22 23 24 25 26 27 28 29 30 31 0  0  0  59 60 61 62 63 64 65 66 67 68 69 70 71 72 73 74 75 76 77 78 79 80 81 82 83 84 85 86 87 0  0  276 275 274 273 272 271 270 269 268 267 266 265 264 263 262 261 260 261 262 263 264 265 266 267 268 269 270 271 272 0  0  0  300 301 302 303 304 305 306 307 308 309 310 311 312 0  0  0  514 513 512 511 510 509 508 507 506 505 504 503 502 501 500 499 498 499 500 501 502 503 504 505 506 507 508 509 510 0  0  0  0  0  0  0  0  0  0  0  0  0  \n",
            "0  0  0  0  0  0  0  0  0  0  20 21 22 23 24 25 26 27 28 29 30 31 32 0  0  0  58 59 60 61 62 63 64 65 66 67 68 69 70 71 72 73 74 75 76 77 78 79 80 81 82 83 84 85 86 0  0  277 276 275 274 273 272 271 270 269 268 267 266 265 264 263 262 261 262 263 264 265 266 267 268 269 270 271 272 273 0  0  0  299 300 301 302 303 304 305 306 307 308 309 310 311 0  0  0  513 512 511 510 509 508 507 506 505 504 503 502 501 500 499 498 497 498 499 500 501 502 503 504 505 506 507 508 509 0  0  0  0  0  0  0  0  0  0  0  0  0  \n",
            "0  0  0  0  0  0  0  0  0  0  21 22 23 24 25 26 27 28 29 30 31 32 33 0  0  0  57 58 59 60 61 62 63 64 65 66 67 68 69 70 71 72 73 74 75 76 77 78 79 80 81 82 83 84 85 0  0  278 277 276 275 274 273 272 271 270 269 268 267 266 265 264 263 262 263 264 265 266 267 268 269 270 271 272 273 274 0  0  0  298 299 300 301 302 303 304 305 306 307 308 309 310 0  0  0  512 511 510 509 508 507 506 505 504 503 502 501 500 499 498 497 496 497 498 499 500 501 502 503 504 505 506 507 508 0  0  0  0  0  0  0  0  0  0  0  0  0  \n",
            "0  0  0  0  0  0  0  0  0  0  22 23 24 25 26 27 28 29 30 31 32 33 34 0  0  0  56 57 58 59 60 61 62 63 64 65 66 67 68 69 70 71 72 73 74 75 76 77 78 79 80 81 82 83 84 0  0  279 278 277 276 275 274 273 272 271 270 269 268 267 266 265 264 263 264 265 266 267 268 269 270 271 272 273 274 275 0  0  0  297 298 299 300 301 302 303 304 305 306 307 308 309 0  0  0  511 510 509 508 507 506 505 504 503 502 501 500 499 498 497 496 495 496 497 498 499 500 501 502 503 504 505 506 507 0  0  0  0  0  0  0  0  0  0  0  0  0  \n",
            "0  0  0  0  0  0  0  0  0  0  23 24 25 26 27 28 29 30 31 32 33 34 35 0  0  0  55 56 57 58 59 60 61 62 63 64 65 66 67 68 69 70 71 72 73 74 75 76 77 78 79 80 81 82 83 0  0  280 279 278 277 276 275 274 273 272 271 270 269 268 267 266 265 264 265 266 267 268 269 270 271 272 273 274 275 276 0  0  0  296 297 298 299 300 301 302 303 304 305 306 307 308 0  0  0  510 509 508 507 506 505 504 503 502 501 500 499 498 497 496 495 494 495 496 497 498 499 500 501 502 503 504 505 506 0  0  0  0  0  0  0  0  0  0  0  0  0  \n",
            "0  0  0  0  0  0  0  0  0  0  24 25 26 27 28 29 30 31 32 33 34 35 36 0  0  0  54 55 56 57 58 59 60 61 62 63 64 65 66 67 68 69 70 71 72 73 74 75 76 77 78 79 80 81 82 0  0  281 280 279 278 277 276 275 274 273 272 271 270 269 268 267 266 265 266 267 268 269 270 271 272 273 274 275 276 277 0  0  0  295 296 297 298 299 300 301 302 303 304 305 306 307 0  0  0  509 508 507 506 505 504 503 502 501 500 499 498 497 496 495 494 493 494 495 496 497 498 499 500 501 502 503 504 505 0  0  0  0  0  0  0  0  0  0  0  0  0  \n",
            "0  0  0  0  0  0  0  0  0  0  25 26 27 28 29 30 31 32 33 34 35 36 37 0  0  0  53 54 55 56 57 58 59 60 61 62 63 64 65 66 67 68 69 70 71 72 73 74 75 76 77 78 79 80 81 0  0  282 281 280 279 278 277 276 275 274 273 272 271 270 269 268 267 266 267 268 269 270 271 272 273 274 275 276 277 278 0  0  0  294 295 296 297 298 299 300 301 302 303 304 305 306 0  0  0  508 507 506 505 504 503 502 501 500 499 498 497 496 495 494 493 492 493 494 495 496 497 498 499 500 501 502 503 504 0  0  0  0  0  0  0  0  0  0  0  0  0  \n",
            "0  0  0  0  0  0  0  0  0  0  26 27 28 29 30 31 32 33 34 35 36 37 38 0  0  0  52 53 54 55 56 57 58 59 60 61 62 63 64 65 66 67 68 69 70 71 72 73 74 75 76 77 78 79 80 0  0  283 282 281 280 279 278 277 276 275 274 273 272 271 270 269 268 267 268 269 270 271 272 273 274 275 276 277 278 279 0  0  0  293 294 295 296 297 298 299 300 301 302 303 304 305 0  0  0  507 506 505 504 503 502 501 500 499 498 497 496 495 494 493 492 491 492 493 494 495 496 497 498 499 500 501 502 503 0  0  0  0  0  0  0  0  0  0  0  0  0  \n",
            "0  0  0  0  0  0  0  0  0  0  27 28 29 30 31 32 33 34 35 36 37 38 39 0  0  0  51 52 53 54 55 56 57 58 59 60 61 62 63 64 65 66 67 68 69 70 71 72 73 74 75 76 77 78 79 0  0  284 283 282 281 280 279 278 277 276 275 274 273 272 271 270 269 268 269 270 271 272 273 274 275 276 277 278 279 280 0  0  0  292 293 294 295 296 297 298 299 300 301 302 303 304 0  0  0  506 505 504 503 502 501 500 499 498 497 496 495 494 493 492 491 490 491 492 493 494 495 496 497 498 499 500 501 502 0  0  0  0  0  0  0  0  0  0  0  0  0  \n",
            "0  0  0  0  0  0  0  0  0  0  28 29 30 31 32 33 34 35 36 37 38 39 40 0  0  0  50 51 52 53 54 55 56 57 58 59 60 61 62 63 64 65 66 67 68 69 70 71 72 73 74 75 76 77 0  0  0  285 284 283 282 281 280 279 278 277 276 275 274 273 272 271 270 269 270 271 272 273 274 275 276 277 278 279 280 281 0  0  0  291 292 293 294 295 296 297 298 299 300 301 302 303 0  0  0  505 504 503 502 501 500 499 498 497 496 495 494 493 492 491 490 489 490 491 492 493 494 495 496 497 498 499 500 501 0  0  0  0  0  0  0  0  0  0  0  0  0  \n",
            "0  0  0  0  0  0  0  0  0  0  29 30 31 32 33 34 35 36 37 38 39 40 41 0  0  0  49 50 51 52 53 54 55 56 57 58 59 60 61 0  0  0  0  0  0  0  0  0  0  0  0  0  0  0  0  0  0  286 285 284 283 282 281 280 279 278 277 276 275 274 0  0  0  270 271 272 273 274 275 276 277 278 279 280 281 282 0  0  0  290 291 292 293 294 295 296 297 298 299 300 301 302 0  0  0  0  0  0  0  0  0  0  0  0  0  0  0  0  0  0  0  488 489 490 491 492 493 494 495 496 497 498 499 500 0  0  0  0  0  0  0  0  0  0  0  0  0  \n",
            "0  0  0  0  0  0  0  0  0  0  30 31 32 33 34 35 36 37 38 39 40 41 42 0  0  0  48 49 50 51 52 53 54 55 56 57 58 59 60 0  0  0  0  0  0  0  0  0  0  0  0  0  0  0  0  0  0  287 286 285 284 283 282 281 280 279 278 277 276 275 0  0  0  271 272 273 274 275 276 277 278 279 280 281 282 283 0  0  0  289 290 291 292 293 294 295 296 297 298 299 300 301 0  0  0  0  0  0  0  0  0  0  0  0  0  0  0  0  0  0  0  487 488 489 490 491 492 493 494 495 496 497 498 499 0  0  0  0  0  0  0  0  0  0  0  0  0  \n",
            "0  0  0  0  0  0  0  0  0  0  31 32 33 34 35 36 37 38 39 40 41 42 43 44 45 46 47 48 49 50 51 52 53 54 55 56 57 58 59 0  0  0  303 302 301 300 299 298 297 296 295 294 293 292 291 290 289 288 287 286 285 284 283 282 281 280 279 278 277 276 0  0  0  272 273 274 275 276 277 278 279 280 281 282 283 284 285 286 287 288 289 290 291 292 293 294 295 296 297 298 299 300 301 302 303 304 305 306 307 308 309 310 311 312 313 314 315 0  0  0  0  486 487 488 489 490 491 492 493 494 495 496 497 498 0  0  0  0  0  0  0  0  0  0  0  0  0  \n",
            "0  0  0  0  0  0  0  0  0  0  32 33 34 35 36 37 38 39 40 41 42 43 44 45 46 47 48 49 50 51 52 53 54 55 56 57 58 59 60 0  0  0  304 303 302 301 300 299 298 297 296 295 294 293 292 291 290 289 288 287 286 285 284 283 282 281 280 279 278 277 0  0  0  273 274 275 276 277 278 279 280 281 282 283 284 285 286 287 288 289 290 291 292 293 294 295 296 297 298 299 300 301 302 303 304 305 306 307 308 309 310 311 312 313 314 315 316 317 0  0  0  485 486 487 488 489 490 491 492 493 494 495 496 497 0  0  0  0  0  0  0  0  0  0  0  0  0  \n",
            "0  0  0  0  0  0  0  0  0  0  33 34 35 36 37 38 39 40 41 42 43 44 45 46 47 48 49 50 51 52 53 54 55 56 57 58 59 60 61 0  0  0  305 304 303 302 301 300 299 298 297 296 295 294 293 292 291 290 289 288 287 286 285 284 283 282 281 280 279 278 0  0  0  274 275 276 277 278 279 280 281 282 283 284 285 286 287 288 289 290 291 292 293 294 295 296 297 298 299 300 301 302 303 304 305 306 307 308 309 310 311 312 313 314 315 316 317 318 0  0  0  484 485 486 487 488 489 490 491 492 493 494 495 496 0  0  0  0  0  0  0  0  0  0  0  0  0  \n",
            "0  0  0  0  0  0  0  0  0  0  34 35 36 37 38 39 40 41 42 43 44 45 46 47 48 49 50 51 52 53 54 55 56 57 58 59 60 61 62 0  0  0  306 305 304 303 302 301 300 299 298 297 296 295 294 293 292 291 290 289 288 287 286 285 284 283 282 281 280 279 0  0  0  275 276 277 278 279 280 281 282 283 284 285 286 287 288 289 290 291 292 293 294 295 296 297 298 299 300 301 302 303 304 305 306 307 308 309 310 311 312 313 314 315 316 317 318 319 0  0  0  483 484 485 486 487 488 489 490 491 492 493 494 495 0  0  0  0  0  0  0  0  0  0  0  0  0  \n",
            "0  0  0  0  0  0  0  0  0  0  35 36 37 38 39 40 41 42 43 44 45 46 47 48 49 50 51 52 53 54 55 56 57 58 59 60 61 62 63 0  0  0  307 306 305 304 303 302 301 300 299 298 297 296 295 294 293 292 291 290 289 288 287 286 285 284 283 282 281 280 0  0  0  276 277 278 279 280 281 282 283 284 285 286 287 288 289 290 291 292 293 294 295 296 297 298 299 300 301 302 303 304 305 306 307 308 309 310 311 312 313 314 315 316 317 318 319 320 0  0  0  482 483 484 485 486 487 488 489 490 491 492 493 494 0  0  0  0  0  0  0  0  0  0  0  0  0  \n",
            "0  0  0  0  0  0  0  0  0  0  36 37 38 39 40 41 42 43 44 45 46 47 48 49 50 51 52 53 54 55 56 57 58 59 60 61 62 63 64 0  0  0  308 307 306 305 304 303 302 301 300 299 298 297 296 295 294 293 292 291 290 289 288 287 286 285 284 283 282 281 0  0  0  277 278 279 280 281 282 283 284 285 286 287 288 289 290 291 292 293 294 295 296 297 298 299 300 301 302 303 304 305 306 307 308 309 310 311 312 313 314 315 316 317 318 319 320 321 0  0  0  481 482 483 484 485 486 487 488 489 490 491 492 493 0  0  0  0  0  0  0  0  0  0  0  0  0  \n",
            "0  0  0  0  0  0  0  0  0  0  37 38 39 40 41 42 43 44 45 46 47 48 49 50 51 52 53 54 55 56 57 58 59 60 61 62 63 64 65 0  0  0  309 308 307 306 305 304 303 302 301 300 299 298 297 296 295 294 293 292 291 290 289 288 287 286 285 284 283 282 0  0  0  278 279 280 281 282 283 284 285 286 287 288 289 290 291 292 293 294 295 296 297 298 299 300 301 302 303 304 305 306 307 308 309 310 311 312 313 314 315 316 317 318 319 320 321 322 0  0  0  480 481 482 483 484 485 486 487 488 489 490 491 492 0  0  0  0  0  0  0  0  0  0  0  0  0  \n",
            "0  0  0  0  0  0  0  0  0  0  38 39 40 41 42 43 44 45 46 47 48 49 50 51 52 53 54 55 56 57 58 59 60 61 62 63 64 65 66 0  0  0  310 309 308 307 306 305 304 303 302 301 300 299 298 297 296 295 294 293 292 291 290 289 288 287 286 285 284 283 0  0  0  279 280 281 282 283 284 285 286 287 288 289 290 291 292 293 294 295 296 297 298 299 300 301 302 303 304 305 306 307 308 309 310 311 312 313 314 315 316 317 318 319 320 321 322 323 0  0  0  479 480 481 482 483 484 485 486 487 488 489 490 491 0  0  0  0  0  0  0  0  0  0  0  0  0  \n",
            "0  0  0  0  0  0  0  0  0  0  39 40 41 42 43 44 45 46 47 48 49 50 51 52 53 54 55 56 57 58 59 60 61 62 63 64 65 66 67 0  0  0  311 310 309 308 307 306 305 304 303 302 301 300 299 298 297 296 295 294 293 292 291 290 289 288 287 286 285 284 0  0  0  280 281 282 283 284 285 286 287 288 289 290 291 292 293 294 295 296 297 298 299 300 301 302 303 304 305 306 307 308 309 310 311 312 313 314 315 316 317 318 319 320 321 322 323 324 0  0  0  478 479 480 481 482 483 484 485 486 487 488 489 490 0  0  0  0  0  0  0  0  0  0  0  0  0  \n",
            "0  0  0  0  0  0  0  0  0  0  40 41 42 43 44 45 46 47 48 49 50 51 52 53 54 55 56 57 58 59 60 61 62 63 64 65 66 67 68 0  0  0  312 311 310 309 308 307 306 305 304 303 302 301 300 299 298 297 296 295 294 293 292 291 290 289 288 287 286 285 0  0  0  281 282 283 284 285 286 287 288 289 290 291 292 293 294 295 296 297 298 299 300 301 302 303 304 305 306 307 308 309 310 311 312 313 314 315 316 317 318 319 320 321 322 323 324 325 0  0  0  477 478 479 480 481 482 483 484 485 486 487 488 489 0  0  0  0  0  0  0  0  0  0  0  0  0  \n",
            "0  0  0  0  0  0  0  0  0  0  41 42 43 44 45 46 47 48 49 50 51 52 53 54 55 56 57 58 59 60 61 62 63 64 65 66 67 68 69 0  0  0  313 312 311 310 309 308 307 306 305 304 303 302 301 300 299 298 297 296 295 294 293 292 291 290 289 288 287 286 0  0  0  282 283 284 285 286 287 288 289 290 291 292 293 294 295 296 297 298 299 300 301 302 303 304 305 306 307 308 309 310 311 312 313 314 315 316 317 318 319 320 321 322 323 324 325 326 0  0  0  476 477 478 479 480 481 482 483 484 485 486 487 488 0  0  0  0  0  0  0  0  0  0  0  0  0  \n",
            "0  0  0  0  0  0  0  0  0  0  42 43 44 45 46 47 48 49 50 51 52 53 54 55 56 57 58 59 60 61 62 63 64 65 66 67 68 69 70 0  0  0  314 313 312 311 310 309 308 307 306 305 304 303 302 301 300 299 298 297 296 295 294 293 292 291 290 289 288 287 0  0  0  283 284 285 286 287 288 289 290 291 292 293 294 295 296 297 298 299 300 301 302 303 304 305 306 307 308 309 310 311 312 313 314 315 316 317 318 319 320 321 322 323 324 325 326 327 0  0  0  475 476 477 478 479 480 481 482 483 484 485 486 487 0  0  0  0  0  0  0  0  0  0  0  0  0  \n",
            "0  0  0  0  0  0  0  0  0  0  43 44 45 46 47 48 49 50 51 52 53 54 55 56 57 58 59 60 61 62 63 64 65 66 67 68 69 70 71 0  0  0  315 314 313 312 311 310 309 308 307 306 305 304 303 302 301 300 299 298 297 296 295 294 293 292 291 290 289 288 0  0  0  284 285 286 287 288 289 290 291 292 293 294 295 296 297 298 299 300 301 302 303 304 305 306 307 308 309 310 311 312 313 314 315 316 317 318 319 320 321 322 323 324 325 326 327 328 0  0  0  474 475 476 477 478 479 480 481 482 483 484 485 486 0  0  0  0  0  0  0  0  0  0  0  0  0  \n",
            "0  0  0  0  0  0  0  0  0  0  0  0  0  0  0  0  0  0  0  0  0  0  0  0  0  0  0  0  0  0  0  0  0  0  0  0  0  0  0  0  0  0  316 315 314 313 312 311 310 309 308 307 306 305 304 0  0  0  0  0  0  0  0  0  0  0  0  0  0  0  0  0  0  285 286 287 288 289 290 291 292 293 294 295 296 297 298 0  0  0  0  0  0  0  0  0  0  0  0  0  0  0  0  0  0  0  0  0  0  0  0  0  0  0  0  0  0  0  0  0  0  473 474 475 476 477 478 479 480 481 482 483 484 485 0  0  0  0  0  0  0  0  0  0  0  0  0  \n",
            "0  0  0  0  0  0  0  0  0  0  0  0  0  0  0  0  0  0  0  0  0  0  0  0  0  0  0  0  0  0  0  0  0  0  0  0  0  0  0  0  0  0  317 316 315 314 313 312 311 310 309 308 307 306 305 0  0  0  0  0  0  0  0  0  0  0  0  0  0  0  0  0  0  286 287 288 289 290 291 292 293 294 295 296 297 298 0  0  0  0  0  0  0  0  0  0  0  0  0  0  0  0  0  0  0  0  0  0  0  0  0  0  0  0  0  0  0  0  0  0  0  472 473 474 475 476 477 478 479 480 481 482 483 484 0  0  0  0  0  0  0  0  0  0  0  0  0  \n",
            "0  0  0  0  0  0  0  0  0  0  0  0  0  0  0  0  0  0  0  0  0  0  0  0  0  0  0  0  0  0  0  0  0  0  0  0  0  0  0  0  0  0  318 317 316 315 314 313 312 311 310 309 308 307 306 0  0  0  0  0  0  0  0  0  0  0  0  0  0  0  0  0  0  287 288 289 290 291 292 293 294 295 296 297 298 299 0  0  0  0  0  0  0  0  0  0  0  0  0  0  0  0  0  0  0  0  0  0  0  0  0  0  0  0  0  0  0  0  0  0  0  471 472 473 474 475 476 477 478 479 480 481 482 483 0  0  0  0  0  0  0  0  0  0  0  0  0  \n",
            "0  0  0  0  0  0  0  0  0  0  351 350 349 348 347 346 345 344 343 342 341 340 339 338 337 336 335 334 333 332 331 330 329 328 327 326 325 324 323 322 321 320 319 318 317 316 315 314 313 312 311 310 309 308 307 0  0  0  303 302 301 300 299 298 297 296 295 294 293 292 291 290 289 288 289 290 291 292 293 294 295 296 297 298 299 300 0  0  0  438 439 440 441 442 443 444 445 446 447 448 449 450 451 452 453 454 455 456 457 458 459 460 461 462 463 464 465 466 467 468 469 470 471 472 473 474 475 476 477 478 479 480 481 482 0  0  0  0  0  0  0  0  0  0  0  0  0  \n",
            "0  0  0  0  0  0  0  0  0  0  352 351 350 349 348 347 346 345 344 343 342 341 340 339 338 337 336 335 334 333 332 331 330 329 328 327 326 325 324 323 322 321 320 319 318 317 316 315 314 313 312 311 310 309 308 0  0  305 304 303 302 301 300 299 298 297 296 295 294 293 292 291 290 289 290 291 292 293 294 295 296 297 298 299 300 301 0  0  0  437 438 439 440 441 442 443 444 445 446 447 448 449 450 451 452 453 454 455 456 457 458 459 460 461 462 463 464 465 466 467 468 469 470 471 472 473 474 475 476 477 478 479 480 481 0  0  0  0  0  0  0  0  0  0  0  0  0  \n",
            "0  0  0  0  0  0  0  0  0  0  353 352 351 350 349 348 347 346 345 344 343 342 341 340 339 338 337 336 335 334 333 332 331 330 329 328 327 326 325 324 323 322 321 320 319 318 317 316 315 314 313 312 311 310 309 0  0  306 305 304 303 302 301 300 299 298 297 296 295 294 293 292 291 290 291 292 293 294 295 296 297 298 299 300 301 302 0  0  0  436 437 438 439 440 441 442 443 444 445 446 447 448 449 450 451 452 453 454 455 456 457 458 459 460 461 462 463 464 465 466 467 468 469 470 471 472 473 474 475 476 477 478 479 480 0  0  0  0  0  0  0  0  0  0  0  0  0  \n",
            "0  0  0  0  0  0  0  0  0  0  354 353 352 351 350 349 348 347 346 345 344 343 342 341 340 339 338 337 336 335 334 333 332 331 330 329 328 327 326 325 324 323 322 321 320 319 318 317 316 315 314 313 312 311 310 0  0  307 306 305 304 303 302 301 300 299 298 297 296 295 294 293 292 291 292 293 294 295 296 297 298 299 300 301 302 303 0  0  0  435 436 437 438 439 440 441 442 443 444 445 446 447 448 449 450 451 452 453 454 455 456 457 458 459 460 461 462 463 464 465 466 467 468 469 470 471 472 473 474 475 476 477 478 479 0  0  0  0  0  0  0  0  0  0  0  0  0  \n",
            "0  0  0  0  0  0  0  0  0  0  355 354 353 352 351 350 349 348 347 346 345 344 343 342 341 340 339 338 337 336 335 334 333 332 331 330 329 328 327 326 325 324 323 322 321 320 319 318 317 316 315 314 313 312 311 0  0  308 307 306 305 304 303 302 301 300 299 298 297 296 295 294 293 292 293 294 295 296 297 298 299 300 301 302 303 304 0  0  0  434 435 436 437 438 439 440 441 442 443 444 445 446 447 448 449 450 451 452 453 454 455 456 457 458 459 460 461 462 463 464 465 466 467 468 469 470 471 472 473 474 475 476 477 478 0  0  0  0  0  0  0  0  0  0  0  0  0  \n",
            "0  0  0  0  0  0  0  0  0  0  356 355 354 353 352 351 350 349 348 347 346 345 344 343 342 341 340 339 338 337 336 335 334 333 332 331 330 329 328 327 326 325 324 323 322 321 320 319 318 317 316 315 314 313 312 0  0  309 308 307 306 305 304 303 302 301 300 299 298 297 296 295 294 293 294 295 296 297 298 299 300 301 302 303 304 305 0  0  0  433 434 435 436 437 438 439 440 441 442 443 444 445 446 447 448 449 450 451 452 453 454 455 456 457 458 459 460 461 462 463 464 465 466 467 468 469 470 471 472 473 474 475 476 477 0  0  0  0  0  0  0  0  0  0  0  0  0  \n",
            "0  0  0  0  0  0  0  0  0  0  357 356 355 354 353 352 351 350 349 348 347 346 345 344 343 342 341 340 339 338 337 336 335 334 333 332 331 330 329 328 327 326 325 324 323 322 321 320 319 318 317 316 315 314 313 0  0  310 309 308 307 306 305 304 303 302 301 300 299 298 297 296 295 294 295 296 297 298 299 300 301 302 303 304 305 306 0  0  0  432 433 434 435 436 437 438 439 440 441 442 443 444 445 446 447 448 449 450 451 452 453 454 455 456 457 458 459 460 461 462 463 464 465 466 467 468 469 470 471 472 473 474 475 476 0  0  0  0  0  0  0  0  0  0  0  0  0  \n",
            "0  0  0  0  0  0  0  0  0  0  358 357 356 355 354 353 352 351 350 349 348 347 346 345 344 343 342 341 340 339 338 337 336 335 334 333 332 331 330 329 328 327 326 325 324 323 322 321 320 319 318 317 316 315 314 0  0  311 310 309 308 307 306 305 304 303 302 301 300 299 298 297 296 295 296 297 298 299 300 301 302 303 304 305 306 307 0  0  0  431 432 433 434 435 436 437 438 439 440 441 442 443 444 445 446 447 448 449 450 451 452 453 454 455 456 457 458 459 460 461 462 463 464 465 466 467 468 469 470 471 472 473 474 475 0  0  0  0  0  0  0  0  0  0  0  0  0  \n",
            "0  0  0  0  0  0  0  0  0  0  359 358 357 356 355 354 353 352 351 350 349 348 347 346 345 344 343 342 341 340 339 338 337 336 335 334 333 332 331 330 329 328 327 326 325 324 323 322 321 320 319 318 317 316 315 0  0  312 311 310 309 308 307 306 305 304 303 302 301 300 299 298 297 296 297 298 299 300 301 302 303 304 305 306 307 308 0  0  0  430 431 432 433 434 435 436 437 438 439 440 441 442 443 444 445 446 447 448 449 450 451 452 453 454 455 456 457 458 459 460 461 462 463 464 465 466 467 468 469 470 471 472 473 474 0  0  0  0  0  0  0  0  0  0  0  0  0  \n",
            "0  0  0  0  0  0  0  0  0  0  360 359 358 357 356 355 354 353 352 351 350 349 348 347 346 345 344 343 342 341 340 339 338 337 336 335 334 333 332 331 330 329 328 327 326 325 324 323 322 321 320 319 318 317 316 0  0  313 312 311 310 309 308 307 306 305 304 303 302 301 300 299 298 297 298 299 300 301 302 303 304 305 306 307 308 309 0  0  0  429 430 431 432 433 434 435 436 437 438 439 440 441 442 443 444 445 446 447 448 449 450 451 452 453 454 455 456 457 458 459 460 461 462 463 464 465 466 467 468 469 470 471 472 473 0  0  0  0  0  0  0  0  0  0  0  0  0  \n",
            "0  0  0  0  0  0  0  0  0  0  361 360 359 358 357 356 355 354 353 352 351 350 349 348 347 346 345 344 343 342 341 340 339 338 337 336 335 334 333 332 331 330 329 328 327 326 325 324 323 322 321 320 319 318 317 0  0  314 313 312 311 310 309 308 307 306 305 304 303 302 301 300 299 298 299 300 301 302 303 304 305 306 307 308 309 310 0  0  0  428 429 430 431 432 433 434 435 436 437 438 439 440 441 442 443 444 445 446 447 448 449 450 451 452 453 454 455 456 457 458 459 460 461 462 463 464 465 466 467 468 469 470 471 472 0  0  0  0  0  0  0  0  0  0  0  0  0  \n",
            "0  0  0  0  0  0  0  0  0  0  362 361 360 359 358 357 356 355 354 353 352 351 350 349 348 347 346 345 344 343 342 341 340 339 338 337 336 335 334 333 332 331 330 329 328 327 326 325 324 323 322 321 320 319 318 0  0  315 314 313 312 311 310 309 308 307 306 305 304 303 302 301 300 299 300 301 302 303 304 305 306 307 308 309 310 311 0  0  0  427 428 429 430 431 432 433 434 435 436 437 438 439 440 441 442 443 444 445 446 447 448 449 450 451 452 453 454 455 456 457 458 459 460 461 462 463 464 465 466 467 468 469 470 471 0  0  0  0  0  0  0  0  0  0  0  0  0  \n",
            "0  0  0  0  0  0  0  0  0  0  363 362 361 360 359 358 357 356 355 354 353 352 351 350 349 348 347 346 345 344 343 342 341 340 339 338 337 336 335 334 333 332 331 330 329 328 327 326 325 324 323 322 321 320 0  0  0  0  315 314 313 312 311 310 309 308 307 306 305 304 303 302 301 300 301 302 303 304 305 306 307 308 309 310 311 312 0  0  0  426 427 428 429 430 431 432 433 434 435 436 437 438 439 440 441 442 443 444 445 446 447 448 449 450 451 452 453 454 455 456 457 458 459 460 461 462 463 464 465 466 467 468 469 0  0  0  0  0  0  0  0  0  0  0  0  0  0  \n",
            "0  0  0  0  0  0  0  0  0  0  364 363 362 361 360 359 358 357 356 355 354 353 352 0  0  0  0  0  0  0  0  0  0  0  0  0  0  0  0  0  0  0  0  0  0  0  0  0  0  0  0  0  0  0  0  0  0  0  0  0  0  0  0  0  0  0  0  0  0  0  0  0  0  0  0  0  0  0  0  0  0  0  0  0  0  0  0  0  0  425 426 427 428 429 430 431 432 433 434 435 436 437 0  0  0  0  0  0  0  0  0  0  0  0  0  0  0  0  0  0  0  0  0  0  0  0  0  0  0  0  0  0  0  0  0  0  0  0  0  0  0  0  0  0  0  0  0  \n",
            "0  0  0  0  0  0  0  0  0  0  365 364 363 362 361 360 359 358 357 356 355 354 353 0  0  0  0  0  0  0  0  0  0  0  0  0  0  0  0  0  0  0  0  0  0  0  0  0  0  0  0  0  0  0  0  0  0  0  0  0  0  0  0  0  0  0  0  0  0  0  0  0  0  0  0  0  0  0  0  0  0  0  0  0  0  0  0  0  0  424 425 426 427 428 429 430 431 432 433 434 435 436 0  0  0  0  0  0  0  0  0  0  0  0  0  0  0  0  0  0  0  0  0  0  0  0  0  0  0  0  0  0  0  0  0  0  0  0  0  0  0  0  0  0  0  0  0  \n",
            "0  0  0  0  0  0  0  0  0  0  366 365 364 363 362 361 360 359 358 357 356 355 354 0  0  0  0  0  0  0  0  0  0  0  0  0  0  0  0  0  0  0  0  0  0  0  0  0  0  0  0  0  0  0  0  0  0  0  0  0  0  0  0  0  0  0  0  0  0  0  0  0  0  0  0  0  0  0  0  0  0  0  0  0  0  0  0  0  0  423 424 425 426 427 428 429 430 431 432 433 434 435 0  0  0  0  0  0  0  0  0  0  0  0  0  0  0  0  0  0  0  0  0  0  0  0  0  0  0  0  0  0  0  0  0  0  0  0  0  0  0  0  0  0  0  0  0  \n",
            "0  0  0  0  0  0  0  0  0  0  367 366 365 364 363 362 361 360 359 358 357 356 355 356 357 358 359 360 361 362 363 364 365 366 367 368 369 370 371 372 373 374 375 376 377 378 379 380 381 382 383 384 385 386 387 388 389 390 391 392 393 394 395 396 397 398 399 400 401 402 403 404 405 406 407 408 409 410 411 412 413 414 415 416 417 418 419 420 421 422 423 424 425 426 427 428 429 430 431 432 433 434 435 436 437 438 439 440 441 442 443 444 445 446 447 448 449 450 451 452 453 454 455 456 457 458 459 460 461 462 463 464 465 0  0  0  0  0  0  0  0  0  0  0  0  0  0  \n",
            "0  0  0  0  0  0  0  0  0  0  368 367 366 365 364 363 362 361 360 359 358 357 356 357 358 359 360 361 362 363 364 365 366 367 368 369 370 371 372 373 374 375 376 377 378 379 380 381 382 383 384 385 386 387 388 389 390 391 392 393 394 395 396 397 398 399 400 401 402 403 404 405 406 407 408 409 410 411 412 413 414 415 416 417 418 419 420 421 422 423 424 425 426 427 428 429 430 431 432 433 434 435 436 437 438 439 440 441 442 443 444 445 446 447 448 449 450 451 452 453 454 455 456 457 458 459 460 461 462 463 464 465 466 467 0  0  0  0  0  0  0  0  0  0  0  0  0  \n",
            "0  0  0  0  0  0  0  0  0  0  369 368 367 366 365 364 363 362 361 360 359 358 357 358 359 360 361 362 363 364 365 366 367 368 369 370 371 372 373 374 375 376 377 378 379 380 381 382 383 384 385 386 387 388 389 390 391 392 393 394 395 396 397 398 399 400 401 402 403 404 405 406 407 408 409 410 411 412 413 414 415 416 417 418 419 420 421 422 423 424 425 426 427 428 429 430 431 432 433 434 435 436 437 438 439 440 441 442 443 444 445 446 447 448 449 450 451 452 453 454 455 456 457 458 459 460 461 462 463 464 465 466 467 468 0  0  0  0  0  0  0  0  0  0  0  0  0  \n",
            "0  0  0  0  0  0  0  0  0  0  370 369 368 367 366 365 364 363 362 361 360 359 358 359 360 361 362 363 364 365 366 367 368 369 370 371 372 373 374 375 376 377 378 379 380 381 382 383 384 385 386 387 388 389 390 391 392 393 394 395 396 397 398 399 400 401 402 403 404 405 406 407 408 409 410 411 412 413 414 415 416 417 418 419 420 421 422 423 424 425 426 427 428 429 430 431 432 433 434 435 436 437 438 439 440 441 442 443 444 445 446 447 448 449 450 451 452 453 454 455 456 457 458 459 460 461 462 463 464 465 466 467 468 469 0  0  0  0  0  0  0  0  0  0  0  0  0  \n",
            "0  0  0  0  0  0  0  0  0  0  371 370 369 368 367 366 365 364 363 362 361 360 359 360 361 362 363 364 365 366 367 368 369 370 371 372 373 374 375 376 377 378 379 380 381 382 383 384 385 386 387 388 389 390 391 392 393 394 395 396 397 398 399 400 401 402 403 404 405 406 407 408 409 410 411 412 413 414 415 416 417 418 419 420 421 422 423 424 425 426 427 428 429 430 431 432 433 434 435 436 437 438 439 440 441 442 443 444 445 446 447 448 449 450 451 452 453 454 455 456 457 458 459 460 461 462 463 464 465 466 467 468 469 470 0  0  0  0  0  0  0  0  0  0  0  0  0  \n",
            "0  0  0  0  0  0  0  0  0  0  372 371 370 369 368 367 366 365 364 363 362 361 360 361 362 363 364 365 366 367 368 369 370 371 372 373 374 375 376 377 378 379 380 381 382 383 384 385 386 387 388 389 390 391 392 393 394 395 396 397 398 399 400 401 402 403 404 405 406 407 408 409 410 411 412 413 414 415 416 417 418 419 420 421 422 423 424 425 426 427 428 429 430 431 432 433 434 435 436 437 438 439 440 441 442 443 444 445 446 447 448 449 450 451 452 453 454 455 456 457 458 459 460 461 462 463 464 465 466 467 468 469 470 471 0  0  0  0  0  0  0  0  0  0  0  0  0  \n",
            "0  0  0  0  0  0  0  0  0  0  373 372 371 370 369 368 367 366 365 364 363 362 361 362 363 364 365 366 367 368 369 370 371 372 373 374 375 376 377 378 379 380 381 382 383 384 385 386 387 388 389 390 391 392 393 394 395 396 397 398 399 400 401 402 403 404 405 406 407 408 409 410 411 412 413 414 415 416 417 418 419 420 421 422 423 424 425 426 427 428 429 430 431 432 433 434 435 436 437 438 439 440 441 442 443 444 445 446 447 448 449 450 451 452 453 454 455 456 457 458 459 460 461 462 463 464 465 466 467 468 469 470 471 472 0  0  0  0  0  0  0  0  0  0  0  0  0  \n",
            "0  0  0  0  0  0  0  0  0  0  374 373 372 371 370 369 368 367 366 365 364 363 362 363 364 365 366 367 368 369 370 371 372 373 374 375 376 377 378 379 380 381 382 383 384 385 386 387 388 389 390 391 392 393 394 395 396 397 398 399 400 401 402 403 404 405 406 407 408 409 410 411 412 413 414 415 416 417 418 419 420 421 422 423 424 425 426 427 428 429 430 431 432 433 434 435 436 437 438 439 440 441 442 443 444 445 446 447 448 449 450 451 452 453 454 455 456 457 458 459 460 461 462 463 464 465 466 467 468 469 470 471 472 473 0  0  0  0  0  0  0  0  0  0  0  0  0  \n",
            "0  0  0  0  0  0  0  0  0  0  375 374 373 372 371 370 369 368 367 366 365 364 363 364 365 366 367 368 369 370 371 372 373 374 375 376 377 378 379 380 381 382 383 384 385 386 387 388 389 390 391 392 393 394 395 396 397 398 399 400 401 402 403 404 405 406 407 408 409 410 411 412 413 414 415 416 417 418 419 420 421 422 423 424 425 426 427 428 429 430 431 432 433 434 435 436 437 438 439 440 441 442 443 444 445 446 447 448 449 450 451 452 453 454 455 456 457 458 459 460 461 462 463 464 465 466 467 468 469 470 471 472 473 474 0  0  0  0  0  0  0  0  0  0  0  0  0  \n",
            "0  0  0  0  0  0  0  0  0  0  376 375 374 373 372 371 370 369 368 367 366 365 364 365 366 367 368 369 370 371 372 373 374 375 376 377 378 379 380 381 382 383 384 385 386 387 388 389 390 391 392 393 394 395 396 397 398 399 400 401 402 403 404 405 406 407 408 409 410 411 412 413 414 415 416 417 418 419 420 421 422 423 424 425 426 427 428 429 430 431 432 433 434 435 436 437 438 439 440 441 442 443 444 445 446 447 448 449 450 451 452 453 454 455 456 457 458 459 460 461 462 463 464 465 466 467 468 469 470 471 472 473 474 475 0  0  0  0  0  0  0  0  0  0  0  0  0  \n",
            "0  0  0  0  0  0  0  0  0  0  377 376 375 374 373 372 371 370 369 368 367 366 365 366 367 368 369 370 371 372 373 374 375 376 377 378 379 380 381 382 383 384 385 386 387 388 389 390 391 392 393 394 395 396 397 398 399 400 401 402 403 404 405 406 407 408 409 410 411 412 413 414 415 416 417 418 419 420 421 422 423 424 425 426 427 428 429 430 431 432 433 434 435 436 437 438 439 440 441 442 443 444 445 446 447 448 449 450 451 452 453 454 455 456 457 458 459 460 461 462 463 464 465 466 467 468 469 470 471 472 473 474 475 476 0  0  0  0  0  0  0  0  0  0  0  0  0  \n",
            "0  0  0  0  0  0  0  0  0  0  378 377 376 375 374 373 372 371 370 369 368 367 366 367 368 369 370 371 372 373 374 375 376 377 378 379 380 381 382 383 384 385 386 387 388 389 390 391 392 393 394 395 396 397 398 399 400 401 402 403 404 405 406 407 408 409 410 411 412 413 414 415 416 417 418 419 420 421 422 423 424 425 426 427 428 429 430 431 432 433 434 435 436 437 438 439 440 441 442 443 444 445 446 447 448 449 450 451 452 453 454 455 456 457 458 459 460 461 462 463 464 465 466 467 468 469 470 471 472 473 474 475 476 477 0  0  0  0  0  0  0  0  0  0  0  0  0  \n",
            "0  0  0  0  0  0  0  0  0  0  379 378 377 376 375 374 373 372 371 370 369 368 367 368 369 370 371 372 373 374 375 376 377 378 379 380 381 382 383 384 385 386 387 388 389 390 391 392 393 394 395 396 397 398 399 400 401 402 403 404 405 406 407 408 409 410 411 412 413 414 415 416 417 418 419 420 421 422 423 424 425 426 427 428 429 430 431 432 433 434 435 436 437 438 439 440 441 442 443 444 445 446 447 448 449 450 451 452 453 454 455 456 457 458 459 460 461 462 463 464 465 466 467 468 469 470 471 472 473 474 475 476 477 0  0  0  0  0  0  0  0  0  0  0  0  0  0  \n",
            "0  0  0  0  0  0  0  0  0  0  0  0  0  0  0  0  0  0  0  0  0  0  0  0  0  0  0  0  0  0  0  0  0  0  0  0  0  0  0  0  0  0  0  0  0  0  0  0  0  0  0  0  0  0  0  0  0  0  0  0  0  0  0  0  0  0  0  0  0  0  0  0  0  0  0  0  0  0  0  0  0  0  0  0  0  0  0  0  0  0  0  0  0  0  0  0  0  0  0  0  0  0  0  0  0  0  0  0  0  0  0  0  0  0  0  0  0  0  0  0  0  0  0  0  0  0  0  0  0  0  0  0  0  0  0  0  0  0  0  0  0  0  0  0  0  0  0  \n",
            "0  0  0  0  0  0  0  0  0  0  0  0  0  0  0  0  0  0  0  0  0  0  0  0  0  0  0  0  0  0  0  0  0  0  0  0  0  0  0  0  0  0  0  0  0  0  0  0  0  0  0  0  0  0  0  0  0  0  0  0  0  0  0  0  0  0  0  0  0  0  0  0  0  0  0  0  0  0  0  0  0  0  0  0  0  0  0  0  0  0  0  0  0  0  0  0  0  0  0  0  0  0  0  0  0  0  0  0  0  0  0  0  0  0  0  0  0  0  0  0  0  0  0  0  0  0  0  0  0  0  0  0  0  0  0  0  0  0  0  0  0  0  0  0  0  0  0  \n",
            "0  0  0  0  0  0  0  0  0  0  0  0  0  0  0  0  0  0  0  0  0  0  0  0  0  0  0  0  0  0  0  0  0  0  0  0  0  0  0  0  0  0  0  0  0  0  0  0  0  0  0  0  0  0  0  0  0  0  0  0  0  0  0  0  0  0  0  0  0  0  0  0  0  0  0  0  0  0  0  0  0  0  0  0  0  0  0  0  0  0  0  0  0  0  0  0  0  0  0  0  0  0  0  0  0  0  0  0  0  0  0  0  0  0  0  0  0  0  0  0  0  0  0  0  0  0  0  0  0  0  0  0  0  0  0  0  0  0  0  0  0  0  0  0  0  0  0  \n",
            "0  0  0  0  0  0  0  0  0  0  0  0  0  0  0  0  0  0  0  0  0  0  0  0  0  0  0  0  0  0  0  0  0  0  0  0  0  0  0  0  0  0  0  0  0  0  0  0  0  0  0  0  0  0  0  0  0  0  0  0  0  0  0  0  0  0  0  0  0  0  0  0  0  0  0  0  0  0  0  0  0  0  0  0  0  0  0  0  0  0  0  0  0  0  0  0  0  0  0  0  0  0  0  0  0  0  0  0  0  0  0  0  0  0  0  0  0  0  0  0  0  0  0  0  0  0  0  0  0  0  0  0  0  0  0  0  0  0  0  0  0  0  0  0  0  0  0  \n",
            "0  0  0  0  0  0  0  0  0  0  0  0  0  0  0  0  0  0  0  0  0  0  0  0  0  0  0  0  0  0  0  0  0  0  0  0  0  0  0  0  0  0  0  0  0  0  0  0  0  0  0  0  0  0  0  0  0  0  0  0  0  0  0  0  0  0  0  0  0  0  0  0  0  0  0  0  0  0  0  0  0  0  0  0  0  0  0  0  0  0  0  0  0  0  0  0  0  0  0  0  0  0  0  0  0  0  0  0  0  0  0  0  0  0  0  0  0  0  0  0  0  0  0  0  0  0  0  0  0  0  0  0  0  0  0  0  0  0  0  0  0  0  0  0  0  0  0  \n",
            "0  0  0  0  0  0  0  0  0  0  0  0  0  0  0  0  0  0  0  0  0  0  0  0  0  0  0  0  0  0  0  0  0  0  0  0  0  0  0  0  0  0  0  0  0  0  0  0  0  0  0  0  0  0  0  0  0  0  0  0  0  0  0  0  0  0  0  0  0  0  0  0  0  0  0  0  0  0  0  0  0  0  0  0  0  0  0  0  0  0  0  0  0  0  0  0  0  0  0  0  0  0  0  0  0  0  0  0  0  0  0  0  0  0  0  0  0  0  0  0  0  0  0  0  0  0  0  0  0  0  0  0  0  0  0  0  0  0  0  0  0  0  0  0  0  0  0  \n",
            "0  0  0  0  0  0  0  0  0  0  0  0  0  0  0  0  0  0  0  0  0  0  0  0  0  0  0  0  0  0  0  0  0  0  0  0  0  0  0  0  0  0  0  0  0  0  0  0  0  0  0  0  0  0  0  0  0  0  0  0  0  0  0  0  0  0  0  0  0  0  0  0  0  0  0  0  0  0  0  0  0  0  0  0  0  0  0  0  0  0  0  0  0  0  0  0  0  0  0  0  0  0  0  0  0  0  0  0  0  0  0  0  0  0  0  0  0  0  0  0  0  0  0  0  0  0  0  0  0  0  0  0  0  0  0  0  0  0  0  0  0  0  0  0  0  0  0  \n",
            "0  0  0  0  0  0  0  0  0  0  0  0  0  0  0  0  0  0  0  0  0  0  0  0  0  0  0  0  0  0  0  0  0  0  0  0  0  0  0  0  0  0  0  0  0  0  0  0  0  0  0  0  0  0  0  0  0  0  0  0  0  0  0  0  0  0  0  0  0  0  0  0  0  0  0  0  0  0  0  0  0  0  0  0  0  0  0  0  0  0  0  0  0  0  0  0  0  0  0  0  0  0  0  0  0  0  0  0  0  0  0  0  0  0  0  0  0  0  0  0  0  0  0  0  0  0  0  0  0  0  0  0  0  0  0  0  0  0  0  0  0  0  0  0  0  0  0  \n",
            "0  0  0  0  0  0  0  0  0  0  0  0  0  0  0  0  0  0  0  0  0  0  0  0  0  0  0  0  0  0  0  0  0  0  0  0  0  0  0  0  0  0  0  0  0  0  0  0  0  0  0  0  0  0  0  0  0  0  0  0  0  0  0  0  0  0  0  0  0  0  0  0  0  0  0  0  0  0  0  0  0  0  0  0  0  0  0  0  0  0  0  0  0  0  0  0  0  0  0  0  0  0  0  0  0  0  0  0  0  0  0  0  0  0  0  0  0  0  0  0  0  0  0  0  0  0  0  0  0  0  0  0  0  0  0  0  0  0  0  0  0  0  0  0  0  0  0  \n",
            "0  0  0  0  0  0  0  0  0  0  0  0  0  0  0  0  0  0  0  0  0  0  0  0  0  0  0  0  0  0  0  0  0  0  0  0  0  0  0  0  0  0  0  0  0  0  0  0  0  0  0  0  0  0  0  0  0  0  0  0  0  0  0  0  0  0  0  0  0  0  0  0  0  0  0  0  0  0  0  0  0  0  0  0  0  0  0  0  0  0  0  0  0  0  0  0  0  0  0  0  0  0  0  0  0  0  0  0  0  0  0  0  0  0  0  0  0  0  0  0  0  0  0  0  0  0  0  0  0  0  0  0  0  0  0  0  0  0  0  0  0  0  0  0  0  0  0  \n",
            "0  0  0  0  0  0  0  0  0  0  0  0  0  0  0  0  0  0  0  0  0  0  0  0  0  0  0  0  0  0  0  0  0  0  0  0  0  0  0  0  0  0  0  0  0  0  0  0  0  0  0  0  0  0  0  0  0  0  0  0  0  0  0  0  0  0  0  0  0  0  0  0  0  0  0  0  0  0  0  0  0  0  0  0  0  0  0  0  0  0  0  0  0  0  0  0  0  0  0  0  0  0  0  0  0  0  0  0  0  0  0  0  0  0  0  0  0  0  0  0  0  0  0  0  0  0  0  0  0  0  0  0  0  0  0  0  0  0  0  0  0  0  0  0  0  0  0  \n",
            "0  0  0  0  0  0  0  0  0  0  0  0  0  0  0  0  0  0  0  0  0  0  0  0  0  0  0  0  0  0  0  0  0  0  0  0  0  0  0  0  0  0  0  0  0  0  0  0  0  0  0  0  0  0  0  0  0  0  0  0  0  0  0  0  0  0  0  0  0  0  0  0  0  0  0  0  0  0  0  0  0  0  0  0  0  0  0  0  0  0  0  0  0  0  0  0  0  0  0  0  0  0  0  0  0  0  0  0  0  0  0  0  0  0  0  0  0  0  0  0  0  0  0  0  0  0  0  0  0  0  0  0  0  0  0  0  0  0  0  0  0  0  0  0  0  0  0  \n",
            "0  0  0  0  0  0  0  0  0  0  0  0  0  0  0  0  0  0  0  0  0  0  0  0  0  0  0  0  0  0  0  0  0  0  0  0  0  0  0  0  0  0  0  0  0  0  0  0  0  0  0  0  0  0  0  0  0  0  0  0  0  0  0  0  0  0  0  0  0  0  0  0  0  0  0  0  0  0  0  0  0  0  0  0  0  0  0  0  0  0  0  0  0  0  0  0  0  0  0  0  0  0  0  0  0  0  0  0  0  0  0  0  0  0  0  0  0  0  0  0  0  0  0  0  0  0  0  0  0  0  0  0  0  0  0  0  0  0  0  0  0  0  0  0  0  0  0  \n",
            "0  0  0  0  0  0  0  0  0  0  0  0  0  0  0  0  0  0  0  0  0  0  0  0  0  0  0  0  0  0  0  0  0  0  0  0  0  0  0  0  0  0  0  0  0  0  0  0  0  0  0  0  0  0  0  0  0  0  0  0  0  0  0  0  0  0  0  0  0  0  0  0  0  0  0  0  0  0  0  0  0  0  0  0  0  0  0  0  0  0  0  0  0  0  0  0  0  0  0  0  0  0  0  0  0  0  0  0  0  0  0  0  0  0  0  0  0  0  0  0  0  0  0  0  0  0  0  0  0  0  0  0  0  0  0  0  0  0  0  0  0  0  0  0  0  0  0  \n",
            "0  0  0  0  0  0  0  0  0  0  0  0  0  0  0  0  0  0  0  0  0  0  0  0  0  0  0  0  0  0  0  0  0  0  0  0  0  0  0  0  0  0  0  0  0  0  0  0  0  0  0  0  0  0  0  0  0  0  0  0  0  0  0  0  0  0  0  0  0  0  0  0  0  0  0  0  0  0  0  0  0  0  0  0  0  0  0  0  0  0  0  0  0  0  0  0  0  0  0  0  0  0  0  0  0  0  0  0  0  0  0  0  0  0  0  0  0  0  0  0  0  0  0  0  0  0  0  0  0  0  0  0  0  0  0  0  0  0  0  0  0  0  0  0  0  0  0  \n",
            "0  0  0  0  0  0  0  0  0  0  0  0  0  0  0  0  0  0  0  0  0  0  0  0  0  0  0  0  0  0  0  0  0  0  0  0  0  0  0  0  0  0  0  0  0  0  0  0  0  0  0  0  0  0  0  0  0  0  0  0  0  0  0  0  0  0  0  0  0  0  0  0  0  0  0  0  0  0  0  0  0  0  0  0  0  0  0  0  0  0  0  0  0  0  0  0  0  0  0  0  0  0  0  0  0  0  0  0  0  0  0  0  0  0  0  0  0  0  0  0  0  0  0  0  0  0  0  0  0  0  0  0  0  0  0  0  0  0  0  0  0  0  0  0  0  0  0  \n",
            "[(20, 134), (20, 133), (20, 132), (20, 131), (20, 130), (20, 129), (20, 128), (20, 127), (20, 126), (20, 125), (20, 124), (20, 123), (20, 122), (20, 121), (20, 120), (20, 119), (20, 118), (20, 117), (20, 116), (20, 115), (20, 114), (20, 113), (20, 112), (20, 111), (20, 110), (20, 109), (20, 108), (20, 107), (20, 106), (20, 105), (21, 105), (22, 105), (23, 105), (24, 105), (25, 105), (26, 105), (27, 105), (28, 105), (29, 105), (30, 105), (31, 105), (31, 104), (32, 104), (32, 103), (32, 102), (32, 101), (33, 101), (34, 101), (35, 101), (36, 101), (37, 101), (38, 101), (39, 101), (40, 101), (41, 101), (42, 101), (43, 101), (44, 101), (45, 101), (46, 101), (47, 101), (48, 101), (49, 101), (50, 101), (51, 101), (52, 101), (53, 101), (54, 101), (55, 101), (56, 101), (57, 101), (58, 101), (59, 101), (60, 101), (61, 101), (62, 101), (63, 101), (64, 101), (65, 101), (66, 101), (67, 101), (68, 101), (69, 101), (70, 101), (71, 101), (72, 101), (73, 101), (74, 101), (75, 101), (75, 102), (75, 103), (75, 104), (75, 105), (76, 105), (77, 105), (78, 105), (79, 105), (80, 105), (81, 105), (82, 105), (83, 105), (84, 105), (85, 105), (86, 105), (87, 105), (88, 105), (89, 105), (90, 105), (91, 105), (91, 106), (91, 107), (91, 108), (91, 109), (91, 110), (91, 111), (91, 112), (91, 113), (91, 114), (91, 115), (91, 116), (91, 117), (91, 118), (91, 119), (91, 120), (91, 121), (92, 121), (93, 121), (94, 121), (95, 121), (96, 121), (97, 121), (98, 121), (99, 121), (100, 121), (101, 121), (102, 121), (103, 121), (104, 121), (105, 121), (106, 121), (107, 121), (108, 121), (109, 121), (110, 121), (110, 120), (110, 119), (110, 118), (110, 117), (110, 116), (110, 115), (110, 114), (110, 113), (110, 112), (110, 111), (110, 110), (110, 109), (110, 108), (110, 107), (110, 106), (110, 105), (110, 104), (110, 103), (110, 102), (110, 101), (110, 100), (110, 99), (110, 98), (110, 97), (110, 96), (110, 95), (110, 94), (110, 93), (110, 92), (110, 91), (110, 90), (110, 89), (111, 89), (112, 89), (113, 89), (114, 89), (115, 89), (116, 89), (117, 89), (118, 89), (119, 89), (120, 89), (121, 89), (122, 89), (123, 89), (124, 89), (125, 89), (126, 89), (126, 88), (126, 87), (126, 86), (126, 85), (126, 84), (126, 83), (126, 82), (126, 81), (126, 80), (126, 79), (126, 78), (126, 77), (126, 76), (126, 75), (126, 74), (126, 73), (126, 72), (126, 71), (126, 70), (126, 69), (126, 68), (126, 67), (126, 66), (126, 65), (126, 64), (126, 63), (126, 62), (126, 61), (126, 60), (126, 59), (126, 58), (126, 57), (126, 56), (126, 55), (126, 54), (126, 53), (126, 52), (126, 51), (126, 50), (126, 49), (126, 48), (126, 47), (126, 46), (126, 45), (126, 44), (126, 43), (126, 42), (126, 41), (126, 40), (126, 39), (126, 38), (126, 37), (126, 36), (126, 35), (126, 34), (126, 33), (126, 32), (126, 31), (126, 30), (126, 29), (126, 28), (126, 27), (126, 26), (126, 25), (126, 24), (126, 23), (126, 22), (125, 22), (124, 22), (123, 22), (122, 22), (121, 22), (120, 22), (119, 22), (118, 22), (117, 22), (116, 22), (115, 22), (114, 22), (113, 22), (112, 22), (111, 22), (110, 22), (110, 23), (110, 24), (110, 25), (110, 26), (110, 27), (110, 28), (110, 29), (110, 30), (110, 31), (110, 32), (110, 33), (110, 34), (110, 35), (110, 36), (110, 37), (110, 38), (110, 39), (110, 40), (110, 41), (110, 42), (109, 42), (108, 42), (107, 42), (106, 42), (105, 42), (104, 42), (103, 42), (102, 42), (101, 42), (100, 42), (99, 42), (98, 42), (97, 42), (96, 42), (95, 42), (94, 42), (94, 43), (94, 44), (94, 45), (94, 46), (94, 47), (94, 48), (94, 49), (94, 50), (94, 51), (94, 52), (94, 53), (94, 54), (94, 55), (94, 56), (94, 57), (93, 57), (92, 57), (91, 57), (90, 57), (89, 57), (88, 57), (87, 57), (86, 57), (85, 57), (84, 57), (83, 57), (82, 57), (81, 57), (80, 57), (79, 57), (79, 58), (79, 59), (79, 60), (79, 61), (79, 62), (79, 63), (79, 64), (79, 65), (79, 66), (79, 67), (79, 68), (79, 69), (79, 70), (79, 71), (79, 72), (79, 73), (78, 73), (77, 73), (76, 73), (75, 73), (74, 73), (73, 73), (72, 73), (71, 73), (70, 73), (69, 73), (68, 73), (67, 73), (66, 73), (65, 73), (64, 73), (63, 73), (63, 72), (63, 71), (63, 70), (63, 69), (63, 68), (63, 67), (63, 66), (63, 65), (63, 64), (63, 63), (63, 62), (63, 61), (63, 60), (63, 59), (63, 58), (63, 57), (63, 56), (63, 55), (63, 54), (62, 54), (61, 54), (60, 54), (59, 54), (58, 54), (57, 54), (56, 54), (55, 54), (54, 54), (53, 54), (52, 54), (51, 54), (50, 54), (49, 54), (48, 54), (47, 54), (47, 55), (47, 56), (47, 57), (47, 58), (47, 59), (47, 60), (47, 61), (47, 62), (47, 63), (47, 64), (47, 65), (47, 66), (47, 67), (47, 68), (47, 69), (47, 70), (47, 71), (47, 72), (47, 73), (46, 73), (45, 73), (44, 73), (43, 73), (42, 73), (41, 73), (40, 73), (39, 73), (38, 73), (37, 73), (36, 73), (35, 73), (34, 73), (33, 73), (32, 73), (31, 73), (30, 73), (29, 73), (28, 73), (28, 72), (28, 71), (28, 70), (28, 69), (28, 68), (28, 67), (28, 66), (28, 65), (28, 64), (28, 63), (28, 62), (28, 61), (28, 60), (28, 59), (28, 58), (28, 57), (29, 57), (30, 57), (31, 57), (31, 56), (32, 56), (32, 55), (32, 54), (32, 53), (32, 52), (32, 51), (32, 50), (32, 49), (32, 48), (32, 47), (32, 46), (32, 45), (32, 44), (32, 43), (32, 42), (32, 41), (32, 40), (32, 39), (32, 38), (32, 37), (32, 36), (32, 35), (32, 34), (32, 33), (32, 32), (32, 31), (32, 30), (32, 29), (32, 28), (32, 27), (32, 26), (32, 25), (32, 24), (32, 23), (32, 22), (33, 22), (34, 22), (35, 22), (36, 22), (37, 22), (38, 22), (39, 22), (40, 22), (41, 22), (42, 22), (43, 22), (44, 22), (45, 22), (46, 22), (47, 22), (48, 22), (49, 22), (50, 22), (51, 22), (52, 22), (53, 22), (54, 22), (55, 22), (56, 22), (57, 22), (58, 22), (59, 22), (59, 23), (59, 24), (59, 25), (59, 26), (60, 26), (61, 26), (62, 26), (63, 26), (64, 26), (65, 26), (66, 26), (67, 26), (68, 26), (69, 26), (70, 26), (71, 26), (72, 26), (73, 26), (74, 26), (75, 26), (76, 26), (77, 26), (78, 26), (79, 26), (80, 26), (81, 26), (82, 26), (83, 26), (84, 26), (85, 26), (86, 26), (87, 26), (88, 26), (89, 26), (90, 26), (91, 26), (92, 26), (93, 26), (94, 26), (94, 25), (94, 24), (94, 23), (94, 22), (93, 22), (92, 22), (91, 22), (90, 22), (89, 22), (88, 22), (87, 22), (86, 22), (85, 22), (84, 22), (83, 22), (82, 22), (81, 22), (80, 22), (79, 22), (78, 22), (77, 22), (76, 22), (75, 22), (74, 22), (73, 22), (72, 22), (71, 22), (70, 22), (69, 22), (68, 22), (67, 22), (67, 21), (67, 20), (67, 19), (67, 18), (67, 17), (67, 16), (67, 15), (67, 14), (67, 13), (67, 12), (67, 11), (67, 10), (67, 9), (67, 8), (67, 7)]\n"
          ]
        }
      ]
    },
    {
      "cell_type": "code",
      "source": [
        "#image = binary_img\n",
        "ret, image = cv2.threshold(resized, 127, 255, cv2.THRESH_BINARY)\n",
        "for xy in the_path:\n",
        "  yc,xc = xy[0],xy[1]\n",
        "  cv2.circle(image, (xc,yc), radius=3, color=[0,0,255], thickness=1)"
      ],
      "metadata": {
        "id": "KdyeUvn4voUg"
      },
      "execution_count": null,
      "outputs": []
    },
    {
      "cell_type": "code",
      "source": [
        "plt.subplot(1, 2, 1)\n",
        "plt.imshow(image,'gray',vmin=0,vmax=255)\n",
        "plt.subplot(1, 2, 2)\n",
        "plt.imshow(binary_img,'gray',vmin=0,vmax=255)\n",
        "plt.show()"
      ],
      "metadata": {
        "colab": {
          "base_uri": "https://localhost:8080/",
          "height": 303
        },
        "id": "K0yCykflwGYW",
        "outputId": "c3c42faa-252f-4c6d-8cce-0dc08575355a"
      },
      "execution_count": null,
      "outputs": [
        {
          "output_type": "display_data",
          "data": {
            "text/plain": [
              "<Figure size 640x480 with 2 Axes>"
            ],
            "image/png": "[encoded data removed]"
          },
          "metadata": {}
        }
      ]
    }
  ]
}