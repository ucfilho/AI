{
  "nbformat": 4,
  "nbformat_minor": 0,
  "metadata": {
    "colab": {
      "provenance": [],
      "authorship_tag": "ABX9TyP9yyqXOhszYsytUiBYo3RO",
      "include_colab_link": true
    },
    "kernelspec": {
      "name": "python3",
      "display_name": "Python 3"
    },
    "language_info": {
      "name": "python"
    }
  },
  "cells": [
    {
      "cell_type": "markdown",
      "metadata": {
        "id": "view-in-github",
        "colab_type": "text"
      },
      "source": [
        "<a href=\"https://colab.research.google.com/github/ucfilho/AI/blob/main/AI_2023/Stochastic/class_05_PSO_HEN.ipynb\" target=\"_parent\"><img src=\"https://colab.research.google.com/assets/colab-badge.svg\" alt=\"Open In Colab\"/></a>"
      ]
    },
    {
      "cell_type": "code",
      "source": [
        "import random\n",
        "import numpy as np"
      ],
      "metadata": {
        "id": "t-99XVgrNzYD"
      },
      "execution_count": null,
      "outputs": []
    },
    {
      "cell_type": "code",
      "source": [
        "# Target: temperatures initial and target\n",
        "Target = {'H1':[327,40],'H2':[220,160],'H3':[220,60],\n",
        "          'H4':[160,45],\n",
        "          'C1':[100,300],'C2':[35,164],'C3':[85,138],\n",
        "          'C4':[60,170],'C5':[140,300]}\n",
        "\n",
        "Util = {'cold':[15,30],'hot':[350,250]}\n",
        "\n",
        "# Temperatures (hot streams first, cold after and starting with H/C for hot and cold) otherwise need to adapt the code\n",
        "Prop = {'H1':[100, 0.5 ],'H2':[160, 0.4 ],'H3':[60, 0.14],\n",
        "        'H4':[400,0.30 ],\n",
        "        'C1':[100,0.35 ],'C2':[70, 0.70 ],'C3':[350, 0.50],\n",
        "        'C4':[60,0.14 ],'C5':[200, 0.60],'cold':[4.186,0.5],'hot':[4.186,0.5]} # CP e H\n",
        "n_hot = 4\n",
        "\n",
        "# w input of swarm intelligence size = n_exchages*num_hot\n",
        "n_trocas = 3"
      ],
      "metadata": {
        "id": "K7r4Vs4F5n9N"
      },
      "execution_count": null,
      "outputs": []
    },
    {
      "cell_type": "code",
      "execution_count": null,
      "metadata": {
        "id": "VXNIs5brNx9b"
      },
      "outputs": [],
      "source": [
        "def Cost_find(w,Target = Target, Prop = Prop, Util= Util, n_trocas = n_trocas, ans = False ):\n",
        "  w = list(w)\n",
        "  Gasta_cold = [] # [Area,flow,kwy] for each stream\n",
        "  Gasta_hot = []  # [Area,flow,kwy] for each stream\n",
        "  U_q =[]\n",
        "  names = list(Target.keys())\n",
        "  n_hot, n_cold, stream= 0, 0, ['No']\n",
        "  # constroi temperaturas\n",
        "  Temp ={}\n",
        "  for word in names:\n",
        "    Temp[word]=[Target[word][0]]\n",
        "\n",
        "  for word in names:\n",
        "    if 'H' in word:\n",
        "      n_hot += 1\n",
        "    elif 'C' in word:\n",
        "      n_cold += 1\n",
        "      stream.append(word)\n",
        "  \n",
        "  N = len(stream)\n",
        "  r = 1/N\n",
        "  trocas =[]\n",
        "  Areas = []\n",
        "  n = n_trocas*n_hot\n",
        "  \n",
        "  x = w[0:n]\n",
        "  tx = w[n:(2*n)]\n",
        "\n",
        "  cont = 0\n",
        "  for xi in x:\n",
        "    total = 0\n",
        "    cont += 1\n",
        "    for k in range(N):\n",
        "      total += r\n",
        "      if xi <= total:\n",
        "        trocas.append(stream[k])\n",
        "        break \n",
        "  n1, n2, matrix_trocas, xt_hot = 0, 0, [],[]\n",
        "\n",
        "  while(len(trocas) < n):\n",
        "    trocas.append('No')\n",
        "  \n",
        "  num = int(len(trocas)/n_hot)\n",
        "  # print('num',num, trocas)\n",
        "\n",
        "  for idx in range(n_hot):\n",
        "    tr, dr =  [], []\n",
        "    n2 = num*(1+idx)\n",
        "    tr.append(trocas[n1:n2])\n",
        "    dr.append(tx[n1:n2])\n",
        "    matrix_trocas.append(tr[0])\n",
        "    xt_hot.append(dr[0])\n",
        "    n1 = n2\n",
        "  \n",
        "  idx = 0\n",
        "  # update hot temperature\n",
        "  for j in range(n_trocas):\n",
        "    for k in range(n_hot):\n",
        "      x = Temp[names[k]][idx]\n",
        "      # print('matrix_trocas, k,j',matrix_trocas, k,j)\n",
        "      cold = matrix_trocas[k][j]\n",
        "      hot = names[k]\n",
        "      if cold == 'No':\n",
        "        Temp[names[k]].append(x)\n",
        "      else:\n",
        "        # x, y = hot and cold temperatures\n",
        "        dx = Target[hot][0]-Target[hot][1]\n",
        "        x0 = x* 1.0\n",
        "        y0 = Temp[cold][-1]\n",
        "        x = x - dx * xt_hot[k][j]\n",
        "        CP_c = Prop[cold][0]\n",
        "        CP_h = Prop[hot][0]\n",
        "        Q = CP_c* dx * xt_hot[k][j]\n",
        "        y = CP_h*dx * xt_hot[k][j]/CP_c + Temp[cold][-1]\n",
        "        d1 = x0- y\n",
        "        d2 = x - y0\n",
        "        U = 1.0 / ( 1.0/Prop[cold][1]+ 1.0/Prop[hot][1])\n",
        "        if d2 != 0 and d1*d2 > 0:\n",
        "          check = 'ok'\n",
        "        else:\n",
        "          check = 'no'\n",
        "        if x0 > y and x > y0 and check == 'ok': # so troca calor se a temperatura fria final for menor q a temperatura quente final\n",
        "          Temp[cold].append(y)\n",
        "          Temp[names[k]].append(x)\n",
        "          LMDT = (d1 - d2) / np.log(d1/d2)\n",
        "          A = Q /(U*LMDT) \n",
        "          Areas.append(A)\n",
        "          U_q.append(U)\n",
        "        else:\n",
        "          y = Temp[cold][-1]\n",
        "          x = Temp[names[k]][-1]\n",
        "          Temp[cold].append(y)\n",
        "          Temp[names[k]].append(x)       \n",
        "    idx += 1\n",
        "\n",
        "  cp_hot = Prop['hot'][0] # cp\n",
        "  dt = Util['cold'][1]-Util['cold'][0]\n",
        "  cp_cold = Prop['cold'][0]*dt \n",
        "\n",
        "  for word in names:\n",
        "    x0 = Temp[word][-1]\n",
        "    x = Target[word][1]\n",
        "    cp = Prop[word][0]\n",
        "    Q = cp*abs(x-x0)\n",
        "    \n",
        "    if x0 < x : # cooling activate\n",
        "      flow = Q/cp_cold\n",
        "      U = 1.0 / ( 1.0/Prop[word][1]+ 1.0/Prop['cold'][1])\n",
        "      y0 = Util['cold'][0]\n",
        "      y = Util['cold'][1]\n",
        "      d1 = x0- y\n",
        "      d2 = x - y0   \n",
        "      if d2 != 0 and d1*d2 > 0:\n",
        "        check = 'ok'\n",
        "      else:\n",
        "        check = 'no'\n",
        "      \n",
        "\n",
        "      # so troca calor se a temperatura fria final for menor q a temperatura quente final\n",
        "      if x0 > y and x > y0 and check == 'ok': \n",
        "        #print('d1,d2',d1,d2)\n",
        "        LMDT = (d1 - d2) / np.log(d1/d2)\n",
        "        A = Q /(U*LMDT) # convert MW to kW\n",
        "        kW = Q\n",
        "        Gasta_cold.append([A,flow,kW])   \n",
        "    else:\n",
        "      flow = Q / cp_hot \n",
        "      U = 1.0 / ( 1.0/Prop[word][1]+ 1.0/Prop['cold'][1])\n",
        "      y0 = Util['hot'][0]\n",
        "      y = Util['hot'][1]\n",
        "      d1 = y-x0 \n",
        "      d2 = y0  -x   \n",
        "      if d2 != 0 and d1*d2 > 0:\n",
        "        check = 'ok'\n",
        "      else:\n",
        "        check = 'no'\n",
        "      if x0 < y and x < y0 and check == 'ok': # so troca calor se a temperatura fria final for menor q a temperatura quente final\n",
        "        #print('d1,d2',d1,d2)\n",
        "        LMDT = (d1 - d2) / np.log(d1/d2)\n",
        "        A = Q /(U*LMDT)\n",
        "        kW= Q\n",
        "        Gasta_hot.append([A,flow,kW])   \n",
        "\n",
        "  Cost = 0\n",
        "  #a, n, h, c = 4333,0.6, 150.53, 53.064 # L.V. Pavao et al. / Energy 142 (2018) 356e372\n",
        "  a1,a2, h, c = 2000, 70,  60, 6 # Chemical Engineering Science 158 (2017) 96–107- Pavao et al\n",
        "\n",
        "  for A in Areas:\n",
        "    Cost += a1+a2*A #a*A**n\n",
        "  for x in Gasta_hot:\n",
        "    Cost += a1+a2*A #a*A**n\n",
        "    Cost += h*x[2] # x[2]: steam \n",
        "\n",
        "  for x in Gasta_cold:\n",
        "    Cost += a1+a2*A # a*x[0]**n\n",
        "    Cost += c*x[2] # x[2]: cold water kW\n",
        "  if np.isnan(Cost)==True:\n",
        "    Cost = 1e99\n",
        "  if ans == False:\n",
        "    return Cost\n",
        "  else:\n",
        "    return Cost, matrix_trocas, Temp"
      ]
    },
    {
      "cell_type": "code",
      "source": [
        "w = [0.3]*4+[0.8]*4+[0.5]*4+[1]*12\n",
        "print(\"%.4e\"%Cost_find(w))"
      ],
      "metadata": {
        "colab": {
          "base_uri": "https://localhost:8080/"
        },
        "id": "QFrQygGk53gS",
        "outputId": "683d7d1b-1bef-4661-de3c-4da3d114edb5"
      },
      "execution_count": null,
      "outputs": [
        {
          "output_type": "stream",
          "name": "stdout",
          "text": [
            "4.9949e+06\n"
          ]
        }
      ]
    },
    {
      "cell_type": "code",
      "source": [
        "fitness_function = Cost_find"
      ],
      "metadata": {
        "id": "dtkE3ZeO5jLN"
      },
      "execution_count": null,
      "outputs": []
    },
    {
      "cell_type": "code",
      "source": [
        "def fun(x):\n",
        "  n = x.shape[0]\n",
        "  ans = np.zeros(n)\n",
        "  for i in range(n):\n",
        "    ans[i] = fitness_function(x[i,:])\n",
        "  return ans"
      ],
      "metadata": {
        "id": "chSuIWc6CYBI"
      },
      "execution_count": null,
      "outputs": []
    },
    {
      "cell_type": "code",
      "source": [
        "def pop_rnd(population,dimension,Max,Min):\n",
        "  x = np.zeros((population,dimension))\n",
        "  for i in range(population):\n",
        "    for j in range(dimension):\n",
        "      r = np.random.rand()\n",
        "      x[i,j] = Min[j] + r*(Max[j]-Min[j])\n",
        "  return x"
      ],
      "metadata": {
        "id": "A4b_ZXPIbNbc"
      },
      "execution_count": null,
      "outputs": []
    },
    {
      "cell_type": "code",
      "source": [
        "def best(xp,xg,fp,fg,fitness,x):\n",
        "  # gbest, pbest = solution vector with best function \n",
        "  #                (global and particle gen)\n",
        "  # fitness = values of function all particles\n",
        "  # best = values of function best all iterations\n",
        "  n = x.shape[0]\n",
        "\n",
        "  for i in range(n):\n",
        "    if fp[i] >= fitness[i]:\n",
        "      xp[i,:] = x[i,:]*1.0\n",
        "      fp[i] = fitness[i]*1.0\n",
        "    if fg >= fitness[i]:\n",
        "      xg = xp[i,:]*1.0\n",
        "      fg = fitness[i]* 1.0\n",
        "  return xp,fp,xg,fg"
      ],
      "metadata": {
        "id": "vhtWsRe60jmP"
      },
      "execution_count": null,
      "outputs": []
    },
    {
      "cell_type": "code",
      "source": [
        "def melhora(x,fit,xnew):\n",
        "  n = x.shape[0]\n",
        "  fnew = fun(xnew)\n",
        "  for i in range(n):\n",
        "    if fit[i] >= fnew[i]:\n",
        "      x[i,:] = xnew[i,:]\n",
        "      fit[i] = fnew[i]\n",
        "  \n",
        "  return x,fit"
      ],
      "metadata": {
        "id": "111tpsqSFaut"
      },
      "execution_count": null,
      "outputs": []
    },
    {
      "cell_type": "code",
      "source": [
        "def PSO(D,pop,gen,Max,Min):\n",
        "  fp = np.ones(pop)*1e99\n",
        "  v = np.zeros((pop,D))\n",
        "  vnew = np.zeros((pop,D))\n",
        "  xnew = np.zeros((pop,D))\n",
        "  fg = 1e99\n",
        "  xg = np.ones((1,D))\n",
        "  xp = np.ones((pop,D))\n",
        "  x = pop_rnd(pop,D,Max,Min)\n",
        "  w, c1, c2 =0.8,  0.1, 0.1\n",
        "  fit = fun(x)\n",
        "  #print('fit', fit)\n",
        "  #print(x)\n",
        "  for k in range(gen):\n",
        "    xp,fp,xg,fg = best(xp,xg,fp,fg,fit,x)\n",
        "    for i in range(pop):\n",
        "      for j in range(D):\n",
        "        r1 = np.random.rand()\n",
        "        r2 = np.random.rand()\n",
        "        vnew[i,j] = w*v[i,j]- c1*r1*(xp[i,j]-x[i,j])+ c2*r2*(xg[j]-x[i,j])\n",
        "        v[i,j] = vnew[i,j]* 1.0\n",
        "        xnew[i,j] = x[i,j] - vnew[i,j]\n",
        "        if xnew[i,j] > Max[j] or xnew[i,j] < Min[j]:\n",
        "          xnew[i,j] = Min[j] + r1*(Max[j]-Min[j])\n",
        "\n",
        "    x,fit = melhora(x,fit,xnew)  \n",
        "  \n",
        "  return xg,fg"
      ],
      "metadata": {
        "id": "b9HRmoZxNART"
      },
      "execution_count": null,
      "outputs": []
    },
    {
      "cell_type": "code",
      "source": [
        "D = n_hot*n_trocas* 2\n",
        "pop = 300\n",
        "gen = 300\n",
        "NPAR=1 #Numero de fontes de comida\n",
        "ITE=1 #ITERACOES (maxCycle)\n",
        "PAR=n_hot*n_trocas* 2 #NUM DE PARAMETROS A SER OTIMIZADOS\n",
        "print(40*'=',PAR,40*'=')\n",
        "MAX=[] # MAXIMO DE CADA PARAMETRO\n",
        "MIN=[] # MINIMO DE CADA PARAMETRO\n",
        "for k in range(PAR):\n",
        "  MAX.append(1)\n",
        "  MIN.append(0)\n",
        "xg,fg = PSO(D,pop,gen,MAX,MIN)\n",
        "print(xg)\n",
        "print(fg)"
      ],
      "metadata": {
        "colab": {
          "base_uri": "https://localhost:8080/"
        },
        "id": "ZP6WSRUTbzzR",
        "outputId": "aa91e102-64b1-4134-f267-c586a403c271"
      },
      "execution_count": null,
      "outputs": [
        {
          "output_type": "stream",
          "name": "stdout",
          "text": [
            "======================================== 24 ========================================\n"
          ]
        },
        {
          "output_type": "stream",
          "name": "stderr",
          "text": [
            "<ipython-input-3-1e6592f7a7f0>:85: RuntimeWarning: invalid value encountered in double_scalars\n",
            "  LMDT = (d1 - d2) / np.log(d1/d2)\n"
          ]
        },
        {
          "output_type": "stream",
          "name": "stdout",
          "text": [
            "[0.6843474  0.11257028 0.94378863 0.23561732 0.14829883 0.54148486\n",
            " 0.22735896 0.4391048  0.97083969 0.98556452 0.65747813 0.41613978\n",
            " 0.75163701 0.99288088 0.15036422 0.89268135 0.98943804 0.96307831\n",
            " 0.25958993 0.88416972 0.96668884 0.08814145 0.40346888 0.24530397]\n",
            "2600793.653458099\n"
          ]
        }
      ]
    },
    {
      "cell_type": "code",
      "source": [
        "for resp in Cost_find(xg, ans=True):\n",
        "  print(resp)"
      ],
      "metadata": {
        "colab": {
          "base_uri": "https://localhost:8080/"
        },
        "id": "ktIf7p9Of8Xe",
        "outputId": "d4d22cea-7185-4382-a46a-da35e9c9f575"
      },
      "execution_count": null,
      "outputs": [
        {
          "output_type": "stream",
          "name": "stdout",
          "text": [
            "2600793.653458099\n",
            "[['C4', 'No', 'C5'], ['C1', 'No', 'C3'], ['C1', 'C2', 'C5'], ['C5', 'C3', 'C2']]\n",
            "{'H1': [327, 327, 327, 283.84546964284846], 'H2': [220, 166.43911903376062, 166.43911903376062, 166.43911903376062], 'H3': [220, 220, 78.53284430299172, 78.53284430299172], 'H4': [160, 160, 113.60107901740571, 113.60107901740571], 'C1': [100, 185.697409545983, 185.697409545983], 'C2': [35, 156.25756202600712, 156.25756202600712], 'C3': [85, 138.02733826582204, 138.02733826582204], 'C4': [60, 60], 'C5': [140, 140, 161.57726517857577, 161.57726517857577]}\n"
          ]
        }
      ]
    }
  ]
}