{
  "nbformat": 4,
  "nbformat_minor": 0,
  "metadata": {
    "colab": {
      "provenance": [],
      "authorship_tag": "ABX9TyOAw6WATFvAHrEfRhJXRWNi",
      "include_colab_link": true
    },
    "kernelspec": {
      "name": "python3",
      "display_name": "Python 3"
    },
    "language_info": {
      "name": "python"
    }
  },
  "cells": [
    {
      "cell_type": "markdown",
      "metadata": {
        "id": "view-in-github",
        "colab_type": "text"
      },
      "source": [
        "<a href=\"https://colab.research.google.com/github/ucfilho/AI/blob/main/AI_2023/Stochastic/class_03_PSO_grafo_april_04_2023.ipynb\" target=\"_parent\"><img src=\"https://colab.research.google.com/assets/colab-badge.svg\" alt=\"Open In Colab\"/></a>"
      ]
    },
    {
      "cell_type": "code",
      "source": [
        "import random\n",
        "import numpy as np"
      ],
      "metadata": {
        "id": "t-99XVgrNzYD"
      },
      "execution_count": 23,
      "outputs": []
    },
    {
      "cell_type": "code",
      "execution_count": 24,
      "metadata": {
        "id": "VXNIs5brNx9b"
      },
      "outputs": [],
      "source": [
        "Graph ={'A':['B','D'],'B':['C','D'], 'C':['E','G'],'D':['F'],'E':['D','G','F'],'G':['F'],'F':['F']}\n",
        "Distances={'A':[10,50],'B':[10,20],'C':[10,30],'D':[80],'E':[0,10,50],'G':[10],'F':[0]}\n",
        "Find = ['A','F']"
      ]
    },
    {
      "cell_type": "code",
      "source": [
        "def grafo_fun(x,f = Find, g=Graph,d=Distances,ans = False):\n",
        "  names = list(Graph.keys())\n",
        "  n = len(names)\n",
        "  get_seq, get_dis =[], 0\n",
        "  get_seq.append(f[0])\n",
        "  idx = -1\n",
        "  for xi in x:\n",
        "    idx += 1\n",
        "    N = len(g[get_seq[idx]])\n",
        "    r = 1/N\n",
        "    total = 0\n",
        "    for i in range(N):\n",
        "      total += r\n",
        "      if xi <= total:\n",
        "        k = i\n",
        "        break\n",
        "    if get_seq[-1] == f[1]:\n",
        "      break\n",
        "    id = get_seq[idx]\n",
        "    get_seq.append(g[id][k])\n",
        "    get_dis += d[id][k]\n",
        "  if get_seq[-1] == f[1]:\n",
        "    get_dis = get_dis\n",
        "  else:\n",
        "    get_dis = 1e99\n",
        "  if ans == False:\n",
        "    return get_dis\n",
        "  else:\n",
        "    return get_dis, get_seq"
      ],
      "metadata": {
        "id": "hF3zEGongkC5"
      },
      "execution_count": 25,
      "outputs": []
    },
    {
      "cell_type": "code",
      "source": [
        "fitness_function = grafo_fun"
      ],
      "metadata": {
        "id": "TZNqDOLNgrNX"
      },
      "execution_count": 26,
      "outputs": []
    },
    {
      "cell_type": "code",
      "source": [
        "def fun(x):\n",
        "  n = x.shape[0]\n",
        "  ans = np.zeros(n)\n",
        "  for i in range(n):\n",
        "    ans[i] = fitness_function(x[i,:])\n",
        "  return ans"
      ],
      "metadata": {
        "id": "chSuIWc6CYBI"
      },
      "execution_count": 27,
      "outputs": []
    },
    {
      "cell_type": "code",
      "source": [
        "def pop_rnd(population,dimension,Max,Min):\n",
        "  x = np.zeros((population,dimension))\n",
        "  for i in range(population):\n",
        "    for j in range(dimension):\n",
        "      r = np.random.rand()\n",
        "      x[i,j] = Min[j] + r*(Max[j]-Min[j])\n",
        "  return x"
      ],
      "metadata": {
        "id": "A4b_ZXPIbNbc"
      },
      "execution_count": 28,
      "outputs": []
    },
    {
      "cell_type": "code",
      "source": [
        "def best(xp,xg,fp,fg,fitness,x):\n",
        "  # gbest, pbest = solution vector with best function \n",
        "  #                (global and particle gen)\n",
        "  # fitness = values of function all particles\n",
        "  # best = values of function best all iterations\n",
        "  n = x.shape[0]\n",
        "\n",
        "  for i in range(n):\n",
        "    if fp[i] >= fitness[i]:\n",
        "      xp[i,:] = x[i,:]*1.0\n",
        "      fp[i] = fitness[i]*1.0\n",
        "    if fg >= fitness[i]:\n",
        "      xg = xp[i,:]*1.0\n",
        "      fg = fitness[i]* 1.0\n",
        "  return xp,fp,xg,fg"
      ],
      "metadata": {
        "id": "vhtWsRe60jmP"
      },
      "execution_count": 29,
      "outputs": []
    },
    {
      "cell_type": "code",
      "source": [
        "def melhora(x,fit,xnew):\n",
        "  n = x.shape[0]\n",
        "  fnew = fun(xnew)\n",
        "  for i in range(n):\n",
        "    if fit[i] >= fnew[i]:\n",
        "      x[i,:] = xnew[i,:]\n",
        "      fit[i] = fnew[i]\n",
        "  \n",
        "  return x,fit"
      ],
      "metadata": {
        "id": "111tpsqSFaut"
      },
      "execution_count": 30,
      "outputs": []
    },
    {
      "cell_type": "code",
      "source": [
        "def PSO(D,pop,gen,Max,Min):\n",
        "  fp = np.ones(pop)*1e99\n",
        "  v = np.zeros((pop,D))\n",
        "  vnew = np.zeros((pop,D))\n",
        "  xnew = np.zeros((pop,D))\n",
        "  fg = 1e99\n",
        "  xg = np.ones((1,D))*1.0\n",
        "  xp = np.ones((pop,D))*1.0\n",
        "  x = pop_rnd(pop,D,Max,Min)\n",
        "  w, c1, c2 =0.8,  0.1, 0.1\n",
        "  fit = fun(x)\n",
        "  for k in range(gen):\n",
        "    xp,fp,xg,fg = best(xp,xg,fp,fg,fit,x)\n",
        "    for i in range(pop):\n",
        "      for j in range(D):\n",
        "        r1 = np.random.rand()\n",
        "        r2 = np.random.rand()\n",
        "        vnew[i,j] = w*v[i,j]+ c1*r1*(xp[i,j]-x[i,j])+ c2*r2*(xg[j]-x[i,j])\n",
        "        v[i,j] = vnew[i,j]* 1.0\n",
        "        xnew[i,j] = x[i,j] + vnew[i,j]\n",
        "    x,fit = melhora(x,fit,xnew)  \n",
        "  \n",
        "  return xg,fg"
      ],
      "metadata": {
        "id": "b9HRmoZxNART"
      },
      "execution_count": 31,
      "outputs": []
    },
    {
      "cell_type": "code",
      "source": [
        "D = 10\n",
        "pop = 300\n",
        "gen = 300\n",
        "PAR=10 #NUM DE PARAMETROS A SER OTIMIZADOS\n",
        "Max=[1]*PAR # MAXIMO DE CADA PARAMETRO\n",
        "Min=[0]*PAR # MINIMO DE CADA PARAMETRO\n",
        "xg,fg = PSO(D,pop,gen,Max,Min)\n",
        "print(xg)\n",
        "print(fg)\n",
        "\n"
      ],
      "metadata": {
        "colab": {
          "base_uri": "https://localhost:8080/"
        },
        "id": "ZP6WSRUTbzzR",
        "outputId": "33a85083-9ed8-4098-d901-0a1c7700b7bb"
      },
      "execution_count": 21,
      "outputs": [
        {
          "output_type": "stream",
          "name": "stdout",
          "text": [
            "[0.25554851 0.19229393 0.11031876 0.57143022 0.73322452 0.11451979\n",
            " 0.32439086 0.13981233 0.25778535 0.67962419]\n",
            "50.0\n"
          ]
        }
      ]
    },
    {
      "cell_type": "code",
      "source": [
        "print(grafo_fun(xg))\n",
        "print(grafo_fun(xg,ans=True))"
      ],
      "metadata": {
        "colab": {
          "base_uri": "https://localhost:8080/"
        },
        "id": "xJGcPWUCimeS",
        "outputId": "3af1ac03-4ccd-41f2-a1f8-990b9e818b8a"
      },
      "execution_count": 32,
      "outputs": [
        {
          "output_type": "stream",
          "name": "stdout",
          "text": [
            "50\n",
            "(50, ['A', 'B', 'C', 'E', 'G', 'F'])\n"
          ]
        }
      ]
    }
  ]
}