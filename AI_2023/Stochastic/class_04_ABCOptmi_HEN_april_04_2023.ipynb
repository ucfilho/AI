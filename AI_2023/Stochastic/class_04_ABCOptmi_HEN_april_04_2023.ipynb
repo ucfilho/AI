{
  "nbformat": 4,
  "nbformat_minor": 0,
  "metadata": {
    "colab": {
      "provenance": [],
      "include_colab_link": true
    },
    "kernelspec": {
      "name": "python3",
      "display_name": "Python 3"
    }
  },
  "cells": [
    {
      "cell_type": "markdown",
      "metadata": {
        "id": "view-in-github",
        "colab_type": "text"
      },
      "source": [
        "<a href=\"https://colab.research.google.com/github/ucfilho/AI/blob/main/AI_2023/Stochastic/class_04_ABCOptmi_HEN_april_04_2023.ipynb\" target=\"_parent\"><img src=\"https://colab.research.google.com/assets/colab-badge.svg\" alt=\"Open In Colab\"/></a>"
      ]
    },
    {
      "cell_type": "code",
      "metadata": {
        "id": "Q4rxtjKKCSVZ"
      },
      "source": [
        "import numpy as np\n",
        "from random import randint"
      ],
      "execution_count": 85,
      "outputs": []
    },
    {
      "cell_type": "code",
      "metadata": {
        "id": "PWIY1PGq9Is1"
      },
      "source": [
        "def CalcFit(fun):\n",
        "    result=0\n",
        "    if(fun>=0):\n",
        "      result=1/(fun+1)\n",
        "    else:\n",
        "      result=1+abs(fun)\n",
        "    return result"
      ],
      "execution_count": 86,
      "outputs": []
    },
    {
      "cell_type": "code",
      "source": [
        "Target = {'H1':[400,60],'H2':[210,40],'C1':[20,160],'C2':[100,300]} # temperatures initial and target\n",
        "Util = {'cold':[20,30],'hot':[400,400]}\n",
        "\n",
        "# Temperatures (hot streams first, cold after and starting with H/C for hot and cold) otherwise need to adapt the code\n",
        "Prop = {'H1':[0.3,1.7],'H2':[0.5,1.7],'C1':[0.4,1.7],'C2':[0.6,1.7],'cold':[4.186e-3,1.7],'hot':[431.379,3.41]} # CP e H\n",
        "n_hot = 2\n",
        "#w = [0.5,0.3,0.8,0.5,0.8,0.8,0.99,0.99,0.99,0.99,0.99,0.08]\n",
        "# w input of swarm intelligence size = n_exchages*num_hot\n",
        "n_trocas = 3\n"
      ],
      "metadata": {
        "id": "0NTJi_Y6x7zi"
      },
      "execution_count": 87,
      "outputs": []
    },
    {
      "cell_type": "code",
      "source": [
        "def Cost_find(w,Target = Target, Prop = Prop, Util= Util, n_trocas = n_trocas, ans = False ):\n",
        "  Gasta_cold = [] # [Area,flow,kwy] for each stream\n",
        "  Gasta_hot = []  # [Area,flow,kwy] for each stream\n",
        "  U_q =[]\n",
        "  names = list(Target.keys())\n",
        "  n_hot, n_cold, stream= 0, 0, ['No']\n",
        "  # constroi temperaturas\n",
        "  Temp ={}\n",
        "  for word in names:\n",
        "    Temp[word]=[Target[word][0]]\n",
        "\n",
        "  for word in names:\n",
        "    if 'H' in word:\n",
        "      n_hot += 1\n",
        "    elif 'C' in word:\n",
        "      n_cold += 1\n",
        "      stream.append(word)\n",
        "\n",
        "  N = len(stream)\n",
        "  r = 1/N\n",
        "  trocas =[]\n",
        "  Areas = []\n",
        "  n = n_trocas*n_hot\n",
        "\n",
        "  x = w[0:n]\n",
        "  tx = w[n:(2*n)]\n",
        "  cont = 0\n",
        "  for xi in x:\n",
        "    total = 0\n",
        "    cont += 1\n",
        "    for k in range(N):\n",
        "      total += r\n",
        "      if xi <= total:\n",
        "        trocas.append(stream[k])\n",
        "        break \n",
        "\n",
        "  n1, n2, matrix_trocas, xt_hot = 0, 0, [],[]\n",
        "  num = int(len(trocas)/n_hot)\n",
        "  for idx in range(n_hot):\n",
        "    tr, dr =  [], []\n",
        "    n1 += n2\n",
        "    n2 = num*(1+idx)\n",
        "    tr.append(trocas[n1:n2])\n",
        "    dr.append(tx[n1:n2])\n",
        "    matrix_trocas.append(tr[0])\n",
        "    xt_hot.append(dr[0])\n",
        "  idx = 0\n",
        "  # update hot temperature\n",
        "  for j in range(n_trocas):\n",
        "    for k in range(n_hot):\n",
        "      #print('======= idx k names[k]',idx,k,names[k], Temp)\n",
        "      x = Temp[names[k]][idx]\n",
        "      # print('x',x)\n",
        "      cold = matrix_trocas[k][j]\n",
        "      hot = names[k]\n",
        "      if cold == 'No':\n",
        "        Temp[names[k]].append(x)\n",
        "      else:\n",
        "        # x, y = hot and cold temperatures\n",
        "        dx = Target[hot][0]-Target[hot][1]\n",
        "        x0 = x* 1.0\n",
        "        y0 = Temp[cold][-1]\n",
        "        x = x - dx * xt_hot[k][j]\n",
        "        CP_c = Prop[cold][0]\n",
        "        CP_h = Prop[hot][0]\n",
        "        #print('cold & hot',cold,hot)\n",
        "        #print('CP===',CP_c,CP_h)\n",
        "        Q = CP_c* dx * xt_hot[k][j]\n",
        "        y = CP_h*dx * xt_hot[k][j]/CP_c + Temp[cold][-1]\n",
        "        d1 = x0- y\n",
        "        d2 = x - y0\n",
        "        U = 1.0 / ( 1.0/Prop[cold][1]+ 1.0/Prop[hot][1])\n",
        "        #print('U=',U,cold,hot)\n",
        "        if d2 != 0 and d1*d2 > 0:\n",
        "          check = 'ok'\n",
        "        else:\n",
        "          check = 'no'\n",
        "        if x0 > y and x > y0 and check == 'ok': # so troca calor se a temperatura fria final for menor q a temperatura quente final\n",
        "          Temp[cold].append(y)\n",
        "          Temp[names[k]].append(x)\n",
        "          LMDT = (d1 - d2) / np.log(d1/d2)\n",
        "          A = Q /(U*LMDT)* 1000 # convert MW to kW\n",
        "          Areas.append(A)\n",
        "          U_q.append(U)\n",
        "        else:\n",
        "          y = Temp[cold][-1]\n",
        "          x = Temp[names[k]][-1]\n",
        "          Temp[cold].append(y)\n",
        "          Temp[names[k]].append(x)       \n",
        "    idx += 1\n",
        "\n",
        "  cp_hot = Prop['hot'][0] # cp\n",
        "  dt = Util['cold'][1]-Util['cold'][0]\n",
        "  cp_cold = Prop['cold'][0]*dt \n",
        "\n",
        "  for word in names:\n",
        "    x0 = Temp[word][-1]\n",
        "    x = Target[word][1]\n",
        "    cp = Prop[word][0]\n",
        "    Q = cp*abs(x-x0)\n",
        "    \n",
        "    if x0 < x : # cooling activate\n",
        "      flow = Q/cp_cold\n",
        "      U = 1.0 / ( 1.0/Prop[word][1]+ 1.0/Prop['cold'][1])\n",
        "      y0 = Util['cold'][0]\n",
        "      y = Util['cold'][1]\n",
        "      d1 = x0- y\n",
        "      d2 = x - y0   \n",
        "      if d2 != 0 and d1*d2 > 0:\n",
        "        check = 'ok'\n",
        "      else:\n",
        "        check = 'no'\n",
        "      if x0 > y and x > y0 and check == 'ok': # so troca calor se a temperatura fria final for menor q a temperatura quente final\n",
        "        LMDT = (d1 - d2) / np.log(d1/d2)\n",
        "        A = Q /(U*LMDT)* 1000 # convert MW to kW\n",
        "        MWh = Q*8000\n",
        "        Gasta_cold.append([A,flow,MWh])   \n",
        "    else:\n",
        "      flow = Q / cp_hot \n",
        "      U = 1.0 / ( 1.0/Prop[word][1]+ 1.0/Prop['cold'][1])\n",
        "      y0 = Util['hot'][0]\n",
        "      y = Util['hot'][1]\n",
        "      d1 = y-x0 \n",
        "      d2 = y0  -x   \n",
        "      if d2 != 0 and d1*d2 > 0:\n",
        "        check = 'ok'\n",
        "      else:\n",
        "        check = 'no'\n",
        "      if x0 < y and x < y0 and check == 'ok': # so troca calor se a temperatura fria final for menor q a temperatura quente final\n",
        "        LMDT = (d1 - d2) / np.log(d1/d2)\n",
        "        A = Q /(U*LMDT)* 1000 # convert MW to kW\n",
        "        kWy= Q*8000\n",
        "        Gasta_hot.append([A,flow,kWy])   \n",
        "\n",
        "  Cost = 0\n",
        "  a, n, h, c = 4333,0.6, 150.53, 53.064 # L.V. Pavao et al. / Energy 142 (2018) 356e372\n",
        "  for A in Areas:\n",
        "    Cost += a*A**n\n",
        "  for x in Gasta_hot:\n",
        "    Cost += a*A**n\n",
        "    Cost += h*x[2] # x[2]: steam \n",
        "\n",
        "  for x in Gasta_cold:\n",
        "    Cost += a*x[0]**n\n",
        "    Cost += c*x[2] # x[2]: cold water kwy\n",
        "\n",
        "  if ans == False:\n",
        "    return Cost\n",
        "  else:\n",
        "    return Cost, matrix_trocas, Temp"
      ],
      "metadata": {
        "id": "sQIGR7YpyBv6"
      },
      "execution_count": 88,
      "outputs": []
    },
    {
      "cell_type": "code",
      "metadata": {
        "id": "f8H99CS9AOoB"
      },
      "source": [
        "function = Cost_find\n"
      ],
      "execution_count": 89,
      "outputs": []
    },
    {
      "cell_type": "code",
      "metadata": {
        "id": "sNZ4ruzv-La8"
      },
      "source": [
        "def BestSource(GlobMin,GlobPars,Foods):\n",
        "  FoodNumber=len(Foods[:,0])\n",
        "  D=len(Foods[0,:])\n",
        "  solution=np.zeros(D)\n",
        "  for i in range(FoodNumber):\n",
        "    if (f[i]<GlobMin):\n",
        "      GlobMin=f[i]\n",
        "      for j in range(D):\n",
        "        GlobPars[j]=Foods[i,j]\n",
        "  return GlobMin,GlobPars,Foods"
      ],
      "execution_count": 90,
      "outputs": []
    },
    {
      "cell_type": "code",
      "metadata": {
        "id": "ckFKKQdNAVO1"
      },
      "source": [
        "def init(index,Foods,trial,f,fitness,MIN,MAX):\n",
        "  D=len(Foods[0,:])\n",
        "  FoodNumber=len(Foods[:,0])\n",
        "  solution=np.zeros(D)\n",
        "  for j in range(D):\n",
        "    r=np.random.random()\n",
        "    Foods[index,j]=r*(MAX[j]-MIN[j])+MIN[j]\n",
        "    solution[j]=Foods[index,j]\n",
        "    \n",
        "  f[index]=function(solution)\n",
        "  fitness[index]=CalcFit(f[index])\n",
        "  trial[index]=0\n",
        "  \n",
        "  return Foods,trial,f,fitness"
      ],
      "execution_count": 91,
      "outputs": []
    },
    {
      "cell_type": "code",
      "metadata": {
        "id": "Nbr0xLBdITa5"
      },
      "source": [
        "def initial(fitness,trial,f,Foods,GlobMin,GlobPars,MIN,MAX):\n",
        "  D=len(Foods[0,:])\n",
        "  FoodNumber=len(Foods[:,0])\n",
        "  for i in range(FoodNumber):\n",
        "    Foods,trial,f,fitness=init(i,Foods,trial,f,fitness,MIN,MAX) \n",
        "  GlobMin=f[0]\n",
        "  for i in range(D):\n",
        "    GlobPars[i]=Foods[0,i]\n",
        "  return  f,Foods,GlobMin,GlobPars\n"
      ],
      "execution_count": 92,
      "outputs": []
    },
    {
      "cell_type": "code",
      "metadata": {
        "id": "Jsfc_Dr5MmuX"
      },
      "source": [
        "def EmployedBees(trial,Foods,MIN,MAX):\n",
        "  FoodNumber=len(Foods[:,0])\n",
        "  NP=FoodNumber\n",
        "  D=len(Foods[0,:])\n",
        "  solution=np.zeros(D)\n",
        "  for i in range(FoodNumber):\n",
        "    r = np.random.random()\n",
        "    par2chan= int(r*D)\n",
        "    r = np.random.random()\n",
        "    neighbour=int(r*D)\n",
        "    if(neighbour >= NP):\n",
        "      neighbour=NP-1\n",
        "      \n",
        "    while(neighbour==i):\n",
        "      r = np.random.random()\n",
        "      neighbour=int(r*FoodNumber)\n",
        "      if(neighbour >= NP):\n",
        "        neighbour=NP-1\n",
        "    for j in range(D):\n",
        "      solution[j]=Foods[i,j]\n",
        "\n",
        "    r = np.random.random()\n",
        "    A=Foods[i,par2chan]\n",
        "    B=Foods[neighbour,par2chan]\n",
        "    solution[par2chan]=Foods[i,par2chan]+(A-B)*(r-0.5)*2;\n",
        "    if (solution[par2chan]<MIN[par2chan]):\n",
        "      solution[par2chan]=MIN[par2chan]\n",
        "    if (solution[par2chan]>MAX[par2chan]):\n",
        "      solution[par2chan]=MAX[par2chan]\n",
        "    ObjValSol=function(solution)\n",
        "    FitnessSol=CalcFit(ObjValSol)\n",
        "    \n",
        "    if(FitnessSol>fitness[i]):\n",
        "      trial[i]=0\n",
        "      for j in range(D):\n",
        "        Foods[i,j]=solution[j]\n",
        "      f[i]=ObjValSol\n",
        "      fitness[i]=FitnessSol\n",
        "    else:\n",
        "      trial[i]=trial[i]+1 \n",
        "      \n",
        "  return trial,Foods"
      ],
      "execution_count": 93,
      "outputs": []
    },
    {
      "cell_type": "code",
      "metadata": {
        "id": "yibq0wsUThgD"
      },
      "source": [
        "def CalcProb(fitness,prob):\n",
        "  FoodNumber=len(fitness)\n",
        "  maxfit=fitness[0]\n",
        "  for i in range(1,FoodNumber):    \n",
        "    if (fitness[i]>maxfit):\n",
        "      maxfit=fitness[i]\n",
        "  for i in range(FoodNumber):\n",
        "    prob[i]=(0.9*(fitness[i]/maxfit))+0.1\n",
        "  return fitness,prob\n"
      ],
      "execution_count": 94,
      "outputs": []
    },
    {
      "cell_type": "code",
      "metadata": {
        "id": "RRHG1BVqiNaZ"
      },
      "source": [
        "def OnlookerBees(trial,Foods,MIN,MAX):\n",
        "  D=len(Foods[0,:])\n",
        "  solution=np.zeros(D)\n",
        "  FoodNumber=len(Foods[:,0])\n",
        "  i=0\n",
        "  t=0\n",
        "  while(t<FoodNumber):\n",
        "    r = np.random.random()\n",
        "    if(r<prob[i]): \n",
        "      r = np.random.random()\n",
        "      t=t+1\n",
        "      par2chan=int(r*D)\n",
        "      r = np.random.random()\n",
        "      neighbour=int(r*FoodNumber)\n",
        "\n",
        "      while(neighbour==i):\n",
        "        r = np.random.random()\n",
        "        neighbour=int(r*FoodNumber)\n",
        "      for j in range(D):\n",
        "        solution[j]=Foods[i,j]\n",
        "\n",
        "      r = np.random.random()\n",
        "      A=Foods[i,par2chan]\n",
        "      B=Foods[neighbour,par2chan]\n",
        "      solution[par2chan]=A+(A-B)*(r-0.5)*2\n",
        "\n",
        "      if (solution[par2chan]<MIN[par2chan]):\n",
        "              solution[par2chan]=MIN[par2chan]\n",
        "      if (solution[par2chan]>MAX[par2chan]):\n",
        "              solution[par2chan]=MAX[par2chan]\n",
        "      ObjValSol=function(solution)\n",
        "      FitnessSol=CalcFit(ObjValSol)\n",
        "              \n",
        "      if(FitnessSol>fitness[i]):\n",
        "        trial[i]=0\n",
        "        for j in range(D):\n",
        "          Foods[i,j]=solution[j]\n",
        "        f[i]=ObjValSol\n",
        "        fitness[i]=FitnessSol\n",
        "      else:\n",
        "        trial[i]=trial[i]+1\n",
        "      i=i+1\n",
        "      if (i==FoodNumber):\n",
        "        i=0\n",
        "  return trial,Foods\n"
      ],
      "execution_count": 95,
      "outputs": []
    },
    {
      "cell_type": "code",
      "metadata": {
        "id": "lZT7tTIPRNz4"
      },
      "source": [
        "def ScoutBees(fitness,f,Foods,trial,MIN,MAX):\n",
        "  FoodNumber=len(Foods[:,0])\n",
        "  max_trial=0\n",
        "  for i in range(1,FoodNumber):\n",
        "    if (trial[i]>trial[max_trial]):\n",
        "      max_trial=i\n",
        "  if(trial[max_trial]>=limit):\n",
        "    Foods,trial,f,fitness=init(max_trial,Foods,trial,f,fitness,MIN,MAX)\n",
        "  return trial,Foods\n"
      ],
      "execution_count": 96,
      "outputs": []
    },
    {
      "cell_type": "code",
      "metadata": {
        "id": "fHwM7maM7L7K",
        "outputId": "add9bca8-f6c0-4973-96b0-1f5125452032",
        "colab": {
          "base_uri": "https://localhost:8080/"
        }
      },
      "source": [
        "'''/*Main program of the ABC algorithm*/'''\n",
        "\n",
        "NPAR=175 #Numero de fontes de comida\n",
        "ITE=1000 #ITERACOES (maxCycle)\n",
        "PAR=n_hot*n_trocas* 2 #NUM DE PARAMETROS A SER OTIMIZADOS\n",
        "MAX=[] # MAXIMO DE CADA PARAMETRO\n",
        "MIN=[] # MINIMO DE CADA PARAMETRO\n",
        "for k in range(PAR):\n",
        "  MAX.append(1)\n",
        "  MIN.append(0)\n",
        "\n",
        "limit=100 # quantas vezes obtem resposta identica antes de encerrar \n",
        "runtime=4 # quantas vezes vai rodar para tirar a media\n",
        "\n",
        "f=np.zeros(NPAR) \n",
        "Foods=np.zeros((NPAR,PAR)) \n",
        "solution=np.zeros(PAR)\n",
        "fitness=np.zeros(NPAR)\n",
        "trial=np.zeros(NPAR)\n",
        "prob=np.zeros(NPAR)\n",
        "GlobPars=np.zeros(PAR)\n",
        "GlobMins=np.zeros(runtime)\n",
        "GlobMin=1e99\n",
        "BestAll = 1e99\n",
        "for run in range(runtime):\n",
        "  f,Foods,GlobMin,GlobPars= initial(fitness,trial,f,Foods,GlobMin,GlobPars,MIN,MAX)\n",
        "  GlobMin,GlobPars,Foods=BestSource(GlobMin,GlobPars,Foods)\n",
        "\n",
        "  for iter in range(ITE):\n",
        "    trial,Foods=EmployedBees(trial,Foods,MIN,MAX)\n",
        "    fitness,prob=CalcProb(fitness,prob)\n",
        "    trial,Foods=OnlookerBees(trial,Foods,MIN,MAX)\n",
        "    GlobMin,GlobPars,Foods=BestSource(GlobMin,GlobPars,Foods)\n",
        "    trial,Foods=ScoutBees(fitness,f,Foods,trial,MIN,MAX)\n",
        "    if BestAll > GlobMin:\n",
        "      x_best = GlobPars\n",
        "      cost_best = GlobMin\n",
        "\n",
        "\n",
        "\n",
        "\n",
        "  print(\"run\",run+1,\"GBest=\",GlobMin,\" \\n\");\n",
        "  GlobMins[run]=GlobMin\n",
        "\n",
        "mean=np.average(GlobMins)\n",
        "\n",
        "\n",
        "print(\"Means of\",runtime,\"runs:\",mean,\"\\n\")"
      ],
      "execution_count": 97,
      "outputs": [
        {
          "output_type": "stream",
          "name": "stderr",
          "text": [
            "<ipython-input-88-dd38f43b3373>:81: RuntimeWarning: invalid value encountered in double_scalars\n",
            "  LMDT = (d1 - d2) / np.log(d1/d2)\n",
            "<ipython-input-88-dd38f43b3373>:130: RuntimeWarning: invalid value encountered in double_scalars\n",
            "  LMDT = (d1 - d2) / np.log(d1/d2)\n"
          ]
        },
        {
          "output_type": "stream",
          "name": "stdout",
          "text": [
            "run 1 GBest= 24028089.741904195  \n",
            "\n",
            "run 2 GBest= 23390261.759700067  \n",
            "\n",
            "run 3 GBest= 21996695.394287538  \n",
            "\n",
            "run 4 GBest= 22464583.015377544  \n",
            "\n",
            "Means of 4 runs: 22969907.477817334 \n",
            "\n"
          ]
        }
      ]
    },
    {
      "cell_type": "code",
      "source": [
        "Cost, Conditions, Temp =Cost_find(x_best,ans = True)\n",
        "print('Cost',Cost)\n",
        "print('Conditions',Conditions)\n",
        "print('Temp',Temp)\n",
        "print('GlobPars',GlobPars)"
      ],
      "metadata": {
        "colab": {
          "base_uri": "https://localhost:8080/"
        },
        "id": "yZMITaaL074s",
        "outputId": "e1b71483-eeb5-4efe-fecf-e75ffe436760"
      },
      "execution_count": 98,
      "outputs": [
        {
          "output_type": "stream",
          "name": "stdout",
          "text": [
            "Cost 22464583.015377544\n",
            "Conditions [['No', 'C2', 'C1'], ['C2', 'C1', 'C2']]\n",
            "Temp {'H1': [400, 400, 192.21301676336103, 99.2171027662185], 'H2': [210, 100.27927998438916, 44.06837924788972, 44.06837924788972], 'C1': [20, 90.26362592062429, 160.0105614184812], 'C2': [100, 191.43393334634237, 295.3274249646619, 295.3274249646619]}\n",
            "GlobPars [0.06579584 0.6768144  0.63529179 0.71570175 0.5302802  0.7011662\n",
            " 0.57719052 0.61113819 0.27351739 0.645416   0.33065236 0.37551275]\n"
          ]
        }
      ]
    },
    {
      "cell_type": "code",
      "source": [],
      "metadata": {
        "id": "F6hfb5yg0qXi"
      },
      "execution_count": 98,
      "outputs": []
    }
  ]
}