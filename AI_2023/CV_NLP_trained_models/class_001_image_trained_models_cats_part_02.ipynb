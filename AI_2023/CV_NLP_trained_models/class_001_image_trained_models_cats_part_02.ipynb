{
  "nbformat": 4,
  "nbformat_minor": 0,
  "metadata": {
    "colab": {
      "provenance": [],
      "authorship_tag": "ABX9TyPCL3iJ1A5a6edatgtTZnKB",
      "include_colab_link": true
    },
    "kernelspec": {
      "name": "python3",
      "display_name": "Python 3"
    },
    "language_info": {
      "name": "python"
    }
  },
  "cells": [
    {
      "cell_type": "markdown",
      "metadata": {
        "id": "view-in-github",
        "colab_type": "text"
      },
      "source": [
        "<a href=\"https://colab.research.google.com/github/ucfilho/AI/blob/main/AI_2023/CV_NLP_trained_models/class_001_image_trained_models_cats_part_02.ipynb\" target=\"_parent\"><img src=\"https://colab.research.google.com/assets/colab-badge.svg\" alt=\"Open In Colab\"/></a>"
      ]
    },
    {
      "cell_type": "code",
      "source": [
        "import cv2\n",
        "import numpy as np\n",
        "import pandas as pd\n",
        "import random\n",
        "import zipfile\n",
        "from matplotlib import pyplot as plt\n",
        "import skimage.feature\n",
        "from string import digits\n",
        "import seaborn as sns\n",
        "import skimage\n",
        "import tensorflow as tf\n",
        "from sklearn.model_selection import train_test_split\n",
        "from imageio import imread"
      ],
      "metadata": {
        "id": "nFJ-84YNHLXL"
      },
      "execution_count": null,
      "outputs": []
    },
    {
      "cell_type": "code",
      "source": [
        "!git clone https://github.com/ucfilho/Machine_Learning_DataSet\n",
        "%cd Machine_Learning_DataSet"
      ],
      "metadata": {
        "colab": {
          "base_uri": "https://localhost:8080/"
        },
        "id": "KyPKykrwHL5x",
        "outputId": "c167ecfa-98ad-4dba-d9f6-4493667b4656"
      },
      "execution_count": null,
      "outputs": [
        {
          "output_type": "stream",
          "name": "stdout",
          "text": [
            "fatal: destination path 'Machine_Learning_DataSet' already exists and is not an empty directory.\n",
            "/content/Machine_Learning_DataSet\n"
          ]
        }
      ]
    },
    {
      "cell_type": "code",
      "source": [
        "# check: https://pythontutorials.eu/deep-learning/transfer-learning/#"
      ],
      "metadata": {
        "id": "Rch2aEdP7gpP"
      },
      "execution_count": null,
      "outputs": []
    },
    {
      "cell_type": "code",
      "source": [
        "FILE='cats.zip'\n",
        "archive = zipfile.ZipFile(FILE, 'r')\n",
        "archive.extractall()"
      ],
      "metadata": {
        "id": "8moSTsULHOKZ"
      },
      "execution_count": null,
      "outputs": []
    },
    {
      "cell_type": "code",
      "source": [
        "archive = zipfile.ZipFile(FILE, 'r')\n",
        "archive.extractall()"
      ],
      "metadata": {
        "id": "h4mKx6iJHhLh"
      },
      "execution_count": null,
      "outputs": []
    },
    {
      "cell_type": "code",
      "source": [
        "img_name=[]\n",
        "with zipfile.ZipFile(FILE, \"r\") as f:\n",
        "    for name in f.namelist():\n",
        "        img_name.append(name)"
      ],
      "metadata": {
        "id": "SRQwKMUSIfWy"
      },
      "execution_count": null,
      "outputs": []
    },
    {
      "cell_type": "code",
      "source": [
        "from tensorflow.keras.applications.mobilenet_v2 import preprocess_input\n",
        "\n",
        "data = np.empty((40, 224, 224, 3))\n",
        "\n",
        "for i in range(0, 20):\n",
        "    if('jpg' in img_name[i]):\n",
        "      im = cv2.imread(img_name[i])\n",
        "      im = cv2.resize(im, (224, 224))\n",
        "      im = preprocess_input(im)\n",
        "      if(max(im.flatten())>1):\n",
        "        im = im/max(im.flatten())\n",
        "      data[i] = im\n",
        "\n",
        "for i in range(0, 20):\n",
        "    if('jpg' in img_name[i+20]):\n",
        "      im = np.array(cv2.imread(img_name[i+20]))\n",
        "      im = cv2.resize(im,(224, 224))\n",
        "      im = preprocess_input(im)\n",
        "      if(max(im.flatten())>1):\n",
        "        im = im/max(im.flatten())\n",
        "      data[i + 20] = im\n",
        "\n",
        "labels = np.empty(40, dtype=int)\n",
        "labels[:20] = 0\n",
        "labels[20:] = 1"
      ],
      "metadata": {
        "id": "5iGgnU0WbTpr"
      },
      "execution_count": null,
      "outputs": []
    },
    {
      "cell_type": "code",
      "source": [
        "data.shape"
      ],
      "metadata": {
        "colab": {
          "base_uri": "https://localhost:8080/"
        },
        "id": "XXlx_TjSsKhW",
        "outputId": "6df1fe60-26f2-4176-fbcd-ce96d5edd829"
      },
      "execution_count": null,
      "outputs": [
        {
          "output_type": "execute_result",
          "data": {
            "text/plain": [
              "(40, 224, 224, 3)"
            ]
          },
          "metadata": {},
          "execution_count": 8
        }
      ]
    },
    {
      "cell_type": "code",
      "source": [
        "from keras.applications.mobilenet_v2 import MobileNetV2\n",
        "\n",
        "model = MobileNetV2(weights='imagenet')"
      ],
      "metadata": {
        "id": "HHeor4Vft6e9"
      },
      "execution_count": null,
      "outputs": []
    },
    {
      "cell_type": "code",
      "source": [
        "from keras.applications.mobilenet_v2 import decode_predictions\n",
        "\n",
        "predictions = model.predict(data)\n",
        "for decoded_prediction in decode_predictions(predictions, top=1):\n",
        "    for name, desc, score in decoded_prediction:\n",
        "        print('- {} ({:.2f}%)'.format(desc, 100 * score))"
      ],
      "metadata": {
        "colab": {
          "base_uri": "https://localhost:8080/"
        },
        "id": "QcctYQ5Lz-Gf",
        "outputId": "b608cc83-edb3-4707-d905-a53b8b9cd364"
      },
      "execution_count": null,
      "outputs": [
        {
          "output_type": "stream",
          "name": "stdout",
          "text": [
            "2/2 [==============================] - 6s 472ms/step\n",
            "- matchstick (7.81%)\n",
            "- Siamese_cat (24.27%)\n",
            "- Siamese_cat (34.31%)\n",
            "- tabby (32.32%)\n",
            "- tiger_cat (22.87%)\n",
            "- tabby (74.02%)\n",
            "- Siamese_cat (43.89%)\n",
            "- Siamese_cat (63.72%)\n",
            "- Persian_cat (64.12%)\n",
            "- tabby (83.47%)\n",
            "- Persian_cat (21.44%)\n",
            "- tabby (50.04%)\n",
            "- tabby (45.98%)\n",
            "- Egyptian_cat (52.88%)\n",
            "- tabby (49.10%)\n",
            "- tabby (42.63%)\n",
            "- tabby (77.33%)\n",
            "- tabby (24.56%)\n",
            "- tabby (7.53%)\n",
            "- Egyptian_cat (35.54%)\n",
            "- Egyptian_cat (60.96%)\n",
            "- Egyptian_cat (55.87%)\n",
            "- Egyptian_cat (61.45%)\n",
            "- Egyptian_cat (48.52%)\n",
            "- Egyptian_cat (14.59%)\n",
            "- tabby (73.19%)\n",
            "- tabby (42.88%)\n",
            "- Egyptian_cat (28.94%)\n",
            "- Egyptian_cat (33.16%)\n",
            "- lynx (23.30%)\n",
            "- Egyptian_cat (33.36%)\n",
            "- Arctic_fox (45.06%)\n",
            "- Siamese_cat (22.66%)\n",
            "- Siamese_cat (48.55%)\n",
            "- Siamese_cat (71.27%)\n",
            "- Egyptian_cat (47.61%)\n",
            "- Egyptian_cat (18.50%)\n",
            "- tabby (24.14%)\n",
            "- Egyptian_cat (24.38%)\n",
            "- Egyptian_cat (44.95%)\n"
          ]
        }
      ]
    },
    {
      "cell_type": "code",
      "source": [
        "cont =0\n",
        "for i in decode_predictions(predictions, top=1):\n",
        "  cont += 1\n",
        "print(cont)"
      ],
      "metadata": {
        "colab": {
          "base_uri": "https://localhost:8080/"
        },
        "id": "l_uzaCng0a9O",
        "outputId": "cf4989a2-6dbe-4b75-de29-ed8021d1f3e8"
      },
      "execution_count": null,
      "outputs": [
        {
          "output_type": "stream",
          "name": "stdout",
          "text": [
            "40\n"
          ]
        }
      ]
    },
    {
      "cell_type": "code",
      "source": [
        "from tensorflow.keras import Model\n",
        "from tensorflow.keras.layers import Dense"
      ],
      "metadata": {
        "id": "VKOX6I-CcfXV"
      },
      "execution_count": null,
      "outputs": []
    },
    {
      "cell_type": "code",
      "source": [
        "# The first 15 images for male and female cats will be used for training\n",
        "training_data = np.empty((30, 224, 224, 3))\n",
        "training_data[:15] = data[:15]\n",
        "training_data[15:] = data[20:35]\n",
        "training_labels = np.empty(30)\n",
        "training_labels[:15] = 0\n",
        "training_labels[15:] = 1\n",
        "# The last 5 images for male and female cats will be used for validation\n",
        "validation_data = np.empty((10, 224, 224, 3))\n",
        "validation_data[:5] = data[15:20]\n",
        "validation_data[5:] = data[35:]\n",
        "validation_labels = np.empty(10)\n",
        "validation_labels[:5] = 0\n",
        "validation_labels[5:] = 1"
      ],
      "metadata": {
        "id": "jB_xS1e3cpds"
      },
      "execution_count": null,
      "outputs": []
    },
    {
      "cell_type": "code",
      "source": [
        "training_labels.shape"
      ],
      "metadata": {
        "colab": {
          "base_uri": "https://localhost:8080/"
        },
        "id": "0Pue3aDw4exo",
        "outputId": "4b9d7b93-0f89-4c5a-b060-9008570dff48"
      },
      "execution_count": null,
      "outputs": [
        {
          "output_type": "execute_result",
          "data": {
            "text/plain": [
              "(30,)"
            ]
          },
          "metadata": {},
          "execution_count": 14
        }
      ]
    },
    {
      "cell_type": "code",
      "source": [
        "cat_output2 = Dense(1, activation= 'sigmoid') #'relu')\n",
        "cat_output2 = cat_output2(model.layers[-2].output)\n",
        "cat_input2 = model.input\n",
        "cat_model2 = Model(inputs=cat_input2, outputs=cat_output2)\n",
        "for layer in cat_model2.layers[:-1]:\n",
        "    layer.trainable = False\n",
        "'''\n",
        "cat_model2.compile(\n",
        "    optimizer='adam',\n",
        "    loss='sparse_categorical_crossentropy',\n",
        "    metrics=['accuracy']\n",
        ")\n",
        "'''"
      ],
      "metadata": {
        "colab": {
          "base_uri": "https://localhost:8080/",
          "height": 37
        },
        "id": "T-RaWTCwcw37",
        "outputId": "8f00e3c4-5e98-4a8f-b514-bb5e59e5d453"
      },
      "execution_count": null,
      "outputs": [
        {
          "output_type": "execute_result",
          "data": {
            "text/plain": [
              "\"\\ncat_model2.compile(\\n    optimizer='adam',\\n    loss='sparse_categorical_crossentropy',\\n    metrics=['accuracy']\\n)\\n\""
            ],
            "application/vnd.google.colaboratory.intrinsic+json": {
              "type": "string"
            }
          },
          "metadata": {},
          "execution_count": 15
        }
      ]
    },
    {
      "cell_type": "code",
      "source": [
        "'''cat_model2.compile(optimizer='adam',\n",
        "              loss=tf.keras.losses.SparseCategoricalCrossentropy(from_logits=True),\n",
        "              metrics=['accuracy'])\n",
        "'''"
      ],
      "metadata": {
        "colab": {
          "base_uri": "https://localhost:8080/",
          "height": 37
        },
        "id": "77aedNTA5UTA",
        "outputId": "6b048c3d-9b07-49ec-b509-f0fd420d8aa2"
      },
      "execution_count": null,
      "outputs": [
        {
          "output_type": "execute_result",
          "data": {
            "text/plain": [
              "\"cat_model2.compile(optimizer='adam',\\n              loss=tf.keras.losses.SparseCategoricalCrossentropy(from_logits=True),\\n              metrics=['accuracy'])\\n\""
            ],
            "application/vnd.google.colaboratory.intrinsic+json": {
              "type": "string"
            }
          },
          "metadata": {},
          "execution_count": 16
        }
      ]
    },
    {
      "cell_type": "code",
      "source": [
        "'''base_learning_rate = 0.0001\n",
        "cat_model2.compile(optimizer=tf.keras.optimizers.Adam(learning_rate=base_learning_rate),\n",
        "              loss=tf.keras.losses.BinaryCrossentropy(from_logits=True),\n",
        "              metrics=['accuracy'])'''\n",
        "base_learning_rate = 0.0001\n",
        "cat_model2.compile(optimizer=tf.keras.optimizers.RMSprop(learning_rate=base_learning_rate),\n",
        "              loss=tf.keras.losses.BinaryCrossentropy(from_logits=True),\n",
        "              metrics=['accuracy'])\n"
      ],
      "metadata": {
        "id": "PrsQTs8b670C"
      },
      "execution_count": null,
      "outputs": []
    },
    {
      "cell_type": "code",
      "source": [
        "r = cat_model2.fit(\n",
        "    x=training_data,\n",
        "    y=training_labels,\n",
        "    validation_data=(validation_data, validation_labels),\n",
        "    epochs=250,\n",
        "    verbose=2\n",
        ")"
      ],
      "metadata": {
        "colab": {
          "base_uri": "https://localhost:8080/"
        },
        "id": "AsRtJLVec0-7",
        "outputId": "92e5c90f-0141-4f5f-d529-b3ca121f0d20"
      },
      "execution_count": null,
      "outputs": [
        {
          "output_type": "stream",
          "name": "stdout",
          "text": [
            "Epoch 1/250\n"
          ]
        },
        {
          "output_type": "stream",
          "name": "stderr",
          "text": [
            "/usr/local/lib/python3.9/dist-packages/keras/backend.py:5703: UserWarning: \"`binary_crossentropy` received `from_logits=True`, but the `output` argument was produced by a Sigmoid activation and thus does not represent logits. Was this intended?\n",
            "  output, from_logits = _get_logits(\n"
          ]
        },
        {
          "output_type": "stream",
          "name": "stdout",
          "text": [
            "1/1 - 9s - loss: 0.5893 - accuracy: 0.6333 - val_loss: 0.6063 - val_accuracy: 0.7000 - 9s/epoch - 9s/step\n",
            "Epoch 2/250\n",
            "1/1 - 2s - loss: 0.5770 - accuracy: 0.7000 - val_loss: 0.6001 - val_accuracy: 0.7000 - 2s/epoch - 2s/step\n",
            "Epoch 3/250\n",
            "1/1 - 1s - loss: 0.5690 - accuracy: 0.7000 - val_loss: 0.5958 - val_accuracy: 0.7000 - 1s/epoch - 1s/step\n",
            "Epoch 4/250\n",
            "1/1 - 1s - loss: 0.5626 - accuracy: 0.7000 - val_loss: 0.5924 - val_accuracy: 0.7000 - 1s/epoch - 1s/step\n",
            "Epoch 5/250\n",
            "1/1 - 1s - loss: 0.5570 - accuracy: 0.7000 - val_loss: 0.5897 - val_accuracy: 0.7000 - 1s/epoch - 1s/step\n",
            "Epoch 6/250\n",
            "1/1 - 1s - loss: 0.5520 - accuracy: 0.7000 - val_loss: 0.5873 - val_accuracy: 0.7000 - 1s/epoch - 1s/step\n",
            "Epoch 7/250\n",
            "1/1 - 1s - loss: 0.5475 - accuracy: 0.7000 - val_loss: 0.5852 - val_accuracy: 0.7000 - 1s/epoch - 1s/step\n",
            "Epoch 8/250\n",
            "1/1 - 2s - loss: 0.5432 - accuracy: 0.7000 - val_loss: 0.5834 - val_accuracy: 0.7000 - 2s/epoch - 2s/step\n",
            "Epoch 9/250\n",
            "1/1 - 2s - loss: 0.5392 - accuracy: 0.7333 - val_loss: 0.5817 - val_accuracy: 0.7000 - 2s/epoch - 2s/step\n",
            "Epoch 10/250\n",
            "1/1 - 3s - loss: 0.5353 - accuracy: 0.7667 - val_loss: 0.5801 - val_accuracy: 0.7000 - 3s/epoch - 3s/step\n",
            "Epoch 11/250\n",
            "1/1 - 2s - loss: 0.5316 - accuracy: 0.7667 - val_loss: 0.5786 - val_accuracy: 0.7000 - 2s/epoch - 2s/step\n",
            "Epoch 12/250\n",
            "1/1 - 1s - loss: 0.5281 - accuracy: 0.7667 - val_loss: 0.5772 - val_accuracy: 0.7000 - 1s/epoch - 1s/step\n",
            "Epoch 13/250\n",
            "1/1 - 1s - loss: 0.5247 - accuracy: 0.8000 - val_loss: 0.5759 - val_accuracy: 0.7000 - 1s/epoch - 1s/step\n",
            "Epoch 14/250\n",
            "1/1 - 1s - loss: 0.5213 - accuracy: 0.7667 - val_loss: 0.5747 - val_accuracy: 0.8000 - 1s/epoch - 1s/step\n",
            "Epoch 15/250\n",
            "1/1 - 1s - loss: 0.5181 - accuracy: 0.8000 - val_loss: 0.5735 - val_accuracy: 0.8000 - 1s/epoch - 1s/step\n",
            "Epoch 16/250\n",
            "1/1 - 2s - loss: 0.5149 - accuracy: 0.8333 - val_loss: 0.5723 - val_accuracy: 0.8000 - 2s/epoch - 2s/step\n",
            "Epoch 17/250\n",
            "1/1 - 2s - loss: 0.5118 - accuracy: 0.8333 - val_loss: 0.5713 - val_accuracy: 0.8000 - 2s/epoch - 2s/step\n",
            "Epoch 18/250\n",
            "1/1 - 2s - loss: 0.5087 - accuracy: 0.8333 - val_loss: 0.5702 - val_accuracy: 0.8000 - 2s/epoch - 2s/step\n",
            "Epoch 19/250\n",
            "1/1 - 1s - loss: 0.5057 - accuracy: 0.8333 - val_loss: 0.5692 - val_accuracy: 0.8000 - 1s/epoch - 1s/step\n",
            "Epoch 20/250\n",
            "1/1 - 1s - loss: 0.5028 - accuracy: 0.8333 - val_loss: 0.5682 - val_accuracy: 0.8000 - 1s/epoch - 1s/step\n",
            "Epoch 21/250\n",
            "1/1 - 2s - loss: 0.4999 - accuracy: 0.8333 - val_loss: 0.5673 - val_accuracy: 0.8000 - 2s/epoch - 2s/step\n",
            "Epoch 22/250\n",
            "1/1 - 1s - loss: 0.4970 - accuracy: 0.8333 - val_loss: 0.5664 - val_accuracy: 0.8000 - 1s/epoch - 1s/step\n",
            "Epoch 23/250\n",
            "1/1 - 1s - loss: 0.4942 - accuracy: 0.8333 - val_loss: 0.5655 - val_accuracy: 0.8000 - 1s/epoch - 1s/step\n",
            "Epoch 24/250\n",
            "1/1 - 1s - loss: 0.4914 - accuracy: 0.8333 - val_loss: 0.5646 - val_accuracy: 0.7000 - 1s/epoch - 1s/step\n",
            "Epoch 25/250\n",
            "1/1 - 2s - loss: 0.4887 - accuracy: 0.8333 - val_loss: 0.5638 - val_accuracy: 0.7000 - 2s/epoch - 2s/step\n",
            "Epoch 26/250\n",
            "1/1 - 2s - loss: 0.4860 - accuracy: 0.8667 - val_loss: 0.5629 - val_accuracy: 0.7000 - 2s/epoch - 2s/step\n",
            "Epoch 27/250\n",
            "1/1 - 1s - loss: 0.4833 - accuracy: 0.8667 - val_loss: 0.5621 - val_accuracy: 0.7000 - 1s/epoch - 1s/step\n",
            "Epoch 28/250\n",
            "1/1 - 2s - loss: 0.4806 - accuracy: 0.8667 - val_loss: 0.5613 - val_accuracy: 0.7000 - 2s/epoch - 2s/step\n",
            "Epoch 29/250\n",
            "1/1 - 1s - loss: 0.4780 - accuracy: 0.8667 - val_loss: 0.5606 - val_accuracy: 0.7000 - 1s/epoch - 1s/step\n",
            "Epoch 30/250\n",
            "1/1 - 1s - loss: 0.4753 - accuracy: 0.8667 - val_loss: 0.5598 - val_accuracy: 0.7000 - 1s/epoch - 1s/step\n",
            "Epoch 31/250\n",
            "1/1 - 2s - loss: 0.4727 - accuracy: 0.8667 - val_loss: 0.5591 - val_accuracy: 0.7000 - 2s/epoch - 2s/step\n",
            "Epoch 32/250\n",
            "1/1 - 1s - loss: 0.4702 - accuracy: 0.8667 - val_loss: 0.5584 - val_accuracy: 0.7000 - 1s/epoch - 1s/step\n",
            "Epoch 33/250\n",
            "1/1 - 1s - loss: 0.4676 - accuracy: 0.8667 - val_loss: 0.5577 - val_accuracy: 0.7000 - 1s/epoch - 1s/step\n",
            "Epoch 34/250\n",
            "1/1 - 2s - loss: 0.4651 - accuracy: 0.8667 - val_loss: 0.5570 - val_accuracy: 0.7000 - 2s/epoch - 2s/step\n",
            "Epoch 35/250\n",
            "1/1 - 1s - loss: 0.4626 - accuracy: 0.8667 - val_loss: 0.5563 - val_accuracy: 0.7000 - 1s/epoch - 1s/step\n",
            "Epoch 36/250\n",
            "1/1 - 1s - loss: 0.4601 - accuracy: 0.8667 - val_loss: 0.5556 - val_accuracy: 0.7000 - 1s/epoch - 1s/step\n",
            "Epoch 37/250\n",
            "1/1 - 1s - loss: 0.4576 - accuracy: 0.8667 - val_loss: 0.5550 - val_accuracy: 0.7000 - 1s/epoch - 1s/step\n",
            "Epoch 38/250\n",
            "1/1 - 2s - loss: 0.4552 - accuracy: 0.8667 - val_loss: 0.5543 - val_accuracy: 0.7000 - 2s/epoch - 2s/step\n",
            "Epoch 39/250\n",
            "1/1 - 1s - loss: 0.4527 - accuracy: 0.8667 - val_loss: 0.5537 - val_accuracy: 0.7000 - 1s/epoch - 1s/step\n",
            "Epoch 40/250\n",
            "1/1 - 1s - loss: 0.4503 - accuracy: 0.8667 - val_loss: 0.5531 - val_accuracy: 0.7000 - 1s/epoch - 1s/step\n",
            "Epoch 41/250\n",
            "1/1 - 1s - loss: 0.4479 - accuracy: 0.8667 - val_loss: 0.5525 - val_accuracy: 0.7000 - 1s/epoch - 1s/step\n",
            "Epoch 42/250\n",
            "1/1 - 2s - loss: 0.4455 - accuracy: 0.8667 - val_loss: 0.5519 - val_accuracy: 0.7000 - 2s/epoch - 2s/step\n",
            "Epoch 43/250\n",
            "1/1 - 2s - loss: 0.4431 - accuracy: 0.8667 - val_loss: 0.5513 - val_accuracy: 0.7000 - 2s/epoch - 2s/step\n",
            "Epoch 44/250\n",
            "1/1 - 2s - loss: 0.4408 - accuracy: 0.8667 - val_loss: 0.5507 - val_accuracy: 0.7000 - 2s/epoch - 2s/step\n",
            "Epoch 45/250\n",
            "1/1 - 1s - loss: 0.4384 - accuracy: 0.9000 - val_loss: 0.5501 - val_accuracy: 0.7000 - 1s/epoch - 1s/step\n",
            "Epoch 46/250\n",
            "1/1 - 2s - loss: 0.4361 - accuracy: 0.9000 - val_loss: 0.5495 - val_accuracy: 0.7000 - 2s/epoch - 2s/step\n",
            "Epoch 47/250\n",
            "1/1 - 1s - loss: 0.4338 - accuracy: 0.9000 - val_loss: 0.5489 - val_accuracy: 0.7000 - 1s/epoch - 1s/step\n",
            "Epoch 48/250\n",
            "1/1 - 2s - loss: 0.4315 - accuracy: 0.9333 - val_loss: 0.5483 - val_accuracy: 0.7000 - 2s/epoch - 2s/step\n",
            "Epoch 49/250\n",
            "1/1 - 2s - loss: 0.4292 - accuracy: 0.9333 - val_loss: 0.5478 - val_accuracy: 0.7000 - 2s/epoch - 2s/step\n",
            "Epoch 50/250\n",
            "1/1 - 3s - loss: 0.4270 - accuracy: 0.9333 - val_loss: 0.5472 - val_accuracy: 0.7000 - 3s/epoch - 3s/step\n",
            "Epoch 51/250\n",
            "1/1 - 1s - loss: 0.4247 - accuracy: 0.9333 - val_loss: 0.5467 - val_accuracy: 0.7000 - 1s/epoch - 1s/step\n",
            "Epoch 52/250\n",
            "1/1 - 2s - loss: 0.4225 - accuracy: 0.9333 - val_loss: 0.5461 - val_accuracy: 0.7000 - 2s/epoch - 2s/step\n",
            "Epoch 53/250\n",
            "1/1 - 1s - loss: 0.4202 - accuracy: 0.9333 - val_loss: 0.5456 - val_accuracy: 0.7000 - 1s/epoch - 1s/step\n",
            "Epoch 54/250\n",
            "1/1 - 1s - loss: 0.4180 - accuracy: 0.9333 - val_loss: 0.5451 - val_accuracy: 0.7000 - 1s/epoch - 1s/step\n",
            "Epoch 55/250\n",
            "1/1 - 2s - loss: 0.4158 - accuracy: 0.9333 - val_loss: 0.5445 - val_accuracy: 0.7000 - 2s/epoch - 2s/step\n",
            "Epoch 56/250\n",
            "1/1 - 2s - loss: 0.4136 - accuracy: 0.9333 - val_loss: 0.5440 - val_accuracy: 0.7000 - 2s/epoch - 2s/step\n",
            "Epoch 57/250\n",
            "1/1 - 2s - loss: 0.4114 - accuracy: 0.9333 - val_loss: 0.5435 - val_accuracy: 0.7000 - 2s/epoch - 2s/step\n",
            "Epoch 58/250\n",
            "1/1 - 2s - loss: 0.4093 - accuracy: 0.9667 - val_loss: 0.5430 - val_accuracy: 0.7000 - 2s/epoch - 2s/step\n",
            "Epoch 59/250\n",
            "1/1 - 1s - loss: 0.4071 - accuracy: 0.9667 - val_loss: 0.5424 - val_accuracy: 0.7000 - 1s/epoch - 1s/step\n",
            "Epoch 60/250\n",
            "1/1 - 1s - loss: 0.4050 - accuracy: 0.9667 - val_loss: 0.5419 - val_accuracy: 0.7000 - 1s/epoch - 1s/step\n",
            "Epoch 61/250\n",
            "1/1 - 1s - loss: 0.4029 - accuracy: 0.9667 - val_loss: 0.5414 - val_accuracy: 0.7000 - 1s/epoch - 1s/step\n",
            "Epoch 62/250\n",
            "1/1 - 2s - loss: 0.4007 - accuracy: 0.9667 - val_loss: 0.5409 - val_accuracy: 0.7000 - 2s/epoch - 2s/step\n",
            "Epoch 63/250\n",
            "1/1 - 1s - loss: 0.3986 - accuracy: 0.9667 - val_loss: 0.5404 - val_accuracy: 0.7000 - 1s/epoch - 1s/step\n",
            "Epoch 64/250\n",
            "1/1 - 1s - loss: 0.3966 - accuracy: 0.9667 - val_loss: 0.5399 - val_accuracy: 0.7000 - 1s/epoch - 1s/step\n",
            "Epoch 65/250\n",
            "1/1 - 2s - loss: 0.3945 - accuracy: 0.9667 - val_loss: 0.5394 - val_accuracy: 0.7000 - 2s/epoch - 2s/step\n",
            "Epoch 66/250\n",
            "1/1 - 2s - loss: 0.3924 - accuracy: 0.9667 - val_loss: 0.5390 - val_accuracy: 0.7000 - 2s/epoch - 2s/step\n",
            "Epoch 67/250\n",
            "1/1 - 1s - loss: 0.3904 - accuracy: 0.9667 - val_loss: 0.5385 - val_accuracy: 0.7000 - 1s/epoch - 1s/step\n",
            "Epoch 68/250\n",
            "1/1 - 1s - loss: 0.3883 - accuracy: 0.9667 - val_loss: 0.5380 - val_accuracy: 0.7000 - 1s/epoch - 1s/step\n",
            "Epoch 69/250\n",
            "1/1 - 2s - loss: 0.3863 - accuracy: 0.9667 - val_loss: 0.5375 - val_accuracy: 0.7000 - 2s/epoch - 2s/step\n",
            "Epoch 70/250\n",
            "1/1 - 1s - loss: 0.3843 - accuracy: 0.9667 - val_loss: 0.5371 - val_accuracy: 0.7000 - 1s/epoch - 1s/step\n",
            "Epoch 71/250\n",
            "1/1 - 2s - loss: 0.3823 - accuracy: 0.9667 - val_loss: 0.5366 - val_accuracy: 0.7000 - 2s/epoch - 2s/step\n",
            "Epoch 72/250\n",
            "1/1 - 2s - loss: 0.3803 - accuracy: 0.9667 - val_loss: 0.5362 - val_accuracy: 0.7000 - 2s/epoch - 2s/step\n",
            "Epoch 73/250\n",
            "1/1 - 3s - loss: 0.3783 - accuracy: 0.9667 - val_loss: 0.5357 - val_accuracy: 0.7000 - 3s/epoch - 3s/step\n",
            "Epoch 74/250\n",
            "1/1 - 1s - loss: 0.3763 - accuracy: 0.9667 - val_loss: 0.5353 - val_accuracy: 0.7000 - 1s/epoch - 1s/step\n",
            "Epoch 75/250\n",
            "1/1 - 1s - loss: 0.3744 - accuracy: 0.9667 - val_loss: 0.5348 - val_accuracy: 0.7000 - 1s/epoch - 1s/step\n",
            "Epoch 76/250\n",
            "1/1 - 1s - loss: 0.3724 - accuracy: 0.9667 - val_loss: 0.5344 - val_accuracy: 0.7000 - 1s/epoch - 1s/step\n",
            "Epoch 77/250\n",
            "1/1 - 2s - loss: 0.3705 - accuracy: 0.9667 - val_loss: 0.5340 - val_accuracy: 0.7000 - 2s/epoch - 2s/step\n",
            "Epoch 78/250\n",
            "1/1 - 1s - loss: 0.3686 - accuracy: 0.9667 - val_loss: 0.5336 - val_accuracy: 0.7000 - 1s/epoch - 1s/step\n",
            "Epoch 79/250\n",
            "1/1 - 2s - loss: 0.3666 - accuracy: 0.9667 - val_loss: 0.5332 - val_accuracy: 0.7000 - 2s/epoch - 2s/step\n",
            "Epoch 80/250\n",
            "1/1 - 2s - loss: 0.3647 - accuracy: 0.9667 - val_loss: 0.5328 - val_accuracy: 0.8000 - 2s/epoch - 2s/step\n",
            "Epoch 81/250\n",
            "1/1 - 2s - loss: 0.3628 - accuracy: 0.9667 - val_loss: 0.5324 - val_accuracy: 0.8000 - 2s/epoch - 2s/step\n",
            "Epoch 82/250\n",
            "1/1 - 2s - loss: 0.3609 - accuracy: 0.9667 - val_loss: 0.5320 - val_accuracy: 0.8000 - 2s/epoch - 2s/step\n",
            "Epoch 83/250\n",
            "1/1 - 1s - loss: 0.3591 - accuracy: 0.9667 - val_loss: 0.5316 - val_accuracy: 0.8000 - 1s/epoch - 1s/step\n",
            "Epoch 84/250\n",
            "1/1 - 1s - loss: 0.3572 - accuracy: 0.9667 - val_loss: 0.5313 - val_accuracy: 0.8000 - 1s/epoch - 1s/step\n",
            "Epoch 85/250\n",
            "1/1 - 1s - loss: 0.3554 - accuracy: 0.9667 - val_loss: 0.5309 - val_accuracy: 0.8000 - 1s/epoch - 1s/step\n",
            "Epoch 86/250\n",
            "1/1 - 1s - loss: 0.3535 - accuracy: 0.9667 - val_loss: 0.5305 - val_accuracy: 0.8000 - 1s/epoch - 1s/step\n",
            "Epoch 87/250\n",
            "1/1 - 2s - loss: 0.3517 - accuracy: 0.9667 - val_loss: 0.5302 - val_accuracy: 0.8000 - 2s/epoch - 2s/step\n",
            "Epoch 88/250\n",
            "1/1 - 2s - loss: 0.3498 - accuracy: 0.9667 - val_loss: 0.5298 - val_accuracy: 0.8000 - 2s/epoch - 2s/step\n",
            "Epoch 89/250\n",
            "1/1 - 2s - loss: 0.3480 - accuracy: 0.9667 - val_loss: 0.5295 - val_accuracy: 0.8000 - 2s/epoch - 2s/step\n",
            "Epoch 90/250\n",
            "1/1 - 2s - loss: 0.3462 - accuracy: 0.9667 - val_loss: 0.5291 - val_accuracy: 0.8000 - 2s/epoch - 2s/step\n",
            "Epoch 91/250\n",
            "1/1 - 1s - loss: 0.3444 - accuracy: 0.9667 - val_loss: 0.5288 - val_accuracy: 0.8000 - 1s/epoch - 1s/step\n",
            "Epoch 92/250\n",
            "1/1 - 1s - loss: 0.3426 - accuracy: 0.9667 - val_loss: 0.5285 - val_accuracy: 0.8000 - 1s/epoch - 1s/step\n",
            "Epoch 93/250\n",
            "1/1 - 2s - loss: 0.3409 - accuracy: 0.9667 - val_loss: 0.5282 - val_accuracy: 0.8000 - 2s/epoch - 2s/step\n",
            "Epoch 94/250\n",
            "1/1 - 2s - loss: 0.3391 - accuracy: 0.9667 - val_loss: 0.5278 - val_accuracy: 0.8000 - 2s/epoch - 2s/step\n",
            "Epoch 95/250\n",
            "1/1 - 2s - loss: 0.3373 - accuracy: 0.9667 - val_loss: 0.5275 - val_accuracy: 0.8000 - 2s/epoch - 2s/step\n",
            "Epoch 96/250\n",
            "1/1 - 3s - loss: 0.3356 - accuracy: 0.9667 - val_loss: 0.5272 - val_accuracy: 0.8000 - 3s/epoch - 3s/step\n",
            "Epoch 97/250\n",
            "1/1 - 1s - loss: 0.3339 - accuracy: 0.9667 - val_loss: 0.5269 - val_accuracy: 0.8000 - 1s/epoch - 1s/step\n",
            "Epoch 98/250\n",
            "1/1 - 2s - loss: 0.3321 - accuracy: 1.0000 - val_loss: 0.5266 - val_accuracy: 0.8000 - 2s/epoch - 2s/step\n",
            "Epoch 99/250\n",
            "1/1 - 2s - loss: 0.3304 - accuracy: 1.0000 - val_loss: 0.5264 - val_accuracy: 0.8000 - 2s/epoch - 2s/step\n",
            "Epoch 100/250\n",
            "1/1 - 2s - loss: 0.3287 - accuracy: 1.0000 - val_loss: 0.5261 - val_accuracy: 0.8000 - 2s/epoch - 2s/step\n",
            "Epoch 101/250\n",
            "1/1 - 2s - loss: 0.3270 - accuracy: 1.0000 - val_loss: 0.5258 - val_accuracy: 0.8000 - 2s/epoch - 2s/step\n",
            "Epoch 102/250\n",
            "1/1 - 2s - loss: 0.3253 - accuracy: 1.0000 - val_loss: 0.5255 - val_accuracy: 0.8000 - 2s/epoch - 2s/step\n",
            "Epoch 103/250\n",
            "1/1 - 2s - loss: 0.3236 - accuracy: 1.0000 - val_loss: 0.5253 - val_accuracy: 0.8000 - 2s/epoch - 2s/step\n",
            "Epoch 104/250\n",
            "1/1 - 2s - loss: 0.3220 - accuracy: 1.0000 - val_loss: 0.5250 - val_accuracy: 0.8000 - 2s/epoch - 2s/step\n",
            "Epoch 105/250\n",
            "1/1 - 3s - loss: 0.3203 - accuracy: 1.0000 - val_loss: 0.5248 - val_accuracy: 0.8000 - 3s/epoch - 3s/step\n",
            "Epoch 106/250\n",
            "1/1 - 5s - loss: 0.3186 - accuracy: 1.0000 - val_loss: 0.5245 - val_accuracy: 0.8000 - 5s/epoch - 5s/step\n",
            "Epoch 107/250\n",
            "1/1 - 9s - loss: 0.3170 - accuracy: 1.0000 - val_loss: 0.5243 - val_accuracy: 0.8000 - 9s/epoch - 9s/step\n",
            "Epoch 108/250\n",
            "1/1 - 2s - loss: 0.3153 - accuracy: 1.0000 - val_loss: 0.5241 - val_accuracy: 0.8000 - 2s/epoch - 2s/step\n",
            "Epoch 109/250\n",
            "1/1 - 2s - loss: 0.3137 - accuracy: 1.0000 - val_loss: 0.5239 - val_accuracy: 0.8000 - 2s/epoch - 2s/step\n",
            "Epoch 110/250\n",
            "1/1 - 1s - loss: 0.3121 - accuracy: 1.0000 - val_loss: 0.5237 - val_accuracy: 0.8000 - 1s/epoch - 1s/step\n",
            "Epoch 111/250\n",
            "1/1 - 1s - loss: 0.3105 - accuracy: 1.0000 - val_loss: 0.5234 - val_accuracy: 0.8000 - 1s/epoch - 1s/step\n",
            "Epoch 112/250\n",
            "1/1 - 1s - loss: 0.3089 - accuracy: 1.0000 - val_loss: 0.5232 - val_accuracy: 0.8000 - 1s/epoch - 1s/step\n",
            "Epoch 113/250\n",
            "1/1 - 2s - loss: 0.3073 - accuracy: 1.0000 - val_loss: 0.5230 - val_accuracy: 0.8000 - 2s/epoch - 2s/step\n",
            "Epoch 114/250\n",
            "1/1 - 2s - loss: 0.3057 - accuracy: 1.0000 - val_loss: 0.5228 - val_accuracy: 0.8000 - 2s/epoch - 2s/step\n",
            "Epoch 115/250\n",
            "1/1 - 1s - loss: 0.3041 - accuracy: 1.0000 - val_loss: 0.5227 - val_accuracy: 0.8000 - 1s/epoch - 1s/step\n",
            "Epoch 116/250\n",
            "1/1 - 2s - loss: 0.3026 - accuracy: 1.0000 - val_loss: 0.5225 - val_accuracy: 0.8000 - 2s/epoch - 2s/step\n",
            "Epoch 117/250\n",
            "1/1 - 2s - loss: 0.3010 - accuracy: 1.0000 - val_loss: 0.5223 - val_accuracy: 0.8000 - 2s/epoch - 2s/step\n",
            "Epoch 118/250\n",
            "1/1 - 2s - loss: 0.2994 - accuracy: 1.0000 - val_loss: 0.5221 - val_accuracy: 0.8000 - 2s/epoch - 2s/step\n",
            "Epoch 119/250\n",
            "1/1 - 2s - loss: 0.2979 - accuracy: 1.0000 - val_loss: 0.5220 - val_accuracy: 0.8000 - 2s/epoch - 2s/step\n",
            "Epoch 120/250\n",
            "1/1 - 2s - loss: 0.2964 - accuracy: 1.0000 - val_loss: 0.5218 - val_accuracy: 0.8000 - 2s/epoch - 2s/step\n",
            "Epoch 121/250\n",
            "1/1 - 3s - loss: 0.2948 - accuracy: 1.0000 - val_loss: 0.5216 - val_accuracy: 0.8000 - 3s/epoch - 3s/step\n",
            "Epoch 122/250\n",
            "1/1 - 2s - loss: 0.2933 - accuracy: 1.0000 - val_loss: 0.5215 - val_accuracy: 0.8000 - 2s/epoch - 2s/step\n",
            "Epoch 123/250\n",
            "1/1 - 1s - loss: 0.2918 - accuracy: 1.0000 - val_loss: 0.5214 - val_accuracy: 0.8000 - 1s/epoch - 1s/step\n",
            "Epoch 124/250\n",
            "1/1 - 1s - loss: 0.2903 - accuracy: 1.0000 - val_loss: 0.5212 - val_accuracy: 0.8000 - 1s/epoch - 1s/step\n",
            "Epoch 125/250\n",
            "1/1 - 1s - loss: 0.2888 - accuracy: 1.0000 - val_loss: 0.5211 - val_accuracy: 0.8000 - 1s/epoch - 1s/step\n",
            "Epoch 126/250\n",
            "1/1 - 2s - loss: 0.2873 - accuracy: 1.0000 - val_loss: 0.5209 - val_accuracy: 0.8000 - 2s/epoch - 2s/step\n",
            "Epoch 127/250\n",
            "1/1 - 1s - loss: 0.2858 - accuracy: 1.0000 - val_loss: 0.5208 - val_accuracy: 0.8000 - 1s/epoch - 1s/step\n",
            "Epoch 128/250\n",
            "1/1 - 2s - loss: 0.2843 - accuracy: 1.0000 - val_loss: 0.5207 - val_accuracy: 0.8000 - 2s/epoch - 2s/step\n",
            "Epoch 129/250\n",
            "1/1 - 2s - loss: 0.2829 - accuracy: 1.0000 - val_loss: 0.5206 - val_accuracy: 0.8000 - 2s/epoch - 2s/step\n",
            "Epoch 130/250\n",
            "1/1 - 2s - loss: 0.2814 - accuracy: 1.0000 - val_loss: 0.5205 - val_accuracy: 0.8000 - 2s/epoch - 2s/step\n",
            "Epoch 131/250\n",
            "1/1 - 2s - loss: 0.2800 - accuracy: 1.0000 - val_loss: 0.5203 - val_accuracy: 0.8000 - 2s/epoch - 2s/step\n",
            "Epoch 132/250\n",
            "1/1 - 2s - loss: 0.2785 - accuracy: 1.0000 - val_loss: 0.5202 - val_accuracy: 0.8000 - 2s/epoch - 2s/step\n",
            "Epoch 133/250\n",
            "1/1 - 1s - loss: 0.2771 - accuracy: 1.0000 - val_loss: 0.5201 - val_accuracy: 0.8000 - 1s/epoch - 1s/step\n",
            "Epoch 134/250\n",
            "1/1 - 1s - loss: 0.2757 - accuracy: 1.0000 - val_loss: 0.5200 - val_accuracy: 0.8000 - 1s/epoch - 1s/step\n",
            "Epoch 135/250\n",
            "1/1 - 1s - loss: 0.2742 - accuracy: 1.0000 - val_loss: 0.5200 - val_accuracy: 0.8000 - 1s/epoch - 1s/step\n",
            "Epoch 136/250\n",
            "1/1 - 2s - loss: 0.2728 - accuracy: 1.0000 - val_loss: 0.5199 - val_accuracy: 0.8000 - 2s/epoch - 2s/step\n",
            "Epoch 137/250\n",
            "1/1 - 2s - loss: 0.2714 - accuracy: 1.0000 - val_loss: 0.5198 - val_accuracy: 0.8000 - 2s/epoch - 2s/step\n",
            "Epoch 138/250\n",
            "1/1 - 1s - loss: 0.2700 - accuracy: 1.0000 - val_loss: 0.5197 - val_accuracy: 0.8000 - 1s/epoch - 1s/step\n",
            "Epoch 139/250\n",
            "1/1 - 1s - loss: 0.2686 - accuracy: 1.0000 - val_loss: 0.5197 - val_accuracy: 0.8000 - 1s/epoch - 1s/step\n",
            "Epoch 140/250\n",
            "1/1 - 2s - loss: 0.2672 - accuracy: 1.0000 - val_loss: 0.5196 - val_accuracy: 0.8000 - 2s/epoch - 2s/step\n",
            "Epoch 141/250\n",
            "1/1 - 2s - loss: 0.2659 - accuracy: 1.0000 - val_loss: 0.5195 - val_accuracy: 0.8000 - 2s/epoch - 2s/step\n",
            "Epoch 142/250\n",
            "1/1 - 1s - loss: 0.2645 - accuracy: 1.0000 - val_loss: 0.5195 - val_accuracy: 0.8000 - 1s/epoch - 1s/step\n",
            "Epoch 143/250\n",
            "1/1 - 2s - loss: 0.2631 - accuracy: 1.0000 - val_loss: 0.5194 - val_accuracy: 0.8000 - 2s/epoch - 2s/step\n",
            "Epoch 144/250\n",
            "1/1 - 3s - loss: 0.2618 - accuracy: 1.0000 - val_loss: 0.5194 - val_accuracy: 0.8000 - 3s/epoch - 3s/step\n",
            "Epoch 145/250\n",
            "1/1 - 2s - loss: 0.2604 - accuracy: 1.0000 - val_loss: 0.5193 - val_accuracy: 0.8000 - 2s/epoch - 2s/step\n",
            "Epoch 146/250\n",
            "1/1 - 2s - loss: 0.2591 - accuracy: 1.0000 - val_loss: 0.5193 - val_accuracy: 0.8000 - 2s/epoch - 2s/step\n",
            "Epoch 147/250\n",
            "1/1 - 2s - loss: 0.2578 - accuracy: 1.0000 - val_loss: 0.5193 - val_accuracy: 0.8000 - 2s/epoch - 2s/step\n",
            "Epoch 148/250\n",
            "1/1 - 2s - loss: 0.2564 - accuracy: 1.0000 - val_loss: 0.5192 - val_accuracy: 0.8000 - 2s/epoch - 2s/step\n",
            "Epoch 149/250\n",
            "1/1 - 2s - loss: 0.2551 - accuracy: 1.0000 - val_loss: 0.5192 - val_accuracy: 0.8000 - 2s/epoch - 2s/step\n",
            "Epoch 150/250\n",
            "1/1 - 2s - loss: 0.2538 - accuracy: 1.0000 - val_loss: 0.5192 - val_accuracy: 0.8000 - 2s/epoch - 2s/step\n",
            "Epoch 151/250\n",
            "1/1 - 2s - loss: 0.2525 - accuracy: 1.0000 - val_loss: 0.5192 - val_accuracy: 0.8000 - 2s/epoch - 2s/step\n",
            "Epoch 152/250\n",
            "1/1 - 2s - loss: 0.2512 - accuracy: 1.0000 - val_loss: 0.5192 - val_accuracy: 0.8000 - 2s/epoch - 2s/step\n",
            "Epoch 153/250\n",
            "1/1 - 1s - loss: 0.2499 - accuracy: 1.0000 - val_loss: 0.5192 - val_accuracy: 0.8000 - 1s/epoch - 1s/step\n",
            "Epoch 154/250\n",
            "1/1 - 1s - loss: 0.2486 - accuracy: 1.0000 - val_loss: 0.5192 - val_accuracy: 0.8000 - 1s/epoch - 1s/step\n",
            "Epoch 155/250\n",
            "1/1 - 2s - loss: 0.2473 - accuracy: 1.0000 - val_loss: 0.5192 - val_accuracy: 0.8000 - 2s/epoch - 2s/step\n",
            "Epoch 156/250\n",
            "1/1 - 1s - loss: 0.2461 - accuracy: 1.0000 - val_loss: 0.5192 - val_accuracy: 0.8000 - 1s/epoch - 1s/step\n",
            "Epoch 157/250\n",
            "1/1 - 2s - loss: 0.2448 - accuracy: 1.0000 - val_loss: 0.5193 - val_accuracy: 0.8000 - 2s/epoch - 2s/step\n",
            "Epoch 158/250\n",
            "1/1 - 3s - loss: 0.2435 - accuracy: 1.0000 - val_loss: 0.5193 - val_accuracy: 0.8000 - 3s/epoch - 3s/step\n",
            "Epoch 159/250\n",
            "1/1 - 2s - loss: 0.2423 - accuracy: 1.0000 - val_loss: 0.5193 - val_accuracy: 0.8000 - 2s/epoch - 2s/step\n",
            "Epoch 160/250\n",
            "1/1 - 2s - loss: 0.2410 - accuracy: 1.0000 - val_loss: 0.5194 - val_accuracy: 0.8000 - 2s/epoch - 2s/step\n",
            "Epoch 161/250\n",
            "1/1 - 2s - loss: 0.2398 - accuracy: 1.0000 - val_loss: 0.5194 - val_accuracy: 0.8000 - 2s/epoch - 2s/step\n",
            "Epoch 162/250\n",
            "1/1 - 2s - loss: 0.2385 - accuracy: 1.0000 - val_loss: 0.5195 - val_accuracy: 0.8000 - 2s/epoch - 2s/step\n",
            "Epoch 163/250\n",
            "1/1 - 2s - loss: 0.2373 - accuracy: 1.0000 - val_loss: 0.5195 - val_accuracy: 0.8000 - 2s/epoch - 2s/step\n",
            "Epoch 164/250\n",
            "1/1 - 2s - loss: 0.2361 - accuracy: 1.0000 - val_loss: 0.5196 - val_accuracy: 0.8000 - 2s/epoch - 2s/step\n",
            "Epoch 165/250\n",
            "1/1 - 2s - loss: 0.2349 - accuracy: 1.0000 - val_loss: 0.5196 - val_accuracy: 0.8000 - 2s/epoch - 2s/step\n",
            "Epoch 166/250\n",
            "1/1 - 1s - loss: 0.2337 - accuracy: 1.0000 - val_loss: 0.5197 - val_accuracy: 0.8000 - 1s/epoch - 1s/step\n",
            "Epoch 167/250\n",
            "1/1 - 1s - loss: 0.2325 - accuracy: 1.0000 - val_loss: 0.5198 - val_accuracy: 0.8000 - 1s/epoch - 1s/step\n",
            "Epoch 168/250\n",
            "1/1 - 2s - loss: 0.2313 - accuracy: 1.0000 - val_loss: 0.5198 - val_accuracy: 0.8000 - 2s/epoch - 2s/step\n",
            "Epoch 169/250\n",
            "1/1 - 1s - loss: 0.2301 - accuracy: 1.0000 - val_loss: 0.5199 - val_accuracy: 0.8000 - 1s/epoch - 1s/step\n",
            "Epoch 170/250\n",
            "1/1 - 1s - loss: 0.2289 - accuracy: 1.0000 - val_loss: 0.5200 - val_accuracy: 0.8000 - 1s/epoch - 1s/step\n",
            "Epoch 171/250\n",
            "1/1 - 2s - loss: 0.2277 - accuracy: 1.0000 - val_loss: 0.5201 - val_accuracy: 0.8000 - 2s/epoch - 2s/step\n",
            "Epoch 172/250\n",
            "1/1 - 2s - loss: 0.2265 - accuracy: 1.0000 - val_loss: 0.5202 - val_accuracy: 0.8000 - 2s/epoch - 2s/step\n",
            "Epoch 173/250\n",
            "1/1 - 2s - loss: 0.2254 - accuracy: 1.0000 - val_loss: 0.5203 - val_accuracy: 0.8000 - 2s/epoch - 2s/step\n",
            "Epoch 174/250\n",
            "1/1 - 2s - loss: 0.2242 - accuracy: 1.0000 - val_loss: 0.5203 - val_accuracy: 0.8000 - 2s/epoch - 2s/step\n",
            "Epoch 175/250\n",
            "1/1 - 2s - loss: 0.2231 - accuracy: 1.0000 - val_loss: 0.5204 - val_accuracy: 0.8000 - 2s/epoch - 2s/step\n",
            "Epoch 176/250\n",
            "1/1 - 2s - loss: 0.2219 - accuracy: 1.0000 - val_loss: 0.5205 - val_accuracy: 0.8000 - 2s/epoch - 2s/step\n",
            "Epoch 177/250\n",
            "1/1 - 1s - loss: 0.2208 - accuracy: 1.0000 - val_loss: 0.5206 - val_accuracy: 0.8000 - 1s/epoch - 1s/step\n",
            "Epoch 178/250\n",
            "1/1 - 2s - loss: 0.2196 - accuracy: 1.0000 - val_loss: 0.5208 - val_accuracy: 0.8000 - 2s/epoch - 2s/step\n",
            "Epoch 179/250\n",
            "1/1 - 2s - loss: 0.2185 - accuracy: 1.0000 - val_loss: 0.5209 - val_accuracy: 0.8000 - 2s/epoch - 2s/step\n",
            "Epoch 180/250\n",
            "1/1 - 2s - loss: 0.2174 - accuracy: 1.0000 - val_loss: 0.5210 - val_accuracy: 0.8000 - 2s/epoch - 2s/step\n",
            "Epoch 181/250\n",
            "1/1 - 1s - loss: 0.2162 - accuracy: 1.0000 - val_loss: 0.5211 - val_accuracy: 0.8000 - 1s/epoch - 1s/step\n",
            "Epoch 182/250\n",
            "1/1 - 1s - loss: 0.2151 - accuracy: 1.0000 - val_loss: 0.5212 - val_accuracy: 0.8000 - 1s/epoch - 1s/step\n",
            "Epoch 183/250\n",
            "1/1 - 1s - loss: 0.2140 - accuracy: 1.0000 - val_loss: 0.5214 - val_accuracy: 0.8000 - 1s/epoch - 1s/step\n",
            "Epoch 184/250\n",
            "1/1 - 2s - loss: 0.2129 - accuracy: 1.0000 - val_loss: 0.5215 - val_accuracy: 0.8000 - 2s/epoch - 2s/step\n",
            "Epoch 185/250\n",
            "1/1 - 2s - loss: 0.2118 - accuracy: 1.0000 - val_loss: 0.5216 - val_accuracy: 0.8000 - 2s/epoch - 2s/step\n",
            "Epoch 186/250\n",
            "1/1 - 2s - loss: 0.2107 - accuracy: 1.0000 - val_loss: 0.5218 - val_accuracy: 0.8000 - 2s/epoch - 2s/step\n",
            "Epoch 187/250\n",
            "1/1 - 3s - loss: 0.2096 - accuracy: 1.0000 - val_loss: 0.5219 - val_accuracy: 0.8000 - 3s/epoch - 3s/step\n",
            "Epoch 188/250\n",
            "1/1 - 2s - loss: 0.2086 - accuracy: 1.0000 - val_loss: 0.5221 - val_accuracy: 0.8000 - 2s/epoch - 2s/step\n",
            "Epoch 189/250\n",
            "1/1 - 2s - loss: 0.2075 - accuracy: 1.0000 - val_loss: 0.5222 - val_accuracy: 0.8000 - 2s/epoch - 2s/step\n",
            "Epoch 190/250\n",
            "1/1 - 2s - loss: 0.2064 - accuracy: 1.0000 - val_loss: 0.5224 - val_accuracy: 0.8000 - 2s/epoch - 2s/step\n",
            "Epoch 191/250\n",
            "1/1 - 2s - loss: 0.2053 - accuracy: 1.0000 - val_loss: 0.5225 - val_accuracy: 0.8000 - 2s/epoch - 2s/step\n",
            "Epoch 192/250\n",
            "1/1 - 1s - loss: 0.2043 - accuracy: 1.0000 - val_loss: 0.5227 - val_accuracy: 0.8000 - 1s/epoch - 1s/step\n",
            "Epoch 193/250\n",
            "1/1 - 2s - loss: 0.2032 - accuracy: 1.0000 - val_loss: 0.5229 - val_accuracy: 0.8000 - 2s/epoch - 2s/step\n",
            "Epoch 194/250\n",
            "1/1 - 3s - loss: 0.2022 - accuracy: 1.0000 - val_loss: 0.5231 - val_accuracy: 0.8000 - 3s/epoch - 3s/step\n",
            "Epoch 195/250\n",
            "1/1 - 1s - loss: 0.2011 - accuracy: 1.0000 - val_loss: 0.5233 - val_accuracy: 0.8000 - 1s/epoch - 1s/step\n",
            "Epoch 196/250\n",
            "1/1 - 2s - loss: 0.2001 - accuracy: 1.0000 - val_loss: 0.5234 - val_accuracy: 0.8000 - 2s/epoch - 2s/step\n",
            "Epoch 197/250\n",
            "1/1 - 1s - loss: 0.1991 - accuracy: 1.0000 - val_loss: 0.5236 - val_accuracy: 0.8000 - 1s/epoch - 1s/step\n",
            "Epoch 198/250\n",
            "1/1 - 1s - loss: 0.1980 - accuracy: 1.0000 - val_loss: 0.5238 - val_accuracy: 0.8000 - 1s/epoch - 1s/step\n",
            "Epoch 199/250\n",
            "1/1 - 1s - loss: 0.1970 - accuracy: 1.0000 - val_loss: 0.5240 - val_accuracy: 0.8000 - 1s/epoch - 1s/step\n",
            "Epoch 200/250\n",
            "1/1 - 2s - loss: 0.1960 - accuracy: 1.0000 - val_loss: 0.5242 - val_accuracy: 0.8000 - 2s/epoch - 2s/step\n",
            "Epoch 201/250\n",
            "1/1 - 2s - loss: 0.1950 - accuracy: 1.0000 - val_loss: 0.5244 - val_accuracy: 0.8000 - 2s/epoch - 2s/step\n",
            "Epoch 202/250\n",
            "1/1 - 3s - loss: 0.1940 - accuracy: 1.0000 - val_loss: 0.5246 - val_accuracy: 0.8000 - 3s/epoch - 3s/step\n",
            "Epoch 203/250\n",
            "1/1 - 2s - loss: 0.1930 - accuracy: 1.0000 - val_loss: 0.5248 - val_accuracy: 0.8000 - 2s/epoch - 2s/step\n",
            "Epoch 204/250\n",
            "1/1 - 2s - loss: 0.1920 - accuracy: 1.0000 - val_loss: 0.5251 - val_accuracy: 0.8000 - 2s/epoch - 2s/step\n",
            "Epoch 205/250\n",
            "1/1 - 2s - loss: 0.1910 - accuracy: 1.0000 - val_loss: 0.5253 - val_accuracy: 0.8000 - 2s/epoch - 2s/step\n",
            "Epoch 206/250\n",
            "1/1 - 1s - loss: 0.1900 - accuracy: 1.0000 - val_loss: 0.5255 - val_accuracy: 0.8000 - 1s/epoch - 1s/step\n",
            "Epoch 207/250\n",
            "1/1 - 1s - loss: 0.1890 - accuracy: 1.0000 - val_loss: 0.5257 - val_accuracy: 0.8000 - 1s/epoch - 1s/step\n",
            "Epoch 208/250\n",
            "1/1 - 2s - loss: 0.1880 - accuracy: 1.0000 - val_loss: 0.5259 - val_accuracy: 0.8000 - 2s/epoch - 2s/step\n",
            "Epoch 209/250\n",
            "1/1 - 3s - loss: 0.1871 - accuracy: 1.0000 - val_loss: 0.5261 - val_accuracy: 0.8000 - 3s/epoch - 3s/step\n",
            "Epoch 210/250\n",
            "1/1 - 2s - loss: 0.1861 - accuracy: 1.0000 - val_loss: 0.5264 - val_accuracy: 0.8000 - 2s/epoch - 2s/step\n",
            "Epoch 211/250\n",
            "1/1 - 2s - loss: 0.1851 - accuracy: 1.0000 - val_loss: 0.5266 - val_accuracy: 0.8000 - 2s/epoch - 2s/step\n",
            "Epoch 212/250\n",
            "1/1 - 1s - loss: 0.1842 - accuracy: 1.0000 - val_loss: 0.5268 - val_accuracy: 0.8000 - 1s/epoch - 1s/step\n",
            "Epoch 213/250\n",
            "1/1 - 2s - loss: 0.1832 - accuracy: 1.0000 - val_loss: 0.5271 - val_accuracy: 0.8000 - 2s/epoch - 2s/step\n",
            "Epoch 214/250\n",
            "1/1 - 2s - loss: 0.1823 - accuracy: 1.0000 - val_loss: 0.5273 - val_accuracy: 0.8000 - 2s/epoch - 2s/step\n",
            "Epoch 215/250\n",
            "1/1 - 1s - loss: 0.1813 - accuracy: 1.0000 - val_loss: 0.5275 - val_accuracy: 0.8000 - 1s/epoch - 1s/step\n",
            "Epoch 216/250\n",
            "1/1 - 2s - loss: 0.1804 - accuracy: 1.0000 - val_loss: 0.5278 - val_accuracy: 0.8000 - 2s/epoch - 2s/step\n",
            "Epoch 217/250\n",
            "1/1 - 2s - loss: 0.1795 - accuracy: 1.0000 - val_loss: 0.5280 - val_accuracy: 0.8000 - 2s/epoch - 2s/step\n",
            "Epoch 218/250\n",
            "1/1 - 1s - loss: 0.1786 - accuracy: 1.0000 - val_loss: 0.5283 - val_accuracy: 0.8000 - 1s/epoch - 1s/step\n",
            "Epoch 219/250\n",
            "1/1 - 1s - loss: 0.1776 - accuracy: 1.0000 - val_loss: 0.5285 - val_accuracy: 0.8000 - 1s/epoch - 1s/step\n",
            "Epoch 220/250\n",
            "1/1 - 1s - loss: 0.1767 - accuracy: 1.0000 - val_loss: 0.5288 - val_accuracy: 0.8000 - 1s/epoch - 1s/step\n",
            "Epoch 221/250\n",
            "1/1 - 2s - loss: 0.1758 - accuracy: 1.0000 - val_loss: 0.5290 - val_accuracy: 0.8000 - 2s/epoch - 2s/step\n",
            "Epoch 222/250\n",
            "1/1 - 1s - loss: 0.1749 - accuracy: 1.0000 - val_loss: 0.5293 - val_accuracy: 0.8000 - 1s/epoch - 1s/step\n",
            "Epoch 223/250\n",
            "1/1 - 2s - loss: 0.1740 - accuracy: 1.0000 - val_loss: 0.5295 - val_accuracy: 0.8000 - 2s/epoch - 2s/step\n",
            "Epoch 224/250\n",
            "1/1 - 2s - loss: 0.1731 - accuracy: 1.0000 - val_loss: 0.5298 - val_accuracy: 0.8000 - 2s/epoch - 2s/step\n",
            "Epoch 225/250\n",
            "1/1 - 2s - loss: 0.1722 - accuracy: 1.0000 - val_loss: 0.5301 - val_accuracy: 0.8000 - 2s/epoch - 2s/step\n",
            "Epoch 226/250\n",
            "1/1 - 1s - loss: 0.1713 - accuracy: 1.0000 - val_loss: 0.5303 - val_accuracy: 0.8000 - 1s/epoch - 1s/step\n",
            "Epoch 227/250\n",
            "1/1 - 1s - loss: 0.1704 - accuracy: 1.0000 - val_loss: 0.5306 - val_accuracy: 0.8000 - 1s/epoch - 1s/step\n",
            "Epoch 228/250\n",
            "1/1 - 1s - loss: 0.1695 - accuracy: 1.0000 - val_loss: 0.5309 - val_accuracy: 0.8000 - 1s/epoch - 1s/step\n",
            "Epoch 229/250\n",
            "1/1 - 2s - loss: 0.1686 - accuracy: 1.0000 - val_loss: 0.5311 - val_accuracy: 0.8000 - 2s/epoch - 2s/step\n",
            "Epoch 230/250\n",
            "1/1 - 1s - loss: 0.1678 - accuracy: 1.0000 - val_loss: 0.5314 - val_accuracy: 0.8000 - 1s/epoch - 1s/step\n",
            "Epoch 231/250\n",
            "1/1 - 2s - loss: 0.1669 - accuracy: 1.0000 - val_loss: 0.5317 - val_accuracy: 0.8000 - 2s/epoch - 2s/step\n",
            "Epoch 232/250\n",
            "1/1 - 3s - loss: 0.1660 - accuracy: 1.0000 - val_loss: 0.5320 - val_accuracy: 0.8000 - 3s/epoch - 3s/step\n",
            "Epoch 233/250\n",
            "1/1 - 2s - loss: 0.1652 - accuracy: 1.0000 - val_loss: 0.5322 - val_accuracy: 0.8000 - 2s/epoch - 2s/step\n",
            "Epoch 234/250\n",
            "1/1 - 1s - loss: 0.1643 - accuracy: 1.0000 - val_loss: 0.5325 - val_accuracy: 0.8000 - 1s/epoch - 1s/step\n",
            "Epoch 235/250\n",
            "1/1 - 1s - loss: 0.1635 - accuracy: 1.0000 - val_loss: 0.5328 - val_accuracy: 0.8000 - 1s/epoch - 1s/step\n",
            "Epoch 236/250\n",
            "1/1 - 1s - loss: 0.1626 - accuracy: 1.0000 - val_loss: 0.5331 - val_accuracy: 0.8000 - 1s/epoch - 1s/step\n",
            "Epoch 237/250\n",
            "1/1 - 1s - loss: 0.1618 - accuracy: 1.0000 - val_loss: 0.5334 - val_accuracy: 0.8000 - 1s/epoch - 1s/step\n",
            "Epoch 238/250\n",
            "1/1 - 1s - loss: 0.1609 - accuracy: 1.0000 - val_loss: 0.5337 - val_accuracy: 0.8000 - 1s/epoch - 1s/step\n",
            "Epoch 239/250\n",
            "1/1 - 2s - loss: 0.1601 - accuracy: 1.0000 - val_loss: 0.5339 - val_accuracy: 0.8000 - 2s/epoch - 2s/step\n",
            "Epoch 240/250\n",
            "1/1 - 3s - loss: 0.1593 - accuracy: 1.0000 - val_loss: 0.5342 - val_accuracy: 0.8000 - 3s/epoch - 3s/step\n",
            "Epoch 241/250\n",
            "1/1 - 2s - loss: 0.1585 - accuracy: 1.0000 - val_loss: 0.5345 - val_accuracy: 0.8000 - 2s/epoch - 2s/step\n",
            "Epoch 242/250\n",
            "1/1 - 1s - loss: 0.1576 - accuracy: 1.0000 - val_loss: 0.5348 - val_accuracy: 0.8000 - 1s/epoch - 1s/step\n",
            "Epoch 243/250\n",
            "1/1 - 1s - loss: 0.1568 - accuracy: 1.0000 - val_loss: 0.5351 - val_accuracy: 0.8000 - 1s/epoch - 1s/step\n",
            "Epoch 244/250\n",
            "1/1 - 1s - loss: 0.1560 - accuracy: 1.0000 - val_loss: 0.5354 - val_accuracy: 0.8000 - 1s/epoch - 1s/step\n",
            "Epoch 245/250\n",
            "1/1 - 2s - loss: 0.1552 - accuracy: 1.0000 - val_loss: 0.5357 - val_accuracy: 0.8000 - 2s/epoch - 2s/step\n",
            "Epoch 246/250\n",
            "1/1 - 1s - loss: 0.1544 - accuracy: 1.0000 - val_loss: 0.5360 - val_accuracy: 0.8000 - 1s/epoch - 1s/step\n",
            "Epoch 247/250\n",
            "1/1 - 2s - loss: 0.1536 - accuracy: 1.0000 - val_loss: 0.5363 - val_accuracy: 0.8000 - 2s/epoch - 2s/step\n",
            "Epoch 248/250\n",
            "1/1 - 2s - loss: 0.1528 - accuracy: 1.0000 - val_loss: 0.5366 - val_accuracy: 0.8000 - 2s/epoch - 2s/step\n",
            "Epoch 249/250\n",
            "1/1 - 1s - loss: 0.1520 - accuracy: 1.0000 - val_loss: 0.5369 - val_accuracy: 0.8000 - 1s/epoch - 1s/step\n",
            "Epoch 250/250\n",
            "1/1 - 1s - loss: 0.1512 - accuracy: 1.0000 - val_loss: 0.5372 - val_accuracy: 0.8000 - 1s/epoch - 1s/step\n"
          ]
        }
      ]
    },
    {
      "cell_type": "code",
      "source": [
        "plt.plot(r.history['accuracy'],label='accuracy')\n",
        "plt.plot(r.history['val_accuracy'],label='val_accuracy')\n",
        "plt.legend()"
      ],
      "metadata": {
        "colab": {
          "base_uri": "https://localhost:8080/",
          "height": 448
        },
        "id": "2LjEojltuWBt",
        "outputId": "6fbca953-a063-49f0-d4a2-ff33b889fe4f"
      },
      "execution_count": null,
      "outputs": [
        {
          "output_type": "execute_result",
          "data": {
            "text/plain": [
              "<matplotlib.legend.Legend at 0x7fde7ad94490>"
            ]
          },
          "metadata": {},
          "execution_count": 19
        },
        {
          "output_type": "display_data",
          "data": {
            "text/plain": [
              "<Figure size 640x480 with 1 Axes>"
            ],
            "image/png": "[encoded data removed]"
          },
          "metadata": {}
        }
      ]
    },
    {
      "cell_type": "code",
      "source": [
        "plt.plot(r.history['loss'],label='loss')\n",
        "plt.plot(r.history['val_loss'],label='val_loss')\n",
        "plt.legend()"
      ],
      "metadata": {
        "colab": {
          "base_uri": "https://localhost:8080/",
          "height": 448
        },
        "id": "ny6KHeVfwwgA",
        "outputId": "0da18638-bc56-4aba-8bea-420930653f56"
      },
      "execution_count": null,
      "outputs": [
        {
          "output_type": "execute_result",
          "data": {
            "text/plain": [
              "<matplotlib.legend.Legend at 0x7fde7ac57070>"
            ]
          },
          "metadata": {},
          "execution_count": 20
        },
        {
          "output_type": "display_data",
          "data": {
            "text/plain": [
              "<Figure size 640x480 with 1 Axes>"
            ],
            "image/png": "[encoded data removed]"
          },
          "metadata": {}
        }
      ]
    }
  ]
}