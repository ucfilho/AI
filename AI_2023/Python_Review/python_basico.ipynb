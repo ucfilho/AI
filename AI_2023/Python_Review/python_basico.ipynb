{
  "nbformat": 4,
  "nbformat_minor": 0,
  "metadata": {
    "colab": {
      "provenance": [],
      "authorship_tag": "ABX9TyOof9G7t/cRPGEcj93S92Fw",
      "include_colab_link": true
    },
    "kernelspec": {
      "name": "python3",
      "display_name": "Python 3"
    },
    "language_info": {
      "name": "python"
    }
  },
  "cells": [
    {
      "cell_type": "markdown",
      "metadata": {
        "id": "view-in-github",
        "colab_type": "text"
      },
      "source": [
        "<a href=\"https://colab.research.google.com/github/ucfilho/AI/blob/main/AI_2023/Python_Review/python_basico.ipynb\" target=\"_parent\"><img src=\"https://colab.research.google.com/assets/colab-badge.svg\" alt=\"Open In Colab\"/></a>"
      ]
    },
    {
      "cell_type": "code",
      "source": [
        "import numpy as np\n",
        "import pandas as pd"
      ],
      "metadata": {
        "id": "ao3tXgTxIU11"
      },
      "execution_count": 1,
      "outputs": []
    },
    {
      "cell_type": "code",
      "execution_count": 2,
      "metadata": {
        "colab": {
          "base_uri": "https://localhost:8080/"
        },
        "id": "19mE2a79Ceqe",
        "outputId": "6f884192-0c4a-4167-c730-9f7ffedc5b9c"
      },
      "outputs": [
        {
          "output_type": "stream",
          "name": "stdout",
          "text": [
            "w: 8\n"
          ]
        }
      ],
      "source": [
        "x = 2\n",
        "y = 3\n",
        "w = x**y\n",
        "print('w:',w)"
      ]
    },
    {
      "cell_type": "code",
      "source": [
        "lista = [2,3,4,5,6]\n",
        "for yi in lista:\n",
        "  w = x**yi\n",
        "  print('w=x**y',w,x,yi)"
      ],
      "metadata": {
        "colab": {
          "base_uri": "https://localhost:8080/"
        },
        "id": "qHMYUNbHC3LW",
        "outputId": "6b3eee8d-e34e-4ead-ba11-eb0d0e22a1ef"
      },
      "execution_count": 3,
      "outputs": [
        {
          "output_type": "stream",
          "name": "stdout",
          "text": [
            "w=x**y 4 2 2\n",
            "w=x**y 8 2 3\n",
            "w=x**y 16 2 4\n",
            "w=x**y 32 2 5\n",
            "w=x**y 64 2 6\n"
          ]
        }
      ]
    },
    {
      "cell_type": "code",
      "source": [
        "lista = [2,3,4,5,6,7,8,9,10]\n",
        "for yi in lista:\n",
        "  w = x**yi\n",
        "  if w < 100:\n",
        "    print('w=x**y',w,x,yi)\n",
        "  else:\n",
        "    break\n",
        "    print('maior que 100')"
      ],
      "metadata": {
        "colab": {
          "base_uri": "https://localhost:8080/"
        },
        "id": "WInpki9AD2Bt",
        "outputId": "b98fae6c-95ec-4549-d450-0532f7a2dbf2"
      },
      "execution_count": 4,
      "outputs": [
        {
          "output_type": "stream",
          "name": "stdout",
          "text": [
            "w=x**y 4 2 2\n",
            "w=x**y 8 2 3\n",
            "w=x**y 16 2 4\n",
            "w=x**y 32 2 5\n",
            "w=x**y 64 2 6\n"
          ]
        }
      ]
    },
    {
      "cell_type": "code",
      "source": [
        "for i in range(9):\n",
        "  print(i,lista[i])"
      ],
      "metadata": {
        "colab": {
          "base_uri": "https://localhost:8080/"
        },
        "id": "iin5wGMsFPL9",
        "outputId": "fa8283ea-6854-490f-b1a5-48497ca77b87"
      },
      "execution_count": 5,
      "outputs": [
        {
          "output_type": "stream",
          "name": "stdout",
          "text": [
            "0 2\n",
            "1 3\n",
            "2 4\n",
            "3 5\n",
            "4 6\n",
            "5 7\n",
            "6 8\n",
            "7 9\n",
            "8 10\n"
          ]
        }
      ]
    },
    {
      "cell_type": "code",
      "source": [
        "lista =[1,2,3,4,5,6,7,8,9]\n",
        "x = 2\n",
        "lista2 = []\n",
        "for yi in lista:\n",
        "  w = x**yi\n",
        "  lista2.append(w)\n"
      ],
      "metadata": {
        "id": "yfC4u032F8X_"
      },
      "execution_count": 6,
      "outputs": []
    },
    {
      "cell_type": "code",
      "source": [
        "lista2"
      ],
      "metadata": {
        "colab": {
          "base_uri": "https://localhost:8080/"
        },
        "id": "5HTx3ZYlGVqV",
        "outputId": "7e7a749f-8eda-409a-fb2f-cd2899769d7d"
      },
      "execution_count": 7,
      "outputs": [
        {
          "output_type": "execute_result",
          "data": {
            "text/plain": [
              "[2, 4, 8, 16, 32, 64, 128, 256, 512]"
            ]
          },
          "metadata": {},
          "execution_count": 7
        }
      ]
    },
    {
      "cell_type": "code",
      "source": [
        "dic_ = {}\n",
        "lista = [1,2,3,4,5,6]\n",
        "x = 2\n",
        "s = 'a'\n",
        "for yi in lista:\n",
        "  w = x**yi\n",
        "  dic_[s] = w\n",
        "  s = s + 'a'\n",
        "print(dic_)"
      ],
      "metadata": {
        "colab": {
          "base_uri": "https://localhost:8080/"
        },
        "id": "YV0IOO2vGp5l",
        "outputId": "7557f9a0-1e19-45f9-b563-0cc942b54e76"
      },
      "execution_count": 8,
      "outputs": [
        {
          "output_type": "stream",
          "name": "stdout",
          "text": [
            "{'a': 2, 'aa': 4, 'aaa': 8, 'aaaa': 16, 'aaaaa': 32, 'aaaaaa': 64}\n"
          ]
        }
      ]
    },
    {
      "cell_type": "code",
      "source": [
        "lista = [1,2,3,4]\n",
        "dic_ ={'a':1,'b':3,'c':3,'d':5}"
      ],
      "metadata": {
        "id": "CYkXL8CEHHQM"
      },
      "execution_count": 9,
      "outputs": []
    },
    {
      "cell_type": "code",
      "source": [
        "vetor = np.array([1,2,3,4])\n",
        "print(vetor)"
      ],
      "metadata": {
        "colab": {
          "base_uri": "https://localhost:8080/"
        },
        "id": "SV-gWKplIhSs",
        "outputId": "a4916d7d-d36b-475d-9a49-cee08b98e0a5"
      },
      "execution_count": 10,
      "outputs": [
        {
          "output_type": "stream",
          "name": "stdout",
          "text": [
            "[1 2 3 4]\n"
          ]
        }
      ]
    },
    {
      "cell_type": "code",
      "source": [
        "np.mean(vetor),np.std(vetor)"
      ],
      "metadata": {
        "colab": {
          "base_uri": "https://localhost:8080/"
        },
        "id": "7x5Ck-JTI3-F",
        "outputId": "224226c3-3b1b-401f-db9e-7492e3059060"
      },
      "execution_count": 11,
      "outputs": [
        {
          "output_type": "execute_result",
          "data": {
            "text/plain": [
              "(2.5, 1.118033988749895)"
            ]
          },
          "metadata": {},
          "execution_count": 11
        }
      ]
    },
    {
      "cell_type": "code",
      "source": [
        "def potencia(x,y):\n",
        "  w = x**y\n",
        "  return w\n",
        "\n",
        "lista = [1,2,3,4,5]\n",
        "for yi in lista:\n",
        "  print(potencia(2,yi))"
      ],
      "metadata": {
        "colab": {
          "base_uri": "https://localhost:8080/"
        },
        "id": "4ZH85KPoJkmc",
        "outputId": "ce53ffdb-6086-437b-db8c-5b583c1dcdde"
      },
      "execution_count": 12,
      "outputs": [
        {
          "output_type": "stream",
          "name": "stdout",
          "text": [
            "2\n",
            "4\n",
            "8\n",
            "16\n",
            "32\n"
          ]
        }
      ]
    },
    {
      "cell_type": "code",
      "source": [
        "dic_ = {'a':[1,2,3,4],'b':[2,4,6,8]}\n",
        "df = pd.DataFrame(dic_)"
      ],
      "metadata": {
        "id": "l-CqQrSsKN1b"
      },
      "execution_count": 13,
      "outputs": []
    },
    {
      "cell_type": "code",
      "source": [
        "df['a']"
      ],
      "metadata": {
        "colab": {
          "base_uri": "https://localhost:8080/"
        },
        "id": "7OLLdDtxKnNM",
        "outputId": "4f10397b-1682-4ca3-ab0d-b3d88e5fb646"
      },
      "execution_count": 15,
      "outputs": [
        {
          "output_type": "execute_result",
          "data": {
            "text/plain": [
              "0    1\n",
              "1    2\n",
              "2    3\n",
              "3    4\n",
              "Name: a, dtype: int64"
            ]
          },
          "metadata": {},
          "execution_count": 15
        }
      ]
    },
    {
      "cell_type": "code",
      "source": [
        "a =(1,2,3)\n",
        "b = set([1,2,3])\n",
        "print(a)\n",
        "print(b)"
      ],
      "metadata": {
        "colab": {
          "base_uri": "https://localhost:8080/"
        },
        "id": "ht-Da77AK7JE",
        "outputId": "b2f6f1e4-20dc-4c56-8e60-6da91d77c8e2"
      },
      "execution_count": 17,
      "outputs": [
        {
          "output_type": "stream",
          "name": "stdout",
          "text": [
            "(1, 2, 3)\n",
            "{1, 2, 3}\n"
          ]
        }
      ]
    }
  ]
}