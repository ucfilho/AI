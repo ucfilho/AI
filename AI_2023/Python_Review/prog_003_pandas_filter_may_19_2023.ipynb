{
  "nbformat": 4,
  "nbformat_minor": 0,
  "metadata": {
    "colab": {
      "provenance": [],
      "gpuType": "T4",
      "authorship_tag": "ABX9TyOtvVHyyjhNXhXrnRPhxJlK",
      "include_colab_link": true
    },
    "kernelspec": {
      "name": "python3",
      "display_name": "Python 3"
    },
    "language_info": {
      "name": "python"
    },
    "accelerator": "GPU",
    "gpuClass": "standard"
  },
  "cells": [
    {
      "cell_type": "markdown",
      "metadata": {
        "id": "view-in-github",
        "colab_type": "text"
      },
      "source": [
        "<a href=\"https://colab.research.google.com/github/ucfilho/AI/blob/main/AI_2023/Python_Review/prog_003_pandas_filter_may_19_2023.ipynb\" target=\"_parent\"><img src=\"https://colab.research.google.com/assets/colab-badge.svg\" alt=\"Open In Colab\"/></a>"
      ]
    },
    {
      "cell_type": "code",
      "source": [
        "import tensorflow as tf\n",
        "tf.__version__"
      ],
      "metadata": {
        "colab": {
          "base_uri": "https://localhost:8080/",
          "height": 37
        },
        "id": "k5IJzJf5b8rp",
        "outputId": "58fd925d-9431-4a70-c6e7-c363d9d06bb1"
      },
      "execution_count": 1,
      "outputs": [
        {
          "output_type": "execute_result",
          "data": {
            "text/plain": [
              "'2.12.0'"
            ],
            "application/vnd.google.colaboratory.intrinsic+json": {
              "type": "string"
            }
          },
          "metadata": {},
          "execution_count": 1
        }
      ]
    },
    {
      "cell_type": "code",
      "source": [
        "# !pip install optuna"
      ],
      "metadata": {
        "id": "vBmPEgHUNy90"
      },
      "execution_count": 2,
      "outputs": []
    },
    {
      "cell_type": "code",
      "source": [
        "from tensorboard.plugins.hparams import api as hp"
      ],
      "metadata": {
        "id": "ai1uinh8ShHp"
      },
      "execution_count": 3,
      "outputs": []
    },
    {
      "cell_type": "code",
      "source": [
        "#import optuna"
      ],
      "metadata": {
        "id": "rFaxEDbAA2Pd"
      },
      "execution_count": 4,
      "outputs": []
    },
    {
      "cell_type": "code",
      "source": [
        "from tensorflow.keras.layers import Input, Lambda, Dense, Flatten, Conv2D, BatchNormalization\n",
        "from tensorflow.keras.layers import  Dropout,ZeroPadding2D, MaxPooling2D, Activation, add\n",
        "from tensorflow.keras.models import Sequential\n",
        "from tensorflow.keras.preprocessing import image\n",
        "from tensorflow.keras.preprocessing.image import ImageDataGenerator\n",
        "from tensorflow.keras.optimizers import Adam\n",
        "from tensorflow.keras.applications.mobilenet_v2 import preprocess_input\n",
        "\n",
        "import cv2\n",
        "import numpy as np\n",
        "\n",
        "from sklearn.metrics import confusion_matrix\n",
        "import numpy as np\n",
        "import matplotlib.pyplot as plt\n",
        "\n",
        "from glob import glob\n",
        "\n",
        "import zipfile\n",
        "import pandas as pd\n",
        "\n",
        "\n",
        "from sklearn.metrics import classification_report, confusion_matrix"
      ],
      "metadata": {
        "id": "vBV4maM5dj4Z"
      },
      "execution_count": 5,
      "outputs": []
    },
    {
      "cell_type": "code",
      "source": [
        "IMAGE_SIZE = [224,224]\n",
        "ImgSize = IMAGE_SIZE[0]\n",
        "epochs = 16\n",
        "batch_size = 128"
      ],
      "metadata": {
        "id": "joGhrFvxf0SZ"
      },
      "execution_count": 6,
      "outputs": []
    },
    {
      "cell_type": "code",
      "execution_count": 7,
      "metadata": {
        "colab": {
          "base_uri": "https://localhost:8080/"
        },
        "id": "uqYS3HOybl-j",
        "outputId": "65743015-c848-422b-d381-71fc0a302dc2"
      },
      "outputs": [
        {
          "output_type": "stream",
          "name": "stdout",
          "text": [
            "Downloading...\n",
            "From: https://drive.google.com/uc?id=1CU4UkqJae07u1tKfp2rajWwwZA0SKiIm\n",
            "To: /content/blood_cell_images.zip\n",
            "100% 110M/110M [00:02<00:00, 42.4MB/s]\n"
          ]
        }
      ],
      "source": [
        "!gdown 1CU4UkqJae07u1tKfp2rajWwwZA0SKiIm"
      ]
    },
    {
      "cell_type": "code",
      "source": [
        "FILE='blood_cell_images.zip'"
      ],
      "metadata": {
        "id": "oA9vdFhEcBjR"
      },
      "execution_count": 8,
      "outputs": []
    },
    {
      "cell_type": "code",
      "source": [
        "archive = zipfile.ZipFile(FILE, 'r')\n",
        "archive.extractall()"
      ],
      "metadata": {
        "id": "PDaUD1YFhapi"
      },
      "execution_count": 9,
      "outputs": []
    },
    {
      "cell_type": "code",
      "source": [
        "!ls"
      ],
      "metadata": {
        "colab": {
          "base_uri": "https://localhost:8080/"
        },
        "id": "XkzcOpuIg-4y",
        "outputId": "461ef37e-2a15-48b0-83cc-9ba2e89d5cf5"
      },
      "execution_count": 10,
      "outputs": [
        {
          "output_type": "stream",
          "name": "stdout",
          "text": [
            "blood_cell_images  blood_cell_images.zip  __MACOSX  sample_data\n"
          ]
        }
      ]
    },
    {
      "cell_type": "code",
      "source": [
        "train_path = 'blood_cell_images/TRAIN'\n",
        "test_path = 'blood_cell_images/TEST'\n",
        "images_test = glob(test_path + '/*/*.jp*g')\n",
        "images_train = glob(train_path + '/*/*.jp*g')"
      ],
      "metadata": {
        "id": "dZNvCnEvfywC"
      },
      "execution_count": 11,
      "outputs": []
    },
    {
      "cell_type": "code",
      "source": [
        "folders_train = glob(train_path + '/*')\n",
        "folders_test = glob(test_path + '/*')"
      ],
      "metadata": {
        "id": "gkRGu5GTj146"
      },
      "execution_count": 12,
      "outputs": []
    },
    {
      "cell_type": "code",
      "source": [
        "folders_train"
      ],
      "metadata": {
        "colab": {
          "base_uri": "https://localhost:8080/"
        },
        "id": "SMnhssdIJNmg",
        "outputId": "9326cad4-4ef3-4d8f-a729-0c49a1c47112"
      },
      "execution_count": 13,
      "outputs": [
        {
          "output_type": "execute_result",
          "data": {
            "text/plain": [
              "['blood_cell_images/TRAIN/EOSINOPHIL',\n",
              " 'blood_cell_images/TRAIN/LYMPHOCYTE',\n",
              " 'blood_cell_images/TRAIN/NEUTROPHIL',\n",
              " 'blood_cell_images/TRAIN/MONOCYTE']"
            ]
          },
          "metadata": {},
          "execution_count": 13
        }
      ]
    },
    {
      "cell_type": "code",
      "source": [
        "folders_test"
      ],
      "metadata": {
        "colab": {
          "base_uri": "https://localhost:8080/"
        },
        "id": "GA4YzlX_LMyA",
        "outputId": "fdcf8bc6-6d81-45ad-ca92-917ed634e89c"
      },
      "execution_count": 14,
      "outputs": [
        {
          "output_type": "execute_result",
          "data": {
            "text/plain": [
              "['blood_cell_images/TEST/EOSINOPHIL',\n",
              " 'blood_cell_images/TEST/LYMPHOCYTE',\n",
              " 'blood_cell_images/TEST/NEUTROPHIL',\n",
              " 'blood_cell_images/TEST/MONOCYTE']"
            ]
          },
          "metadata": {},
          "execution_count": 14
        }
      ]
    },
    {
      "cell_type": "code",
      "source": [
        "ntrain, ntest = len(images_train),len(images_test)\n",
        "ntrain,ntest"
      ],
      "metadata": {
        "colab": {
          "base_uri": "https://localhost:8080/"
        },
        "id": "db3UWPUCJbvQ",
        "outputId": "4a53571c-f06a-4c69-a3d7-468036a7ba3c"
      },
      "execution_count": 15,
      "outputs": [
        {
          "output_type": "execute_result",
          "data": {
            "text/plain": [
              "(9957, 2487)"
            ]
          },
          "metadata": {},
          "execution_count": 15
        }
      ]
    },
    {
      "cell_type": "code",
      "source": [
        "images_train[:4]\n",
        "num_classes = 4"
      ],
      "metadata": {
        "id": "zf5rRd3dJweu"
      },
      "execution_count": 16,
      "outputs": []
    },
    {
      "cell_type": "code",
      "source": [
        "types = ['NEUTROPHIL', 'EOSINOPHIL', 'MONOCYTE', 'LYMPHOCYTE']"
      ],
      "metadata": {
        "id": "TgEH-NHPWLCy"
      },
      "execution_count": 17,
      "outputs": []
    },
    {
      "cell_type": "code",
      "source": [
        "size = 20 # resize the images considering this value\n",
        "n_epochs = 1000"
      ],
      "metadata": {
        "id": "ZmVI0YCmpOJM"
      },
      "execution_count": 18,
      "outputs": []
    },
    {
      "cell_type": "code",
      "source": [
        "\n",
        "def load_images(images,types=types, dim = (size,size)):\n",
        "\n",
        "  nsize = len(images)\n",
        "  X =[]\n",
        "  y =[]\n",
        "  names =[]\n",
        "  k = 0\n",
        "\n",
        "  for i in range(nsize): \n",
        "    img = image.load_img(images[i])\n",
        "    im = cv2.resize(np.array(img), dim)\n",
        "    im = preprocess_input(im)\n",
        "    k += 1\n",
        "    if( k % 3 == 0):\n",
        "      X.append(im)\n",
        "\n",
        "      if(types[0] in images[i]):\n",
        "        names.append(types[0])\n",
        "        y.append(0)\n",
        "      elif(types[1] in images[i]):\n",
        "        names.append(types[1])\n",
        "        y.append(1)\n",
        "      elif(types[2] in images[i]):\n",
        "        names.append(types[2])\n",
        "        y.append(2)\n",
        "      else:\n",
        "        names.append(types[3])\n",
        "        y.append(3)\n",
        "\n",
        "  X =np.array(X)\n",
        "  return X,y,names"
      ],
      "metadata": {
        "id": "zzt1zfddkCSC"
      },
      "execution_count": 19,
      "outputs": []
    },
    {
      "cell_type": "code",
      "source": [
        "\n",
        "X_train, y_train, names_train = load_images(images_train)\n",
        "X_test, y_test, names_test = load_images(images_test)"
      ],
      "metadata": {
        "id": "eoaiNXxgcOkT"
      },
      "execution_count": 20,
      "outputs": []
    },
    {
      "cell_type": "code",
      "source": [
        "X_train[0].shape"
      ],
      "metadata": {
        "colab": {
          "base_uri": "https://localhost:8080/"
        },
        "id": "vhBa4_9Ec21T",
        "outputId": "5ac8a611-3a71-41e1-b406-38470609b88b"
      },
      "execution_count": 21,
      "outputs": [
        {
          "output_type": "execute_result",
          "data": {
            "text/plain": [
              "(20, 20, 3)"
            ]
          },
          "metadata": {},
          "execution_count": 21
        }
      ]
    },
    {
      "cell_type": "code",
      "source": [
        "df = pd.DataFrame({'name':names_train,'class':y_train})\n",
        "y_train = pd.get_dummies(df['class'])\n",
        "#y_train"
      ],
      "metadata": {
        "id": "3LBDuJfBgLcz"
      },
      "execution_count": 22,
      "outputs": []
    },
    {
      "cell_type": "code",
      "source": [
        "for i in range(4): \n",
        "  df_plot= df[(df[\"class\"] == i)]\n",
        "  n= df_plot.shape[0]\n",
        "  print(types[i],n)"
      ],
      "metadata": {
        "colab": {
          "base_uri": "https://localhost:8080/"
        },
        "id": "riQc8fXFglFT",
        "outputId": "19b1b5a3-20b3-4a7f-eb41-881459babdae"
      },
      "execution_count": 23,
      "outputs": [
        {
          "output_type": "stream",
          "name": "stdout",
          "text": [
            "NEUTROPHIL 833\n",
            "EOSINOPHIL 832\n",
            "MONOCYTE 826\n",
            "LYMPHOCYTE 828\n"
          ]
        }
      ]
    },
    {
      "cell_type": "code",
      "source": [
        "df = pd.DataFrame({'name':names_test,'class':y_test})\n",
        "y_test = pd.get_dummies(df['class'])\n",
        "#y_test"
      ],
      "metadata": {
        "id": "wt92shXjg9ol"
      },
      "execution_count": 24,
      "outputs": []
    },
    {
      "cell_type": "code",
      "source": [
        "HP_DROPOUT = [0.0, 0.2]\n",
        "HP_OPTIMIZER = ['adam', 'sgd','RMSprop']\n",
        "HP_LEARNING_RATE = [ 1e-3] # [ 1e-3, 1e-4]\n",
        "HP_EPOCHS = [10, 20]\n",
        "METRIC_ACCURACY = 'accuracy'"
      ],
      "metadata": {
        "id": "1jQtzeWfhmxe"
      },
      "execution_count": 25,
      "outputs": []
    },
    {
      "cell_type": "code",
      "source": [],
      "metadata": {
        "id": "tGslpIhmRica"
      },
      "execution_count": 25,
      "outputs": []
    },
    {
      "cell_type": "code",
      "source": [
        "def train_test_model(hparams):\n",
        "  model = Sequential()\n",
        "  model.add(Conv2D(32, (3, 3), padding='same',\n",
        "                  input_shape=X_train.shape[1:]))\n",
        "  model.add(Activation('relu'))\n",
        "  model.add(MaxPooling2D(pool_size=(2, 2)))\n",
        "  model.add(Dropout(hparams['HP_DROPOUT']))\n",
        "\n",
        "  model.add(Conv2D(64, (3, 3), padding='same'))\n",
        "  model.add(Activation('relu'))\n",
        "  model.add(MaxPooling2D(pool_size=(2, 2)))\n",
        "  model.add(Dropout(hparams['HP_DROPOUT']))\n",
        "\n",
        "  model.add(Flatten())\n",
        "  model.add(Dense(512))\n",
        "  model.add(Activation('relu'))\n",
        "  model.add(Dropout(hparams['HP_DROPOUT']))\n",
        "  model.add(Dense(num_classes))\n",
        "  model.add(Activation('softmax'))\n",
        "\n",
        "  if 'adam'== hparams['HP_OPTIMIZER']:\n",
        "    optimizer = optimizer=tf.keras.optimizers.Adam(learning_rate=hparams['HP_LEARNING_RATE'])\n",
        "  elif 'sgd'== hparams['HP_OPTIMIZER']:\n",
        "    optimizer = optimizer=tf.keras.optimizers.SGD(learning_rate=hparams['HP_LEARNING_RATE'])\n",
        "  else: # 'RMSprop'\n",
        "    optimizer = optimizer=tf.keras.optimizers.RMSprop(learning_rate=hparams['HP_LEARNING_RATE']/10)\n",
        "\n",
        "  model.compile(optimizer=optimizer,\n",
        "                loss=tf.keras.losses.CategoricalCrossentropy(from_logits=False),\n",
        "                metrics=['accuracy'])  \n",
        "  model.fit(\n",
        "    x=X_train,\n",
        "    y=y_train,\n",
        "    validation_data=(X_test, y_test),\n",
        "    epochs= hparams['HP_EPOCHS'],\n",
        "    verbose=0) # verbose=2\n",
        "  \n",
        "  _, accuracy_test = model.evaluate(X_test,y_test)\n",
        "  _, accuracy_train = model.evaluate(X_train,y_train)\n",
        "  return accuracy_train, accuracy_test"
      ],
      "metadata": {
        "id": "9gXB57rRLLu5"
      },
      "execution_count": 26,
      "outputs": []
    },
    {
      "cell_type": "code",
      "source": [],
      "metadata": {
        "id": "ihUO-myJdayH"
      },
      "execution_count": 26,
      "outputs": []
    },
    {
      "cell_type": "code",
      "source": [
        "session_num = 0\n",
        "ans_model =[]\n",
        "for learning_rate in HP_LEARNING_RATE:\n",
        "  for optimizer in HP_OPTIMIZER:\n",
        "    for dropout_rate in HP_DROPOUT:\n",
        "      for epochs in HP_EPOCHS:\n",
        "\n",
        "        hparams = {\n",
        "            'HP_LEARNING_RATE': learning_rate,\n",
        "            'HP_DROPOUT': dropout_rate,\n",
        "            'HP_EPOCHS': epochs,\n",
        "            'HP_OPTIMIZER': optimizer\n",
        "            \n",
        "        }\n",
        "\n",
        "        run_name = \"run-%d\" % session_num\n",
        "        print('--- Starting trial: %s' % run_name)\n",
        "        acc_train, acc_test = train_test_model(hparams)\n",
        "        ans_model.append([learning_rate, dropout_rate,epochs, optimizer,acc_train,acc_test])\n",
        "        session_num += 1"
      ],
      "metadata": {
        "colab": {
          "base_uri": "https://localhost:8080/"
        },
        "id": "In8NbI__YB2n",
        "outputId": "03c956ac-beb4-487c-de51-6d4a7ee05b75"
      },
      "execution_count": 27,
      "outputs": [
        {
          "output_type": "stream",
          "name": "stdout",
          "text": [
            "--- Starting trial: run-0\n",
            "26/26 [==============================] - 0s 3ms/step - loss: 1.1717 - accuracy: 0.5730\n",
            "104/104 [==============================] - 0s 3ms/step - loss: 0.3753 - accuracy: 0.8539\n",
            "--- Starting trial: run-1\n",
            "26/26 [==============================] - 0s 3ms/step - loss: 1.5798 - accuracy: 0.6212\n",
            "104/104 [==============================] - 0s 3ms/step - loss: 0.0073 - accuracy: 1.0000\n",
            "--- Starting trial: run-2\n",
            "26/26 [==============================] - 0s 3ms/step - loss: 0.7962 - accuracy: 0.6502\n",
            "104/104 [==============================] - 0s 3ms/step - loss: 0.5051 - accuracy: 0.8078\n",
            "--- Starting trial: run-3\n",
            "26/26 [==============================] - 0s 3ms/step - loss: 0.9412 - accuracy: 0.6297\n",
            "104/104 [==============================] - 0s 3ms/step - loss: 0.1016 - accuracy: 0.9928\n",
            "--- Starting trial: run-4\n",
            "26/26 [==============================] - 0s 3ms/step - loss: 1.3863 - accuracy: 0.2618\n",
            "104/104 [==============================] - 0s 3ms/step - loss: 1.3821 - accuracy: 0.2901\n",
            "--- Starting trial: run-5\n",
            "26/26 [==============================] - 0s 3ms/step - loss: 1.3866 - accuracy: 0.2618\n",
            "104/104 [==============================] - 0s 3ms/step - loss: 1.3757 - accuracy: 0.3176\n",
            "--- Starting trial: run-6\n",
            "26/26 [==============================] - 0s 4ms/step - loss: 1.3853 - accuracy: 0.2581\n",
            "104/104 [==============================] - 0s 4ms/step - loss: 1.3820 - accuracy: 0.2787\n",
            "--- Starting trial: run-7\n",
            "26/26 [==============================] - 0s 3ms/step - loss: 1.3875 - accuracy: 0.2400\n",
            "104/104 [==============================] - 0s 3ms/step - loss: 1.3803 - accuracy: 0.2992\n",
            "--- Starting trial: run-8\n",
            "26/26 [==============================] - 0s 3ms/step - loss: 1.1757 - accuracy: 0.4536\n",
            "104/104 [==============================] - 0s 3ms/step - loss: 1.1023 - accuracy: 0.5273\n",
            "--- Starting trial: run-9\n",
            "26/26 [==============================] - 0s 3ms/step - loss: 1.1170 - accuracy: 0.4885\n",
            "104/104 [==============================] - 0s 3ms/step - loss: 0.8145 - accuracy: 0.6854\n",
            "--- Starting trial: run-10\n",
            "26/26 [==============================] - 0s 3ms/step - loss: 1.3507 - accuracy: 0.3052\n",
            "104/104 [==============================] - 0s 3ms/step - loss: 1.2772 - accuracy: 0.4510\n",
            "--- Starting trial: run-11\n",
            "26/26 [==============================] - 0s 3ms/step - loss: 1.1320 - accuracy: 0.4801\n",
            "104/104 [==============================] - 0s 3ms/step - loss: 1.0389 - accuracy: 0.5857\n"
          ]
        }
      ]
    },
    {
      "cell_type": "code",
      "source": [
        "df = pd.DataFrame(ans_model,columns=['learning_rate', 'dropout_rate','epochs', 'optimizer','acc_train','acc_test'])"
      ],
      "metadata": {
        "id": "FdeYqmpkfBqd"
      },
      "execution_count": 28,
      "outputs": []
    },
    {
      "cell_type": "code",
      "source": [
        "df"
      ],
      "metadata": {
        "colab": {
          "base_uri": "https://localhost:8080/",
          "height": 425
        },
        "id": "1K0R1cSwhol7",
        "outputId": "a0e1769e-f998-4799-8c31-3360694b10a0"
      },
      "execution_count": 29,
      "outputs": [
        {
          "output_type": "execute_result",
          "data": {
            "text/plain": [
              "    learning_rate  dropout_rate  epochs optimizer  acc_train  acc_test\n",
              "0           0.001           0.0      10      adam   0.853872  0.572980\n",
              "1           0.001           0.0      20      adam   1.000000  0.621230\n",
              "2           0.001           0.2      10      adam   0.807773  0.650181\n",
              "3           0.001           0.2      20      adam   0.992769  0.629674\n",
              "4           0.001           0.0      10       sgd   0.290148  0.261761\n",
              "5           0.001           0.0      20       sgd   0.317566  0.261761\n",
              "6           0.001           0.2      10       sgd   0.278698  0.258142\n",
              "7           0.001           0.2      20       sgd   0.299186  0.240048\n",
              "8           0.001           0.0      10   RMSprop   0.527267  0.453559\n",
              "9           0.001           0.0      20   RMSprop   0.685447  0.488540\n",
              "10          0.001           0.2      10   RMSprop   0.451039  0.305187\n",
              "11          0.001           0.2      20   RMSprop   0.585719  0.480096"
            ],
            "text/html": [
              "\n",
              "  <div id=\"df-7df5e412-241a-4083-a175-21439fca2367\">\n",
              "    <div class=\"colab-df-container\">\n",
              "      <div>\n",
              "<style scoped>\n",
              "    .dataframe tbody tr th:only-of-type {\n",
              "        vertical-align: middle;\n",
              "    }\n",
              "\n",
              "    .dataframe tbody tr th {\n",
              "        vertical-align: top;\n",
              "    }\n",
              "\n",
              "    .dataframe thead th {\n",
              "        text-align: right;\n",
              "    }\n",
              "</style>\n",
              "<table border=\"1\" class=\"dataframe\">\n",
              "  <thead>\n",
              "    <tr style=\"text-align: right;\">\n",
              "      <th></th>\n",
              "      <th>learning_rate</th>\n",
              "      <th>dropout_rate</th>\n",
              "      <th>epochs</th>\n",
              "      <th>optimizer</th>\n",
              "      <th>acc_train</th>\n",
              "      <th>acc_test</th>\n",
              "    </tr>\n",
              "  </thead>\n",
              "  <tbody>\n",
              "    <tr>\n",
              "      <th>0</th>\n",
              "      <td>0.001</td>\n",
              "      <td>0.0</td>\n",
              "      <td>10</td>\n",
              "      <td>adam</td>\n",
              "      <td>0.853872</td>\n",
              "      <td>0.572980</td>\n",
              "    </tr>\n",
              "    <tr>\n",
              "      <th>1</th>\n",
              "      <td>0.001</td>\n",
              "      <td>0.0</td>\n",
              "      <td>20</td>\n",
              "      <td>adam</td>\n",
              "      <td>1.000000</td>\n",
              "      <td>0.621230</td>\n",
              "    </tr>\n",
              "    <tr>\n",
              "      <th>2</th>\n",
              "      <td>0.001</td>\n",
              "      <td>0.2</td>\n",
              "      <td>10</td>\n",
              "      <td>adam</td>\n",
              "      <td>0.807773</td>\n",
              "      <td>0.650181</td>\n",
              "    </tr>\n",
              "    <tr>\n",
              "      <th>3</th>\n",
              "      <td>0.001</td>\n",
              "      <td>0.2</td>\n",
              "      <td>20</td>\n",
              "      <td>adam</td>\n",
              "      <td>0.992769</td>\n",
              "      <td>0.629674</td>\n",
              "    </tr>\n",
              "    <tr>\n",
              "      <th>4</th>\n",
              "      <td>0.001</td>\n",
              "      <td>0.0</td>\n",
              "      <td>10</td>\n",
              "      <td>sgd</td>\n",
              "      <td>0.290148</td>\n",
              "      <td>0.261761</td>\n",
              "    </tr>\n",
              "    <tr>\n",
              "      <th>5</th>\n",
              "      <td>0.001</td>\n",
              "      <td>0.0</td>\n",
              "      <td>20</td>\n",
              "      <td>sgd</td>\n",
              "      <td>0.317566</td>\n",
              "      <td>0.261761</td>\n",
              "    </tr>\n",
              "    <tr>\n",
              "      <th>6</th>\n",
              "      <td>0.001</td>\n",
              "      <td>0.2</td>\n",
              "      <td>10</td>\n",
              "      <td>sgd</td>\n",
              "      <td>0.278698</td>\n",
              "      <td>0.258142</td>\n",
              "    </tr>\n",
              "    <tr>\n",
              "      <th>7</th>\n",
              "      <td>0.001</td>\n",
              "      <td>0.2</td>\n",
              "      <td>20</td>\n",
              "      <td>sgd</td>\n",
              "      <td>0.299186</td>\n",
              "      <td>0.240048</td>\n",
              "    </tr>\n",
              "    <tr>\n",
              "      <th>8</th>\n",
              "      <td>0.001</td>\n",
              "      <td>0.0</td>\n",
              "      <td>10</td>\n",
              "      <td>RMSprop</td>\n",
              "      <td>0.527267</td>\n",
              "      <td>0.453559</td>\n",
              "    </tr>\n",
              "    <tr>\n",
              "      <th>9</th>\n",
              "      <td>0.001</td>\n",
              "      <td>0.0</td>\n",
              "      <td>20</td>\n",
              "      <td>RMSprop</td>\n",
              "      <td>0.685447</td>\n",
              "      <td>0.488540</td>\n",
              "    </tr>\n",
              "    <tr>\n",
              "      <th>10</th>\n",
              "      <td>0.001</td>\n",
              "      <td>0.2</td>\n",
              "      <td>10</td>\n",
              "      <td>RMSprop</td>\n",
              "      <td>0.451039</td>\n",
              "      <td>0.305187</td>\n",
              "    </tr>\n",
              "    <tr>\n",
              "      <th>11</th>\n",
              "      <td>0.001</td>\n",
              "      <td>0.2</td>\n",
              "      <td>20</td>\n",
              "      <td>RMSprop</td>\n",
              "      <td>0.585719</td>\n",
              "      <td>0.480096</td>\n",
              "    </tr>\n",
              "  </tbody>\n",
              "</table>\n",
              "</div>\n",
              "      <button class=\"colab-df-convert\" onclick=\"convertToInteractive('df-7df5e412-241a-4083-a175-21439fca2367')\"\n",
              "              title=\"Convert this dataframe to an interactive table.\"\n",
              "              style=\"display:none;\">\n",
              "        \n",
              "  <svg xmlns=\"http://www.w3.org/2000/svg\" height=\"24px\"viewBox=\"0 0 24 24\"\n",
              "       width=\"24px\">\n",
              "    <path d=\"M0 0h24v24H0V0z\" fill=\"none\"/>\n",
              "    <path d=\"M18.56 5.44l.94 2.06.94-2.06 2.06-.94-2.06-.94-.94-2.06-.94 2.06-2.06.94zm-11 1L8.5 8.5l.94-2.06 2.06-.94-2.06-.94L8.5 2.5l-.94 2.06-2.06.94zm10 10l.94 2.06.94-2.06 2.06-.94-2.06-.94-.94-2.06-.94 2.06-2.06.94z\"/><path d=\"M17.41 7.96l-1.37-1.37c-.4-.4-.92-.59-1.43-.59-.52 0-1.04.2-1.43.59L10.3 9.45l-7.72 7.72c-.78.78-.78 2.05 0 2.83L4 21.41c.39.39.9.59 1.41.59.51 0 1.02-.2 1.41-.59l7.78-7.78 2.81-2.81c.8-.78.8-2.07 0-2.86zM5.41 20L4 18.59l7.72-7.72 1.47 1.35L5.41 20z\"/>\n",
              "  </svg>\n",
              "      </button>\n",
              "      \n",
              "  <style>\n",
              "    .colab-df-container {\n",
              "      display:flex;\n",
              "      flex-wrap:wrap;\n",
              "      gap: 12px;\n",
              "    }\n",
              "\n",
              "    .colab-df-convert {\n",
              "      background-color: #E8F0FE;\n",
              "      border: none;\n",
              "      border-radius: 50%;\n",
              "      cursor: pointer;\n",
              "      display: none;\n",
              "      fill: #1967D2;\n",
              "      height: 32px;\n",
              "      padding: 0 0 0 0;\n",
              "      width: 32px;\n",
              "    }\n",
              "\n",
              "    .colab-df-convert:hover {\n",
              "      background-color: #E2EBFA;\n",
              "      box-shadow: 0px 1px 2px rgba(60, 64, 67, 0.3), 0px 1px 3px 1px rgba(60, 64, 67, 0.15);\n",
              "      fill: #174EA6;\n",
              "    }\n",
              "\n",
              "    [theme=dark] .colab-df-convert {\n",
              "      background-color: #3B4455;\n",
              "      fill: #D2E3FC;\n",
              "    }\n",
              "\n",
              "    [theme=dark] .colab-df-convert:hover {\n",
              "      background-color: #434B5C;\n",
              "      box-shadow: 0px 1px 3px 1px rgba(0, 0, 0, 0.15);\n",
              "      filter: drop-shadow(0px 1px 2px rgba(0, 0, 0, 0.3));\n",
              "      fill: #FFFFFF;\n",
              "    }\n",
              "  </style>\n",
              "\n",
              "      <script>\n",
              "        const buttonEl =\n",
              "          document.querySelector('#df-7df5e412-241a-4083-a175-21439fca2367 button.colab-df-convert');\n",
              "        buttonEl.style.display =\n",
              "          google.colab.kernel.accessAllowed ? 'block' : 'none';\n",
              "\n",
              "        async function convertToInteractive(key) {\n",
              "          const element = document.querySelector('#df-7df5e412-241a-4083-a175-21439fca2367');\n",
              "          const dataTable =\n",
              "            await google.colab.kernel.invokeFunction('convertToInteractive',\n",
              "                                                     [key], {});\n",
              "          if (!dataTable) return;\n",
              "\n",
              "          const docLinkHtml = 'Like what you see? Visit the ' +\n",
              "            '<a target=\"_blank\" href=https://colab.research.google.com/notebooks/data_table.ipynb>data table notebook</a>'\n",
              "            + ' to learn more about interactive tables.';\n",
              "          element.innerHTML = '';\n",
              "          dataTable['output_type'] = 'display_data';\n",
              "          await google.colab.output.renderOutput(dataTable, element);\n",
              "          const docLink = document.createElement('div');\n",
              "          docLink.innerHTML = docLinkHtml;\n",
              "          element.appendChild(docLink);\n",
              "        }\n",
              "      </script>\n",
              "    </div>\n",
              "  </div>\n",
              "  "
            ]
          },
          "metadata": {},
          "execution_count": 29
        }
      ]
    },
    {
      "cell_type": "code",
      "source": [
        "sorted_df = df.sort_values(by='acc_test', ascending=False)\n",
        "print(sorted_df)"
      ],
      "metadata": {
        "colab": {
          "base_uri": "https://localhost:8080/"
        },
        "id": "I5sWfg-xhtFi",
        "outputId": "2898bc5c-5243-48a6-901a-4459b17b1339"
      },
      "execution_count": 30,
      "outputs": [
        {
          "output_type": "stream",
          "name": "stdout",
          "text": [
            "    learning_rate  dropout_rate  epochs optimizer  acc_train  acc_test\n",
            "2           0.001           0.2      10      adam   0.807773  0.650181\n",
            "3           0.001           0.2      20      adam   0.992769  0.629674\n",
            "1           0.001           0.0      20      adam   1.000000  0.621230\n",
            "0           0.001           0.0      10      adam   0.853872  0.572980\n",
            "9           0.001           0.0      20   RMSprop   0.685447  0.488540\n",
            "11          0.001           0.2      20   RMSprop   0.585719  0.480096\n",
            "8           0.001           0.0      10   RMSprop   0.527267  0.453559\n",
            "10          0.001           0.2      10   RMSprop   0.451039  0.305187\n",
            "4           0.001           0.0      10       sgd   0.290148  0.261761\n",
            "5           0.001           0.0      20       sgd   0.317566  0.261761\n",
            "6           0.001           0.2      10       sgd   0.278698  0.258142\n",
            "7           0.001           0.2      20       sgd   0.299186  0.240048\n"
          ]
        }
      ]
    },
    {
      "cell_type": "code",
      "source": [
        "best_df = df[df['acc_test']>0.47]\n",
        "print(best_df)"
      ],
      "metadata": {
        "colab": {
          "base_uri": "https://localhost:8080/"
        },
        "id": "_WmRFJ_nT4ed",
        "outputId": "7d9b2a53-c1c2-49af-e99f-479f0f33e5a2"
      },
      "execution_count": 31,
      "outputs": [
        {
          "output_type": "stream",
          "name": "stdout",
          "text": [
            "    learning_rate  dropout_rate  epochs optimizer  acc_train  acc_test\n",
            "0           0.001           0.0      10      adam   0.853872  0.572980\n",
            "1           0.001           0.0      20      adam   1.000000  0.621230\n",
            "2           0.001           0.2      10      adam   0.807773  0.650181\n",
            "3           0.001           0.2      20      adam   0.992769  0.629674\n",
            "9           0.001           0.0      20   RMSprop   0.685447  0.488540\n",
            "11          0.001           0.2      20   RMSprop   0.585719  0.480096\n"
          ]
        }
      ]
    },
    {
      "cell_type": "code",
      "source": [
        "df_model = df.loc[df['optimizer'].isin(['adam','RMSprop'])]\n",
        "print(df_model)"
      ],
      "metadata": {
        "colab": {
          "base_uri": "https://localhost:8080/"
        },
        "id": "w9Kns6sJUSgN",
        "outputId": "41015e40-587b-4c72-bc1d-df2811752fd9"
      },
      "execution_count": 32,
      "outputs": [
        {
          "output_type": "stream",
          "name": "stdout",
          "text": [
            "    learning_rate  dropout_rate  epochs optimizer  acc_train  acc_test\n",
            "0           0.001           0.0      10      adam   0.853872  0.572980\n",
            "1           0.001           0.0      20      adam   1.000000  0.621230\n",
            "2           0.001           0.2      10      adam   0.807773  0.650181\n",
            "3           0.001           0.2      20      adam   0.992769  0.629674\n",
            "8           0.001           0.0      10   RMSprop   0.527267  0.453559\n",
            "9           0.001           0.0      20   RMSprop   0.685447  0.488540\n",
            "10          0.001           0.2      10   RMSprop   0.451039  0.305187\n",
            "11          0.001           0.2      20   RMSprop   0.585719  0.480096\n"
          ]
        }
      ]
    },
    {
      "cell_type": "code",
      "source": [
        "df_conditions = df[(df['acc_train'] > 0.9) & (df['acc_test']>0.6)]\n",
        "print(df_conditions)"
      ],
      "metadata": {
        "colab": {
          "base_uri": "https://localhost:8080/"
        },
        "id": "xMt1fCQZU5He",
        "outputId": "3c944eab-3bbd-4757-ea83-f4afc1041c63"
      },
      "execution_count": 45,
      "outputs": [
        {
          "output_type": "stream",
          "name": "stdout",
          "text": [
            "   learning_rate  dropout_rate  epochs optimizer  acc_train  acc_test\n",
            "1          0.001           0.0      20      adam   1.000000  0.621230\n",
            "3          0.001           0.2      20      adam   0.992769  0.629674\n"
          ]
        }
      ]
    },
    {
      "cell_type": "code",
      "source": [
        "df_conditions_v2 = df[(df['acc_train']>0.9) | (df['acc_test']>0.65)]\n",
        "print(df_conditions_v2)"
      ],
      "metadata": {
        "colab": {
          "base_uri": "https://localhost:8080/"
        },
        "id": "bFrnLUwSWd9T",
        "outputId": "0d23afe1-db07-4abc-a232-5a2cf7373987"
      },
      "execution_count": 43,
      "outputs": [
        {
          "output_type": "stream",
          "name": "stdout",
          "text": [
            "   learning_rate  dropout_rate  epochs optimizer  acc_train  acc_test\n",
            "1          0.001           0.0      20      adam   1.000000  0.621230\n",
            "2          0.001           0.2      10      adam   0.807773  0.650181\n",
            "3          0.001           0.2      20      adam   0.992769  0.629674\n"
          ]
        }
      ]
    }
  ]
}