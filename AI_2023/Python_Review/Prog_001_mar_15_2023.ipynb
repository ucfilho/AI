{
  "nbformat": 4,
  "nbformat_minor": 0,
  "metadata": {
    "colab": {
      "provenance": [],
      "authorship_tag": "ABX9TyOYwebYODu9gmfBwvU6pAfA",
      "include_colab_link": true
    },
    "kernelspec": {
      "name": "python3",
      "display_name": "Python 3"
    },
    "language_info": {
      "name": "python"
    }
  },
  "cells": [
    {
      "cell_type": "markdown",
      "metadata": {
        "id": "view-in-github",
        "colab_type": "text"
      },
      "source": [
        "<a href=\"https://colab.research.google.com/github/ucfilho/AI/blob/main/AI_2023/Python_Review/Prog_001_mar_15_2023.ipynb\" target=\"_parent\"><img src=\"https://colab.research.google.com/assets/colab-badge.svg\" alt=\"Open In Colab\"/></a>"
      ]
    },
    {
      "cell_type": "code",
      "execution_count": 30,
      "metadata": {
        "colab": {
          "base_uri": "https://localhost:8080/"
        },
        "id": "6I7FbaQEftXy",
        "outputId": "91af9a6a-32c3-4fde-9a21-c05b38773e04"
      },
      "outputs": [
        {
          "output_type": "stream",
          "name": "stdout",
          "text": [
            "3 4 12\n"
          ]
        }
      ],
      "source": [
        "x = 3\n",
        "y = 4\n",
        "z = x * y\n",
        "print(x,y,z)"
      ]
    },
    {
      "cell_type": "code",
      "source": [
        "print(x**y)"
      ],
      "metadata": {
        "colab": {
          "base_uri": "https://localhost:8080/"
        },
        "id": "Pl7XTr_LhfWp",
        "outputId": "84742cc9-e88a-4ff2-ef66-dcc73e6e2f43"
      },
      "execution_count": 31,
      "outputs": [
        {
          "output_type": "stream",
          "name": "stdout",
          "text": [
            "81\n"
          ]
        }
      ]
    },
    {
      "cell_type": "code",
      "source": [
        "print(y % x)"
      ],
      "metadata": {
        "colab": {
          "base_uri": "https://localhost:8080/"
        },
        "id": "TYbCNniAhyXS",
        "outputId": "546c8a02-1c4a-41c5-855c-6865aa1119e1"
      },
      "execution_count": 32,
      "outputs": [
        {
          "output_type": "stream",
          "name": "stdout",
          "text": [
            "1\n"
          ]
        }
      ]
    },
    {
      "cell_type": "code",
      "source": [
        "x = [2,3,4] # lista\n",
        "for xi in x:\n",
        "  print(xi)\n",
        "  print(xi+1)\n",
        "  print('======')"
      ],
      "metadata": {
        "colab": {
          "base_uri": "https://localhost:8080/"
        },
        "id": "W2SgjF9PiV4Q",
        "outputId": "28ab9019-007e-4d20-cf54-5bf4541127cf"
      },
      "execution_count": 33,
      "outputs": [
        {
          "output_type": "stream",
          "name": "stdout",
          "text": [
            "2\n",
            "3\n",
            "======\n",
            "3\n",
            "4\n",
            "======\n",
            "4\n",
            "5\n",
            "======\n"
          ]
        }
      ]
    },
    {
      "cell_type": "code",
      "source": [
        "w = ['a',1,'b',2.0]\n"
      ],
      "metadata": {
        "id": "1EPrnWkyjN3g"
      },
      "execution_count": 34,
      "outputs": []
    },
    {
      "cell_type": "code",
      "source": [
        "lista = [1,2,3,4,5,6,7,8]\n",
        "for wi in lista:\n",
        "  if wi % 2 == 0:\n",
        "    print(wi,'numero par')\n",
        "  else:\n",
        "    print(wi,'numero impar')"
      ],
      "metadata": {
        "colab": {
          "base_uri": "https://localhost:8080/"
        },
        "id": "GHIPOOhSjENa",
        "outputId": "cb46de73-db23-435e-a2c7-9c40f9096c7d"
      },
      "execution_count": 35,
      "outputs": [
        {
          "output_type": "stream",
          "name": "stdout",
          "text": [
            "1 numero impar\n",
            "2 numero par\n",
            "3 numero impar\n",
            "4 numero par\n",
            "5 numero impar\n",
            "6 numero par\n",
            "7 numero impar\n",
            "8 numero par\n"
          ]
        }
      ]
    },
    {
      "cell_type": "code",
      "source": [
        "import numpy as np"
      ],
      "metadata": {
        "id": "MLS10F4SmD3o"
      },
      "execution_count": 36,
      "outputs": []
    },
    {
      "cell_type": "code",
      "source": [
        "z = np.array([1.0,2.0,3.0,4.0,5.0])"
      ],
      "metadata": {
        "id": "42Y57Ak1mMRv"
      },
      "execution_count": 37,
      "outputs": []
    },
    {
      "cell_type": "code",
      "source": [
        "print(z)"
      ],
      "metadata": {
        "colab": {
          "base_uri": "https://localhost:8080/"
        },
        "id": "0fPdcLg6mVAh",
        "outputId": "fc9218c6-55a9-49c7-82e0-b9c5d8452220"
      },
      "execution_count": 38,
      "outputs": [
        {
          "output_type": "stream",
          "name": "stdout",
          "text": [
            "[1. 2. 3. 4. 5.]\n"
          ]
        }
      ]
    },
    {
      "cell_type": "code",
      "source": [
        "lista[2]"
      ],
      "metadata": {
        "colab": {
          "base_uri": "https://localhost:8080/"
        },
        "id": "YTtGXer8mWP9",
        "outputId": "fc41c2c8-d0e1-4c89-e358-217f164cac28"
      },
      "execution_count": 39,
      "outputs": [
        {
          "output_type": "execute_result",
          "data": {
            "text/plain": [
              "3"
            ]
          },
          "metadata": {},
          "execution_count": 39
        }
      ]
    },
    {
      "cell_type": "code",
      "source": [
        "x = [1,2,10,4]\n",
        "for i in range(4):\n",
        "  print(i,x[i])"
      ],
      "metadata": {
        "colab": {
          "base_uri": "https://localhost:8080/"
        },
        "id": "d43uos-rnEtI",
        "outputId": "0dbc20fb-e1fb-4e0a-bba3-413c6e04f76f"
      },
      "execution_count": 40,
      "outputs": [
        {
          "output_type": "stream",
          "name": "stdout",
          "text": [
            "0 1\n",
            "1 2\n",
            "2 10\n",
            "3 4\n"
          ]
        }
      ]
    },
    {
      "cell_type": "code",
      "source": [
        "# x=1,1,2,3,5,8,.....\n",
        "\n",
        "'''\n",
        " x=1,1,2,3,5,8,13,21,34.....\n",
        "'''"
      ],
      "metadata": {
        "colab": {
          "base_uri": "https://localhost:8080/",
          "height": 38
        },
        "id": "-Ss4OBjnnfIZ",
        "outputId": "ed6b5a8c-9f54-4ea4-f2e6-33b90f0a43cf"
      },
      "execution_count": 41,
      "outputs": [
        {
          "output_type": "execute_result",
          "data": {
            "text/plain": [
              "'\\n x=1,1,2,3,5,8,13,21,34.....\\n'"
            ],
            "application/vnd.google.colaboratory.intrinsic+json": {
              "type": "string"
            }
          },
          "metadata": {},
          "execution_count": 41
        }
      ]
    },
    {
      "cell_type": "code",
      "source": [
        "n = int(input('entre a quantidade:'))\n",
        "x = 1\n",
        "y = 1\n",
        "k = 3\n",
        "for i in range(n):\n",
        "  aux = y\n",
        "  y = x + y\n",
        "  x = aux\n",
        "  #print(y)\n",
        "  if y >= 10:\n",
        "    print(k)\n",
        "    break\n",
        "\n",
        "  k = k + 1\n"
      ],
      "metadata": {
        "colab": {
          "base_uri": "https://localhost:8080/"
        },
        "id": "28HTPYFPpFxx",
        "outputId": "e600159d-09df-4c6d-af9c-7b4f5f2bb68f"
      },
      "execution_count": 52,
      "outputs": [
        {
          "output_type": "stream",
          "name": "stdout",
          "text": [
            "entre a quantidade:20\n",
            "7\n"
          ]
        }
      ]
    },
    {
      "cell_type": "code",
      "source": [
        "x = 1\n",
        "y = 1\n",
        "while True:\n",
        "  x, y = y, x+y\n",
        "  if y >= 10:\n",
        "    print(y)\n",
        "    break"
      ],
      "metadata": {
        "colab": {
          "base_uri": "https://localhost:8080/"
        },
        "id": "VZFTwqk2rt3m",
        "outputId": "caf9b35a-9df2-4066-9bf9-c56ec52eb75c"
      },
      "execution_count": 48,
      "outputs": [
        {
          "output_type": "stream",
          "name": "stdout",
          "text": [
            "13\n"
          ]
        }
      ]
    },
    {
      "cell_type": "code",
      "source": [
        "xx = 3.14159265\n",
        "print(xx)\n",
        "print(np.pi)"
      ],
      "metadata": {
        "colab": {
          "base_uri": "https://localhost:8080/"
        },
        "id": "S-tCLRETtBQg",
        "outputId": "3ad8db54-486c-45f0-cb60-bca1763dbf6c"
      },
      "execution_count": 54,
      "outputs": [
        {
          "output_type": "stream",
          "name": "stdout",
          "text": [
            "3.14159265\n",
            "3.141592653589793\n"
          ]
        }
      ]
    },
    {
      "cell_type": "code",
      "source": [
        "x = 1\n",
        "y = 1\n",
        "print(x+y)\n"
      ],
      "metadata": {
        "colab": {
          "base_uri": "https://localhost:8080/"
        },
        "id": "SU_7RZWfuaR4",
        "outputId": "cfa011b1-99bf-4286-9ba8-9e79e9a35a70"
      },
      "execution_count": 57,
      "outputs": [
        {
          "output_type": "stream",
          "name": "stdout",
          "text": [
            "2\n"
          ]
        }
      ]
    },
    {
      "cell_type": "code",
      "source": [
        "def Testa(x):\n",
        "  \n",
        "  if x % 2 == 0:\n",
        "    resp = 'par'\n",
        "  else:\n",
        "    resp = 'impar'\n",
        "  \n",
        "  return resp"
      ],
      "metadata": {
        "id": "ZDB-xL5nvCUJ"
      },
      "execution_count": 58,
      "outputs": []
    },
    {
      "cell_type": "code",
      "source": [
        "lista = [1,2,3,4,5,6]\n",
        "for xi in lista:\n",
        "  print(xi,Testa(xi))"
      ],
      "metadata": {
        "colab": {
          "base_uri": "https://localhost:8080/"
        },
        "id": "L7SkmiUjwMNX",
        "outputId": "0836628e-5301-46ea-9992-477318885a4b"
      },
      "execution_count": 59,
      "outputs": [
        {
          "output_type": "stream",
          "name": "stdout",
          "text": [
            "1 impar\n",
            "2 par\n",
            "3 impar\n",
            "4 par\n",
            "5 impar\n",
            "6 par\n"
          ]
        }
      ]
    },
    {
      "cell_type": "code",
      "source": [
        "class Student:\n",
        "  def __init__(self):\n",
        "    self.name = 'John'\n",
        "    self.grades = (90,90,93,78,90)"
      ],
      "metadata": {
        "id": "G3kK8x3sxOiQ"
      },
      "execution_count": 60,
      "outputs": []
    },
    {
      "cell_type": "code",
      "source": [
        "person = Student()\n",
        "print(person.name)\n",
        "print(person.grades)\n",
        "print(sum(person.grades)/len(person.grades))"
      ],
      "metadata": {
        "colab": {
          "base_uri": "https://localhost:8080/"
        },
        "id": "tHv1Vei-xT12",
        "outputId": "d3263808-d0ac-419e-d9c8-5d53637e3a9a"
      },
      "execution_count": 61,
      "outputs": [
        {
          "output_type": "stream",
          "name": "stdout",
          "text": [
            "John\n",
            "(90, 90, 93, 78, 90)\n",
            "88.2\n"
          ]
        }
      ]
    },
    {
      "cell_type": "code",
      "source": [
        "class Student_plus_method:\n",
        "  def __init__(self):\n",
        "    self.name = 'John'\n",
        "    self.grades = (90,90,93,78,90)\n",
        "\n",
        "  def average(self):\n",
        "    return sum(self.grades)/len(self.grades)\n",
        "\n",
        "student = Student_plus_method()\n",
        "print(student.average())"
      ],
      "metadata": {
        "colab": {
          "base_uri": "https://localhost:8080/"
        },
        "id": "dNtFtK4uyto2",
        "outputId": "f7a8e9c7-a3a6-4f23-af4d-7af478b00497"
      },
      "execution_count": 62,
      "outputs": [
        {
          "output_type": "stream",
          "name": "stdout",
          "text": [
            "88.2\n"
          ]
        }
      ]
    },
    {
      "cell_type": "code",
      "source": [
        "class Student_more_general:\n",
        "  def __init__(self, name, grades):\n",
        "    self.name = name\n",
        "    self.grades = grades\n",
        "\n",
        "  def average(self):\n",
        "    return sum(self.grades)/len(self.grades)\n",
        "\n",
        "student = Student_more_general('John',(90,90,93,78,90))\n",
        "print(student.average())"
      ],
      "metadata": {
        "colab": {
          "base_uri": "https://localhost:8080/"
        },
        "id": "9yo4WqoW0sbW",
        "outputId": "3fd913a8-bed4-4ac6-9879-ecea9c2ad953"
      },
      "execution_count": 63,
      "outputs": [
        {
          "output_type": "stream",
          "name": "stdout",
          "text": [
            "88.2\n"
          ]
        }
      ]
    },
    {
      "cell_type": "code",
      "source": [
        "a = [1,2,3]\n",
        "b = np.array([1,2,3])\n",
        "c = (1,2,3) # tuple\n",
        "d = {1,2,3,2} # set\n",
        "             "
      ],
      "metadata": {
        "id": "oY0Ubg9t1y-W"
      },
      "execution_count": 69,
      "outputs": []
    },
    {
      "cell_type": "code",
      "source": [
        "d"
      ],
      "metadata": {
        "colab": {
          "base_uri": "https://localhost:8080/"
        },
        "id": "FZzbsQlR2QtE",
        "outputId": "acb9c95f-23a0-4768-b7bc-63fe93876189"
      },
      "execution_count": 70,
      "outputs": [
        {
          "output_type": "execute_result",
          "data": {
            "text/plain": [
              "{1, 2, 3}"
            ]
          },
          "metadata": {},
          "execution_count": 70
        }
      ]
    }
  ]
}